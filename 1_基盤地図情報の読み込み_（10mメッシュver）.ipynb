{
  "cells": [
    {
      "cell_type": "markdown",
      "metadata": {
        "id": "x1sK1KXQfo3h"
      },
      "source": [
        "# 基盤地図情報の読み込み（10mメッシュバージョン）\n",
        "\n",
        "\n"
      ]
    },
    {
      "cell_type": "markdown",
      "metadata": {
        "id": "u065ZlIAlYRp"
      },
      "source": [
        "* GIS Day in 東京 2019 Eコース\n",
        "* Pythonを用いたDEM処理\n",
        "* 首都大学東京 都市環境学部 地理環境学科 中山大地\n",
        "* 2019年12月21日 首都大学東京 南大沢キャンパス\n",
        "* [github repository: www.github.com/bokutachi256/gisday2019](https://www.github.com/bokutachi256/gisday2019)"
      ]
    },
    {
      "cell_type": "markdown",
      "metadata": {
        "id": "5bzzDbUTP4RM"
      },
      "source": [
        "# はじめに\n"
      ]
    },
    {
      "cell_type": "markdown",
      "metadata": {
        "id": "t6vHFn8viFYz"
      },
      "source": [
        "\n",
        "この章では基盤地図情報の数値標高モデル（DEM: Digital Elevation Model）を用いて分析する方法について解説します．\n",
        "\n",
        "基盤地図情報DEMを扱う上でややこしいところは以下の5点になると思います．\n",
        "\n",
        "1. 3次メッシュ単位で1ファイルになっていること\n",
        "1. 名前空間つきXMLになっていること\n",
        "1. 標高値が1行に格納されていること\n",
        "1. 標高値が固定長ではなく，省略されている場合があること\n",
        "1. 海面のみの3次メッシュはファイル自体が存在しないこと\n",
        "\n",
        "これらを解決してメッシュ形式のDEMを取得するには様々な方法が考えられます．\n",
        "\n",
        "このテキストでは以下のこだわりでこれらの問題点を解決していきます．\n",
        "\n",
        "1. 複数ファイルを自動的に結合する\n",
        "1. 名前空間付きXMLをまじめに取り扱う\n",
        "1. pandasのデータフレームを用い，縦持ちにした標高データを横持ちに変換する\n",
        "1. `for`ループと`if`を使わない\n",
        "1. 存在しないファイルのメッシュも自動的に補間する\n",
        "\n",
        "ネットで公開されている変換プログラムの多くは，データをメッシュ化するのにforループを使用しています．\n",
        "しかし，Pythonのforループは処理速度が遅いためできるだけ使わずに処理をしたいところです．\n",
        "本プログラムではpandasのデータフレームを利用し，縦持ちで整理した標高データを横持ちに変換することでこの問題を解決しています．\n",
        "この方法の2次的な利点として，ファイルとして存在しないメッシュのデータや，\n",
        "省略されているデータの処理も楽になるということも挙げられます．"
      ]
    },
    {
      "cell_type": "markdown",
      "metadata": {
        "id": "M38PPVcC5a8B"
      },
      "source": [
        "# 計算の準備"
      ]
    },
    {
      "cell_type": "markdown",
      "metadata": {
        "id": "UPrMeWEVXxsN"
      },
      "source": [
        "## サンプルデータの準備\n"
      ]
    },
    {
      "cell_type": "markdown",
      "metadata": {
        "id": "RDN5KIvkiKxR"
      },
      "source": [
        "\n",
        "[共有データ(https://drive.google.com/open?id=1kyhO5UU50vRfSp3BTZyy9jm2rZo8Qslp)](https://drive.google.com/open?id=1kyhO5UU50vRfSp3BTZyy9jm2rZo8Qslp)にアクセスし，\n",
        "ご自身のgoogle driveに`gisday2019`ディレクトリを作成してそこに配置してください．\n",
        "\n",
        "講習会後にこの共有ファイルは削除します．\n",
        "このプログラムを後日試したい方は，\n",
        "[基盤地図情報サイト](https://www.gsi.go.jp/kiban/)から数値標高モデルをダウンロードしてお使いください．\n",
        "講習会ではDEM5Aを使用しました．"
      ]
    },
    {
      "cell_type": "markdown",
      "metadata": {
        "id": "R5u9UYLpYRlv"
      },
      "source": [
        "## ライブラリのインポート"
      ]
    },
    {
      "cell_type": "markdown",
      "metadata": {
        "id": "FzHFvx4viOJK"
      },
      "source": [
        "使用するライブラリを説明します．\n",
        "\n",
        "* `xml.etree.ElementTree`: XML処理用のライブラリ． \n",
        "* `numpy`: 多次元配列計算のライブラリ．\n",
        "* `matplotlib.pyplot`: グラフ作成・データ可視化ライブラリ．DEMのチェックに使用．\n",
        "* `matplotlib.colors`: カラーライブラリ．\n",
        "* `pandas`: データ処理ライブラリ．データの縦持ち・横持ち変換に使用．\n",
        "* `io`: ストリームライブラリ．標高値をデータフレームに格納するのに使用．\n",
        "* `osgeo`: 地理データ処理ライブラリ．GeoTiffの書き出しに使用．\n",
        "* `google.colab`: Google Colaboratory用ライブラリ．google driveのマウントに使用．\n",
        "\n"
      ]
    },
    {
      "cell_type": "code",
      "execution_count": null,
      "metadata": {
        "id": "x5eWquNDfo3k"
      },
      "outputs": [],
      "source": [
        "import xml.etree.ElementTree as ET\n",
        "import numpy as np\n",
        "import matplotlib.pyplot as plt\n",
        "import matplotlib.colors as colors\n",
        "import pandas as pd\n",
        "import io\n",
        "from osgeo import gdal, gdalconst, gdal_array, osr\n",
        "from google.colab import drive"
      ]
    },
    {
      "cell_type": "markdown",
      "metadata": {
        "id": "yji-aK7Hlci6"
      },
      "source": [
        "## Google Driveのマウント\n"
      ]
    },
    {
      "cell_type": "markdown",
      "metadata": {
        "id": "5c5AGJs_iTFt"
      },
      "source": [
        "\n",
        "`drive.mount`を使ってGoogle DriveをGoogle Colaboratoryにマウントします．\n",
        "`drive.mount`の引数はGoogle Colaboratory内のマウントポイントです．\n",
        "このマウントポイントで示されたディレクトリにGoogle Driveのルートディレクトリ（マイドライブ）が接続されます．\n",
        "\n",
        "`drive.mount`が実行されると，どのGoogleアカウントで接続するか聞かれます．\n",
        "適切なアカウントを指定してアクセス権を与えます．\n",
        "その後認証コードが発行されますので，それをコピーしてテキストボックスにペーストします．\n",
        "これでGoogle Driveがマウントされます．\n",
        "\n",
        "マイドライブの中に作業用のディレクトリ`gisday2019`を作成しましたので，\n",
        "この作業用ディレクトリへのフルパスは`/drive/My Drive/gisday2019`になります．\n",
        "これを変数`base_dir`に格納しておきます．"
      ]
    },
    {
      "cell_type": "code",
      "execution_count": null,
      "metadata": {
        "colab": {
          "base_uri": "https://localhost:8080/"
        },
        "id": "mwp_IjmPurre",
        "outputId": "79a748da-24b4-4271-cad5-826512aede6d"
      },
      "outputs": [
        {
          "name": "stdout",
          "output_type": "stream",
          "text": [
            "Mounted at /content/drive\n"
          ]
        }
      ],
      "source": [
        "drive.mount('/content/drive')\n",
        "base_dir = \"/content/drive/My Drive/workspace/niigataDEM/\""
      ]
    },
    {
      "cell_type": "markdown",
      "metadata": {
        "id": "3V8EZ9oifo3q"
      },
      "source": [
        "# 基盤地図情報XMLファイルについて"
      ]
    },
    {
      "cell_type": "markdown",
      "metadata": {
        "id": "p46wAYrR9bUB"
      },
      "source": [
        "以下が5mメッシュ基盤地図情報DEMのXMLファイルです．"
      ]
    },
    {
      "cell_type": "markdown",
      "metadata": {
        "id": "YzI9iRWA33zz"
      },
      "source": [
        "```xml\n",
        "<?xml version=\"1.0\" encoding=\"UTF-8\"?>\n",
        "<Dataset\n",
        "  gml:id=\"Dataset1\"\n",
        "  xmlns=\"http://fgd.gsi.go.jp/spec/2008/FGD_GMLSchema\" \n",
        "  xmlns:xlink=\"http://www.w3.org/1999/xlink\"\n",
        "  xmlns:xsi=\"http://www.w3.org/2001/XMLSchema-instance\"\n",
        "  xmlns:gml=\"http://www.opengis.net/gml/3.2\"\n",
        "  xsi:schemaLocation=\"http://fgd.gsi.go.jp/spec/2008/FGD_GMLSchema FGD_GMLSchema.xsd\"\n",
        ">\n",
        "  <gml:description>基盤地図情報メタデータ ID=fmdid:15-3101</gml:description>\n",
        "  <gml:name>基盤地図情報ダウンロードデータ（GML版）</gml:name>\n",
        "  <DEM gml:id=\"DEM001\">\n",
        "    <fid>fgoid:10-00100-15-60101-51390350</fid>\n",
        "    <lfSpanFr gml:id=\"DEM001-1\">\n",
        "      <gml:timePosition>2016-10-01</gml:timePosition>\n",
        "    </lfSpanFr>\n",
        "    <devDate gml:id=\"DEM001-2\">\n",
        "      <gml:timePosition>2016-10-01</gml:timePosition>\n",
        "    </devDate>\n",
        "    <orgGILvl>0</orgGILvl>\n",
        "    <orgMDId>H24GC009 NoData</orgMDId>\n",
        "    <type>5mメッシュ（標高）</type>\n",
        "    <mesh>51390350</mesh>\n",
        "    <coverage gml:id=\"DEM001-3\">\n",
        "      <gml:boundedBy>\n",
        "        <gml:Envelope srsName=\"fguuid:jgd2011.bl\">\n",
        "          <gml:lowerCorner>34.041666667 139.375</gml:lowerCorner>\n",
        "          <gml:upperCorner>34.05 139.3875</gml:upperCorner>\n",
        "        </gml:Envelope>\n",
        "      </gml:boundedBy>\n",
        "      <gml:gridDomain>\n",
        "        <gml:Grid gml:id=\"DEM001-4\" dimension=\"2\">\n",
        "          <gml:limits>\n",
        "            <gml:GridEnvelope>\n",
        "              <gml:low>0 0</gml:low>\n",
        "              <gml:high>224 149</gml:high>\n",
        "            </gml:GridEnvelope>\n",
        "            </gml:limits>\n",
        "            <gml:axisLabels>x y</gml:axisLabels>\n",
        "        </gml:Grid>\n",
        "      </gml:gridDomain>\n",
        "      <gml:rangeSet>\n",
        "        <gml:DataBlock>\n",
        "          <gml:rangeParameters>\n",
        "            <gml:QuantityList uom=\"DEM構成点\"/>\n",
        "          </gml:rangeParameters>\n",
        "          <gml:tupleList>地表面,1.21 地表面,1.49. .......\n",
        "        </gml:DataBlock>\n",
        "      </gml:rangeSet>\n",
        "      <gml:coverageFunction>\n",
        "        <gml:GridFunction>\n",
        "          <gml:sequenceRule order=\"+x-y\">Linear</gml:sequenceRule>\n",
        "          <gml:startPoint>155 12</gml:startPoint>\n",
        "        </gml:GridFunction>\n",
        "      </gml:coverageFunction>\n",
        "    </coverage>\n",
        "  </DEM>\n",
        "</Dataset>\n",
        "```"
      ]
    },
    {
      "cell_type": "markdown",
      "metadata": {
        "id": "kbxRj4QmJv_q"
      },
      "source": [
        "こちらは10mメッシュDEMになります．"
      ]
    },
    {
      "cell_type": "markdown",
      "metadata": {
        "id": "yIwwiZxSFmwe"
      },
      "source": [
        "```xml\n",
        "<?xml version=\"1.0\" encoding=\"UTF-8\"?>\n",
        "\n",
        "<Dataset xsi:schemaLocation=\"http://fgd.gsi.go.jp/spec/2008/FGD_GMLSchema FGD_GMLSchema.xsd\" \n",
        "\txmlns:gml=\"http://www.opengis.net/gml/3.2\" \n",
        "\txmlns:xsi=\"http://www.w3.org/2001/XMLSchema-instance\" \n",
        "\txmlns:xlink=\"http://www.w3.org/1999/xlink\" \n",
        "\txmlns=\"http://fgd.gsi.go.jp/spec/2008/FGD_GMLSchema\" \n",
        "\tgml:id=\"Dataset1\">\n",
        "\t<gml:description>基盤地図情報メタデータ ID=fmdid:7-26</gml:description>\n",
        "\t<gml:name>基盤地図情報ダウンロードデータ（GML版）</gml:name>\n",
        "\t\n",
        "\t<DEM gml:id=\"DEM001\">\n",
        "\t\t<fid>fgoid:10-00100-7-4-553855</fid>\n",
        "\t\t<lfSpanFr gml:id=\"DEM001-1\">\n",
        "\t\t\t<gml:timePosition>2016-10-01</gml:timePosition>\n",
        "\t\t</lfSpanFr>\n",
        "\t\t<devDate gml:id=\"DEM001-2\">\n",
        "\t\t\t<gml:timePosition>2016-10-01</gml:timePosition>\n",
        "\t\t</devDate>\n",
        "\t\t<orgGILvl>0</orgGILvl>\n",
        "\t\t<orgMDId>fmdid:0-5</orgMDId>\n",
        "\t\t<type>10mメッシュ（標高）</type>\n",
        "\t\t<mesh>553855</mesh>\n",
        "\t\t<coverage gml:id=\"DEM001-3\">\n",
        "\t\t\t<gml:boundedBy>\n",
        "\t\t\t\t<gml:Envelope srsName=\"fguuid:jgd2000.bl\">\n",
        "\t\t\t\t\t<gml:lowerCorner>37.083333333 138.625</gml:lowerCorner>\n",
        "\t\t\t\t\t<gml:upperCorner>37.166666667 138.75</gml:upperCorner>\n",
        "\t\t\t\t</gml:Envelope>\n",
        "\t\t\t</gml:boundedBy>\n",
        "\t\t\t<gml:gridDomain>\n",
        "\t\t\t\t<gml:Grid dimension=\"2\" gml:id=\"DEM001-4\">\n",
        "\t\t\t\t\t<gml:limits>\n",
        "\t\t\t\t\t\t<gml:GridEnvelope>\n",
        "\t\t\t\t\t\t\t<gml:low>0 0</gml:low>\n",
        "\t\t\t\t\t\t\t<gml:high>1124 749</gml:high>\n",
        "\t\t\t\t\t\t</gml:GridEnvelope>\n",
        "\t\t\t\t\t</gml:limits>\n",
        "\t\t\t\t\t<gml:axisLabels>x y</gml:axisLabels>\n",
        "\t\t\t\t</gml:Grid>\n",
        "\t\t\t</gml:gridDomain>\n",
        "\t\t\t<gml:rangeSet>\n",
        "\t\t\t\t<gml:DataBlock>\n",
        "\t\t\t\t\t<gml:rangeParameters>\n",
        "\t\t\t\t\t\t<gml:QuantityList uom=\"DEM構成点\" />\n",
        "\t\t\t\t\t</gml:rangeParameters>\n",
        "\n",
        "<gml:tupleList>\n",
        "その他,225.70\n",
        "```\n"
      ]
    },
    {
      "cell_type": "markdown",
      "metadata": {
        "id": "h_LS9git5vGc"
      },
      "source": [
        "## 基盤地図情報の読み込みと扱い方"
      ]
    },
    {
      "cell_type": "markdown",
      "metadata": {
        "id": "LaBu8ILKizyO"
      },
      "source": [
        "\n",
        "基盤地図情報のXMLを読み込んでparseします．\n",
        "XMLファイルは作業用ディレクトリの`GIS-DEM`ディレクトリにコピーしてありますので．\n",
        "`base_dir + \"GSI-DEM/FG-GML-5139-03-50-DEM5A-20161001.xml\"`としてアクセスします．\n",
        "\n",
        "`ET.parse`を用いてxmlをパースしてから`getroot`を使ってのルート要素を取得し，`elem`に代入します．"
      ]
    },
    {
      "cell_type": "code",
      "execution_count": null,
      "metadata": {
        "id": "bH-7JgIkfo3r"
      },
      "outputs": [],
      "source": [
        "tree = ET.parse(base_dir + \"FG-GML-5538-55-dem10b-20161001.xml\")\n",
        "elem = tree.getroot()"
      ]
    },
    {
      "cell_type": "markdown",
      "metadata": {
        "id": "cvQZ_DvkiKEA"
      },
      "source": [
        "ルート要素`elem`を確認してみます．"
      ]
    },
    {
      "cell_type": "code",
      "execution_count": null,
      "metadata": {
        "colab": {
          "base_uri": "https://localhost:8080/"
        },
        "id": "aDLSzZflKC2Y",
        "outputId": "cf37755b-a58b-47a3-889f-bcebd205f84b"
      },
      "outputs": [
        {
          "data": {
            "text/plain": [
              "<Element '{http://fgd.gsi.go.jp/spec/2008/FGD_GMLSchema}Dataset' at 0x7f95ac8d4d70>"
            ]
          },
          "execution_count": 4,
          "metadata": {
            "tags": []
          },
          "output_type": "execute_result"
        }
      ],
      "source": [
        "elem"
      ]
    },
    {
      "cell_type": "markdown",
      "metadata": {
        "id": "UwnrwkRxiWNF"
      },
      "source": [
        "ルート要素のタグ`Dataset`が表示されました．"
      ]
    },
    {
      "cell_type": "markdown",
      "metadata": {
        "id": "8l10Y0zofo37"
      },
      "source": [
        "次にイテレータを使ってすべてのタグを取得し，それを表示してみます．\n"
      ]
    },
    {
      "cell_type": "code",
      "execution_count": null,
      "metadata": {
        "colab": {
          "base_uri": "https://localhost:8080/"
        },
        "id": "6aQc2t8Vfo3-",
        "outputId": "5be7d070-5922-4ac4-c1b0-e701bf538696"
      },
      "outputs": [
        {
          "name": "stdout",
          "output_type": "stream",
          "text": [
            "{http://fgd.gsi.go.jp/spec/2008/FGD_GMLSchema}Dataset\n",
            "{http://www.opengis.net/gml/3.2}description\n",
            "{http://www.opengis.net/gml/3.2}name\n",
            "{http://fgd.gsi.go.jp/spec/2008/FGD_GMLSchema}DEM\n",
            "{http://fgd.gsi.go.jp/spec/2008/FGD_GMLSchema}fid\n",
            "{http://fgd.gsi.go.jp/spec/2008/FGD_GMLSchema}lfSpanFr\n",
            "{http://www.opengis.net/gml/3.2}timePosition\n",
            "{http://fgd.gsi.go.jp/spec/2008/FGD_GMLSchema}devDate\n",
            "{http://www.opengis.net/gml/3.2}timePosition\n",
            "{http://fgd.gsi.go.jp/spec/2008/FGD_GMLSchema}orgGILvl\n",
            "{http://fgd.gsi.go.jp/spec/2008/FGD_GMLSchema}orgMDId\n",
            "{http://fgd.gsi.go.jp/spec/2008/FGD_GMLSchema}type\n",
            "{http://fgd.gsi.go.jp/spec/2008/FGD_GMLSchema}mesh\n",
            "{http://fgd.gsi.go.jp/spec/2008/FGD_GMLSchema}coverage\n",
            "{http://www.opengis.net/gml/3.2}boundedBy\n",
            "{http://www.opengis.net/gml/3.2}Envelope\n",
            "{http://www.opengis.net/gml/3.2}lowerCorner\n",
            "{http://www.opengis.net/gml/3.2}upperCorner\n",
            "{http://www.opengis.net/gml/3.2}gridDomain\n",
            "{http://www.opengis.net/gml/3.2}Grid\n",
            "{http://www.opengis.net/gml/3.2}limits\n",
            "{http://www.opengis.net/gml/3.2}GridEnvelope\n",
            "{http://www.opengis.net/gml/3.2}low\n",
            "{http://www.opengis.net/gml/3.2}high\n",
            "{http://www.opengis.net/gml/3.2}axisLabels\n",
            "{http://www.opengis.net/gml/3.2}rangeSet\n",
            "{http://www.opengis.net/gml/3.2}DataBlock\n",
            "{http://www.opengis.net/gml/3.2}rangeParameters\n",
            "{http://www.opengis.net/gml/3.2}QuantityList\n",
            "{http://www.opengis.net/gml/3.2}tupleList\n",
            "{http://www.opengis.net/gml/3.2}coverageFunction\n",
            "{http://www.opengis.net/gml/3.2}GridFunction\n",
            "{http://www.opengis.net/gml/3.2}sequenceRule\n",
            "{http://www.opengis.net/gml/3.2}startPoint\n"
          ]
        }
      ],
      "source": [
        "for e in elem.getiterator():\n",
        "    print(e.tag)"
      ]
    },
    {
      "cell_type": "markdown",
      "metadata": {
        "id": "cOBc8-wBJ7_a"
      },
      "source": [
        "## 名前空間付きXMLから値を取得する\n"
      ]
    },
    {
      "cell_type": "markdown",
      "metadata": {
        "id": "5voSDYsniWAp"
      },
      "source": [
        "\n",
        "基盤地図情報DEMのXMLは名前空間付きXMLです．\n",
        "このため，タグへのアクセスには名前空間の接頭辞をつける必要があります．\n",
        "たとえば，`find`メソッドを使ってタグ`mesh`にアクセスする場合，\n",
        "通常のXMLのように名前空間なしでアクセスするとエラーが発生します．"
      ]
    },
    {
      "cell_type": "code",
      "execution_count": null,
      "metadata": {
        "colab": {
          "base_uri": "https://localhost:8080/",
          "height": 185
        },
        "id": "dMKuY89QahGB",
        "outputId": "61a55345-f9fd-44ee-cf34-ff29e1006d48"
      },
      "outputs": [
        {
          "ename": "AttributeError",
          "evalue": "ignored",
          "output_type": "error",
          "traceback": [
            "\u001b[0;31m---------------------------------------------------------------------------\u001b[0m",
            "\u001b[0;31mAttributeError\u001b[0m                            Traceback (most recent call last)",
            "\u001b[0;32m<ipython-input-42-c1c1a9a64e78>\u001b[0m in \u001b[0;36m<module>\u001b[0;34m()\u001b[0m\n\u001b[1;32m      1\u001b[0m \u001b[0mmesh\u001b[0m \u001b[0;34m=\u001b[0m \u001b[0melem\u001b[0m\u001b[0;34m.\u001b[0m\u001b[0mfind\u001b[0m\u001b[0;34m(\u001b[0m\u001b[0;34m\".//mesh\"\u001b[0m\u001b[0;34m)\u001b[0m\u001b[0;34m\u001b[0m\u001b[0;34m\u001b[0m\u001b[0m\n\u001b[0;32m----> 2\u001b[0;31m \u001b[0mprint\u001b[0m\u001b[0;34m(\u001b[0m\u001b[0mmesh\u001b[0m\u001b[0;34m.\u001b[0m\u001b[0mtext\u001b[0m\u001b[0;34m)\u001b[0m\u001b[0;34m\u001b[0m\u001b[0;34m\u001b[0m\u001b[0m\n\u001b[0m",
            "\u001b[0;31mAttributeError\u001b[0m: 'NoneType' object has no attribute 'text'"
          ]
        }
      ],
      "source": [
        "mesh = elem.find(\".//mesh\")\n",
        "print(mesh.text)"
      ]
    },
    {
      "cell_type": "markdown",
      "metadata": {
        "id": "KdWpLJx4aebL"
      },
      "source": [
        "\n",
        "これを解決するためには，タグに紐づけられている名前空間のURIをタグごとに加える必要があります．\n",
        "例えば以下のようにです．\n"
      ]
    },
    {
      "cell_type": "code",
      "execution_count": null,
      "metadata": {
        "colab": {
          "base_uri": "https://localhost:8080/"
        },
        "id": "WEUa7wrDanPw",
        "outputId": "038e3cca-4d94-4c15-ae24-a7128f85f523"
      },
      "outputs": [
        {
          "name": "stdout",
          "output_type": "stream",
          "text": [
            "553855\n"
          ]
        }
      ],
      "source": [
        "mesh = elem.find(\".//{http://fgd.gsi.go.jp/spec/2008/FGD_GMLSchema}mesh\")\n",
        "print(mesh.text)"
      ]
    },
    {
      "cell_type": "markdown",
      "metadata": {
        "id": "XlK2GxTHalKA"
      },
      "source": [
        "しかし，すべてのタグにURIをつけるのは煩雑です．\n",
        "プログラミングミスの原因にもなりかねません．\n",
        "もう少しエレガントな方法としては，\n",
        "タグのディクショナリをメソッドの第2引数に指定する方法があります．\n",
        "\n",
        "以下はDEMのXMLの冒頭部です．\n",
        "xmlnsで始まる部分が名前空間の定義になっており，それぞれURIが指定されています．\n"
      ]
    },
    {
      "cell_type": "markdown",
      "metadata": {
        "id": "PBo5jzYP_7c-"
      },
      "source": [
        "```xml\n",
        "<?xml version=\"1.0\" encoding=\"UTF-8\"?>\n",
        "<Dataset\n",
        "  gml:id=\"Dataset1\"\n",
        "  xmlns=\"http://fgd.gsi.go.jp/spec/2008/FGD_GMLSchema\" \n",
        "  xmlns:xlink=\"http://www.w3.org/1999/xlink\"\n",
        "  xmlns:xsi=\"http://www.w3.org/2001/XMLSchema-instance\"\n",
        "  xmlns:gml=\"http://www.opengis.net/gml/3.2\"\n",
        "  xsi:schemaLocation=\"http://fgd.gsi.go.jp/spec/2008/FGD_GMLSchema FGD_GMLSchema.xsd\"\n",
        ">\n",
        "```"
      ]
    },
    {
      "cell_type": "markdown",
      "metadata": {
        "id": "D3O_HpT5ykLJ"
      },
      "source": [
        "これを元にして名前空間の接頭辞のディクショナリを作成します．\n",
        "デフォルトの名前空間`xmlns=\"http://fgd.gsi.go.jp/spec/2008/FGD_GMLSchema\"`については，ディクショナリのキーを`default`としています．\n"
      ]
    },
    {
      "cell_type": "code",
      "execution_count": null,
      "metadata": {
        "id": "UppGuoz6yoFp"
      },
      "outputs": [],
      "source": [
        "ns = {'default': 'http://fgd.gsi.go.jp/spec/2008/FGD_GMLSchema',\n",
        "  'xlink': 'http://www.w3.org/1999/xlink',\n",
        "  'xsi': 'http://www.w3.org/2001/XMLSchema-instance',\n",
        "  'gml': 'http://www.opengis.net/gml/3.2'}"
      ]
    },
    {
      "cell_type": "markdown",
      "metadata": {
        "id": "jFs54Phkfo4C"
      },
      "source": [
        "`elem`オブジェクトの`find`メソッドにタグ`default:mesh`を入力してタ検索し，\n",
        "値を表示してみましょう．\n",
        "戻り値（このタグの値）は標準地域メッシュ番号となっています．\n",
        "最初の4桁`5139`が1次メッシュコード，\n",
        "次の2桁`03`が2次メッシュコード，\n",
        "最後の2桁`50`が3次メッシュコードです．"
      ]
    },
    {
      "cell_type": "code",
      "execution_count": null,
      "metadata": {
        "colab": {
          "base_uri": "https://localhost:8080/"
        },
        "id": "yH5cSqtHsK5x",
        "outputId": "0ba36763-d0a9-4f58-e7c6-7e40dfa64e5d"
      },
      "outputs": [
        {
          "name": "stdout",
          "output_type": "stream",
          "text": [
            "553855\n"
          ]
        }
      ],
      "source": [
        "mesh = elem.find('.//default:mesh', ns)\n",
        "print(mesh.text)"
      ]
    },
    {
      "cell_type": "markdown",
      "metadata": {
        "id": "BSokynWtGcWC"
      },
      "source": [
        "次に`gml:lowerCorner`を表示してみます．\n",
        "このタグにはDEMの南西端の座標が格納されています．"
      ]
    },
    {
      "cell_type": "code",
      "execution_count": null,
      "metadata": {
        "colab": {
          "base_uri": "https://localhost:8080/"
        },
        "id": "R2_nGWl6xG3M",
        "outputId": "7910fff5-dc75-4cde-9a83-2fa4e278f88f"
      },
      "outputs": [
        {
          "name": "stdout",
          "output_type": "stream",
          "text": [
            "37.083333333 138.625\n"
          ]
        }
      ],
      "source": [
        "lowercorner = elem.find('.//gml:lowerCorner', ns)\n",
        "print(lowercorner.text)"
      ]
    },
    {
      "cell_type": "markdown",
      "metadata": {
        "id": "0KJJM6UzGk-V"
      },
      "source": [
        "同様に`gml:upperCorner`には\n",
        "北東端の座標が格納されています．"
      ]
    },
    {
      "cell_type": "code",
      "execution_count": null,
      "metadata": {
        "colab": {
          "base_uri": "https://localhost:8080/"
        },
        "id": "132ceHv8fo4O",
        "outputId": "15838800-6fd3-4158-ed89-5ce80f99fa7b"
      },
      "outputs": [
        {
          "name": "stdout",
          "output_type": "stream",
          "text": [
            "37.166666667 138.75\n"
          ]
        }
      ],
      "source": [
        "uppercorner = elem.find('.//gml:upperCorner', ns)\n",
        "print(uppercorner.text)"
      ]
    },
    {
      "cell_type": "markdown",
      "metadata": {
        "id": "JtdRzsg3fo4H"
      },
      "source": [
        "## 標高値の取得とデータフレームへの格納\n"
      ]
    },
    {
      "cell_type": "markdown",
      "metadata": {
        "id": "0yiUJEW5iZFz"
      },
      "source": [
        "\n",
        "タグ`gml:tupleList`には標高が格納されています．\n",
        "値は改行コードとカンマで分けられた文字列になっており，\n",
        "カンマの前が標高点の属性，カンマの後ろが標高値になっています．\n",
        "またデータがないメッシュの属性は`データなし`で標高値は`-9999`，\n",
        "データがあるメッシュの属性は`地表面`で標高値が実数で入っています．"
      ]
    },
    {
      "cell_type": "code",
      "execution_count": null,
      "metadata": {
        "colab": {
          "base_uri": "https://localhost:8080/"
        },
        "id": "pymkTh7nfo4J",
        "outputId": "50e86c67-e1f9-42de-9790-56cdf9244e04"
      },
      "outputs": [
        {
          "name": "stderr",
          "output_type": "stream",
          "text": [
            "IOPub data rate exceeded.\n",
            "The notebook server will temporarily stop sending output\n",
            "to the client in order to avoid crashing it.\n",
            "To change this limit, set the config variable\n",
            "`--NotebookApp.iopub_data_rate_limit`.\n",
            "\n",
            "Current values:\n",
            "NotebookApp.iopub_data_rate_limit=1000000.0 (bytes/sec)\n",
            "NotebookApp.rate_limit_window=3.0 (secs)\n",
            "\n"
          ]
        }
      ],
      "source": [
        "tuplelist = elem.find(\".//gml:tupleList\", ns)\n",
        "print(tuplelist.text)"
      ]
    },
    {
      "cell_type": "markdown",
      "metadata": {
        "id": "OizB-wgCUAFq"
      },
      "source": [
        "標高値が格納されている文字列はcsvそのものになっており，\n",
        "csvとして書き出せばpandasの`pd.read_csv()`でデータフレームに読み込むことができます．\n",
        "\n",
        "しかし，一旦ファイルに書き出して再度読み込むのも煩雑なため，`io.StringIO`を使ってテキストストリームを作成し，これにpandasの`pd.read_csv`を組み合わせてcsv型式の文字列をデータフレームに格納します．\n",
        "ついでに列名`att`と`z`も加えます．"
      ]
    },
    {
      "cell_type": "code",
      "execution_count": null,
      "metadata": {
        "colab": {
          "base_uri": "https://localhost:8080/",
          "height": 419
        },
        "id": "rvMhDi2KThDP",
        "outputId": "cf97c67a-0d8c-42c3-ec2b-1561c674c850"
      },
      "outputs": [
        {
          "data": {
            "text/html": [
              "<div>\n",
              "<style scoped>\n",
              "    .dataframe tbody tr th:only-of-type {\n",
              "        vertical-align: middle;\n",
              "    }\n",
              "\n",
              "    .dataframe tbody tr th {\n",
              "        vertical-align: top;\n",
              "    }\n",
              "\n",
              "    .dataframe thead th {\n",
              "        text-align: right;\n",
              "    }\n",
              "</style>\n",
              "<table border=\"1\" class=\"dataframe\">\n",
              "  <thead>\n",
              "    <tr style=\"text-align: right;\">\n",
              "      <th></th>\n",
              "      <th>att</th>\n",
              "      <th>z</th>\n",
              "    </tr>\n",
              "  </thead>\n",
              "  <tbody>\n",
              "    <tr>\n",
              "      <th>0</th>\n",
              "      <td>その他</td>\n",
              "      <td>225.7</td>\n",
              "    </tr>\n",
              "    <tr>\n",
              "      <th>1</th>\n",
              "      <td>その他</td>\n",
              "      <td>229.5</td>\n",
              "    </tr>\n",
              "    <tr>\n",
              "      <th>2</th>\n",
              "      <td>その他</td>\n",
              "      <td>236.0</td>\n",
              "    </tr>\n",
              "    <tr>\n",
              "      <th>3</th>\n",
              "      <td>その他</td>\n",
              "      <td>244.9</td>\n",
              "    </tr>\n",
              "    <tr>\n",
              "      <th>4</th>\n",
              "      <td>その他</td>\n",
              "      <td>255.3</td>\n",
              "    </tr>\n",
              "    <tr>\n",
              "      <th>...</th>\n",
              "      <td>...</td>\n",
              "      <td>...</td>\n",
              "    </tr>\n",
              "    <tr>\n",
              "      <th>843745</th>\n",
              "      <td>その他</td>\n",
              "      <td>257.3</td>\n",
              "    </tr>\n",
              "    <tr>\n",
              "      <th>843746</th>\n",
              "      <td>その他</td>\n",
              "      <td>258.3</td>\n",
              "    </tr>\n",
              "    <tr>\n",
              "      <th>843747</th>\n",
              "      <td>その他</td>\n",
              "      <td>259.4</td>\n",
              "    </tr>\n",
              "    <tr>\n",
              "      <th>843748</th>\n",
              "      <td>その他</td>\n",
              "      <td>260.6</td>\n",
              "    </tr>\n",
              "    <tr>\n",
              "      <th>843749</th>\n",
              "      <td>その他</td>\n",
              "      <td>261.9</td>\n",
              "    </tr>\n",
              "  </tbody>\n",
              "</table>\n",
              "<p>843750 rows × 2 columns</p>\n",
              "</div>"
            ],
            "text/plain": [
              "        att      z\n",
              "0       その他  225.7\n",
              "1       その他  229.5\n",
              "2       その他  236.0\n",
              "3       その他  244.9\n",
              "4       その他  255.3\n",
              "...     ...    ...\n",
              "843745  その他  257.3\n",
              "843746  その他  258.3\n",
              "843747  その他  259.4\n",
              "843748  その他  260.6\n",
              "843749  その他  261.9\n",
              "\n",
              "[843750 rows x 2 columns]"
            ]
          },
          "execution_count": 12,
          "metadata": {
            "tags": []
          },
          "output_type": "execute_result"
        }
      ],
      "source": [
        "df = pd.read_csv(io.StringIO(tuplelist.text), header = None)\n",
        "df.columns = ['att', 'z']\n",
        "df"
      ]
    },
    {
      "cell_type": "markdown",
      "metadata": {
        "id": "IndJCYzjRxI_"
      },
      "source": [
        "データフレームの大きさは21165行 $\\times$ 2列になっています．\n",
        "5mメッシュDEMの場合，格納されている標高値の列数と行数は`gml:high`と`gml:low`によって規定されています．\n",
        "両者を取得して確認してみましょう．"
      ]
    },
    {
      "cell_type": "code",
      "execution_count": null,
      "metadata": {
        "colab": {
          "base_uri": "https://localhost:8080/"
        },
        "id": "4VijmFR0SDp_",
        "outputId": "f7228998-b24a-4f02-edbe-f0d15aaa255f"
      },
      "outputs": [
        {
          "name": "stdout",
          "output_type": "stream",
          "text": [
            "0 0\n",
            "1124 749\n"
          ]
        }
      ],
      "source": [
        "print(elem.find(\".//gml:low\", ns).text)\n",
        "print(elem.find(\".//gml:high\", ns).text)"
      ]
    },
    {
      "cell_type": "markdown",
      "metadata": {
        "id": "r-fw9qjOSULe"
      },
      "source": [
        "(0, 0)から(224, 149)の225列 $\\times$ 150行の合計33376個になっています．\n",
        "しかし，実際には21165個のデータしかありません．\n",
        "これは，海面などで標高値がない部分が連続する場合，データが省略されていることが原因です．\n",
        "データの開始地点は`gml:startPoint`に格納されています．"
      ]
    },
    {
      "cell_type": "code",
      "execution_count": null,
      "metadata": {
        "colab": {
          "base_uri": "https://localhost:8080/"
        },
        "id": "NjOWeV7jTZB3",
        "outputId": "e74f6fd8-b127-49e4-9619-d58b6d48edf7"
      },
      "outputs": [
        {
          "name": "stdout",
          "output_type": "stream",
          "text": [
            "0 0\n"
          ]
        }
      ],
      "source": [
        "print(elem.find('.//gml:startPoint', ns).text)"
      ]
    },
    {
      "cell_type": "markdown",
      "metadata": {
        "id": "p6MagWymTgDn"
      },
      "source": [
        "`gml:startPoint`を見てみると，標高値は155列12行から格納されていることがわかります．\n",
        "しかし，$(225-155)+((150-12)\\times225)$の31120個のデータがあるはずですが，\n",
        "実際には21165メッシュ分しかありません．\n",
        "`gml:startPoint`はあくまでもデータの格納開始地点を表しているにすぎず，終了地点を表すタグはないので，\n",
        "不足分はデータが省略されています．\n"
      ]
    },
    {
      "cell_type": "markdown",
      "metadata": {
        "id": "j5wdF56t5-Tz"
      },
      "source": [
        "# 標高配列の作成"
      ]
    },
    {
      "cell_type": "markdown",
      "metadata": {
        "id": "6aQKEGdN01g4"
      },
      "source": [
        "## 標高データに通し番号をつける\n"
      ]
    },
    {
      "cell_type": "markdown",
      "metadata": {
        "id": "kSX1AWEpibhP"
      },
      "source": [
        "\n",
        "`df`に格納されている標高値にメッシュの通し番号をつけます．\n",
        "この通し番号は省略されたデータも含むものとします．\n",
        "\n",
        "メッシュの初期値は`開始列番号+(開始行番号*列数)`です．\n",
        "開始列番号と開始行番号は`gml:startPoint`から取得します．\n",
        "`gml:startPoint`の値はスペースで区切られており，\n",
        "スペースの前が開始列番号，後ろが開始行番号です．\n",
        "開始列番号を`startPointX`，開始行番号を`startPointY`とし，\n",
        "`split`メソッドを使って分割します．\n",
        "分割されて取得されるリストは文字列になっていますので，\n",
        "`int`関数を使って整数値に変換します．"
      ]
    },
    {
      "cell_type": "code",
      "execution_count": null,
      "metadata": {
        "colab": {
          "base_uri": "https://localhost:8080/"
        },
        "id": "h6nabYBRi0nE",
        "outputId": "261cdde7-3b72-425e-eef7-8bee71719d97"
      },
      "outputs": [
        {
          "name": "stdout",
          "output_type": "stream",
          "text": [
            "0 0\n"
          ]
        }
      ],
      "source": [
        "startPoint = elem.find('.//gml:startPoint', ns).text.split(' ')\n",
        "startPointX = int(startPoint[0])\n",
        "startPointY = int(startPoint[1])\n",
        "print(startPointX, startPointY)"
      ]
    },
    {
      "cell_type": "markdown",
      "metadata": {
        "id": "XUaKkd0aq7qo"
      },
      "source": [
        "行数と列数は`gml:high`から取得できます．\n",
        "`gml:high`も行数と列数がスペースで区切られているので，\n",
        "`split(' ')`で値を分割します．区切られた値はリストになりますので，\n",
        "最初の要素`[0]`である列数を整数化して変数`cols`に代入します．\n",
        "同様に2番目の要素`[1]`の行数を整数化して`rows`に代入します．"
      ]
    },
    {
      "cell_type": "code",
      "execution_count": null,
      "metadata": {
        "colab": {
          "base_uri": "https://localhost:8080/"
        },
        "id": "wqYJxN10hbqa",
        "outputId": "49cc06cc-21ad-45f1-8b7b-ee6260d09b04"
      },
      "outputs": [
        {
          "name": "stdout",
          "output_type": "stream",
          "text": [
            "750 1125\n"
          ]
        }
      ],
      "source": [
        "cols = int(elem.find(\".//gml:high\", ns).text.split(' ')[0]) + 1\n",
        "rows = int(elem.find(\".//gml:high\", ns).text.split(' ')[1]) + 1\n",
        "print(rows, cols)"
      ]
    },
    {
      "cell_type": "markdown",
      "metadata": {
        "id": "9wEOEpEYkDQz"
      },
      "source": [
        "\n",
        "開始番号`start`は`startPointX + (列数 * startPointY)`で，\n",
        "終了番号`end`は開始番号に`df`の行数を加えたものになります．\n",
        "`df`の行数は`df.shape[0]`で取得できます．"
      ]
    },
    {
      "cell_type": "code",
      "execution_count": null,
      "metadata": {
        "colab": {
          "base_uri": "https://localhost:8080/"
        },
        "id": "SZ6M7VSlqw8T",
        "outputId": "abe046a7-7a8f-4663-fb70-8e886008523b"
      },
      "outputs": [
        {
          "name": "stdout",
          "output_type": "stream",
          "text": [
            "0 843750\n"
          ]
        }
      ],
      "source": [
        "start = startPointX + (cols * startPointY)\n",
        "end = int(df.shape[0]) + start\n",
        "print(start, end)"
      ]
    },
    {
      "cell_type": "markdown",
      "metadata": {
        "id": "JG_477pRrCUI"
      },
      "source": [
        "次に`range`関数を使って，標高値のあるメッシュの通し番号のリスト`n`を作成します．"
      ]
    },
    {
      "cell_type": "code",
      "execution_count": null,
      "metadata": {
        "colab": {
          "base_uri": "https://localhost:8080/"
        },
        "id": "z9pfwtniq4am",
        "outputId": "e55d1614-4142-4acd-d32b-c7c37c88d4e2"
      },
      "outputs": [
        {
          "data": {
            "text/plain": [
              "843750"
            ]
          },
          "execution_count": 18,
          "metadata": {
            "tags": []
          },
          "output_type": "execute_result"
        }
      ],
      "source": [
        "n = list(range(start, end))\n",
        "len(n)"
      ]
    },
    {
      "cell_type": "markdown",
      "metadata": {
        "id": "XhtWB9N69UdN"
      },
      "source": [
        "標高を格納したデータフレーム`df`にリスト`n`を加えます．"
      ]
    },
    {
      "cell_type": "code",
      "execution_count": null,
      "metadata": {
        "colab": {
          "base_uri": "https://localhost:8080/",
          "height": 419
        },
        "id": "VEGJiEEJ6ojt",
        "outputId": "940eca0e-3f7e-4d74-8749-5eaa966b7b66"
      },
      "outputs": [
        {
          "data": {
            "text/html": [
              "<div>\n",
              "<style scoped>\n",
              "    .dataframe tbody tr th:only-of-type {\n",
              "        vertical-align: middle;\n",
              "    }\n",
              "\n",
              "    .dataframe tbody tr th {\n",
              "        vertical-align: top;\n",
              "    }\n",
              "\n",
              "    .dataframe thead th {\n",
              "        text-align: right;\n",
              "    }\n",
              "</style>\n",
              "<table border=\"1\" class=\"dataframe\">\n",
              "  <thead>\n",
              "    <tr style=\"text-align: right;\">\n",
              "      <th></th>\n",
              "      <th>att</th>\n",
              "      <th>z</th>\n",
              "      <th>n</th>\n",
              "    </tr>\n",
              "  </thead>\n",
              "  <tbody>\n",
              "    <tr>\n",
              "      <th>0</th>\n",
              "      <td>その他</td>\n",
              "      <td>225.7</td>\n",
              "      <td>0</td>\n",
              "    </tr>\n",
              "    <tr>\n",
              "      <th>1</th>\n",
              "      <td>その他</td>\n",
              "      <td>229.5</td>\n",
              "      <td>1</td>\n",
              "    </tr>\n",
              "    <tr>\n",
              "      <th>2</th>\n",
              "      <td>その他</td>\n",
              "      <td>236.0</td>\n",
              "      <td>2</td>\n",
              "    </tr>\n",
              "    <tr>\n",
              "      <th>3</th>\n",
              "      <td>その他</td>\n",
              "      <td>244.9</td>\n",
              "      <td>3</td>\n",
              "    </tr>\n",
              "    <tr>\n",
              "      <th>4</th>\n",
              "      <td>その他</td>\n",
              "      <td>255.3</td>\n",
              "      <td>4</td>\n",
              "    </tr>\n",
              "    <tr>\n",
              "      <th>...</th>\n",
              "      <td>...</td>\n",
              "      <td>...</td>\n",
              "      <td>...</td>\n",
              "    </tr>\n",
              "    <tr>\n",
              "      <th>843745</th>\n",
              "      <td>その他</td>\n",
              "      <td>257.3</td>\n",
              "      <td>843745</td>\n",
              "    </tr>\n",
              "    <tr>\n",
              "      <th>843746</th>\n",
              "      <td>その他</td>\n",
              "      <td>258.3</td>\n",
              "      <td>843746</td>\n",
              "    </tr>\n",
              "    <tr>\n",
              "      <th>843747</th>\n",
              "      <td>その他</td>\n",
              "      <td>259.4</td>\n",
              "      <td>843747</td>\n",
              "    </tr>\n",
              "    <tr>\n",
              "      <th>843748</th>\n",
              "      <td>その他</td>\n",
              "      <td>260.6</td>\n",
              "      <td>843748</td>\n",
              "    </tr>\n",
              "    <tr>\n",
              "      <th>843749</th>\n",
              "      <td>その他</td>\n",
              "      <td>261.9</td>\n",
              "      <td>843749</td>\n",
              "    </tr>\n",
              "  </tbody>\n",
              "</table>\n",
              "<p>843750 rows × 3 columns</p>\n",
              "</div>"
            ],
            "text/plain": [
              "        att      z       n\n",
              "0       その他  225.7       0\n",
              "1       その他  229.5       1\n",
              "2       その他  236.0       2\n",
              "3       その他  244.9       3\n",
              "4       その他  255.3       4\n",
              "...     ...    ...     ...\n",
              "843745  その他  257.3  843745\n",
              "843746  その他  258.3  843746\n",
              "843747  その他  259.4  843747\n",
              "843748  その他  260.6  843748\n",
              "843749  その他  261.9  843749\n",
              "\n",
              "[843750 rows x 3 columns]"
            ]
          },
          "execution_count": 19,
          "metadata": {
            "tags": []
          },
          "output_type": "execute_result"
        }
      ],
      "source": [
        "df['n'] = n\n",
        "df"
      ]
    },
    {
      "cell_type": "markdown",
      "metadata": {
        "id": "5iJIT7XVIlt9"
      },
      "source": [
        "## 標高値の通し番号から列番号と行番号を求める\n"
      ]
    },
    {
      "cell_type": "markdown",
      "metadata": {
        "id": "hLKlppnkifTt"
      },
      "source": [
        "\n",
        "通し番号`n`の値から列番号`x4`と行番号`y4`を求めます．\n",
        "`n`を列数`cols`で割った余りが列番号，\n",
        "商の整数部が行番号になります．\n",
        "剰余を求める演算子`%`と整数の商を求める`//`を利用します．\n",
        "求めた列番号と行番号はそれぞれ`x4`と`y4`としてデータフレーム`df`に格納します．"
      ]
    },
    {
      "cell_type": "code",
      "execution_count": null,
      "metadata": {
        "colab": {
          "base_uri": "https://localhost:8080/",
          "height": 419
        },
        "id": "83-LMJYVYs6b",
        "outputId": "9e7043c5-854b-4279-8dfc-803f45d2e056"
      },
      "outputs": [
        {
          "data": {
            "text/html": [
              "<div>\n",
              "<style scoped>\n",
              "    .dataframe tbody tr th:only-of-type {\n",
              "        vertical-align: middle;\n",
              "    }\n",
              "\n",
              "    .dataframe tbody tr th {\n",
              "        vertical-align: top;\n",
              "    }\n",
              "\n",
              "    .dataframe thead th {\n",
              "        text-align: right;\n",
              "    }\n",
              "</style>\n",
              "<table border=\"1\" class=\"dataframe\">\n",
              "  <thead>\n",
              "    <tr style=\"text-align: right;\">\n",
              "      <th></th>\n",
              "      <th>att</th>\n",
              "      <th>z</th>\n",
              "      <th>n</th>\n",
              "      <th>x4</th>\n",
              "      <th>y4</th>\n",
              "    </tr>\n",
              "  </thead>\n",
              "  <tbody>\n",
              "    <tr>\n",
              "      <th>0</th>\n",
              "      <td>その他</td>\n",
              "      <td>225.7</td>\n",
              "      <td>0</td>\n",
              "      <td>0</td>\n",
              "      <td>0</td>\n",
              "    </tr>\n",
              "    <tr>\n",
              "      <th>1</th>\n",
              "      <td>その他</td>\n",
              "      <td>229.5</td>\n",
              "      <td>1</td>\n",
              "      <td>1</td>\n",
              "      <td>0</td>\n",
              "    </tr>\n",
              "    <tr>\n",
              "      <th>2</th>\n",
              "      <td>その他</td>\n",
              "      <td>236.0</td>\n",
              "      <td>2</td>\n",
              "      <td>2</td>\n",
              "      <td>0</td>\n",
              "    </tr>\n",
              "    <tr>\n",
              "      <th>3</th>\n",
              "      <td>その他</td>\n",
              "      <td>244.9</td>\n",
              "      <td>3</td>\n",
              "      <td>3</td>\n",
              "      <td>0</td>\n",
              "    </tr>\n",
              "    <tr>\n",
              "      <th>4</th>\n",
              "      <td>その他</td>\n",
              "      <td>255.3</td>\n",
              "      <td>4</td>\n",
              "      <td>4</td>\n",
              "      <td>0</td>\n",
              "    </tr>\n",
              "    <tr>\n",
              "      <th>...</th>\n",
              "      <td>...</td>\n",
              "      <td>...</td>\n",
              "      <td>...</td>\n",
              "      <td>...</td>\n",
              "      <td>...</td>\n",
              "    </tr>\n",
              "    <tr>\n",
              "      <th>843745</th>\n",
              "      <td>その他</td>\n",
              "      <td>257.3</td>\n",
              "      <td>843745</td>\n",
              "      <td>1120</td>\n",
              "      <td>749</td>\n",
              "    </tr>\n",
              "    <tr>\n",
              "      <th>843746</th>\n",
              "      <td>その他</td>\n",
              "      <td>258.3</td>\n",
              "      <td>843746</td>\n",
              "      <td>1121</td>\n",
              "      <td>749</td>\n",
              "    </tr>\n",
              "    <tr>\n",
              "      <th>843747</th>\n",
              "      <td>その他</td>\n",
              "      <td>259.4</td>\n",
              "      <td>843747</td>\n",
              "      <td>1122</td>\n",
              "      <td>749</td>\n",
              "    </tr>\n",
              "    <tr>\n",
              "      <th>843748</th>\n",
              "      <td>その他</td>\n",
              "      <td>260.6</td>\n",
              "      <td>843748</td>\n",
              "      <td>1123</td>\n",
              "      <td>749</td>\n",
              "    </tr>\n",
              "    <tr>\n",
              "      <th>843749</th>\n",
              "      <td>その他</td>\n",
              "      <td>261.9</td>\n",
              "      <td>843749</td>\n",
              "      <td>1124</td>\n",
              "      <td>749</td>\n",
              "    </tr>\n",
              "  </tbody>\n",
              "</table>\n",
              "<p>843750 rows × 5 columns</p>\n",
              "</div>"
            ],
            "text/plain": [
              "        att      z       n    x4   y4\n",
              "0       その他  225.7       0     0    0\n",
              "1       その他  229.5       1     1    0\n",
              "2       その他  236.0       2     2    0\n",
              "3       その他  244.9       3     3    0\n",
              "4       その他  255.3       4     4    0\n",
              "...     ...    ...     ...   ...  ...\n",
              "843745  その他  257.3  843745  1120  749\n",
              "843746  その他  258.3  843746  1121  749\n",
              "843747  その他  259.4  843747  1122  749\n",
              "843748  その他  260.6  843748  1123  749\n",
              "843749  その他  261.9  843749  1124  749\n",
              "\n",
              "[843750 rows x 5 columns]"
            ]
          },
          "execution_count": 20,
          "metadata": {
            "tags": []
          },
          "output_type": "execute_result"
        }
      ],
      "source": [
        "df['x4'] = (df['n'] % cols)\n",
        "df['y4'] = (df['n'] // cols)\n",
        "df"
      ]
    },
    {
      "cell_type": "markdown",
      "metadata": {
        "id": "Z674HEpqWyrt"
      },
      "source": [
        "## 標高値にユニークな列番号と行番号をつける\n"
      ]
    },
    {
      "cell_type": "markdown",
      "metadata": {
        "id": "DcruIir4ihJ4"
      },
      "source": [
        "\n",
        "次に各標高点の1次メッシュから3次メッシュまでの列番号と行番号を求めます．\n",
        "\n",
        "メッシュコードが格納されているのは`mesh.text`で，これは以前に取得しています．\n",
        "`mesh.text`は8桁の数字からなっており，\n",
        "最初の4桁が1時メッシュコード，\n",
        "次の2桁が2次メッシュコード，\n",
        "最後の2桁が3次メッシュコードです．\n",
        "\n",
        "1次メッシュコードから3次メッシュコードの構成は以下のようになっています．\n",
        "\n",
        "* 1次メッシュコード\n",
        "\n",
        "5039|5040|5041|$\\ldots$\n",
        "-|-|-|-\n",
        "4939|4940|4941|$\\ldots$\n",
        "4839|4840|4841|$\\ldots$\n",
        "4739|4740|4741|$\\ldots$\n",
        "$\\vdots$|$\\vdots$|$\\vdots$|$\\ddots$\n",
        "\n",
        "* 2次メッシュコード\n",
        "\n",
        "70|71|72|73|$\\ldots$|77\n",
        "-|-|-|-|-|-|\n",
        "60|61|62|63|$\\ldots$|67\n",
        "50|51|52|53|$\\ldots$|57\n",
        "$\\vdots$|$\\vdots$|$\\vdots$|$\\vdots$|$\\ddots$|$\\vdots$\n",
        "00|01|02|03|$\\ldots$|07\n",
        "\n",
        "* 3次メッシュコード\n",
        "\n",
        "90|91|92|93|$\\ldots$|99\n",
        "-|-|-|-|-|-|\n",
        "80|81|82|83|$\\ldots$|89\n",
        "70|71|72|73|$\\ldots$|79\n",
        "$\\vdots$|$\\vdots$|$\\vdots$|$\\vdots$|$\\ddots$|$\\vdots$\n",
        "00|01|02|03|$\\ldots$|09\n",
        "\n",
        "1次メッシュの中には2次メッシュが8 $\\times$ 8メッシュ，\n",
        "2次メッシュの中には3次メッシュが10 $\\times$ 10メッシュ入っています．\n",
        "さらに3次メッシュの中には標高点が`cols`$\\times$ `rows`個あります．\n",
        "つまり，1次メッシュの中には$(8\\times 10\\times cols) \\times (8 \\times 10 \\times rows)$個の標高点が格納されています．\n",
        "\n",
        "1次メッシュから3次メッシュまでのxとyを取得します．"
      ]
    },
    {
      "cell_type": "code",
      "execution_count": null,
      "metadata": {
        "colab": {
          "base_uri": "https://localhost:8080/",
          "height": 35
        },
        "id": "QQnwSSbGBlUa",
        "outputId": "82ab02dc-a789-4466-a0d3-2c207d5f6c74"
      },
      "outputs": [
        {
          "data": {
            "application/vnd.google.colaboratory.intrinsic+json": {
              "type": "string"
            },
            "text/plain": [
              "'553855'"
            ]
          },
          "execution_count": 21,
          "metadata": {
            "tags": []
          },
          "output_type": "execute_result"
        }
      ],
      "source": [
        "mesh.text"
      ]
    },
    {
      "cell_type": "code",
      "execution_count": null,
      "metadata": {
        "id": "3_fYcab2W9_d"
      },
      "outputs": [],
      "source": [
        "y1 = int(mesh.text[0:2])\n",
        "x1 = int(mesh.text[2:4])\n",
        "y2 = int(mesh.text[4])\n",
        "x2 = int(mesh.text[5])\n",
        "#y3 = int(mesh.text[6])\n",
        "y3 = 0\n",
        "\n",
        "#x3 = int(mesh.text[7])\n",
        "x3 = 0"
      ]
    },
    {
      "cell_type": "markdown",
      "metadata": {
        "id": "ieLMPWEtN695"
      },
      "source": [
        "取得した1次メッシュから3次メッシュのxとyをデータフレームに追加します．"
      ]
    },
    {
      "cell_type": "code",
      "execution_count": null,
      "metadata": {
        "colab": {
          "base_uri": "https://localhost:8080/",
          "height": 419
        },
        "id": "F318B6amY6Sz",
        "outputId": "97d24743-e6c2-429e-f914-30ff1343653c"
      },
      "outputs": [
        {
          "data": {
            "text/html": [
              "<div>\n",
              "<style scoped>\n",
              "    .dataframe tbody tr th:only-of-type {\n",
              "        vertical-align: middle;\n",
              "    }\n",
              "\n",
              "    .dataframe tbody tr th {\n",
              "        vertical-align: top;\n",
              "    }\n",
              "\n",
              "    .dataframe thead th {\n",
              "        text-align: right;\n",
              "    }\n",
              "</style>\n",
              "<table border=\"1\" class=\"dataframe\">\n",
              "  <thead>\n",
              "    <tr style=\"text-align: right;\">\n",
              "      <th></th>\n",
              "      <th>att</th>\n",
              "      <th>z</th>\n",
              "      <th>n</th>\n",
              "      <th>x4</th>\n",
              "      <th>y4</th>\n",
              "      <th>x1</th>\n",
              "      <th>y1</th>\n",
              "      <th>x2</th>\n",
              "      <th>y2</th>\n",
              "      <th>x3</th>\n",
              "      <th>y3</th>\n",
              "    </tr>\n",
              "  </thead>\n",
              "  <tbody>\n",
              "    <tr>\n",
              "      <th>0</th>\n",
              "      <td>その他</td>\n",
              "      <td>225.7</td>\n",
              "      <td>0</td>\n",
              "      <td>0</td>\n",
              "      <td>0</td>\n",
              "      <td>38</td>\n",
              "      <td>55</td>\n",
              "      <td>5</td>\n",
              "      <td>5</td>\n",
              "      <td>0</td>\n",
              "      <td>0</td>\n",
              "    </tr>\n",
              "    <tr>\n",
              "      <th>1</th>\n",
              "      <td>その他</td>\n",
              "      <td>229.5</td>\n",
              "      <td>1</td>\n",
              "      <td>1</td>\n",
              "      <td>0</td>\n",
              "      <td>38</td>\n",
              "      <td>55</td>\n",
              "      <td>5</td>\n",
              "      <td>5</td>\n",
              "      <td>0</td>\n",
              "      <td>0</td>\n",
              "    </tr>\n",
              "    <tr>\n",
              "      <th>2</th>\n",
              "      <td>その他</td>\n",
              "      <td>236.0</td>\n",
              "      <td>2</td>\n",
              "      <td>2</td>\n",
              "      <td>0</td>\n",
              "      <td>38</td>\n",
              "      <td>55</td>\n",
              "      <td>5</td>\n",
              "      <td>5</td>\n",
              "      <td>0</td>\n",
              "      <td>0</td>\n",
              "    </tr>\n",
              "    <tr>\n",
              "      <th>3</th>\n",
              "      <td>その他</td>\n",
              "      <td>244.9</td>\n",
              "      <td>3</td>\n",
              "      <td>3</td>\n",
              "      <td>0</td>\n",
              "      <td>38</td>\n",
              "      <td>55</td>\n",
              "      <td>5</td>\n",
              "      <td>5</td>\n",
              "      <td>0</td>\n",
              "      <td>0</td>\n",
              "    </tr>\n",
              "    <tr>\n",
              "      <th>4</th>\n",
              "      <td>その他</td>\n",
              "      <td>255.3</td>\n",
              "      <td>4</td>\n",
              "      <td>4</td>\n",
              "      <td>0</td>\n",
              "      <td>38</td>\n",
              "      <td>55</td>\n",
              "      <td>5</td>\n",
              "      <td>5</td>\n",
              "      <td>0</td>\n",
              "      <td>0</td>\n",
              "    </tr>\n",
              "    <tr>\n",
              "      <th>...</th>\n",
              "      <td>...</td>\n",
              "      <td>...</td>\n",
              "      <td>...</td>\n",
              "      <td>...</td>\n",
              "      <td>...</td>\n",
              "      <td>...</td>\n",
              "      <td>...</td>\n",
              "      <td>...</td>\n",
              "      <td>...</td>\n",
              "      <td>...</td>\n",
              "      <td>...</td>\n",
              "    </tr>\n",
              "    <tr>\n",
              "      <th>843745</th>\n",
              "      <td>その他</td>\n",
              "      <td>257.3</td>\n",
              "      <td>843745</td>\n",
              "      <td>1120</td>\n",
              "      <td>749</td>\n",
              "      <td>38</td>\n",
              "      <td>55</td>\n",
              "      <td>5</td>\n",
              "      <td>5</td>\n",
              "      <td>0</td>\n",
              "      <td>0</td>\n",
              "    </tr>\n",
              "    <tr>\n",
              "      <th>843746</th>\n",
              "      <td>その他</td>\n",
              "      <td>258.3</td>\n",
              "      <td>843746</td>\n",
              "      <td>1121</td>\n",
              "      <td>749</td>\n",
              "      <td>38</td>\n",
              "      <td>55</td>\n",
              "      <td>5</td>\n",
              "      <td>5</td>\n",
              "      <td>0</td>\n",
              "      <td>0</td>\n",
              "    </tr>\n",
              "    <tr>\n",
              "      <th>843747</th>\n",
              "      <td>その他</td>\n",
              "      <td>259.4</td>\n",
              "      <td>843747</td>\n",
              "      <td>1122</td>\n",
              "      <td>749</td>\n",
              "      <td>38</td>\n",
              "      <td>55</td>\n",
              "      <td>5</td>\n",
              "      <td>5</td>\n",
              "      <td>0</td>\n",
              "      <td>0</td>\n",
              "    </tr>\n",
              "    <tr>\n",
              "      <th>843748</th>\n",
              "      <td>その他</td>\n",
              "      <td>260.6</td>\n",
              "      <td>843748</td>\n",
              "      <td>1123</td>\n",
              "      <td>749</td>\n",
              "      <td>38</td>\n",
              "      <td>55</td>\n",
              "      <td>5</td>\n",
              "      <td>5</td>\n",
              "      <td>0</td>\n",
              "      <td>0</td>\n",
              "    </tr>\n",
              "    <tr>\n",
              "      <th>843749</th>\n",
              "      <td>その他</td>\n",
              "      <td>261.9</td>\n",
              "      <td>843749</td>\n",
              "      <td>1124</td>\n",
              "      <td>749</td>\n",
              "      <td>38</td>\n",
              "      <td>55</td>\n",
              "      <td>5</td>\n",
              "      <td>5</td>\n",
              "      <td>0</td>\n",
              "      <td>0</td>\n",
              "    </tr>\n",
              "  </tbody>\n",
              "</table>\n",
              "<p>843750 rows × 11 columns</p>\n",
              "</div>"
            ],
            "text/plain": [
              "        att      z       n    x4   y4  x1  y1  x2  y2  x3  y3\n",
              "0       その他  225.7       0     0    0  38  55   5   5   0   0\n",
              "1       その他  229.5       1     1    0  38  55   5   5   0   0\n",
              "2       その他  236.0       2     2    0  38  55   5   5   0   0\n",
              "3       その他  244.9       3     3    0  38  55   5   5   0   0\n",
              "4       その他  255.3       4     4    0  38  55   5   5   0   0\n",
              "...     ...    ...     ...   ...  ...  ..  ..  ..  ..  ..  ..\n",
              "843745  その他  257.3  843745  1120  749  38  55   5   5   0   0\n",
              "843746  その他  258.3  843746  1121  749  38  55   5   5   0   0\n",
              "843747  その他  259.4  843747  1122  749  38  55   5   5   0   0\n",
              "843748  その他  260.6  843748  1123  749  38  55   5   5   0   0\n",
              "843749  その他  261.9  843749  1124  749  38  55   5   5   0   0\n",
              "\n",
              "[843750 rows x 11 columns]"
            ]
          },
          "execution_count": 24,
          "metadata": {
            "tags": []
          },
          "output_type": "execute_result"
        }
      ],
      "source": [
        "df['x1'] = x1\n",
        "df['y1'] = y1\n",
        "df['x2'] = x2\n",
        "df['y2'] = y2\n",
        "df['x3'] = x3\n",
        "df['y3'] = y3\n",
        "df"
      ]
    },
    {
      "cell_type": "markdown",
      "metadata": {
        "id": "s9BbN2WFOgTi"
      },
      "source": [
        "次に`x1`〜`x4`，`y1`〜`y4`を使って，1次メッシュをまたぐような列番号`x`と行番号`y`を作成します．\n"
      ]
    },
    {
      "cell_type": "code",
      "execution_count": null,
      "metadata": {
        "colab": {
          "base_uri": "https://localhost:8080/",
          "height": 417
        },
        "id": "xrOd5iJ8sYMr",
        "outputId": "eb2b9c9c-2714-4823-955e-585758a645dc"
      },
      "outputs": [
        {
          "data": {
            "text/html": [
              "<div>\n",
              "<style scoped>\n",
              "    .dataframe tbody tr th:only-of-type {\n",
              "        vertical-align: middle;\n",
              "    }\n",
              "\n",
              "    .dataframe tbody tr th {\n",
              "        vertical-align: top;\n",
              "    }\n",
              "\n",
              "    .dataframe thead th {\n",
              "        text-align: right;\n",
              "    }\n",
              "</style>\n",
              "<table border=\"1\" class=\"dataframe\">\n",
              "  <thead>\n",
              "    <tr style=\"text-align: right;\">\n",
              "      <th></th>\n",
              "      <th>att</th>\n",
              "      <th>z</th>\n",
              "      <th>n</th>\n",
              "      <th>x4</th>\n",
              "      <th>y4</th>\n",
              "      <th>x1</th>\n",
              "      <th>y1</th>\n",
              "      <th>x2</th>\n",
              "      <th>y2</th>\n",
              "      <th>x3</th>\n",
              "      <th>y3</th>\n",
              "      <th>x</th>\n",
              "      <th>y</th>\n",
              "    </tr>\n",
              "  </thead>\n",
              "  <tbody>\n",
              "    <tr>\n",
              "      <th>0</th>\n",
              "      <td>その他</td>\n",
              "      <td>225.7</td>\n",
              "      <td>0</td>\n",
              "      <td>0</td>\n",
              "      <td>0</td>\n",
              "      <td>38</td>\n",
              "      <td>55</td>\n",
              "      <td>5</td>\n",
              "      <td>5</td>\n",
              "      <td>0</td>\n",
              "      <td>0</td>\n",
              "      <td>3476250</td>\n",
              "      <td>2743500</td>\n",
              "    </tr>\n",
              "    <tr>\n",
              "      <th>1</th>\n",
              "      <td>その他</td>\n",
              "      <td>229.5</td>\n",
              "      <td>1</td>\n",
              "      <td>1</td>\n",
              "      <td>0</td>\n",
              "      <td>38</td>\n",
              "      <td>55</td>\n",
              "      <td>5</td>\n",
              "      <td>5</td>\n",
              "      <td>0</td>\n",
              "      <td>0</td>\n",
              "      <td>3476251</td>\n",
              "      <td>2743500</td>\n",
              "    </tr>\n",
              "    <tr>\n",
              "      <th>2</th>\n",
              "      <td>その他</td>\n",
              "      <td>236.0</td>\n",
              "      <td>2</td>\n",
              "      <td>2</td>\n",
              "      <td>0</td>\n",
              "      <td>38</td>\n",
              "      <td>55</td>\n",
              "      <td>5</td>\n",
              "      <td>5</td>\n",
              "      <td>0</td>\n",
              "      <td>0</td>\n",
              "      <td>3476252</td>\n",
              "      <td>2743500</td>\n",
              "    </tr>\n",
              "    <tr>\n",
              "      <th>3</th>\n",
              "      <td>その他</td>\n",
              "      <td>244.9</td>\n",
              "      <td>3</td>\n",
              "      <td>3</td>\n",
              "      <td>0</td>\n",
              "      <td>38</td>\n",
              "      <td>55</td>\n",
              "      <td>5</td>\n",
              "      <td>5</td>\n",
              "      <td>0</td>\n",
              "      <td>0</td>\n",
              "      <td>3476253</td>\n",
              "      <td>2743500</td>\n",
              "    </tr>\n",
              "    <tr>\n",
              "      <th>4</th>\n",
              "      <td>その他</td>\n",
              "      <td>255.3</td>\n",
              "      <td>4</td>\n",
              "      <td>4</td>\n",
              "      <td>0</td>\n",
              "      <td>38</td>\n",
              "      <td>55</td>\n",
              "      <td>5</td>\n",
              "      <td>5</td>\n",
              "      <td>0</td>\n",
              "      <td>0</td>\n",
              "      <td>3476254</td>\n",
              "      <td>2743500</td>\n",
              "    </tr>\n",
              "    <tr>\n",
              "      <th>...</th>\n",
              "      <td>...</td>\n",
              "      <td>...</td>\n",
              "      <td>...</td>\n",
              "      <td>...</td>\n",
              "      <td>...</td>\n",
              "      <td>...</td>\n",
              "      <td>...</td>\n",
              "      <td>...</td>\n",
              "      <td>...</td>\n",
              "      <td>...</td>\n",
              "      <td>...</td>\n",
              "      <td>...</td>\n",
              "      <td>...</td>\n",
              "    </tr>\n",
              "    <tr>\n",
              "      <th>843745</th>\n",
              "      <td>その他</td>\n",
              "      <td>257.3</td>\n",
              "      <td>843745</td>\n",
              "      <td>1120</td>\n",
              "      <td>749</td>\n",
              "      <td>38</td>\n",
              "      <td>55</td>\n",
              "      <td>5</td>\n",
              "      <td>5</td>\n",
              "      <td>0</td>\n",
              "      <td>0</td>\n",
              "      <td>3477370</td>\n",
              "      <td>2744249</td>\n",
              "    </tr>\n",
              "    <tr>\n",
              "      <th>843746</th>\n",
              "      <td>その他</td>\n",
              "      <td>258.3</td>\n",
              "      <td>843746</td>\n",
              "      <td>1121</td>\n",
              "      <td>749</td>\n",
              "      <td>38</td>\n",
              "      <td>55</td>\n",
              "      <td>5</td>\n",
              "      <td>5</td>\n",
              "      <td>0</td>\n",
              "      <td>0</td>\n",
              "      <td>3477371</td>\n",
              "      <td>2744249</td>\n",
              "    </tr>\n",
              "    <tr>\n",
              "      <th>843747</th>\n",
              "      <td>その他</td>\n",
              "      <td>259.4</td>\n",
              "      <td>843747</td>\n",
              "      <td>1122</td>\n",
              "      <td>749</td>\n",
              "      <td>38</td>\n",
              "      <td>55</td>\n",
              "      <td>5</td>\n",
              "      <td>5</td>\n",
              "      <td>0</td>\n",
              "      <td>0</td>\n",
              "      <td>3477372</td>\n",
              "      <td>2744249</td>\n",
              "    </tr>\n",
              "    <tr>\n",
              "      <th>843748</th>\n",
              "      <td>その他</td>\n",
              "      <td>260.6</td>\n",
              "      <td>843748</td>\n",
              "      <td>1123</td>\n",
              "      <td>749</td>\n",
              "      <td>38</td>\n",
              "      <td>55</td>\n",
              "      <td>5</td>\n",
              "      <td>5</td>\n",
              "      <td>0</td>\n",
              "      <td>0</td>\n",
              "      <td>3477373</td>\n",
              "      <td>2744249</td>\n",
              "    </tr>\n",
              "    <tr>\n",
              "      <th>843749</th>\n",
              "      <td>その他</td>\n",
              "      <td>261.9</td>\n",
              "      <td>843749</td>\n",
              "      <td>1124</td>\n",
              "      <td>749</td>\n",
              "      <td>38</td>\n",
              "      <td>55</td>\n",
              "      <td>5</td>\n",
              "      <td>5</td>\n",
              "      <td>0</td>\n",
              "      <td>0</td>\n",
              "      <td>3477374</td>\n",
              "      <td>2744249</td>\n",
              "    </tr>\n",
              "  </tbody>\n",
              "</table>\n",
              "<p>843750 rows × 13 columns</p>\n",
              "</div>"
            ],
            "text/plain": [
              "        att      z       n    x4   y4  x1  y1  x2  y2  x3  y3        x        y\n",
              "0       その他  225.7       0     0    0  38  55   5   5   0   0  3476250  2743500\n",
              "1       その他  229.5       1     1    0  38  55   5   5   0   0  3476251  2743500\n",
              "2       その他  236.0       2     2    0  38  55   5   5   0   0  3476252  2743500\n",
              "3       その他  244.9       3     3    0  38  55   5   5   0   0  3476253  2743500\n",
              "4       その他  255.3       4     4    0  38  55   5   5   0   0  3476254  2743500\n",
              "...     ...    ...     ...   ...  ...  ..  ..  ..  ..  ..  ..      ...      ...\n",
              "843745  その他  257.3  843745  1120  749  38  55   5   5   0   0  3477370  2744249\n",
              "843746  その他  258.3  843746  1121  749  38  55   5   5   0   0  3477371  2744249\n",
              "843747  その他  259.4  843747  1122  749  38  55   5   5   0   0  3477372  2744249\n",
              "843748  その他  260.6  843748  1123  749  38  55   5   5   0   0  3477373  2744249\n",
              "843749  その他  261.9  843749  1124  749  38  55   5   5   0   0  3477374  2744249\n",
              "\n",
              "[843750 rows x 13 columns]"
            ]
          },
          "execution_count": 27,
          "metadata": {
            "tags": []
          },
          "output_type": "execute_result"
        }
      ],
      "source": [
        "# 5m\n",
        "df['x'] = df['x4'] + (df['x3'] * cols) + (df['x2'] * 10 * cols) + (df['x1'] * 8 * 10 * cols)\n",
        "df['y'] = df['y4'] + ((8 - df['y3']) * rows) + ((10 - df['y2']) * 10 * rows) + ((100 - df['y1']) * 8 * 10 * rows)\n",
        "df\n"
      ]
    },
    {
      "cell_type": "code",
      "execution_count": null,
      "metadata": {
        "colab": {
          "base_uri": "https://localhost:8080/",
          "height": 419
        },
        "id": "k_NCcNNlhbem",
        "outputId": "a19abe6b-4428-41d5-d0c0-ad1113bd8bdd"
      },
      "outputs": [
        {
          "data": {
            "text/html": [
              "<div>\n",
              "<style scoped>\n",
              "    .dataframe tbody tr th:only-of-type {\n",
              "        vertical-align: middle;\n",
              "    }\n",
              "\n",
              "    .dataframe tbody tr th {\n",
              "        vertical-align: top;\n",
              "    }\n",
              "\n",
              "    .dataframe thead th {\n",
              "        text-align: right;\n",
              "    }\n",
              "</style>\n",
              "<table border=\"1\" class=\"dataframe\">\n",
              "  <thead>\n",
              "    <tr style=\"text-align: right;\">\n",
              "      <th></th>\n",
              "      <th>att</th>\n",
              "      <th>z</th>\n",
              "      <th>n</th>\n",
              "      <th>x4</th>\n",
              "      <th>y4</th>\n",
              "      <th>x1</th>\n",
              "      <th>y1</th>\n",
              "      <th>x2</th>\n",
              "      <th>y2</th>\n",
              "      <th>x3</th>\n",
              "      <th>y3</th>\n",
              "      <th>x</th>\n",
              "      <th>y</th>\n",
              "    </tr>\n",
              "  </thead>\n",
              "  <tbody>\n",
              "    <tr>\n",
              "      <th>0</th>\n",
              "      <td>その他</td>\n",
              "      <td>225.7</td>\n",
              "      <td>0</td>\n",
              "      <td>0</td>\n",
              "      <td>0</td>\n",
              "      <td>38</td>\n",
              "      <td>55</td>\n",
              "      <td>5</td>\n",
              "      <td>5</td>\n",
              "      <td>0</td>\n",
              "      <td>0</td>\n",
              "      <td>3476250</td>\n",
              "      <td>2737500</td>\n",
              "    </tr>\n",
              "    <tr>\n",
              "      <th>1</th>\n",
              "      <td>その他</td>\n",
              "      <td>229.5</td>\n",
              "      <td>1</td>\n",
              "      <td>1</td>\n",
              "      <td>0</td>\n",
              "      <td>38</td>\n",
              "      <td>55</td>\n",
              "      <td>5</td>\n",
              "      <td>5</td>\n",
              "      <td>0</td>\n",
              "      <td>0</td>\n",
              "      <td>3476251</td>\n",
              "      <td>2737500</td>\n",
              "    </tr>\n",
              "    <tr>\n",
              "      <th>2</th>\n",
              "      <td>その他</td>\n",
              "      <td>236.0</td>\n",
              "      <td>2</td>\n",
              "      <td>2</td>\n",
              "      <td>0</td>\n",
              "      <td>38</td>\n",
              "      <td>55</td>\n",
              "      <td>5</td>\n",
              "      <td>5</td>\n",
              "      <td>0</td>\n",
              "      <td>0</td>\n",
              "      <td>3476252</td>\n",
              "      <td>2737500</td>\n",
              "    </tr>\n",
              "    <tr>\n",
              "      <th>3</th>\n",
              "      <td>その他</td>\n",
              "      <td>244.9</td>\n",
              "      <td>3</td>\n",
              "      <td>3</td>\n",
              "      <td>0</td>\n",
              "      <td>38</td>\n",
              "      <td>55</td>\n",
              "      <td>5</td>\n",
              "      <td>5</td>\n",
              "      <td>0</td>\n",
              "      <td>0</td>\n",
              "      <td>3476253</td>\n",
              "      <td>2737500</td>\n",
              "    </tr>\n",
              "    <tr>\n",
              "      <th>4</th>\n",
              "      <td>その他</td>\n",
              "      <td>255.3</td>\n",
              "      <td>4</td>\n",
              "      <td>4</td>\n",
              "      <td>0</td>\n",
              "      <td>38</td>\n",
              "      <td>55</td>\n",
              "      <td>5</td>\n",
              "      <td>5</td>\n",
              "      <td>0</td>\n",
              "      <td>0</td>\n",
              "      <td>3476254</td>\n",
              "      <td>2737500</td>\n",
              "    </tr>\n",
              "    <tr>\n",
              "      <th>...</th>\n",
              "      <td>...</td>\n",
              "      <td>...</td>\n",
              "      <td>...</td>\n",
              "      <td>...</td>\n",
              "      <td>...</td>\n",
              "      <td>...</td>\n",
              "      <td>...</td>\n",
              "      <td>...</td>\n",
              "      <td>...</td>\n",
              "      <td>...</td>\n",
              "      <td>...</td>\n",
              "      <td>...</td>\n",
              "      <td>...</td>\n",
              "    </tr>\n",
              "    <tr>\n",
              "      <th>843745</th>\n",
              "      <td>その他</td>\n",
              "      <td>257.3</td>\n",
              "      <td>843745</td>\n",
              "      <td>1120</td>\n",
              "      <td>749</td>\n",
              "      <td>38</td>\n",
              "      <td>55</td>\n",
              "      <td>5</td>\n",
              "      <td>5</td>\n",
              "      <td>0</td>\n",
              "      <td>0</td>\n",
              "      <td>3477370</td>\n",
              "      <td>2738249</td>\n",
              "    </tr>\n",
              "    <tr>\n",
              "      <th>843746</th>\n",
              "      <td>その他</td>\n",
              "      <td>258.3</td>\n",
              "      <td>843746</td>\n",
              "      <td>1121</td>\n",
              "      <td>749</td>\n",
              "      <td>38</td>\n",
              "      <td>55</td>\n",
              "      <td>5</td>\n",
              "      <td>5</td>\n",
              "      <td>0</td>\n",
              "      <td>0</td>\n",
              "      <td>3477371</td>\n",
              "      <td>2738249</td>\n",
              "    </tr>\n",
              "    <tr>\n",
              "      <th>843747</th>\n",
              "      <td>その他</td>\n",
              "      <td>259.4</td>\n",
              "      <td>843747</td>\n",
              "      <td>1122</td>\n",
              "      <td>749</td>\n",
              "      <td>38</td>\n",
              "      <td>55</td>\n",
              "      <td>5</td>\n",
              "      <td>5</td>\n",
              "      <td>0</td>\n",
              "      <td>0</td>\n",
              "      <td>3477372</td>\n",
              "      <td>2738249</td>\n",
              "    </tr>\n",
              "    <tr>\n",
              "      <th>843748</th>\n",
              "      <td>その他</td>\n",
              "      <td>260.6</td>\n",
              "      <td>843748</td>\n",
              "      <td>1123</td>\n",
              "      <td>749</td>\n",
              "      <td>38</td>\n",
              "      <td>55</td>\n",
              "      <td>5</td>\n",
              "      <td>5</td>\n",
              "      <td>0</td>\n",
              "      <td>0</td>\n",
              "      <td>3477373</td>\n",
              "      <td>2738249</td>\n",
              "    </tr>\n",
              "    <tr>\n",
              "      <th>843749</th>\n",
              "      <td>その他</td>\n",
              "      <td>261.9</td>\n",
              "      <td>843749</td>\n",
              "      <td>1124</td>\n",
              "      <td>749</td>\n",
              "      <td>38</td>\n",
              "      <td>55</td>\n",
              "      <td>5</td>\n",
              "      <td>5</td>\n",
              "      <td>0</td>\n",
              "      <td>0</td>\n",
              "      <td>3477374</td>\n",
              "      <td>2738249</td>\n",
              "    </tr>\n",
              "  </tbody>\n",
              "</table>\n",
              "<p>843750 rows × 13 columns</p>\n",
              "</div>"
            ],
            "text/plain": [
              "        att      z       n    x4   y4  x1  y1  x2  y2  x3  y3        x        y\n",
              "0       その他  225.7       0     0    0  38  55   5   5   0   0  3476250  2737500\n",
              "1       その他  229.5       1     1    0  38  55   5   5   0   0  3476251  2737500\n",
              "2       その他  236.0       2     2    0  38  55   5   5   0   0  3476252  2737500\n",
              "3       その他  244.9       3     3    0  38  55   5   5   0   0  3476253  2737500\n",
              "4       その他  255.3       4     4    0  38  55   5   5   0   0  3476254  2737500\n",
              "...     ...    ...     ...   ...  ...  ..  ..  ..  ..  ..  ..      ...      ...\n",
              "843745  その他  257.3  843745  1120  749  38  55   5   5   0   0  3477370  2738249\n",
              "843746  その他  258.3  843746  1121  749  38  55   5   5   0   0  3477371  2738249\n",
              "843747  その他  259.4  843747  1122  749  38  55   5   5   0   0  3477372  2738249\n",
              "843748  その他  260.6  843748  1123  749  38  55   5   5   0   0  3477373  2738249\n",
              "843749  その他  261.9  843749  1124  749  38  55   5   5   0   0  3477374  2738249\n",
              "\n",
              "[843750 rows x 13 columns]"
            ]
          },
          "execution_count": 25,
          "metadata": {
            "tags": []
          },
          "output_type": "execute_result"
        }
      ],
      "source": [
        "# 10m DEM用の計算\n",
        "df['x'] = df['x4'] + (df['x2'] * 10 * cols) + (df['x1'] * 8 * 10 * cols)\n",
        "df['y'] = df['y4'] + ((10 - df['y2']) * 10 * rows) + ((100 - df['y1']) * 8 * 10 * rows)\n",
        "df"
      ]
    },
    {
      "cell_type": "markdown",
      "metadata": {
        "id": "lMZ4Ov146SGe"
      },
      "source": [
        "## 標高値ごとの緯度経度座標を求める\n"
      ]
    },
    {
      "cell_type": "markdown",
      "metadata": {
        "id": "ZT2AZWKaijI_"
      },
      "source": [
        "\n",
        "念のため，標高値それぞれの緯度経度も求めましょう．\n",
        "まず，処理中のファイルの北西端の緯度経度を取得します．\n",
        "これは`gml:upperCorner`と`gml:lowerCorner`から取得できます．\n",
        "`gml:upperCorner`と`gml:lowerCorner`はそれぞれ北東端と南西端の座標を示しており，スペースで区切られています．\n",
        "`split()`使って緯度と経度を分割してリスト化し，左上X（`ULX`，Upper Left X），左上Y（`ULY`），右下X（`LRX`，Lower Right X），右下Y（`LRY`）を`float()`として実数にキャストして格納します．\n"
      ]
    },
    {
      "cell_type": "code",
      "execution_count": null,
      "metadata": {
        "colab": {
          "base_uri": "https://localhost:8080/"
        },
        "id": "A24gMfh86pN1",
        "outputId": "99a8bf38-7bc9-466d-8ca3-859e42359914"
      },
      "outputs": [
        {
          "name": "stdout",
          "output_type": "stream",
          "text": [
            "138.625 37.166666667 138.75 37.083333333\n"
          ]
        }
      ],
      "source": [
        "uppercorner = elem.find('.//gml:upperCorner', ns)\n",
        "lowercorner = elem.find('.//gml:lowerCorner', ns)\n",
        "\n",
        "ULX = float(lowercorner.text.split(' ')[1])\n",
        "ULY = float(uppercorner.text.split(' ')[0])\n",
        "LRX = float(uppercorner.text.split(' ')[1])\n",
        "LRY = float(lowercorner.text.split(' ')[0])\n",
        "print(ULX, ULY, LRX, LRY)"
      ]
    },
    {
      "cell_type": "markdown",
      "metadata": {
        "id": "Rx8Hc7KckR6K"
      },
      "source": [
        "次に標高値ひとつあたりのX方向の長さ（単位は十進経度）とY方向の長さ（単位は十進緯度）を求めます．\n",
        "X方向の長さは右側経度`LRX`と左側経度`ULX`の差を東西メッシュ数`cols`で割ったものになります．\n",
        "同様にY方向の長さは上側緯度`ULY`と下側緯度`LRY`の差を南北メッシュ数`rows`で割ったものになります．それぞれ`Xsize`と`Ysize`とします．\n",
        "\n",
        "\n",
        "\n"
      ]
    },
    {
      "cell_type": "code",
      "execution_count": null,
      "metadata": {
        "colab": {
          "base_uri": "https://localhost:8080/"
        },
        "id": "2b4lKe-KlzSD",
        "outputId": "5c234366-1510-4b31-ff41-c26187971a90"
      },
      "outputs": [
        {
          "name": "stdout",
          "output_type": "stream",
          "text": [
            "0.00011111111111111112 0.00011111111200000323\n"
          ]
        }
      ],
      "source": [
        "Xsize = (LRX - ULX) / cols\n",
        "Ysize = (ULY - LRY) / rows\n",
        "print(Xsize, Ysize)"
      ]
    },
    {
      "cell_type": "markdown",
      "metadata": {
        "id": "mZSm6ajUA3P0"
      },
      "source": [
        "緯度経度を計算します．\n",
        "経度は左側経度（`ULX`）に`x4`を足して標高値1つあたりの経度幅`Xsize`）を掛けたものになります．\n",
        "緯度は上側緯度（`ULY`）から`y4`を引いたものに標高値一つあたりの緯度幅`Ysize`を掛けたものになります．"
      ]
    },
    {
      "cell_type": "code",
      "execution_count": null,
      "metadata": {
        "colab": {
          "base_uri": "https://localhost:8080/",
          "height": 419
        },
        "id": "5uVLb_bDnRDn",
        "outputId": "f3637578-2124-4f96-edee-f5ea2737505d"
      },
      "outputs": [
        {
          "data": {
            "text/html": [
              "<div>\n",
              "<style scoped>\n",
              "    .dataframe tbody tr th:only-of-type {\n",
              "        vertical-align: middle;\n",
              "    }\n",
              "\n",
              "    .dataframe tbody tr th {\n",
              "        vertical-align: top;\n",
              "    }\n",
              "\n",
              "    .dataframe thead th {\n",
              "        text-align: right;\n",
              "    }\n",
              "</style>\n",
              "<table border=\"1\" class=\"dataframe\">\n",
              "  <thead>\n",
              "    <tr style=\"text-align: right;\">\n",
              "      <th></th>\n",
              "      <th>att</th>\n",
              "      <th>z</th>\n",
              "      <th>n</th>\n",
              "      <th>x4</th>\n",
              "      <th>y4</th>\n",
              "      <th>x1</th>\n",
              "      <th>y1</th>\n",
              "      <th>x2</th>\n",
              "      <th>y2</th>\n",
              "      <th>x3</th>\n",
              "      <th>y3</th>\n",
              "      <th>x</th>\n",
              "      <th>y</th>\n",
              "      <th>lon</th>\n",
              "      <th>lat</th>\n",
              "    </tr>\n",
              "  </thead>\n",
              "  <tbody>\n",
              "    <tr>\n",
              "      <th>0</th>\n",
              "      <td>その他</td>\n",
              "      <td>225.7</td>\n",
              "      <td>0</td>\n",
              "      <td>0</td>\n",
              "      <td>0</td>\n",
              "      <td>38</td>\n",
              "      <td>55</td>\n",
              "      <td>5</td>\n",
              "      <td>5</td>\n",
              "      <td>0</td>\n",
              "      <td>0</td>\n",
              "      <td>3476250</td>\n",
              "      <td>2737500</td>\n",
              "      <td>138.625000</td>\n",
              "      <td>37.166667</td>\n",
              "    </tr>\n",
              "    <tr>\n",
              "      <th>1</th>\n",
              "      <td>その他</td>\n",
              "      <td>229.5</td>\n",
              "      <td>1</td>\n",
              "      <td>1</td>\n",
              "      <td>0</td>\n",
              "      <td>38</td>\n",
              "      <td>55</td>\n",
              "      <td>5</td>\n",
              "      <td>5</td>\n",
              "      <td>0</td>\n",
              "      <td>0</td>\n",
              "      <td>3476251</td>\n",
              "      <td>2737500</td>\n",
              "      <td>138.625111</td>\n",
              "      <td>37.166667</td>\n",
              "    </tr>\n",
              "    <tr>\n",
              "      <th>2</th>\n",
              "      <td>その他</td>\n",
              "      <td>236.0</td>\n",
              "      <td>2</td>\n",
              "      <td>2</td>\n",
              "      <td>0</td>\n",
              "      <td>38</td>\n",
              "      <td>55</td>\n",
              "      <td>5</td>\n",
              "      <td>5</td>\n",
              "      <td>0</td>\n",
              "      <td>0</td>\n",
              "      <td>3476252</td>\n",
              "      <td>2737500</td>\n",
              "      <td>138.625222</td>\n",
              "      <td>37.166667</td>\n",
              "    </tr>\n",
              "    <tr>\n",
              "      <th>3</th>\n",
              "      <td>その他</td>\n",
              "      <td>244.9</td>\n",
              "      <td>3</td>\n",
              "      <td>3</td>\n",
              "      <td>0</td>\n",
              "      <td>38</td>\n",
              "      <td>55</td>\n",
              "      <td>5</td>\n",
              "      <td>5</td>\n",
              "      <td>0</td>\n",
              "      <td>0</td>\n",
              "      <td>3476253</td>\n",
              "      <td>2737500</td>\n",
              "      <td>138.625333</td>\n",
              "      <td>37.166667</td>\n",
              "    </tr>\n",
              "    <tr>\n",
              "      <th>4</th>\n",
              "      <td>その他</td>\n",
              "      <td>255.3</td>\n",
              "      <td>4</td>\n",
              "      <td>4</td>\n",
              "      <td>0</td>\n",
              "      <td>38</td>\n",
              "      <td>55</td>\n",
              "      <td>5</td>\n",
              "      <td>5</td>\n",
              "      <td>0</td>\n",
              "      <td>0</td>\n",
              "      <td>3476254</td>\n",
              "      <td>2737500</td>\n",
              "      <td>138.625444</td>\n",
              "      <td>37.166667</td>\n",
              "    </tr>\n",
              "    <tr>\n",
              "      <th>...</th>\n",
              "      <td>...</td>\n",
              "      <td>...</td>\n",
              "      <td>...</td>\n",
              "      <td>...</td>\n",
              "      <td>...</td>\n",
              "      <td>...</td>\n",
              "      <td>...</td>\n",
              "      <td>...</td>\n",
              "      <td>...</td>\n",
              "      <td>...</td>\n",
              "      <td>...</td>\n",
              "      <td>...</td>\n",
              "      <td>...</td>\n",
              "      <td>...</td>\n",
              "      <td>...</td>\n",
              "    </tr>\n",
              "    <tr>\n",
              "      <th>843745</th>\n",
              "      <td>その他</td>\n",
              "      <td>257.3</td>\n",
              "      <td>843745</td>\n",
              "      <td>1120</td>\n",
              "      <td>749</td>\n",
              "      <td>38</td>\n",
              "      <td>55</td>\n",
              "      <td>5</td>\n",
              "      <td>5</td>\n",
              "      <td>0</td>\n",
              "      <td>0</td>\n",
              "      <td>3477370</td>\n",
              "      <td>2738249</td>\n",
              "      <td>138.749444</td>\n",
              "      <td>37.083444</td>\n",
              "    </tr>\n",
              "    <tr>\n",
              "      <th>843746</th>\n",
              "      <td>その他</td>\n",
              "      <td>258.3</td>\n",
              "      <td>843746</td>\n",
              "      <td>1121</td>\n",
              "      <td>749</td>\n",
              "      <td>38</td>\n",
              "      <td>55</td>\n",
              "      <td>5</td>\n",
              "      <td>5</td>\n",
              "      <td>0</td>\n",
              "      <td>0</td>\n",
              "      <td>3477371</td>\n",
              "      <td>2738249</td>\n",
              "      <td>138.749556</td>\n",
              "      <td>37.083444</td>\n",
              "    </tr>\n",
              "    <tr>\n",
              "      <th>843747</th>\n",
              "      <td>その他</td>\n",
              "      <td>259.4</td>\n",
              "      <td>843747</td>\n",
              "      <td>1122</td>\n",
              "      <td>749</td>\n",
              "      <td>38</td>\n",
              "      <td>55</td>\n",
              "      <td>5</td>\n",
              "      <td>5</td>\n",
              "      <td>0</td>\n",
              "      <td>0</td>\n",
              "      <td>3477372</td>\n",
              "      <td>2738249</td>\n",
              "      <td>138.749667</td>\n",
              "      <td>37.083444</td>\n",
              "    </tr>\n",
              "    <tr>\n",
              "      <th>843748</th>\n",
              "      <td>その他</td>\n",
              "      <td>260.6</td>\n",
              "      <td>843748</td>\n",
              "      <td>1123</td>\n",
              "      <td>749</td>\n",
              "      <td>38</td>\n",
              "      <td>55</td>\n",
              "      <td>5</td>\n",
              "      <td>5</td>\n",
              "      <td>0</td>\n",
              "      <td>0</td>\n",
              "      <td>3477373</td>\n",
              "      <td>2738249</td>\n",
              "      <td>138.749778</td>\n",
              "      <td>37.083444</td>\n",
              "    </tr>\n",
              "    <tr>\n",
              "      <th>843749</th>\n",
              "      <td>その他</td>\n",
              "      <td>261.9</td>\n",
              "      <td>843749</td>\n",
              "      <td>1124</td>\n",
              "      <td>749</td>\n",
              "      <td>38</td>\n",
              "      <td>55</td>\n",
              "      <td>5</td>\n",
              "      <td>5</td>\n",
              "      <td>0</td>\n",
              "      <td>0</td>\n",
              "      <td>3477374</td>\n",
              "      <td>2738249</td>\n",
              "      <td>138.749889</td>\n",
              "      <td>37.083444</td>\n",
              "    </tr>\n",
              "  </tbody>\n",
              "</table>\n",
              "<p>843750 rows × 15 columns</p>\n",
              "</div>"
            ],
            "text/plain": [
              "        att      z       n    x4  ...        x        y         lon        lat\n",
              "0       その他  225.7       0     0  ...  3476250  2737500  138.625000  37.166667\n",
              "1       その他  229.5       1     1  ...  3476251  2737500  138.625111  37.166667\n",
              "2       その他  236.0       2     2  ...  3476252  2737500  138.625222  37.166667\n",
              "3       その他  244.9       3     3  ...  3476253  2737500  138.625333  37.166667\n",
              "4       その他  255.3       4     4  ...  3476254  2737500  138.625444  37.166667\n",
              "...     ...    ...     ...   ...  ...      ...      ...         ...        ...\n",
              "843745  その他  257.3  843745  1120  ...  3477370  2738249  138.749444  37.083444\n",
              "843746  その他  258.3  843746  1121  ...  3477371  2738249  138.749556  37.083444\n",
              "843747  その他  259.4  843747  1122  ...  3477372  2738249  138.749667  37.083444\n",
              "843748  その他  260.6  843748  1123  ...  3477373  2738249  138.749778  37.083444\n",
              "843749  その他  261.9  843749  1124  ...  3477374  2738249  138.749889  37.083444\n",
              "\n",
              "[843750 rows x 15 columns]"
            ]
          },
          "execution_count": 28,
          "metadata": {
            "tags": []
          },
          "output_type": "execute_result"
        }
      ],
      "source": [
        "df['lon'] = ULX + df['x4'] * Xsize\n",
        "df['lat'] = ULY - df['y4'] * Ysize\n",
        "df"
      ]
    },
    {
      "cell_type": "markdown",
      "metadata": {
        "id": "lKjs13-yJ77z"
      },
      "source": [
        "## 縦持ちデータから横持ちデータへの変換\n"
      ]
    },
    {
      "cell_type": "markdown",
      "metadata": {
        "id": "q-hQPvOHilpu"
      },
      "source": [
        "\n",
        "以上ですべての標高値にユニークな列番号と行番号が揃いました．\n",
        "現在のデータフレーム`df`では`x`が列番号，`y`が行番号，`z`が標高値となっています．\n",
        "このように，データがってに並んでいる形式のことを縦持ちデータと呼びます．\n",
        "\n",
        "\n",
        "z|x|y\n",
        "-:|-:|-:\n",
        "10.5|701902|603556\n",
        "12.2|701903|603556\n",
        "14.6|701904|603556\n",
        "15.5|701902|603557\n",
        "20.0|701903|603557\n",
        "18.2|701904|603557\n",
        "12.8|701902|603558\n",
        "10.5|701903|603558\n",
        "8.5|701904|603558\n",
        "$\\vdots$|$\\vdots$|$\\vdots$\n",
        "\n",
        "ここで，`y`と`x`で`z`でピボットします．\n",
        "すると以下のような形式になります．\n",
        "\n",
        "yx|701902|701903|701904|$\\ldots$\n",
        "-:|-:|-:|-:|-:\n",
        "603556|10.5|12.2|14.6|$\\ldots$\n",
        "603557|15.5|20.0|18.2|$\\ldots$\n",
        "603558|12.8|10.5|8.5|$\\ldots$\n",
        "$\\vdots$|$\\vdots$|$\\vdots$|$\\vdots$|$\\ddots$\n",
        "\n",
        "これが横持ち形式のデータです．\n",
        "座標と標高値の縦持ちデータを横持ちに変換するだけで\n",
        "DEMを作ることができます．\n",
        "\n",
        "縦持ちを横持ちに変換するのは`pivot_table()`を使用します．\n",
        "引数は行の値`index = 'y'`，\n",
        "列の値`coluns = 'x'`，\n",
        "行列に埋め込む値`values = 'z'`と\n",
        "値がない部分に埋め込む値`fill_value = '-9999'`です．\n",
        "値がない部分には`-9999`を埋め込みますので，\n",
        "標高値が省略されている点もうまく対応することができます．\n",
        "\n",
        "標高値を横持ちに変換したあとで，行名でソートします．"
      ]
    },
    {
      "cell_type": "code",
      "execution_count": null,
      "metadata": {
        "colab": {
          "base_uri": "https://localhost:8080/",
          "height": 470
        },
        "id": "BDjObzulJZ8q",
        "outputId": "08ae4218-c517-4c65-dca6-457e5cb2db2b"
      },
      "outputs": [
        {
          "data": {
            "text/html": [
              "<div>\n",
              "<style scoped>\n",
              "    .dataframe tbody tr th:only-of-type {\n",
              "        vertical-align: middle;\n",
              "    }\n",
              "\n",
              "    .dataframe tbody tr th {\n",
              "        vertical-align: top;\n",
              "    }\n",
              "\n",
              "    .dataframe thead th {\n",
              "        text-align: right;\n",
              "    }\n",
              "</style>\n",
              "<table border=\"1\" class=\"dataframe\">\n",
              "  <thead>\n",
              "    <tr style=\"text-align: right;\">\n",
              "      <th>x</th>\n",
              "      <th>3476250</th>\n",
              "      <th>3476251</th>\n",
              "      <th>3476252</th>\n",
              "      <th>3476253</th>\n",
              "      <th>3476254</th>\n",
              "      <th>3476255</th>\n",
              "      <th>3476256</th>\n",
              "      <th>3476257</th>\n",
              "      <th>3476258</th>\n",
              "      <th>3476259</th>\n",
              "      <th>3476260</th>\n",
              "      <th>3476261</th>\n",
              "      <th>3476262</th>\n",
              "      <th>3476263</th>\n",
              "      <th>3476264</th>\n",
              "      <th>3476265</th>\n",
              "      <th>3476266</th>\n",
              "      <th>3476267</th>\n",
              "      <th>3476268</th>\n",
              "      <th>3476269</th>\n",
              "      <th>3476270</th>\n",
              "      <th>3476271</th>\n",
              "      <th>3476272</th>\n",
              "      <th>3476273</th>\n",
              "      <th>3476274</th>\n",
              "      <th>3476275</th>\n",
              "      <th>3476276</th>\n",
              "      <th>3476277</th>\n",
              "      <th>3476278</th>\n",
              "      <th>3476279</th>\n",
              "      <th>3476280</th>\n",
              "      <th>3476281</th>\n",
              "      <th>3476282</th>\n",
              "      <th>3476283</th>\n",
              "      <th>3476284</th>\n",
              "      <th>3476285</th>\n",
              "      <th>3476286</th>\n",
              "      <th>3476287</th>\n",
              "      <th>3476288</th>\n",
              "      <th>3476289</th>\n",
              "      <th>...</th>\n",
              "      <th>3477335</th>\n",
              "      <th>3477336</th>\n",
              "      <th>3477337</th>\n",
              "      <th>3477338</th>\n",
              "      <th>3477339</th>\n",
              "      <th>3477340</th>\n",
              "      <th>3477341</th>\n",
              "      <th>3477342</th>\n",
              "      <th>3477343</th>\n",
              "      <th>3477344</th>\n",
              "      <th>3477345</th>\n",
              "      <th>3477346</th>\n",
              "      <th>3477347</th>\n",
              "      <th>3477348</th>\n",
              "      <th>3477349</th>\n",
              "      <th>3477350</th>\n",
              "      <th>3477351</th>\n",
              "      <th>3477352</th>\n",
              "      <th>3477353</th>\n",
              "      <th>3477354</th>\n",
              "      <th>3477355</th>\n",
              "      <th>3477356</th>\n",
              "      <th>3477357</th>\n",
              "      <th>3477358</th>\n",
              "      <th>3477359</th>\n",
              "      <th>3477360</th>\n",
              "      <th>3477361</th>\n",
              "      <th>3477362</th>\n",
              "      <th>3477363</th>\n",
              "      <th>3477364</th>\n",
              "      <th>3477365</th>\n",
              "      <th>3477366</th>\n",
              "      <th>3477367</th>\n",
              "      <th>3477368</th>\n",
              "      <th>3477369</th>\n",
              "      <th>3477370</th>\n",
              "      <th>3477371</th>\n",
              "      <th>3477372</th>\n",
              "      <th>3477373</th>\n",
              "      <th>3477374</th>\n",
              "    </tr>\n",
              "    <tr>\n",
              "      <th>y</th>\n",
              "      <th></th>\n",
              "      <th></th>\n",
              "      <th></th>\n",
              "      <th></th>\n",
              "      <th></th>\n",
              "      <th></th>\n",
              "      <th></th>\n",
              "      <th></th>\n",
              "      <th></th>\n",
              "      <th></th>\n",
              "      <th></th>\n",
              "      <th></th>\n",
              "      <th></th>\n",
              "      <th></th>\n",
              "      <th></th>\n",
              "      <th></th>\n",
              "      <th></th>\n",
              "      <th></th>\n",
              "      <th></th>\n",
              "      <th></th>\n",
              "      <th></th>\n",
              "      <th></th>\n",
              "      <th></th>\n",
              "      <th></th>\n",
              "      <th></th>\n",
              "      <th></th>\n",
              "      <th></th>\n",
              "      <th></th>\n",
              "      <th></th>\n",
              "      <th></th>\n",
              "      <th></th>\n",
              "      <th></th>\n",
              "      <th></th>\n",
              "      <th></th>\n",
              "      <th></th>\n",
              "      <th></th>\n",
              "      <th></th>\n",
              "      <th></th>\n",
              "      <th></th>\n",
              "      <th></th>\n",
              "      <th></th>\n",
              "      <th></th>\n",
              "      <th></th>\n",
              "      <th></th>\n",
              "      <th></th>\n",
              "      <th></th>\n",
              "      <th></th>\n",
              "      <th></th>\n",
              "      <th></th>\n",
              "      <th></th>\n",
              "      <th></th>\n",
              "      <th></th>\n",
              "      <th></th>\n",
              "      <th></th>\n",
              "      <th></th>\n",
              "      <th></th>\n",
              "      <th></th>\n",
              "      <th></th>\n",
              "      <th></th>\n",
              "      <th></th>\n",
              "      <th></th>\n",
              "      <th></th>\n",
              "      <th></th>\n",
              "      <th></th>\n",
              "      <th></th>\n",
              "      <th></th>\n",
              "      <th></th>\n",
              "      <th></th>\n",
              "      <th></th>\n",
              "      <th></th>\n",
              "      <th></th>\n",
              "      <th></th>\n",
              "      <th></th>\n",
              "      <th></th>\n",
              "      <th></th>\n",
              "      <th></th>\n",
              "      <th></th>\n",
              "      <th></th>\n",
              "      <th></th>\n",
              "      <th></th>\n",
              "      <th></th>\n",
              "    </tr>\n",
              "  </thead>\n",
              "  <tbody>\n",
              "    <tr>\n",
              "      <th>2737500</th>\n",
              "      <td>225.7</td>\n",
              "      <td>229.5</td>\n",
              "      <td>236.0</td>\n",
              "      <td>244.9</td>\n",
              "      <td>255.3</td>\n",
              "      <td>266.5</td>\n",
              "      <td>274.1</td>\n",
              "      <td>275.3</td>\n",
              "      <td>271.0</td>\n",
              "      <td>269.4</td>\n",
              "      <td>270.6</td>\n",
              "      <td>272.8</td>\n",
              "      <td>276.1</td>\n",
              "      <td>277.0</td>\n",
              "      <td>271.2</td>\n",
              "      <td>263.5</td>\n",
              "      <td>256.9</td>\n",
              "      <td>251.5</td>\n",
              "      <td>247.6</td>\n",
              "      <td>244.2</td>\n",
              "      <td>244.9</td>\n",
              "      <td>249.9</td>\n",
              "      <td>254.4</td>\n",
              "      <td>259.0</td>\n",
              "      <td>265.7</td>\n",
              "      <td>273.3</td>\n",
              "      <td>281.4</td>\n",
              "      <td>286.2</td>\n",
              "      <td>291.8</td>\n",
              "      <td>296.7</td>\n",
              "      <td>300.5</td>\n",
              "      <td>303.4</td>\n",
              "      <td>307.4</td>\n",
              "      <td>311.2</td>\n",
              "      <td>314.1</td>\n",
              "      <td>316.8</td>\n",
              "      <td>319.0</td>\n",
              "      <td>319.9</td>\n",
              "      <td>321.8</td>\n",
              "      <td>323.5</td>\n",
              "      <td>...</td>\n",
              "      <td>157.9</td>\n",
              "      <td>157.8</td>\n",
              "      <td>157.5</td>\n",
              "      <td>157.2</td>\n",
              "      <td>156.8</td>\n",
              "      <td>156.5</td>\n",
              "      <td>156.1</td>\n",
              "      <td>155.8</td>\n",
              "      <td>155.4</td>\n",
              "      <td>155.2</td>\n",
              "      <td>154.9</td>\n",
              "      <td>154.7</td>\n",
              "      <td>154.4</td>\n",
              "      <td>154.2</td>\n",
              "      <td>153.9</td>\n",
              "      <td>153.6</td>\n",
              "      <td>153.3</td>\n",
              "      <td>153.0</td>\n",
              "      <td>152.8</td>\n",
              "      <td>152.5</td>\n",
              "      <td>152.2</td>\n",
              "      <td>151.9</td>\n",
              "      <td>151.6</td>\n",
              "      <td>151.4</td>\n",
              "      <td>151.1</td>\n",
              "      <td>150.9</td>\n",
              "      <td>150.5</td>\n",
              "      <td>150.3</td>\n",
              "      <td>149.2</td>\n",
              "      <td>139.8</td>\n",
              "      <td>133.4</td>\n",
              "      <td>128.2</td>\n",
              "      <td>123.8</td>\n",
              "      <td>119.6</td>\n",
              "      <td>117.6</td>\n",
              "      <td>115.6</td>\n",
              "      <td>114.8</td>\n",
              "      <td>114.6</td>\n",
              "      <td>114.4</td>\n",
              "      <td>114.2</td>\n",
              "    </tr>\n",
              "    <tr>\n",
              "      <th>2737501</th>\n",
              "      <td>228.4</td>\n",
              "      <td>232.8</td>\n",
              "      <td>238.6</td>\n",
              "      <td>248.5</td>\n",
              "      <td>258.5</td>\n",
              "      <td>268.9</td>\n",
              "      <td>280.4</td>\n",
              "      <td>284.0</td>\n",
              "      <td>281.6</td>\n",
              "      <td>281.3</td>\n",
              "      <td>281.9</td>\n",
              "      <td>283.3</td>\n",
              "      <td>285.0</td>\n",
              "      <td>282.7</td>\n",
              "      <td>276.6</td>\n",
              "      <td>269.4</td>\n",
              "      <td>264.2</td>\n",
              "      <td>258.4</td>\n",
              "      <td>253.8</td>\n",
              "      <td>249.5</td>\n",
              "      <td>245.8</td>\n",
              "      <td>249.1</td>\n",
              "      <td>254.4</td>\n",
              "      <td>260.1</td>\n",
              "      <td>268.0</td>\n",
              "      <td>274.6</td>\n",
              "      <td>280.6</td>\n",
              "      <td>284.7</td>\n",
              "      <td>287.9</td>\n",
              "      <td>291.1</td>\n",
              "      <td>293.8</td>\n",
              "      <td>295.8</td>\n",
              "      <td>298.7</td>\n",
              "      <td>300.5</td>\n",
              "      <td>303.0</td>\n",
              "      <td>307.8</td>\n",
              "      <td>311.3</td>\n",
              "      <td>313.2</td>\n",
              "      <td>314.8</td>\n",
              "      <td>316.2</td>\n",
              "      <td>...</td>\n",
              "      <td>157.2</td>\n",
              "      <td>157.3</td>\n",
              "      <td>157.3</td>\n",
              "      <td>157.0</td>\n",
              "      <td>156.7</td>\n",
              "      <td>156.4</td>\n",
              "      <td>156.0</td>\n",
              "      <td>155.7</td>\n",
              "      <td>155.3</td>\n",
              "      <td>155.0</td>\n",
              "      <td>154.6</td>\n",
              "      <td>154.4</td>\n",
              "      <td>154.1</td>\n",
              "      <td>153.9</td>\n",
              "      <td>153.6</td>\n",
              "      <td>153.4</td>\n",
              "      <td>153.1</td>\n",
              "      <td>152.8</td>\n",
              "      <td>152.5</td>\n",
              "      <td>152.3</td>\n",
              "      <td>152.0</td>\n",
              "      <td>151.7</td>\n",
              "      <td>151.4</td>\n",
              "      <td>151.1</td>\n",
              "      <td>150.8</td>\n",
              "      <td>150.6</td>\n",
              "      <td>150.3</td>\n",
              "      <td>150.0</td>\n",
              "      <td>142.0</td>\n",
              "      <td>134.7</td>\n",
              "      <td>128.6</td>\n",
              "      <td>124.6</td>\n",
              "      <td>120.5</td>\n",
              "      <td>117.9</td>\n",
              "      <td>116.0</td>\n",
              "      <td>114.9</td>\n",
              "      <td>114.7</td>\n",
              "      <td>114.5</td>\n",
              "      <td>114.3</td>\n",
              "      <td>114.1</td>\n",
              "    </tr>\n",
              "    <tr>\n",
              "      <th>2737502</th>\n",
              "      <td>238.1</td>\n",
              "      <td>240.6</td>\n",
              "      <td>245.1</td>\n",
              "      <td>255.2</td>\n",
              "      <td>264.5</td>\n",
              "      <td>273.8</td>\n",
              "      <td>282.6</td>\n",
              "      <td>288.3</td>\n",
              "      <td>291.8</td>\n",
              "      <td>291.3</td>\n",
              "      <td>291.3</td>\n",
              "      <td>291.8</td>\n",
              "      <td>291.3</td>\n",
              "      <td>286.1</td>\n",
              "      <td>280.0</td>\n",
              "      <td>274.1</td>\n",
              "      <td>269.9</td>\n",
              "      <td>262.1</td>\n",
              "      <td>256.4</td>\n",
              "      <td>251.3</td>\n",
              "      <td>248.8</td>\n",
              "      <td>249.8</td>\n",
              "      <td>254.7</td>\n",
              "      <td>259.3</td>\n",
              "      <td>266.2</td>\n",
              "      <td>272.1</td>\n",
              "      <td>276.1</td>\n",
              "      <td>279.4</td>\n",
              "      <td>281.5</td>\n",
              "      <td>283.1</td>\n",
              "      <td>285.3</td>\n",
              "      <td>287.2</td>\n",
              "      <td>288.9</td>\n",
              "      <td>291.6</td>\n",
              "      <td>295.4</td>\n",
              "      <td>298.6</td>\n",
              "      <td>303.0</td>\n",
              "      <td>306.4</td>\n",
              "      <td>309.7</td>\n",
              "      <td>313.0</td>\n",
              "      <td>...</td>\n",
              "      <td>156.5</td>\n",
              "      <td>156.6</td>\n",
              "      <td>156.7</td>\n",
              "      <td>156.8</td>\n",
              "      <td>156.6</td>\n",
              "      <td>156.2</td>\n",
              "      <td>155.9</td>\n",
              "      <td>155.6</td>\n",
              "      <td>155.2</td>\n",
              "      <td>154.9</td>\n",
              "      <td>154.5</td>\n",
              "      <td>154.2</td>\n",
              "      <td>153.8</td>\n",
              "      <td>153.6</td>\n",
              "      <td>153.3</td>\n",
              "      <td>153.1</td>\n",
              "      <td>152.8</td>\n",
              "      <td>152.6</td>\n",
              "      <td>152.3</td>\n",
              "      <td>152.0</td>\n",
              "      <td>151.8</td>\n",
              "      <td>151.5</td>\n",
              "      <td>151.2</td>\n",
              "      <td>150.9</td>\n",
              "      <td>150.6</td>\n",
              "      <td>150.3</td>\n",
              "      <td>150.0</td>\n",
              "      <td>142.6</td>\n",
              "      <td>135.9</td>\n",
              "      <td>129.3</td>\n",
              "      <td>125.1</td>\n",
              "      <td>121.2</td>\n",
              "      <td>118.4</td>\n",
              "      <td>116.2</td>\n",
              "      <td>114.9</td>\n",
              "      <td>114.7</td>\n",
              "      <td>114.6</td>\n",
              "      <td>114.4</td>\n",
              "      <td>114.2</td>\n",
              "      <td>114.0</td>\n",
              "    </tr>\n",
              "    <tr>\n",
              "      <th>2737503</th>\n",
              "      <td>246.8</td>\n",
              "      <td>248.5</td>\n",
              "      <td>252.0</td>\n",
              "      <td>259.7</td>\n",
              "      <td>270.4</td>\n",
              "      <td>276.8</td>\n",
              "      <td>283.3</td>\n",
              "      <td>289.3</td>\n",
              "      <td>294.3</td>\n",
              "      <td>299.5</td>\n",
              "      <td>300.0</td>\n",
              "      <td>297.9</td>\n",
              "      <td>294.0</td>\n",
              "      <td>288.6</td>\n",
              "      <td>281.8</td>\n",
              "      <td>275.9</td>\n",
              "      <td>270.9</td>\n",
              "      <td>264.0</td>\n",
              "      <td>258.0</td>\n",
              "      <td>254.8</td>\n",
              "      <td>252.2</td>\n",
              "      <td>251.9</td>\n",
              "      <td>254.0</td>\n",
              "      <td>257.6</td>\n",
              "      <td>260.1</td>\n",
              "      <td>264.9</td>\n",
              "      <td>269.3</td>\n",
              "      <td>270.8</td>\n",
              "      <td>272.3</td>\n",
              "      <td>274.7</td>\n",
              "      <td>278.7</td>\n",
              "      <td>282.2</td>\n",
              "      <td>284.3</td>\n",
              "      <td>286.9</td>\n",
              "      <td>291.3</td>\n",
              "      <td>293.3</td>\n",
              "      <td>296.2</td>\n",
              "      <td>300.4</td>\n",
              "      <td>304.9</td>\n",
              "      <td>310.4</td>\n",
              "      <td>...</td>\n",
              "      <td>155.9</td>\n",
              "      <td>156.0</td>\n",
              "      <td>156.1</td>\n",
              "      <td>156.2</td>\n",
              "      <td>156.3</td>\n",
              "      <td>156.1</td>\n",
              "      <td>155.8</td>\n",
              "      <td>155.5</td>\n",
              "      <td>155.1</td>\n",
              "      <td>154.8</td>\n",
              "      <td>154.4</td>\n",
              "      <td>154.1</td>\n",
              "      <td>153.7</td>\n",
              "      <td>153.4</td>\n",
              "      <td>153.0</td>\n",
              "      <td>152.8</td>\n",
              "      <td>152.5</td>\n",
              "      <td>152.3</td>\n",
              "      <td>152.0</td>\n",
              "      <td>151.8</td>\n",
              "      <td>151.5</td>\n",
              "      <td>151.2</td>\n",
              "      <td>151.0</td>\n",
              "      <td>150.7</td>\n",
              "      <td>150.4</td>\n",
              "      <td>150.1</td>\n",
              "      <td>144.1</td>\n",
              "      <td>136.5</td>\n",
              "      <td>130.4</td>\n",
              "      <td>124.8</td>\n",
              "      <td>120.5</td>\n",
              "      <td>118.4</td>\n",
              "      <td>116.3</td>\n",
              "      <td>114.9</td>\n",
              "      <td>114.8</td>\n",
              "      <td>114.6</td>\n",
              "      <td>114.5</td>\n",
              "      <td>114.3</td>\n",
              "      <td>114.1</td>\n",
              "      <td>113.9</td>\n",
              "    </tr>\n",
              "    <tr>\n",
              "      <th>2737504</th>\n",
              "      <td>253.7</td>\n",
              "      <td>255.5</td>\n",
              "      <td>257.8</td>\n",
              "      <td>264.9</td>\n",
              "      <td>274.6</td>\n",
              "      <td>281.3</td>\n",
              "      <td>285.2</td>\n",
              "      <td>289.8</td>\n",
              "      <td>296.1</td>\n",
              "      <td>301.7</td>\n",
              "      <td>304.8</td>\n",
              "      <td>302.6</td>\n",
              "      <td>299.6</td>\n",
              "      <td>293.8</td>\n",
              "      <td>286.8</td>\n",
              "      <td>278.5</td>\n",
              "      <td>270.6</td>\n",
              "      <td>264.5</td>\n",
              "      <td>262.5</td>\n",
              "      <td>259.3</td>\n",
              "      <td>256.6</td>\n",
              "      <td>254.9</td>\n",
              "      <td>253.9</td>\n",
              "      <td>255.7</td>\n",
              "      <td>257.6</td>\n",
              "      <td>259.1</td>\n",
              "      <td>262.9</td>\n",
              "      <td>266.4</td>\n",
              "      <td>267.2</td>\n",
              "      <td>269.4</td>\n",
              "      <td>273.6</td>\n",
              "      <td>277.1</td>\n",
              "      <td>279.1</td>\n",
              "      <td>279.7</td>\n",
              "      <td>283.9</td>\n",
              "      <td>287.1</td>\n",
              "      <td>289.0</td>\n",
              "      <td>293.8</td>\n",
              "      <td>298.1</td>\n",
              "      <td>304.1</td>\n",
              "      <td>...</td>\n",
              "      <td>155.2</td>\n",
              "      <td>155.3</td>\n",
              "      <td>155.4</td>\n",
              "      <td>155.5</td>\n",
              "      <td>155.6</td>\n",
              "      <td>155.7</td>\n",
              "      <td>155.7</td>\n",
              "      <td>155.4</td>\n",
              "      <td>155.0</td>\n",
              "      <td>154.7</td>\n",
              "      <td>154.3</td>\n",
              "      <td>154.0</td>\n",
              "      <td>153.7</td>\n",
              "      <td>153.3</td>\n",
              "      <td>152.9</td>\n",
              "      <td>152.6</td>\n",
              "      <td>152.2</td>\n",
              "      <td>152.0</td>\n",
              "      <td>151.7</td>\n",
              "      <td>151.5</td>\n",
              "      <td>151.2</td>\n",
              "      <td>151.0</td>\n",
              "      <td>150.7</td>\n",
              "      <td>150.4</td>\n",
              "      <td>150.2</td>\n",
              "      <td>146.0</td>\n",
              "      <td>137.5</td>\n",
              "      <td>131.6</td>\n",
              "      <td>125.3</td>\n",
              "      <td>119.7</td>\n",
              "      <td>118.1</td>\n",
              "      <td>116.3</td>\n",
              "      <td>114.9</td>\n",
              "      <td>114.7</td>\n",
              "      <td>114.6</td>\n",
              "      <td>114.5</td>\n",
              "      <td>114.3</td>\n",
              "      <td>114.2</td>\n",
              "      <td>114.0</td>\n",
              "      <td>113.8</td>\n",
              "    </tr>\n",
              "    <tr>\n",
              "      <th>...</th>\n",
              "      <td>...</td>\n",
              "      <td>...</td>\n",
              "      <td>...</td>\n",
              "      <td>...</td>\n",
              "      <td>...</td>\n",
              "      <td>...</td>\n",
              "      <td>...</td>\n",
              "      <td>...</td>\n",
              "      <td>...</td>\n",
              "      <td>...</td>\n",
              "      <td>...</td>\n",
              "      <td>...</td>\n",
              "      <td>...</td>\n",
              "      <td>...</td>\n",
              "      <td>...</td>\n",
              "      <td>...</td>\n",
              "      <td>...</td>\n",
              "      <td>...</td>\n",
              "      <td>...</td>\n",
              "      <td>...</td>\n",
              "      <td>...</td>\n",
              "      <td>...</td>\n",
              "      <td>...</td>\n",
              "      <td>...</td>\n",
              "      <td>...</td>\n",
              "      <td>...</td>\n",
              "      <td>...</td>\n",
              "      <td>...</td>\n",
              "      <td>...</td>\n",
              "      <td>...</td>\n",
              "      <td>...</td>\n",
              "      <td>...</td>\n",
              "      <td>...</td>\n",
              "      <td>...</td>\n",
              "      <td>...</td>\n",
              "      <td>...</td>\n",
              "      <td>...</td>\n",
              "      <td>...</td>\n",
              "      <td>...</td>\n",
              "      <td>...</td>\n",
              "      <td>...</td>\n",
              "      <td>...</td>\n",
              "      <td>...</td>\n",
              "      <td>...</td>\n",
              "      <td>...</td>\n",
              "      <td>...</td>\n",
              "      <td>...</td>\n",
              "      <td>...</td>\n",
              "      <td>...</td>\n",
              "      <td>...</td>\n",
              "      <td>...</td>\n",
              "      <td>...</td>\n",
              "      <td>...</td>\n",
              "      <td>...</td>\n",
              "      <td>...</td>\n",
              "      <td>...</td>\n",
              "      <td>...</td>\n",
              "      <td>...</td>\n",
              "      <td>...</td>\n",
              "      <td>...</td>\n",
              "      <td>...</td>\n",
              "      <td>...</td>\n",
              "      <td>...</td>\n",
              "      <td>...</td>\n",
              "      <td>...</td>\n",
              "      <td>...</td>\n",
              "      <td>...</td>\n",
              "      <td>...</td>\n",
              "      <td>...</td>\n",
              "      <td>...</td>\n",
              "      <td>...</td>\n",
              "      <td>...</td>\n",
              "      <td>...</td>\n",
              "      <td>...</td>\n",
              "      <td>...</td>\n",
              "      <td>...</td>\n",
              "      <td>...</td>\n",
              "      <td>...</td>\n",
              "      <td>...</td>\n",
              "      <td>...</td>\n",
              "      <td>...</td>\n",
              "    </tr>\n",
              "    <tr>\n",
              "      <th>2738245</th>\n",
              "      <td>273.0</td>\n",
              "      <td>275.5</td>\n",
              "      <td>278.3</td>\n",
              "      <td>280.8</td>\n",
              "      <td>282.3</td>\n",
              "      <td>283.2</td>\n",
              "      <td>283.1</td>\n",
              "      <td>283.2</td>\n",
              "      <td>283.5</td>\n",
              "      <td>284.0</td>\n",
              "      <td>284.6</td>\n",
              "      <td>284.9</td>\n",
              "      <td>284.8</td>\n",
              "      <td>284.8</td>\n",
              "      <td>284.7</td>\n",
              "      <td>285.7</td>\n",
              "      <td>287.2</td>\n",
              "      <td>289.0</td>\n",
              "      <td>291.9</td>\n",
              "      <td>295.7</td>\n",
              "      <td>299.5</td>\n",
              "      <td>302.2</td>\n",
              "      <td>305.1</td>\n",
              "      <td>307.4</td>\n",
              "      <td>309.6</td>\n",
              "      <td>311.9</td>\n",
              "      <td>314.2</td>\n",
              "      <td>317.9</td>\n",
              "      <td>322.2</td>\n",
              "      <td>326.5</td>\n",
              "      <td>330.3</td>\n",
              "      <td>332.1</td>\n",
              "      <td>333.9</td>\n",
              "      <td>335.7</td>\n",
              "      <td>337.7</td>\n",
              "      <td>339.8</td>\n",
              "      <td>349.2</td>\n",
              "      <td>356.1</td>\n",
              "      <td>360.7</td>\n",
              "      <td>361.4</td>\n",
              "      <td>...</td>\n",
              "      <td>299.5</td>\n",
              "      <td>300.1</td>\n",
              "      <td>300.7</td>\n",
              "      <td>300.9</td>\n",
              "      <td>300.9</td>\n",
              "      <td>293.6</td>\n",
              "      <td>287.9</td>\n",
              "      <td>285.4</td>\n",
              "      <td>283.3</td>\n",
              "      <td>282.7</td>\n",
              "      <td>281.5</td>\n",
              "      <td>279.7</td>\n",
              "      <td>278.8</td>\n",
              "      <td>277.6</td>\n",
              "      <td>276.4</td>\n",
              "      <td>275.1</td>\n",
              "      <td>273.9</td>\n",
              "      <td>272.8</td>\n",
              "      <td>271.6</td>\n",
              "      <td>270.4</td>\n",
              "      <td>267.2</td>\n",
              "      <td>265.1</td>\n",
              "      <td>264.6</td>\n",
              "      <td>263.1</td>\n",
              "      <td>261.5</td>\n",
              "      <td>259.9</td>\n",
              "      <td>259.1</td>\n",
              "      <td>258.4</td>\n",
              "      <td>257.7</td>\n",
              "      <td>256.9</td>\n",
              "      <td>256.2</td>\n",
              "      <td>255.5</td>\n",
              "      <td>255.0</td>\n",
              "      <td>255.6</td>\n",
              "      <td>256.7</td>\n",
              "      <td>257.7</td>\n",
              "      <td>258.6</td>\n",
              "      <td>259.6</td>\n",
              "      <td>260.3</td>\n",
              "      <td>261.3</td>\n",
              "    </tr>\n",
              "    <tr>\n",
              "      <th>2738246</th>\n",
              "      <td>272.9</td>\n",
              "      <td>275.7</td>\n",
              "      <td>278.5</td>\n",
              "      <td>280.8</td>\n",
              "      <td>282.6</td>\n",
              "      <td>284.4</td>\n",
              "      <td>286.0</td>\n",
              "      <td>286.2</td>\n",
              "      <td>286.4</td>\n",
              "      <td>286.8</td>\n",
              "      <td>287.3</td>\n",
              "      <td>287.3</td>\n",
              "      <td>287.2</td>\n",
              "      <td>287.2</td>\n",
              "      <td>287.1</td>\n",
              "      <td>287.0</td>\n",
              "      <td>286.7</td>\n",
              "      <td>288.5</td>\n",
              "      <td>291.1</td>\n",
              "      <td>294.5</td>\n",
              "      <td>297.9</td>\n",
              "      <td>300.6</td>\n",
              "      <td>302.9</td>\n",
              "      <td>305.2</td>\n",
              "      <td>307.2</td>\n",
              "      <td>309.0</td>\n",
              "      <td>311.7</td>\n",
              "      <td>316.3</td>\n",
              "      <td>321.2</td>\n",
              "      <td>324.7</td>\n",
              "      <td>328.2</td>\n",
              "      <td>331.0</td>\n",
              "      <td>333.0</td>\n",
              "      <td>335.1</td>\n",
              "      <td>337.1</td>\n",
              "      <td>339.2</td>\n",
              "      <td>346.7</td>\n",
              "      <td>355.2</td>\n",
              "      <td>360.9</td>\n",
              "      <td>363.8</td>\n",
              "      <td>...</td>\n",
              "      <td>300.6</td>\n",
              "      <td>300.9</td>\n",
              "      <td>301.5</td>\n",
              "      <td>302.1</td>\n",
              "      <td>301.5</td>\n",
              "      <td>300.5</td>\n",
              "      <td>292.3</td>\n",
              "      <td>286.8</td>\n",
              "      <td>286.6</td>\n",
              "      <td>286.7</td>\n",
              "      <td>285.0</td>\n",
              "      <td>283.1</td>\n",
              "      <td>280.6</td>\n",
              "      <td>279.0</td>\n",
              "      <td>277.7</td>\n",
              "      <td>276.5</td>\n",
              "      <td>275.4</td>\n",
              "      <td>274.2</td>\n",
              "      <td>273.1</td>\n",
              "      <td>271.8</td>\n",
              "      <td>270.5</td>\n",
              "      <td>268.8</td>\n",
              "      <td>267.1</td>\n",
              "      <td>265.2</td>\n",
              "      <td>263.3</td>\n",
              "      <td>261.6</td>\n",
              "      <td>259.9</td>\n",
              "      <td>259.2</td>\n",
              "      <td>258.4</td>\n",
              "      <td>257.7</td>\n",
              "      <td>256.9</td>\n",
              "      <td>256.3</td>\n",
              "      <td>255.8</td>\n",
              "      <td>255.7</td>\n",
              "      <td>256.8</td>\n",
              "      <td>257.8</td>\n",
              "      <td>258.9</td>\n",
              "      <td>260.0</td>\n",
              "      <td>261.4</td>\n",
              "      <td>262.6</td>\n",
              "    </tr>\n",
              "    <tr>\n",
              "      <th>2738247</th>\n",
              "      <td>273.0</td>\n",
              "      <td>275.9</td>\n",
              "      <td>278.8</td>\n",
              "      <td>281.0</td>\n",
              "      <td>282.9</td>\n",
              "      <td>284.7</td>\n",
              "      <td>286.6</td>\n",
              "      <td>288.4</td>\n",
              "      <td>289.1</td>\n",
              "      <td>289.6</td>\n",
              "      <td>289.7</td>\n",
              "      <td>289.7</td>\n",
              "      <td>289.6</td>\n",
              "      <td>289.5</td>\n",
              "      <td>289.4</td>\n",
              "      <td>288.9</td>\n",
              "      <td>288.1</td>\n",
              "      <td>288.4</td>\n",
              "      <td>290.8</td>\n",
              "      <td>293.6</td>\n",
              "      <td>296.2</td>\n",
              "      <td>298.5</td>\n",
              "      <td>300.8</td>\n",
              "      <td>303.0</td>\n",
              "      <td>304.9</td>\n",
              "      <td>307.1</td>\n",
              "      <td>309.4</td>\n",
              "      <td>314.5</td>\n",
              "      <td>320.2</td>\n",
              "      <td>323.5</td>\n",
              "      <td>327.0</td>\n",
              "      <td>330.3</td>\n",
              "      <td>332.4</td>\n",
              "      <td>334.4</td>\n",
              "      <td>336.4</td>\n",
              "      <td>338.4</td>\n",
              "      <td>343.1</td>\n",
              "      <td>352.6</td>\n",
              "      <td>357.9</td>\n",
              "      <td>361.5</td>\n",
              "      <td>...</td>\n",
              "      <td>301.3</td>\n",
              "      <td>301.8</td>\n",
              "      <td>302.3</td>\n",
              "      <td>302.7</td>\n",
              "      <td>302.4</td>\n",
              "      <td>301.4</td>\n",
              "      <td>300.3</td>\n",
              "      <td>291.4</td>\n",
              "      <td>289.5</td>\n",
              "      <td>290.6</td>\n",
              "      <td>288.7</td>\n",
              "      <td>286.3</td>\n",
              "      <td>283.7</td>\n",
              "      <td>280.9</td>\n",
              "      <td>279.2</td>\n",
              "      <td>278.0</td>\n",
              "      <td>276.9</td>\n",
              "      <td>275.7</td>\n",
              "      <td>274.6</td>\n",
              "      <td>273.5</td>\n",
              "      <td>272.5</td>\n",
              "      <td>270.8</td>\n",
              "      <td>268.8</td>\n",
              "      <td>266.9</td>\n",
              "      <td>265.1</td>\n",
              "      <td>263.4</td>\n",
              "      <td>261.6</td>\n",
              "      <td>259.9</td>\n",
              "      <td>259.2</td>\n",
              "      <td>258.4</td>\n",
              "      <td>257.7</td>\n",
              "      <td>257.2</td>\n",
              "      <td>256.6</td>\n",
              "      <td>256.1</td>\n",
              "      <td>256.7</td>\n",
              "      <td>257.7</td>\n",
              "      <td>258.7</td>\n",
              "      <td>259.7</td>\n",
              "      <td>260.9</td>\n",
              "      <td>262.3</td>\n",
              "    </tr>\n",
              "    <tr>\n",
              "      <th>2738248</th>\n",
              "      <td>273.8</td>\n",
              "      <td>276.6</td>\n",
              "      <td>279.4</td>\n",
              "      <td>281.5</td>\n",
              "      <td>283.3</td>\n",
              "      <td>285.2</td>\n",
              "      <td>287.1</td>\n",
              "      <td>289.1</td>\n",
              "      <td>290.6</td>\n",
              "      <td>291.8</td>\n",
              "      <td>291.8</td>\n",
              "      <td>291.7</td>\n",
              "      <td>291.4</td>\n",
              "      <td>291.2</td>\n",
              "      <td>291.2</td>\n",
              "      <td>290.7</td>\n",
              "      <td>289.9</td>\n",
              "      <td>288.8</td>\n",
              "      <td>289.6</td>\n",
              "      <td>291.9</td>\n",
              "      <td>294.1</td>\n",
              "      <td>296.4</td>\n",
              "      <td>298.7</td>\n",
              "      <td>301.1</td>\n",
              "      <td>303.6</td>\n",
              "      <td>306.0</td>\n",
              "      <td>308.6</td>\n",
              "      <td>312.5</td>\n",
              "      <td>318.0</td>\n",
              "      <td>322.0</td>\n",
              "      <td>325.8</td>\n",
              "      <td>329.5</td>\n",
              "      <td>331.7</td>\n",
              "      <td>333.7</td>\n",
              "      <td>335.7</td>\n",
              "      <td>337.7</td>\n",
              "      <td>340.5</td>\n",
              "      <td>349.9</td>\n",
              "      <td>354.5</td>\n",
              "      <td>359.2</td>\n",
              "      <td>...</td>\n",
              "      <td>302.0</td>\n",
              "      <td>302.5</td>\n",
              "      <td>303.0</td>\n",
              "      <td>303.4</td>\n",
              "      <td>303.4</td>\n",
              "      <td>302.2</td>\n",
              "      <td>301.0</td>\n",
              "      <td>300.0</td>\n",
              "      <td>295.8</td>\n",
              "      <td>293.9</td>\n",
              "      <td>291.8</td>\n",
              "      <td>289.5</td>\n",
              "      <td>286.9</td>\n",
              "      <td>284.2</td>\n",
              "      <td>281.3</td>\n",
              "      <td>279.3</td>\n",
              "      <td>278.2</td>\n",
              "      <td>277.0</td>\n",
              "      <td>276.4</td>\n",
              "      <td>276.0</td>\n",
              "      <td>274.8</td>\n",
              "      <td>272.7</td>\n",
              "      <td>270.5</td>\n",
              "      <td>268.6</td>\n",
              "      <td>266.9</td>\n",
              "      <td>265.1</td>\n",
              "      <td>263.4</td>\n",
              "      <td>261.7</td>\n",
              "      <td>259.9</td>\n",
              "      <td>259.2</td>\n",
              "      <td>258.5</td>\n",
              "      <td>258.0</td>\n",
              "      <td>257.5</td>\n",
              "      <td>257.0</td>\n",
              "      <td>256.5</td>\n",
              "      <td>257.5</td>\n",
              "      <td>258.5</td>\n",
              "      <td>259.5</td>\n",
              "      <td>260.8</td>\n",
              "      <td>262.2</td>\n",
              "    </tr>\n",
              "    <tr>\n",
              "      <th>2738249</th>\n",
              "      <td>274.5</td>\n",
              "      <td>276.9</td>\n",
              "      <td>279.4</td>\n",
              "      <td>281.6</td>\n",
              "      <td>283.6</td>\n",
              "      <td>285.5</td>\n",
              "      <td>287.6</td>\n",
              "      <td>289.6</td>\n",
              "      <td>291.5</td>\n",
              "      <td>293.3</td>\n",
              "      <td>293.7</td>\n",
              "      <td>293.5</td>\n",
              "      <td>293.2</td>\n",
              "      <td>292.8</td>\n",
              "      <td>292.7</td>\n",
              "      <td>292.0</td>\n",
              "      <td>291.9</td>\n",
              "      <td>290.8</td>\n",
              "      <td>289.7</td>\n",
              "      <td>290.8</td>\n",
              "      <td>293.2</td>\n",
              "      <td>295.5</td>\n",
              "      <td>297.9</td>\n",
              "      <td>300.3</td>\n",
              "      <td>302.9</td>\n",
              "      <td>305.4</td>\n",
              "      <td>308.0</td>\n",
              "      <td>311.2</td>\n",
              "      <td>315.5</td>\n",
              "      <td>319.3</td>\n",
              "      <td>323.2</td>\n",
              "      <td>327.2</td>\n",
              "      <td>330.9</td>\n",
              "      <td>332.9</td>\n",
              "      <td>334.9</td>\n",
              "      <td>337.1</td>\n",
              "      <td>339.4</td>\n",
              "      <td>345.6</td>\n",
              "      <td>352.3</td>\n",
              "      <td>358.2</td>\n",
              "      <td>...</td>\n",
              "      <td>302.7</td>\n",
              "      <td>303.2</td>\n",
              "      <td>303.7</td>\n",
              "      <td>304.1</td>\n",
              "      <td>304.6</td>\n",
              "      <td>303.4</td>\n",
              "      <td>302.1</td>\n",
              "      <td>300.9</td>\n",
              "      <td>299.5</td>\n",
              "      <td>297.0</td>\n",
              "      <td>294.6</td>\n",
              "      <td>292.4</td>\n",
              "      <td>291.0</td>\n",
              "      <td>287.5</td>\n",
              "      <td>284.5</td>\n",
              "      <td>281.6</td>\n",
              "      <td>279.5</td>\n",
              "      <td>278.5</td>\n",
              "      <td>278.4</td>\n",
              "      <td>278.5</td>\n",
              "      <td>276.7</td>\n",
              "      <td>275.0</td>\n",
              "      <td>272.8</td>\n",
              "      <td>270.2</td>\n",
              "      <td>267.7</td>\n",
              "      <td>266.3</td>\n",
              "      <td>264.8</td>\n",
              "      <td>263.3</td>\n",
              "      <td>261.7</td>\n",
              "      <td>260.0</td>\n",
              "      <td>259.4</td>\n",
              "      <td>258.8</td>\n",
              "      <td>258.3</td>\n",
              "      <td>258.0</td>\n",
              "      <td>257.4</td>\n",
              "      <td>257.3</td>\n",
              "      <td>258.3</td>\n",
              "      <td>259.4</td>\n",
              "      <td>260.6</td>\n",
              "      <td>261.9</td>\n",
              "    </tr>\n",
              "  </tbody>\n",
              "</table>\n",
              "<p>750 rows × 1125 columns</p>\n",
              "</div>"
            ],
            "text/plain": [
              "x        3476250  3476251  3476252  3476253  ...  3477371  3477372  3477373  3477374\n",
              "y                                            ...                                    \n",
              "2737500    225.7    229.5    236.0    244.9  ...    114.8    114.6    114.4    114.2\n",
              "2737501    228.4    232.8    238.6    248.5  ...    114.7    114.5    114.3    114.1\n",
              "2737502    238.1    240.6    245.1    255.2  ...    114.6    114.4    114.2    114.0\n",
              "2737503    246.8    248.5    252.0    259.7  ...    114.5    114.3    114.1    113.9\n",
              "2737504    253.7    255.5    257.8    264.9  ...    114.3    114.2    114.0    113.8\n",
              "...          ...      ...      ...      ...  ...      ...      ...      ...      ...\n",
              "2738245    273.0    275.5    278.3    280.8  ...    258.6    259.6    260.3    261.3\n",
              "2738246    272.9    275.7    278.5    280.8  ...    258.9    260.0    261.4    262.6\n",
              "2738247    273.0    275.9    278.8    281.0  ...    258.7    259.7    260.9    262.3\n",
              "2738248    273.8    276.6    279.4    281.5  ...    258.5    259.5    260.8    262.2\n",
              "2738249    274.5    276.9    279.4    281.6  ...    258.3    259.4    260.6    261.9\n",
              "\n",
              "[750 rows x 1125 columns]"
            ]
          },
          "execution_count": 29,
          "metadata": {
            "tags": []
          },
          "output_type": "execute_result"
        }
      ],
      "source": [
        "dem = df.pivot_table(index = 'y', columns = 'x', values = 'z', fill_value = -9999)\n",
        "dem = dem.sort_index()\n",
        "dem"
      ]
    },
    {
      "cell_type": "markdown",
      "metadata": {
        "id": "fomv6_Kkt5_s"
      },
      "source": [
        "以上でDEMが完成しました．\n",
        "次にピボットした標高行列をnumpyのnp.ndarrayに変換します．\n",
        "これはGeoTiffとして保存するための準備です．"
      ]
    },
    {
      "cell_type": "code",
      "execution_count": null,
      "metadata": {
        "colab": {
          "base_uri": "https://localhost:8080/"
        },
        "id": "-ksrm-FXJ57C",
        "outputId": "20c54a70-3294-402e-ae20-580067bc4d86"
      },
      "outputs": [
        {
          "data": {
            "text/plain": [
              "array([[225.7, 229.5, 236. , ..., 114.6, 114.4, 114.2],\n",
              "       [228.4, 232.8, 238.6, ..., 114.5, 114.3, 114.1],\n",
              "       [238.1, 240.6, 245.1, ..., 114.4, 114.2, 114. ],\n",
              "       ...,\n",
              "       [273. , 275.9, 278.8, ..., 259.7, 260.9, 262.3],\n",
              "       [273.8, 276.6, 279.4, ..., 259.5, 260.8, 262.2],\n",
              "       [274.5, 276.9, 279.4, ..., 259.4, 260.6, 261.9]], dtype=float32)"
            ]
          },
          "execution_count": 30,
          "metadata": {
            "tags": []
          },
          "output_type": "execute_result"
        }
      ],
      "source": [
        "demp=dem.values.astype(np.float32)\n",
        "demp"
      ]
    },
    {
      "cell_type": "markdown",
      "metadata": {
        "id": "QyFH4NQU6kqY"
      },
      "source": [
        "## DEMの図化"
      ]
    },
    {
      "cell_type": "markdown",
      "metadata": {
        "id": "UYMLnrx4SOOd"
      },
      "source": [
        "作成したDEMを表示して確認してみましょう．"
      ]
    },
    {
      "cell_type": "code",
      "execution_count": null,
      "metadata": {
        "colab": {
          "base_uri": "https://localhost:8080/",
          "height": 574
        },
        "id": "1MsgJP8SxyHy",
        "outputId": "45403e6f-0c25-445b-9b9d-1b0abe00be18",
        "scrolled": false
      },
      "outputs": [
        {
          "data": {
            "image/png": "[encoded data removed]",
            "text/plain": [
              "<Figure size 720x720 with 2 Axes>"
            ]
          },
          "metadata": {
            "needs_background": "light",
            "tags": []
          },
          "output_type": "display_data"
        }
      ],
      "source": [
        "plt.figure(figsize = (10, 10))\n",
        "im = plt.imshow(demp, cmap = \"terrain\",vmin = -10)\n",
        "plt.colorbar(im)\n",
        "plt.show()"
      ]
    },
    {
      "cell_type": "markdown",
      "metadata": {
        "id": "PIqBG6Uyic18"
      },
      "source": [
        "# DEMをGeoTiffで保存する\n"
      ]
    },
    {
      "cell_type": "markdown",
      "metadata": {
        "id": "Udb2QdbQipRr"
      },
      "source": [
        "\n",
        "GeoTiffで保存するためにはgdalライブラリを使います．\n",
        "まず，DEMのアフィンパラメーターを用意します．\n",
        "アフィンパラメーターは6個の実数のリストになります．\n",
        "1個めはDEM全体の左側の座標，\n",
        "2個めは標高値ひとつあたりの横方向のサイズ，\n",
        "3個めは0で固定，\n",
        "4個目はDEM全体の上側の座標，\n",
        "5個目は0で固定，\n",
        "6個目は標高値ひとつあたりの縦方向のサイズです．\n",
        "\n",
        "DEM全体の左側の座標は，`df['lon']`の最小値（西の端），\n",
        "標高値ひとつあたりの横方向のサイズは`Xsize`，\n",
        "DEM全体の上側の座標は`df['lat']`の最大値（北の端），\n",
        "標高値ひとつあたりの縦方向のサイズは`Ysize`になります．\n",
        "ただし，標高値ひとつあたりの縦方向のサイズは南方向になるので負になります．\n",
        "\n",
        "これらのパラメーターをリスト化し`trans`に格納します．\n"
      ]
    },
    {
      "cell_type": "code",
      "execution_count": null,
      "metadata": {
        "colab": {
          "base_uri": "https://localhost:8080/"
        },
        "id": "URVuifQlifjp",
        "outputId": "447d8079-1801-4ba8-c27a-ccdaeb39617e"
      },
      "outputs": [
        {
          "data": {
            "text/plain": [
              "[139.0, 0.00011111111111111112, 0, 37.5, 0, -0.00011111111066666505]"
            ]
          },
          "execution_count": 33,
          "metadata": {
            "tags": []
          },
          "output_type": "execute_result"
        }
      ],
      "source": [
        "trans = [min(df['lon']), Xsize, 0, max(df['lat']), 0, -Ysize]\n",
        "trans"
      ]
    },
    {
      "cell_type": "markdown",
      "metadata": {
        "id": "hk-cyreYU8mT"
      },
      "source": [
        "次にDEMの座標系を指定します．\n",
        "GeoTiffで保存するためには，空間参照系を表すオブジェクト`osr.SpatialRefernece()`を作成し，\n",
        "これにEPSGコードで空間参照系を設定します．\n",
        "基盤地図情報のDEMはJGD2011の緯度経度座標系（地理座標系）で，\n",
        "EPSGが`4612`になりますので，以下のような設定になります．\n"
      ]
    },
    {
      "cell_type": "code",
      "execution_count": null,
      "metadata": {
        "colab": {
          "base_uri": "https://localhost:8080/"
        },
        "id": "2nSOv-4oTSC8",
        "outputId": "b8a30889-4166-4818-834a-3435e6b3a52d"
      },
      "outputs": [
        {
          "data": {
            "text/plain": [
              "0"
            ]
          },
          "execution_count": 34,
          "metadata": {
            "tags": []
          },
          "output_type": "execute_result"
        }
      ],
      "source": [
        "srs = osr.SpatialReference()\n",
        "srs.ImportFromEPSG(4612)"
      ]
    },
    {
      "cell_type": "markdown",
      "metadata": {
        "id": "5a_zJPlYWXJG"
      },
      "source": [
        "次に書き出しの設定をします．\n",
        "GeoTiffで保存するためには`gdal.GetDriverByName`型のオブジェクトを作り，\n",
        "ここでファイル形式を指定します．\n",
        "次に`Create`メソッドを使ってファイルを生成します．\n",
        "`Create`メソッドの引数は，保存ファイル名，画像の縦サイズ，画像の横サイズ，バンド数，格納する配列の型です．\n",
        "\n",
        "縦横サイズは`demp.shape`で取得できます．\n",
        "`demp.shape[1]`が縦サイズ，`demp.shape[0]`が横サイズです．\n",
        "バンド数はDEMが一つだけなので`1`です．\n",
        "配列`demp`を保存しますので，データ型は32ビット浮動小数点型になります．"
      ]
    },
    {
      "cell_type": "code",
      "execution_count": null,
      "metadata": {
        "id": "DUPlWjhpU7zO"
      },
      "outputs": [],
      "source": [
        "driver = gdal.GetDriverByName('GTiff')\n",
        "output = driver.Create(base_dir + 'test.tif', demp.shape[1], demp.shape[0], 1, gdal.GDT_Float32)"
      ]
    },
    {
      "cell_type": "markdown",
      "metadata": {
        "id": "Ar0PGPWcYZXe"
      },
      "source": [
        "標高の配列，設定した参照座標系などをオブジェクトに書き込みます．\n",
        "また，データなしの値を`-9999`に設定します．"
      ]
    },
    {
      "cell_type": "code",
      "execution_count": null,
      "metadata": {
        "colab": {
          "base_uri": "https://localhost:8080/"
        },
        "id": "w0bPNK-sWUbp",
        "outputId": "d48071a2-d87a-44e2-8313-73c219efdf65"
      },
      "outputs": [
        {
          "data": {
            "text/plain": [
              "0"
            ]
          },
          "execution_count": 37,
          "metadata": {
            "tags": []
          },
          "output_type": "execute_result"
        }
      ],
      "source": [
        "output.GetRasterBand(1).WriteArray(demp)\n",
        "output.GetRasterBand(1).SetNoDataValue(-9999)\n",
        "output.SetGeoTransform(trans)\n",
        "output.SetProjection(srs.ExportToWkt())"
      ]
    },
    {
      "cell_type": "markdown",
      "metadata": {
        "id": "uKPKjXcKdbdZ"
      },
      "source": [
        "最後にキャッシュをすべて書き出し，オブジェクトを削除して終了です．\n"
      ]
    },
    {
      "cell_type": "code",
      "execution_count": null,
      "metadata": {
        "id": "VB9OOE8hYfJR"
      },
      "outputs": [],
      "source": [
        "output.FlushCache()\n",
        "output = None"
      ]
    },
    {
      "cell_type": "markdown",
      "metadata": {
        "id": "3L_wYHCriGaE"
      },
      "source": [
        "# 全部入りのプログラム\n"
      ]
    },
    {
      "cell_type": "markdown",
      "metadata": {
        "id": "aFDgdOfpirNN"
      },
      "source": [
        "\n",
        "以下が全部入りのプログラムです．\n",
        "ディレクトリ内にあるすべての基盤地図情報DEMのXMLファイルを自動的に読み込み，\n",
        "つなぎ合わせてGeoTiffで書き出します．\n",
        "\n",
        "ディレクトリ内のすべてのXMLファイルを処理する部分では，\n",
        "`glob`とループで逐次処理を行っています．\n",
        "ファイルごとに縦持ちの標高データ`df`を作成しそれを`dfall`に追加することで，\n",
        "処理対象のXMLから取得したすべての標高値を`dfall`に格納しています．\n",
        "最後に`dfall`を横持ちに変換することで\n",
        "ファイルの結合をしています．\n"
      ]
    },
    {
      "cell_type": "code",
      "execution_count": 4,
      "metadata": {
        "colab": {
          "base_uri": "https://localhost:8080/",
          "height": 595
        },
        "id": "StSLy80AKiAM",
        "outputId": "c1516aa6-7623-4963-af0d-ce44c49a3ff1"
      },
      "outputs": [
        {
          "name": "stderr",
          "output_type": "stream",
          "text": [
            "100%|██████████| 7/7 [00:04<00:00,  1.52it/s]\n"
          ]
        },
        {
          "data": {
            "image/png": "[encoded data removed]",
            "text/plain": [
              "<Figure size 720x720 with 2 Axes>"
            ]
          },
          "metadata": {
            "needs_background": "light"
          },
          "output_type": "display_data"
        },
        {
          "name": "stderr",
          "output_type": "stream",
          "text": [
            "ERROR 4: ./10mDEM/output_dem_JGD2011_latlon_10m.tif: No such file or directory\n"
          ]
        },
        {
          "ename": "TypeError",
          "evalue": "object of wrong GDALDatasetShadow",
          "output_type": "error",
          "traceback": [
            "\u001b[0;31m---------------------------------------------------------------------------\u001b[0m",
            "\u001b[0;31mTypeError\u001b[0m                                 Traceback (most recent call last)",
            "\u001b[1;32m/Users/daichi/Documents/Dropbox/Study/Python_DEM/1_基盤地図情報の読み込み_（10mメッシュver）.ipynb Cell 104'\u001b[0m in \u001b[0;36m<cell line: 142>\u001b[0;34m()\u001b[0m\n\u001b[1;32m    <a href='vscode-notebook-cell:/Users/daichi/Documents/Dropbox/Study/Python_DEM/1_%E5%9F%BA%E7%9B%A4%E5%9C%B0%E5%9B%B3%E6%83%85%E5%A0%B1%E3%81%AE%E8%AA%AD%E3%81%BF%E8%BE%BC%E3%81%BF_%EF%BC%8810m%E3%83%A1%E3%83%83%E3%82%B7%E3%83%A5ver%EF%BC%89.ipynb#ch0000103?line=139'>140</a>\u001b[0m \u001b[39m# DEMをEPSG:6677（JGD2011第9系）に投影変換して保存する\u001b[39;00m\n\u001b[1;32m    <a href='vscode-notebook-cell:/Users/daichi/Documents/Dropbox/Study/Python_DEM/1_%E5%9F%BA%E7%9B%A4%E5%9C%B0%E5%9B%B3%E6%83%85%E5%A0%B1%E3%81%AE%E8%AA%AD%E3%81%BF%E8%BE%BC%E3%81%BF_%EF%BC%8810m%E3%83%A1%E3%83%83%E3%82%B7%E3%83%A5ver%EF%BC%89.ipynb#ch0000103?line=140'>141</a>\u001b[0m opt \u001b[39m=\u001b[39m gdal\u001b[39m.\u001b[39mWarpOptions(dstSRS \u001b[39m=\u001b[39m \u001b[39m'\u001b[39m\u001b[39mEPSG:6677\u001b[39m\u001b[39m'\u001b[39m, srcNodata \u001b[39m=\u001b[39m \u001b[39m-\u001b[39m\u001b[39m9999\u001b[39m, dstNodata \u001b[39m=\u001b[39m \u001b[39m-\u001b[39m\u001b[39m9999\u001b[39m, outputType\u001b[39m=\u001b[39mgdal\u001b[39m.\u001b[39mGDT_Float32, xRes \u001b[39m=\u001b[39m \u001b[39m10.0\u001b[39m, yRes \u001b[39m=\u001b[39m \u001b[39m10.0\u001b[39m, resampleAlg \u001b[39m=\u001b[39m \u001b[39m'\u001b[39m\u001b[39mbilinear\u001b[39m\u001b[39m'\u001b[39m)\n\u001b[0;32m--> <a href='vscode-notebook-cell:/Users/daichi/Documents/Dropbox/Study/Python_DEM/1_%E5%9F%BA%E7%9B%A4%E5%9C%B0%E5%9B%B3%E6%83%85%E5%A0%B1%E3%81%AE%E8%AA%AD%E3%81%BF%E8%BE%BC%E3%81%BF_%EF%BC%8810m%E3%83%A1%E3%83%83%E3%82%B7%E3%83%A5ver%EF%BC%89.ipynb#ch0000103?line=141'>142</a>\u001b[0m demnew \u001b[39m=\u001b[39m gdal\u001b[39m.\u001b[39;49mWarp(base_dir \u001b[39m+\u001b[39;49m \u001b[39m'\u001b[39;49m\u001b[39moutput_dem_JGD2011_zone9_10m.tif\u001b[39;49m\u001b[39m'\u001b[39;49m, base_dir \u001b[39m+\u001b[39;49m \u001b[39m'\u001b[39;49m\u001b[39moutput_dem_JGD2011_latlon_10m.tif\u001b[39;49m\u001b[39m'\u001b[39;49m, options \u001b[39m=\u001b[39;49m opt)\n\u001b[1;32m    <a href='vscode-notebook-cell:/Users/daichi/Documents/Dropbox/Study/Python_DEM/1_%E5%9F%BA%E7%9B%A4%E5%9C%B0%E5%9B%B3%E6%83%85%E5%A0%B1%E3%81%AE%E8%AA%AD%E3%81%BF%E8%BE%BC%E3%81%BF_%EF%BC%8810m%E3%83%A1%E3%83%83%E3%82%B7%E3%83%A5ver%EF%BC%89.ipynb#ch0000103?line=142'>143</a>\u001b[0m demnew\u001b[39m.\u001b[39mFlushCache()\n\u001b[1;32m    <a href='vscode-notebook-cell:/Users/daichi/Documents/Dropbox/Study/Python_DEM/1_%E5%9F%BA%E7%9B%A4%E5%9C%B0%E5%9B%B3%E6%83%85%E5%A0%B1%E3%81%AE%E8%AA%AD%E3%81%BF%E8%BE%BC%E3%81%BF_%EF%BC%8810m%E3%83%A1%E3%83%83%E3%82%B7%E3%83%A5ver%EF%BC%89.ipynb#ch0000103?line=143'>144</a>\u001b[0m denew \u001b[39m=\u001b[39m \u001b[39mNone\u001b[39;00m\n",
            "File \u001b[0;32m~/.pyenv/versions/miniforge3-4.10.3-10/envs/pysheds/lib/python3.10/site-packages/osgeo/gdal.py:707\u001b[0m, in \u001b[0;36mWarp\u001b[0;34m(destNameOrDestDS, srcDSOrSrcDSTab, **kwargs)\u001b[0m\n\u001b[1;32m    <a href='file:///Users/daichi/.pyenv/versions/miniforge3-4.10.3-10/envs/pysheds/lib/python3.10/site-packages/osgeo/gdal.py?line=703'>704</a>\u001b[0m     srcDSTab \u001b[39m=\u001b[39m [srcDSOrSrcDSTab]\n\u001b[1;32m    <a href='file:///Users/daichi/.pyenv/versions/miniforge3-4.10.3-10/envs/pysheds/lib/python3.10/site-packages/osgeo/gdal.py?line=705'>706</a>\u001b[0m \u001b[39mif\u001b[39;00m \u001b[39misinstance\u001b[39m(destNameOrDestDS, \u001b[39mstr\u001b[39m):\n\u001b[0;32m--> <a href='file:///Users/daichi/.pyenv/versions/miniforge3-4.10.3-10/envs/pysheds/lib/python3.10/site-packages/osgeo/gdal.py?line=706'>707</a>\u001b[0m     \u001b[39mreturn\u001b[39;00m wrapper_GDALWarpDestName(destNameOrDestDS, srcDSTab, opts, callback, callback_data)\n\u001b[1;32m    <a href='file:///Users/daichi/.pyenv/versions/miniforge3-4.10.3-10/envs/pysheds/lib/python3.10/site-packages/osgeo/gdal.py?line=707'>708</a>\u001b[0m \u001b[39melse\u001b[39;00m:\n\u001b[1;32m    <a href='file:///Users/daichi/.pyenv/versions/miniforge3-4.10.3-10/envs/pysheds/lib/python3.10/site-packages/osgeo/gdal.py?line=708'>709</a>\u001b[0m     \u001b[39mreturn\u001b[39;00m wrapper_GDALWarpDestDS(destNameOrDestDS, srcDSTab, opts, callback, callback_data)\n",
            "File \u001b[0;32m~/.pyenv/versions/miniforge3-4.10.3-10/envs/pysheds/lib/python3.10/site-packages/osgeo/gdal.py:4707\u001b[0m, in \u001b[0;36mwrapper_GDALWarpDestName\u001b[0;34m(*args)\u001b[0m\n\u001b[1;32m   <a href='file:///Users/daichi/.pyenv/versions/miniforge3-4.10.3-10/envs/pysheds/lib/python3.10/site-packages/osgeo/gdal.py?line=4704'>4705</a>\u001b[0m \u001b[39mdef\u001b[39;00m \u001b[39mwrapper_GDALWarpDestName\u001b[39m(\u001b[39m*\u001b[39margs):\n\u001b[1;32m   <a href='file:///Users/daichi/.pyenv/versions/miniforge3-4.10.3-10/envs/pysheds/lib/python3.10/site-packages/osgeo/gdal.py?line=4705'>4706</a>\u001b[0m     \u001b[39m\"\"\"wrapper_GDALWarpDestName(char const * dest, int object_list_count, GDALWarpAppOptions warpAppOptions, GDALProgressFunc callback=0, void * callback_data=None) -> Dataset\"\"\"\u001b[39;00m\n\u001b[0;32m-> <a href='file:///Users/daichi/.pyenv/versions/miniforge3-4.10.3-10/envs/pysheds/lib/python3.10/site-packages/osgeo/gdal.py?line=4706'>4707</a>\u001b[0m     \u001b[39mreturn\u001b[39;00m _gdal\u001b[39m.\u001b[39;49mwrapper_GDALWarpDestName(\u001b[39m*\u001b[39;49margs)\n",
            "\u001b[0;31mTypeError\u001b[0m: object of wrong GDALDatasetShadow"
          ]
        }
      ],
      "source": [
        "# 基盤地図情報DEM XMLを結合するプログラム\n",
        "# 10mメッシュバージョン\n",
        "\n",
        "import xml.etree.ElementTree as ET\n",
        "import numpy as np\n",
        "import matplotlib.pyplot as plt\n",
        "import matplotlib.colors as colors\n",
        "import glob\n",
        "import pandas as pd\n",
        "import io\n",
        "from tqdm import tqdm\n",
        "import time\n",
        "from osgeo import gdal, gdalconst, gdal_array, osr\n",
        "#from google.colab import drive\n",
        "\n",
        "#drive.mount('/content/drive')\n",
        "#base_dir = \"/content/drive/My Drive/gisday2019/\"\n",
        "#base_dir = \"/content/drive/My Drive/workspace/niigataDEM/\"\n",
        "base_dir = \"./10mDEM/\"\n",
        "\n",
        "ns = {'default': 'http://fgd.gsi.go.jp/spec/2008/FGD_GMLSchema',\n",
        "  'xlink': 'http://www.w3.org/1999/xlink',\n",
        "  'xsi': 'http://www.w3.org/2001/XMLSchema-instance',\n",
        "  'gml': 'http://www.opengis.net/gml/3.2'}\n",
        "\n",
        "#infiles = glob.glob(base_dir + '/GSI-DEM/*.xml')\n",
        "infiles = glob.glob(base_dir + '/*.xml')\n",
        "\n",
        "dfall = pd.DataFrame()\n",
        "\n",
        "# ここからループしてすべてのXMLファイルを変換する\n",
        "\n",
        "for infile in tqdm(infiles):\n",
        "  tree = ET.parse(infile)\n",
        "  elem = tree.getroot()\n",
        "\n",
        "  lowercorner = elem.find('.//gml:lowerCorner', ns)\n",
        "  uppercorner = elem.find('.//gml:upperCorner', ns)\n",
        "\n",
        "  tuplelist = elem.find(\".//gml:tupleList\", ns)\n",
        "  df = pd.read_csv(io.StringIO(tuplelist.text), header = None)\n",
        "  df.columns = ['att', 'z']\n",
        "\n",
        "  startPoint = elem.find('.//gml:startPoint', ns).text.split(' ')\n",
        "  startPointX = int(startPoint[0])\n",
        "  startPointY = int(startPoint[1])\n",
        "\n",
        "  cols = int(elem.find(\".//gml:high\", ns).text.split(' ')[0]) + 1\n",
        "  rows = int(elem.find(\".//gml:high\", ns).text.split(' ')[1]) + 1\n",
        "\n",
        "  start = startPointX + (cols * startPointY)\n",
        "  end = int(df.shape[0]) + start\n",
        "\n",
        "  df['n'] = list(range(start, end))\n",
        "  df['x4'] = (df['n'] % cols)\n",
        "  df['y4'] = (df['n'] // cols)\n",
        "\n",
        "  uppercorner = elem.find('.//gml:upperCorner', ns)\n",
        "  lowercorner = elem.find('.//gml:lowerCorner', ns)\n",
        "\n",
        "  ULX = float(lowercorner.text.split(' ')[1])\n",
        "  ULY = float(uppercorner.text.split(' ')[0])\n",
        "  LRX = float(uppercorner.text.split(' ')[1])\n",
        "  LRY = float(lowercorner.text.split(' ')[0])\n",
        "\n",
        "  mesh = elem.find('.//default:mesh', ns)\n",
        "  \n",
        "  df['y1'] = int(mesh.text[0:2])\n",
        "  df['x1'] = int(mesh.text[2:4])\n",
        "  df['y2'] = int(mesh.text[4])\n",
        "  df['x2'] = int(mesh.text[5])\n",
        "#  df['y3'] = int(mesh.text[6])\n",
        "#  df['x3'] = int(mesh.text[7])\n",
        "  df['y3'] = 0\n",
        "  df['x3'] = 0\n",
        "\n",
        "  # 10m DEM用の計算\n",
        "  df['x'] = df['x4'] + (df['x2'] * 10 * cols) + (df['x1'] * 8 * 10 * cols)\n",
        "  df['y'] = df['y4'] + ((10 - df['y2']) * 10 * rows) + ((100 - df['y1']) * 8 * 10 * rows)\n",
        "\n",
        "#  df['x'] = df['x4'] + (df['x3'] * cols) + (df['x2'] * 10 * cols) + (df['x1'] * 8 * 10 * cols)\n",
        "#  df['y'] = df['y4'] + ((8 - df['y3']) * rows) + ((10 - df['y2']) * 10 * rows) + ((100 - df['y1']) * 8 * 10 * rows)\n",
        "\n",
        "  Xsize = (LRX - ULX) / cols\n",
        "  Ysize = (ULY - LRY) / rows\n",
        "\n",
        "  df['lon'] = ULX + df['x4'] * Xsize\n",
        "  df['lat'] = ULY - df['y4'] * Ysize\n",
        "\n",
        "  #dfall = dfall.append(df)\n",
        "  dfall = pd.concat([dfall, df])\n",
        "  # データがない部分用のダミーデータを作る\n",
        "  d1 = pd.DataFrame()\n",
        "  d2 = pd.DataFrame()\n",
        "\n",
        "  d1['x'] = list(range(min(df['x']), max(df['x'])))\n",
        "  d1['y'] = min(df['y'])\n",
        "  d1['z'] = -9999\n",
        "  d2['x'] = min(df['x'])\n",
        "  d2['y'] = list(range(min(df['y']), max(df['y'])))\n",
        "  d2['z'] = -9999\n",
        "\n",
        "  # ダミーデータを標高の入っているデータフレームに結合する\n",
        "  #dfall = dfall.append(d1).append(d2)\n",
        "  dfall = pd.concat([dfall, d1, d2])\n",
        "\n",
        "# 縦持ちデータを横持ちにピボットする\n",
        "# データなしと標高値が重なる場合があるので，その場合は最大値（すなわち標高値）を残す\n",
        "dem = dfall.pivot_table(index = 'y', columns = 'x', values = 'z', fill_value = -9999, aggfunc = 'max')\n",
        "dem = dem.sort_index()\n",
        "\n",
        "# 横持ちにした標高値を32ビット浮動小数点型のnp.Arrayに変換する\n",
        "demp = dem.values.astype(np.float32)\n",
        "\n",
        "# 確認のためDEMを図化する\n",
        "plt.figure(figsize = (10, 10))\n",
        "im = plt.imshow(demp, cmap = \"terrain\",vmin = -10)\n",
        "plt.colorbar(im)\n",
        "plt.show()\n",
        "\n",
        "# GeoTiff書き出しのためのアフィンパラメータの設定（北西端の座標，メッシュサイズなど）\n",
        "trans = [min(dfall['lon']), Xsize, 0, max(dfall['lat']), 0, -Ysize]\n",
        "\n",
        "# 座標系の設定（EPSG:4612，JGD2000の緯度経度座標系）\n",
        "srs = osr.SpatialReference()\n",
        "srs.ImportFromEPSG(4612)\n",
        "\n",
        "# GeoTiff書き出しのための準備，オブジェクトの生成と初期化\n",
        "driver = gdal.GetDriverByName('GTiff')\n",
        "output = driver.Create(base_dir + 'output_dem JGD2011_latlon_10m.tif', demp.shape[1], demp.shape[0], 1, gdal.GDT_Float32)\n",
        "output.GetRasterBand(1).WriteArray(demp)\n",
        "output.GetRasterBand(1).SetNoDataValue(-9999)\n",
        "output.SetGeoTransform(trans)\n",
        "output.SetProjection(srs.ExportToWkt())\n",
        "\n",
        "# GeoTiffに書き出して終了\n",
        "output.FlushCache()\n",
        "output = None\n",
        "\n",
        "# DEMをEPSG:6677（JGD2011第9系）に投影変換して保存する\n",
        "opt = gdal.WarpOptions(dstSRS = 'EPSG:6677', srcNodata = -9999, dstNodata = -9999, outputType=gdal.GDT_Float32, xRes = 10.0, yRes = 10.0, resampleAlg = 'bilinear')\n",
        "demnew = gdal.Warp(base_dir + 'output_dem_JGD2011_zone9_10m.tif', base_dir + 'output_dem_JGD2011_latlon_10m.tif', options = opt)\n",
        "demnew.FlushCache()\n",
        "denew = None\n"
      ]
    },
    {
      "cell_type": "markdown",
      "metadata": {
        "id": "M1wJcahiEMrx"
      },
      "source": [
        "# 今後の課題\n"
      ]
    },
    {
      "cell_type": "markdown",
      "metadata": {
        "id": "y0DthhLpiv9G"
      },
      "source": [
        "\n",
        "保存したGeoTiffは緯度経度座標系なので，\n",
        "平面直角座標系に投影変換をしたいと思います．\n",
        "`gdal.Warp`を使えば投影変換ができるはずですが，\n",
        "どうしてもうまくいきませんでした．\n",
        "\n",
        "ぜひご自身で挑戦してみてください．"
      ]
    },
    {
      "cell_type": "code",
      "execution_count": null,
      "metadata": {
        "id": "pjOQMZqUUqXs"
      },
      "outputs": [],
      "source": [
        "opt = gdal.WarpOptions(dstSRS = 'EPSG:2450', srcNodata = -9999, dstNodata = -9999, outputType=gdal.GDT_Float32, xRes = 10.0, yRes = 10.0, resampleAlg = 'bilinear')\n",
        "#gdal.Warp(base_dir + 'niigata_dem_JGD2011_latlon.tif', base_dir + 'niigata_dem_JGD2011_zone8.tif', options = opt)\n",
        "demnew = gdal.Warp(base_dir + 'niigata_dem_JGD2011_zone8.tif', base_dir + 'niigata_dem_JGD2011_latlon.tif', options = opt)\n",
        "\n",
        "demnew = None"
      ]
    }
  ],
  "metadata": {
    "colab": {
      "collapsed_sections": [],
      "name": "1 基盤地図情報の読み込み （10mメッシュver）",
      "provenance": []
    },
    "kernelspec": {
      "display_name": "Python 3",
      "name": "python3"
    },
    "language_info": {
      "codemirror_mode": {
        "name": "ipython",
        "version": 3
      },
      "file_extension": ".py",
      "mimetype": "text/x-python",
      "name": "python",
      "nbconvert_exporter": "python",
      "pygments_lexer": "ipython3",
      "version": "3.10.2"
    }
  },
  "nbformat": 4,
  "nbformat_minor": 0
}
