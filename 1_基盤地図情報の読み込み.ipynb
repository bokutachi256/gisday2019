{
  "nbformat": 4,
  "nbformat_minor": 0,
  "metadata": {
    "colab": {
      "name": "1 基盤地図情報の読み込み",
      "provenance": [],
      "collapsed_sections": [],
      "include_colab_link": true
    },
    "kernelspec": {
      "name": "python3",
      "display_name": "Python 3"
    }
  },
  "cells": [
    {
      "cell_type": "markdown",
      "metadata": {
        "id": "view-in-github",
        "colab_type": "text"
      },
      "source": [
        "<a href=\"https://colab.research.google.com/github/bokutachi256/gisday2019/blob/master/1_%E5%9F%BA%E7%9B%A4%E5%9C%B0%E5%9B%B3%E6%83%85%E5%A0%B1%E3%81%AE%E8%AA%AD%E3%81%BF%E8%BE%BC%E3%81%BF.ipynb\" target=\"_parent\"><img src=\"https://colab.research.google.com/assets/colab-badge.svg\" alt=\"Open In Colab\"/></a>"
      ]
    },
    {
      "cell_type": "code",
      "metadata": {
        "id": "kqhy-uDTuSNP",
        "colab_type": "code",
        "colab": {}
      },
      "source": [
        "!pip install pysheds"
      ],
      "execution_count": 0,
      "outputs": []
    },
    {
      "cell_type": "markdown",
      "metadata": {
        "id": "x1sK1KXQfo3h",
        "colab_type": "text"
      },
      "source": [
        "ここでは基盤地図情報の数値標高モデル（DEM: Digital Elevation Model）を用いて分析する方法について解説していきます．\n",
        "\n",
        "まず，[基盤地図情報のwebサイト](http://www.gsi.go.jp/kiban/)からDEMをダウンロードします．\n",
        "ダウンロードしたデータは`FG-GML-5139-03-50-DEM5A-20161001.xml`とします．\n",
        "\n",
        "このデータはXML型式になっていますので，\n",
        "Pythonでxmlを扱うために`xml.etree.ElementTree`を`ET`として読み込みます．\n"
      ]
    },
    {
      "cell_type": "code",
      "metadata": {
        "id": "x5eWquNDfo3k",
        "colab_type": "code",
        "colab": {}
      },
      "source": [
        "import xml.etree.ElementTree as ET\n",
        "import numpy as np\n",
        "import seaborn as sns\n",
        "import matplotlib.pyplot as plt\n",
        "import matplotlib.colors as colors\n",
        "# import math\n",
        "#import glob\n",
        "import pandas as pd\n",
        "import io\n",
        "# import osgeo.gdal, osgeo.osr\n",
        "from osgeo import gdal, gdalconst, gdal_array, osr\n",
        "#from pysheds.grid import Grid\n",
        "\n",
        "from google.colab import drive"
      ],
      "execution_count": 0,
      "outputs": []
    },
    {
      "cell_type": "code",
      "metadata": {
        "id": "mwp_IjmPurre",
        "colab_type": "code",
        "outputId": "53bbd709-5b0a-4845-d5ff-f68f04744395",
        "colab": {
          "base_uri": "https://localhost:8080/",
          "height": 35
        }
      },
      "source": [
        "drive.mount('/content/drive')\n",
        "base_dir = \"/content/drive/My Drive/gisday2019/\""
      ],
      "execution_count": 0,
      "outputs": [
        {
          "output_type": "stream",
          "text": [
            "Drive already mounted at /content/drive; to attempt to forcibly remount, call drive.mount(\"/content/drive\", force_remount=True).\n"
          ],
          "name": "stdout"
        }
      ]
    },
    {
      "cell_type": "markdown",
      "metadata": {
        "id": "3V8EZ9oifo3q",
        "colab_type": "text"
      },
      "source": [
        "基盤地図情報のxmlを読み込んでparseします．\n",
        "オブジェクト`tree`のルート要素を取得し，`elem`に代入します．"
      ]
    },
    {
      "cell_type": "code",
      "metadata": {
        "id": "bH-7JgIkfo3r",
        "colab_type": "code",
        "colab": {}
      },
      "source": [
        "# tree = ET.parse(base_dir + \"GSI-DEM/FG-GML-5139-03-50-DEM5A-20161001.xml\")\n",
        "tree = ET.parse(base_dir + \"GSI-DEM/FG-GML-5139-03-68-DEM5A-20161001.xml\")\n",
        "# tree = ET.parse(base_dir + \"GSI-DEM/FG-GML-5139-03-97-DEM5A-20161001.xml\")\n",
        "elem = tree.getroot()"
      ],
      "execution_count": 0,
      "outputs": []
    },
    {
      "cell_type": "markdown",
      "metadata": {
        "id": "cvQZ_DvkiKEA",
        "colab_type": "text"
      },
      "source": [
        "`elem`を確認してみます．"
      ]
    },
    {
      "cell_type": "code",
      "metadata": {
        "id": "aDLSzZflKC2Y",
        "colab_type": "code",
        "outputId": "bc35cf5e-e9d4-43f8-e69b-ab7089e085eb",
        "colab": {
          "base_uri": "https://localhost:8080/",
          "height": 34
        }
      },
      "source": [
        "elem"
      ],
      "execution_count": 0,
      "outputs": [
        {
          "output_type": "execute_result",
          "data": {
            "text/plain": [
              "<Element '{http://fgd.gsi.go.jp/spec/2008/FGD_GMLSchema}Dataset' at 0x7f5c8f2e0bd8>"
            ]
          },
          "metadata": {
            "tags": []
          },
          "execution_count": 4
        }
      ]
    },
    {
      "cell_type": "markdown",
      "metadata": {
        "id": "UwnrwkRxiWNF",
        "colab_type": "text"
      },
      "source": [
        "ルート要素のタグ`Dataset`が表示されました．"
      ]
    },
    {
      "cell_type": "markdown",
      "metadata": {
        "id": "8l10Y0zofo37",
        "colab_type": "text"
      },
      "source": [
        "次にイテレータを使ってすべてのタグを取得し，それを表示してみます．\n"
      ]
    },
    {
      "cell_type": "code",
      "metadata": {
        "id": "6aQc2t8Vfo3-",
        "colab_type": "code",
        "colab": {}
      },
      "source": [
        "for e in elem.getiterator():\n",
        "    print(e.tag)"
      ],
      "execution_count": 0,
      "outputs": []
    },
    {
      "cell_type": "markdown",
      "metadata": {
        "id": "cOBc8-wBJ7_a",
        "colab_type": "text"
      },
      "source": [
        "基盤地図情報DEMのXMLは名前空間付きXMLです．\n",
        "このため，タグへのアクセスには名前空間の接頭辞をつける必要があります．\n",
        "たとえば，`find`メソッドを使ってタグ`mesh`にアクセスする場合，\n",
        "通常のXMLのようにアクセスするとエラーが発生します．"
      ]
    },
    {
      "cell_type": "code",
      "metadata": {
        "id": "dMKuY89QahGB",
        "colab_type": "code",
        "outputId": "e1863b11-c3d3-4c1c-c1aa-e88721666971",
        "colab": {
          "base_uri": "https://localhost:8080/",
          "height": 183
        }
      },
      "source": [
        "mesh = elem.find(\".//mesh\")\n",
        "print(mesh.text)"
      ],
      "execution_count": 0,
      "outputs": [
        {
          "output_type": "error",
          "ename": "AttributeError",
          "evalue": "ignored",
          "traceback": [
            "\u001b[0;31m---------------------------------------------------------------------------\u001b[0m",
            "\u001b[0;31mAttributeError\u001b[0m                            Traceback (most recent call last)",
            "\u001b[0;32m<ipython-input-4-c1c1a9a64e78>\u001b[0m in \u001b[0;36m<module>\u001b[0;34m()\u001b[0m\n\u001b[1;32m      1\u001b[0m \u001b[0mmesh\u001b[0m \u001b[0;34m=\u001b[0m \u001b[0melem\u001b[0m\u001b[0;34m.\u001b[0m\u001b[0mfind\u001b[0m\u001b[0;34m(\u001b[0m\u001b[0;34m\".//mesh\"\u001b[0m\u001b[0;34m)\u001b[0m\u001b[0;34m\u001b[0m\u001b[0;34m\u001b[0m\u001b[0m\n\u001b[0;32m----> 2\u001b[0;31m \u001b[0mprint\u001b[0m\u001b[0;34m(\u001b[0m\u001b[0mmesh\u001b[0m\u001b[0;34m.\u001b[0m\u001b[0mtext\u001b[0m\u001b[0;34m)\u001b[0m\u001b[0;34m\u001b[0m\u001b[0;34m\u001b[0m\u001b[0m\n\u001b[0m",
            "\u001b[0;31mAttributeError\u001b[0m: 'NoneType' object has no attribute 'text'"
          ]
        }
      ]
    },
    {
      "cell_type": "markdown",
      "metadata": {
        "id": "KdWpLJx4aebL",
        "colab_type": "text"
      },
      "source": [
        "\n",
        "これを解決するためには，タグに紐づけられている名前空間のURIをタグごとに加える必要があります．\n",
        "例えば以下のようにです．\n"
      ]
    },
    {
      "cell_type": "code",
      "metadata": {
        "id": "WEUa7wrDanPw",
        "colab_type": "code",
        "outputId": "cee6d777-e2b7-420e-e428-2931a80f0500",
        "colab": {
          "base_uri": "https://localhost:8080/",
          "height": 34
        }
      },
      "source": [
        "mesh = elem.find(\".//{http://fgd.gsi.go.jp/spec/2008/FGD_GMLSchema}mesh\")\n",
        "print(mesh.text)"
      ],
      "execution_count": 0,
      "outputs": [
        {
          "output_type": "stream",
          "text": [
            "51390350\n"
          ],
          "name": "stdout"
        }
      ]
    },
    {
      "cell_type": "markdown",
      "metadata": {
        "id": "XlK2GxTHalKA",
        "colab_type": "text"
      },
      "source": [
        "しかし，すべてのタグにURIをつけるのは煩雑です．\n",
        "プログラミングミスの原因にもなりかねません．\n",
        "もう少しエレガントな方法としては，\n",
        "タグのディクショナリをメソッドの第2引数に指定する方法があります．\n",
        "\n",
        "以下はDEMのXMLの冒頭部です．\n",
        "xmlnsで始まる部分が名前空間の定義になっており，それぞれURIが指定されています．\n"
      ]
    },
    {
      "cell_type": "markdown",
      "metadata": {
        "id": "PBo5jzYP_7c-",
        "colab_type": "text"
      },
      "source": [
        "```xml\n",
        "<?xml version=\"1.0\" encoding=\"UTF-8\"?>\n",
        "<Dataset\n",
        "  gml:id=\"Dataset1\"\n",
        "  xmlns=\"http://fgd.gsi.go.jp/spec/2008/FGD_GMLSchema\" \n",
        "  xmlns:xlink=\"http://www.w3.org/1999/xlink\"\n",
        "  xmlns:xsi=\"http://www.w3.org/2001/XMLSchema-instance\"\n",
        "  xmlns:gml=\"http://www.opengis.net/gml/3.2\"\n",
        "  xsi:schemaLocation=\"http://fgd.gsi.go.jp/spec/2008/FGD_GMLSchema FGD_GMLSchema.xsd\"\n",
        ">\n",
        "```"
      ]
    },
    {
      "cell_type": "markdown",
      "metadata": {
        "id": "D3O_HpT5ykLJ",
        "colab_type": "text"
      },
      "source": [
        "これを元にして名前空間の接頭辞のディクショナリを作成します．\n",
        "`xmlns=\"http://fgd.gsi.go.jp/spec/2008/FGD_GMLSchema\"`\n",
        "はデフォルトの名前空間を指定しています．\n"
      ]
    },
    {
      "cell_type": "code",
      "metadata": {
        "id": "UppGuoz6yoFp",
        "colab_type": "code",
        "colab": {}
      },
      "source": [
        "ns = {'default': 'http://fgd.gsi.go.jp/spec/2008/FGD_GMLSchema',\n",
        "  'xlink': 'http://www.w3.org/1999/xlink',\n",
        "  'xsi': 'http://www.w3.org/2001/XMLSchema-instance',\n",
        "  'gml': 'http://www.opengis.net/gml/3.2'}"
      ],
      "execution_count": 0,
      "outputs": []
    },
    {
      "cell_type": "markdown",
      "metadata": {
        "colab_type": "text",
        "id": "YzI9iRWA33zz"
      },
      "source": [
        "```xml\n",
        "<?xml version=\"1.0\" encoding=\"UTF-8\"?>\n",
        "<Dataset\n",
        "  gml:id=\"Dataset1\"\n",
        "  xmlns=\"http://fgd.gsi.go.jp/spec/2008/FGD_GMLSchema\" \n",
        "  xmlns:xlink=\"http://www.w3.org/1999/xlink\"\n",
        "  xmlns:xsi=\"http://www.w3.org/2001/XMLSchema-instance\"\n",
        "  xmlns:gml=\"http://www.opengis.net/gml/3.2\"\n",
        "  xsi:schemaLocation=\"http://fgd.gsi.go.jp/spec/2008/FGD_GMLSchema FGD_GMLSchema.xsd\"\n",
        ">\n",
        "  <gml:description>基盤地図情報メタデータ ID=fmdid:15-3101</gml:description>\n",
        "  <gml:name>基盤地図情報ダウンロードデータ（GML版）</gml:name>\n",
        "  <DEM gml:id=\"DEM001\">\n",
        "    <fid>fgoid:10-00100-15-60101-51390350</fid>\n",
        "    <lfSpanFr gml:id=\"DEM001-1\">\n",
        "      <gml:timePosition>2016-10-01</gml:timePosition>\n",
        "    </lfSpanFr>\n",
        "    <devDate gml:id=\"DEM001-2\">\n",
        "      <gml:timePosition>2016-10-01</gml:timePosition>\n",
        "    </devDate>\n",
        "    <orgGILvl>0</orgGILvl>\n",
        "    <orgMDId>H24GC009 NoData</orgMDId>\n",
        "    <type>5mメッシュ（標高）</type>\n",
        "    <mesh>51390350</mesh>\n",
        "    <coverage gml:id=\"DEM001-3\">\n",
        "      <gml:boundedBy>\n",
        "        <gml:Envelope srsName=\"fguuid:jgd2011.bl\">\n",
        "          <gml:lowerCorner>34.041666667 139.375</gml:lowerCorner>\n",
        "          <gml:upperCorner>34.05 139.3875</gml:upperCorner>\n",
        "        </gml:Envelope>\n",
        "      </gml:boundedBy>\n",
        "      <gml:gridDomain>\n",
        "        <gml:Grid gml:id=\"DEM001-4\" dimension=\"2\">\n",
        "          <gml:limits>\n",
        "            <gml:GridEnvelope>\n",
        "              <gml:low>0 0</gml:low>\n",
        "              <gml:high>224 149</gml:high>\n",
        "            </gml:GridEnvelope>\n",
        "            </gml:limits>\n",
        "            <gml:axisLabels>x y</gml:axisLabels>\n",
        "        </gml:Grid>\n",
        "      </gml:gridDomain>\n",
        "      <gml:rangeSet>\n",
        "        <gml:DataBlock>\n",
        "          <gml:rangeParameters>\n",
        "            <gml:QuantityList uom=\"DEM構成点\"/>\n",
        "          </gml:rangeParameters>\n",
        "          <gml:tupleList>地表面,1.21 地表面,1.49. .......\n",
        "        </gml:DataBlock>\n",
        "      </gml:rangeSet>\n",
        "      <gml:coverageFunction>\n",
        "        <gml:GridFunction>\n",
        "          <gml:sequenceRule order=\"+x-y\">Linear</gml:sequenceRule>\n",
        "          <gml:startPoint>155 12</gml:startPoint>\n",
        "        </gml:GridFunction>\n",
        "      </gml:coverageFunction>\n",
        "    </coverage>\n",
        "  </DEM>\n",
        "</Dataset>\n",
        "```"
      ]
    },
    {
      "cell_type": "markdown",
      "metadata": {
        "id": "jFs54Phkfo4C",
        "colab_type": "text"
      },
      "source": [
        "`elem`オブジェクトの`find`メソッドにURI付きのタグ`{http://fgd.gsi.go.jp/spec/2008/FGD_GMLSchema}mesh`を入力してタグを検索し，\n",
        "その値を表示してみましょう．\n",
        "戻り値（このタグの値）は標準地域メッシュ番号となっています．\n",
        "最初の4桁`5139`が1次メッシュコード，\n",
        "次の2桁が`03`が2次メッシュコード，\n",
        "最後の2桁`50`が3次メッシュコードとなっています．"
      ]
    },
    {
      "cell_type": "code",
      "metadata": {
        "colab_type": "code",
        "outputId": "4cda2632-fdd9-4b3c-b47d-5d1936ea29db",
        "id": "yH5cSqtHsK5x",
        "colab": {
          "base_uri": "https://localhost:8080/",
          "height": 35
        }
      },
      "source": [
        "mesh = elem.find('.//default:mesh', ns)\n",
        "print(mesh.text)"
      ],
      "execution_count": 0,
      "outputs": [
        {
          "output_type": "stream",
          "text": [
            "51390350\n"
          ],
          "name": "stdout"
        }
      ]
    },
    {
      "cell_type": "markdown",
      "metadata": {
        "id": "BSokynWtGcWC",
        "colab_type": "text"
      },
      "source": [
        "次に`{http://www.opengis.net/gml/3.2}lowerCorner`を表示してみます．\n",
        "このタグにはDEMの南西端の座標が格納されています．"
      ]
    },
    {
      "cell_type": "code",
      "metadata": {
        "colab_type": "code",
        "outputId": "e243132b-672b-4341-f36b-256b12c32246",
        "id": "R2_nGWl6xG3M",
        "colab": {
          "base_uri": "https://localhost:8080/",
          "height": 35
        }
      },
      "source": [
        "lowercorner = elem.find('.//gml:lowerCorner', ns)\n",
        "print(lowercorner.text)"
      ],
      "execution_count": 0,
      "outputs": [
        {
          "output_type": "stream",
          "text": [
            "34.041666667 139.375\n"
          ],
          "name": "stdout"
        }
      ]
    },
    {
      "cell_type": "markdown",
      "metadata": {
        "id": "0KJJM6UzGk-V",
        "colab_type": "text"
      },
      "source": [
        "同様に`{http://www.opengis.net/gml/3.2}upperCorner`には\n",
        "北東端の座標が格納されています．"
      ]
    },
    {
      "cell_type": "code",
      "metadata": {
        "id": "132ceHv8fo4O",
        "colab_type": "code",
        "outputId": "89f5b0ce-8bf0-4b9d-b683-406c455f17d7",
        "colab": {
          "base_uri": "https://localhost:8080/",
          "height": 35
        }
      },
      "source": [
        "uppercorner = elem.find('.//gml:upperCorner', ns)\n",
        "print(uppercorner.text)"
      ],
      "execution_count": 0,
      "outputs": [
        {
          "output_type": "stream",
          "text": [
            "34.05 139.3875\n"
          ],
          "name": "stdout"
        }
      ]
    },
    {
      "cell_type": "markdown",
      "metadata": {
        "id": "JtdRzsg3fo4H",
        "colab_type": "text"
      },
      "source": [
        "タグ`{http://www.opengis.net/gml/3.2}tupleList`を検索し，値を表示する．\n",
        "ここに標高が格納されている．\n",
        "標高は文字列として格納されている．\n",
        "改行コードとカンマで分けられている．\n",
        "カンマの前が標高点の属性，カンマの後ろが標高値になっている．\n",
        "データがないメッシュの属性は'データなし'で標高値は'-9999'，\n",
        "データがあるメッシュの属性は'地表面'で標高値が実数で入っている．"
      ]
    },
    {
      "cell_type": "code",
      "metadata": {
        "id": "pymkTh7nfo4J",
        "colab_type": "code",
        "colab": {}
      },
      "source": [
        "tuplelist = elem.find(\".//gml:tupleList\", ns)\n",
        "print(tuplelist.text)"
      ],
      "execution_count": 0,
      "outputs": []
    },
    {
      "cell_type": "markdown",
      "metadata": {
        "id": "OizB-wgCUAFq",
        "colab_type": "text"
      },
      "source": [
        "標高値が格納されている文字列はcsvそのものになっており，\n",
        "csvとして書き出せばpandasのpd.read_csv()でデータフレームに読み込むことができる．\n",
        "\n",
        "しかし，いちいちcsvに書き出すのも面倒なため，io.StringIOを使ってテキストストリームを作成し，これにpandasのpd.read_csvを組み合わせてcsv型式の文字列をデータフレームに格納する．\n",
        "列名も加える．"
      ]
    },
    {
      "cell_type": "code",
      "metadata": {
        "id": "rvMhDi2KThDP",
        "colab_type": "code",
        "outputId": "16d10885-e7f6-474d-e09a-f209efec8278",
        "colab": {
          "base_uri": "https://localhost:8080/",
          "height": 415
        }
      },
      "source": [
        "df = pd.read_csv(io.StringIO(tuplelist.text), header = None)\n",
        "df.columns = ['att', 'z']\n",
        "df"
      ],
      "execution_count": 0,
      "outputs": [
        {
          "output_type": "execute_result",
          "data": {
            "text/html": [
              "<div>\n",
              "<style scoped>\n",
              "    .dataframe tbody tr th:only-of-type {\n",
              "        vertical-align: middle;\n",
              "    }\n",
              "\n",
              "    .dataframe tbody tr th {\n",
              "        vertical-align: top;\n",
              "    }\n",
              "\n",
              "    .dataframe thead th {\n",
              "        text-align: right;\n",
              "    }\n",
              "</style>\n",
              "<table border=\"1\" class=\"dataframe\">\n",
              "  <thead>\n",
              "    <tr style=\"text-align: right;\">\n",
              "      <th></th>\n",
              "      <th>att</th>\n",
              "      <th>z</th>\n",
              "    </tr>\n",
              "  </thead>\n",
              "  <tbody>\n",
              "    <tr>\n",
              "      <th>0</th>\n",
              "      <td>地表面</td>\n",
              "      <td>1.21</td>\n",
              "    </tr>\n",
              "    <tr>\n",
              "      <th>1</th>\n",
              "      <td>地表面</td>\n",
              "      <td>1.49</td>\n",
              "    </tr>\n",
              "    <tr>\n",
              "      <th>2</th>\n",
              "      <td>地表面</td>\n",
              "      <td>1.18</td>\n",
              "    </tr>\n",
              "    <tr>\n",
              "      <th>3</th>\n",
              "      <td>データなし</td>\n",
              "      <td>-9999.00</td>\n",
              "    </tr>\n",
              "    <tr>\n",
              "      <th>4</th>\n",
              "      <td>データなし</td>\n",
              "      <td>-9999.00</td>\n",
              "    </tr>\n",
              "    <tr>\n",
              "      <th>...</th>\n",
              "      <td>...</td>\n",
              "      <td>...</td>\n",
              "    </tr>\n",
              "    <tr>\n",
              "      <th>21160</th>\n",
              "      <td>データなし</td>\n",
              "      <td>-9999.00</td>\n",
              "    </tr>\n",
              "    <tr>\n",
              "      <th>21161</th>\n",
              "      <td>データなし</td>\n",
              "      <td>-9999.00</td>\n",
              "    </tr>\n",
              "    <tr>\n",
              "      <th>21162</th>\n",
              "      <td>データなし</td>\n",
              "      <td>-9999.00</td>\n",
              "    </tr>\n",
              "    <tr>\n",
              "      <th>21163</th>\n",
              "      <td>データなし</td>\n",
              "      <td>-9999.00</td>\n",
              "    </tr>\n",
              "    <tr>\n",
              "      <th>21164</th>\n",
              "      <td>地表面</td>\n",
              "      <td>2.13</td>\n",
              "    </tr>\n",
              "  </tbody>\n",
              "</table>\n",
              "<p>21165 rows × 2 columns</p>\n",
              "</div>"
            ],
            "text/plain": [
              "         att        z\n",
              "0        地表面     1.21\n",
              "1        地表面     1.49\n",
              "2        地表面     1.18\n",
              "3      データなし -9999.00\n",
              "4      データなし -9999.00\n",
              "...      ...      ...\n",
              "21160  データなし -9999.00\n",
              "21161  データなし -9999.00\n",
              "21162  データなし -9999.00\n",
              "21163  データなし -9999.00\n",
              "21164    地表面     2.13\n",
              "\n",
              "[21165 rows x 2 columns]"
            ]
          },
          "metadata": {
            "tags": []
          },
          "execution_count": 10
        }
      ]
    },
    {
      "cell_type": "markdown",
      "metadata": {
        "id": "IndJCYzjRxI_",
        "colab_type": "text"
      },
      "source": [
        "データフレームの数は21165行$\\times$2列になっている．\n",
        "5mメッシュDEMの場合，格納されている標高値の列数と行数は`gml:high`と`gml:low`によって規定されている．両者を取得して確認してみる．"
      ]
    },
    {
      "cell_type": "code",
      "metadata": {
        "colab_type": "code",
        "outputId": "80759f4d-2a3a-4457-e16b-2e6f001fd510",
        "id": "4VijmFR0SDp_",
        "colab": {
          "base_uri": "https://localhost:8080/",
          "height": 52
        }
      },
      "source": [
        "print(elem.find(\".//gml:low\", ns).text)\n",
        "print(elem.find(\".//gml:high\", ns).text)"
      ],
      "execution_count": 0,
      "outputs": [
        {
          "output_type": "stream",
          "text": [
            "0 0\n",
            "224 149\n"
          ],
          "name": "stdout"
        }
      ]
    },
    {
      "cell_type": "markdown",
      "metadata": {
        "id": "r-fw9qjOSULe",
        "colab_type": "text"
      },
      "source": [
        "$(0, 0)$から$(224, 149)$の$225 \\times 150$の合計33376メッシュになるはずだが，\n",
        "実際には21165メッシュ分しか格納されていない．\n",
        "これは，海面などで標高値がない部分が連続する場合，データを省略していることが原因である．\n",
        "データの省略状況は，`gml:startPoint`に格納されている．"
      ]
    },
    {
      "cell_type": "code",
      "metadata": {
        "colab_type": "code",
        "outputId": "61eaa26e-afc5-438f-ab31-e024258e550b",
        "id": "NjOWeV7jTZB3",
        "colab": {
          "base_uri": "https://localhost:8080/",
          "height": 35
        }
      },
      "source": [
        "print(elem.find('.//gml:startPoint', ns).text)"
      ],
      "execution_count": 0,
      "outputs": [
        {
          "output_type": "stream",
          "text": [
            "155 12\n"
          ],
          "name": "stdout"
        }
      ]
    },
    {
      "cell_type": "markdown",
      "metadata": {
        "id": "p6MagWymTgDn",
        "colab_type": "text"
      },
      "source": [
        "これによると，標高値は155列12行から格納されていることがわかります．\n",
        "しかし，これはデータの格納開始地点を表しているものであり，\n",
        "終了地点を表すタグはありません．\n",
        "足りない分は省略されていることになります．\n",
        "実際，$(225-155)+((150-12) \\times 225)$の30757メッシュが格納されているはずですが，\n",
        "実際には21165メッシュしかないため，足りない分は省略されています．\n",
        "\n",
        "\n",
        "dem | 0 | 1 | 2 | 3 |$\\ldots$| 4|$\\ldots$|244\n",
        "-:|-:|-:|-:|-:|-:|-:|-:|-:|\n",
        "**0**|0|10|20|30|$\\ldots$|40|$\\ldots$\n",
        "**1**|0|10|20|30|$\\ldots$|40|$\\ldots$\n",
        "$\\vdots$|$\\vdots$|$\\vdots$|$\\vdots$|$\\vdots$|$\\vdots$|\n",
        "**2**|0|10|20|30|$\\ldots$|40|$\\ldots$\n",
        "**3**|0|10|20|30|$\\ldots$|40|$\\ldots$\n",
        "**4**|0|10|20|30|$\\ldots$|40|$\\ldots$\n",
        "$\\vdots$|$\\vdots$|$\\vdots$|$\\vdots$|$\\vdots$|$\\vdots$|\n",
        "**149**|0|10|20|30|40|\n",
        "\n",
        "このため，このファイルに格納されている標高値は，\n",
        "startPointよりも前の\n",
        "\n",
        "154+(11*225)=2689メッシュ，\n",
        "\n",
        "標高値がある分の21165メッシュ，\n",
        "標高値の後の\n",
        "33376-(2689+21165)メッシュ\n",
        "\n",
        "になります．\n",
        "\n",
        "dfに格納されている標高値に，メッシュの通し番号をつけていきます．\n",
        "メッシュの初期値は155+(11*225)になります．\n",
        "この値は`gml:startPoint`から取得します．\n",
        "`gml:startPoint`の値はスペースで区切られています．\n",
        "スペースの前が開始列番号，後ろが開始行番号です．\n",
        "開始列番号を`startPointX`，開始行番号を`startPointY`とし，\n",
        "`split`メソッドを使って分割します．\n",
        "分割されて取得されるリストは文字列になっていますので，\n",
        "`int`関数を使って整数値に変換します．\n",
        "\n"
      ]
    },
    {
      "cell_type": "code",
      "metadata": {
        "id": "h6nabYBRi0nE",
        "colab_type": "code",
        "outputId": "fc6e329c-61c6-49a2-976a-c046858e3d62",
        "colab": {
          "base_uri": "https://localhost:8080/",
          "height": 35
        }
      },
      "source": [
        "startPoint = elem.find('.//gml:startPoint', ns).text.split(' ')\n",
        "startPointX = int(startPoint[0])\n",
        "startPointY = int(startPoint[1])\n",
        "print(startPointX, startPointY)"
      ],
      "execution_count": 0,
      "outputs": [
        {
          "output_type": "stream",
          "text": [
            "155 12\n"
          ],
          "name": "stdout"
        }
      ]
    },
    {
      "cell_type": "markdown",
      "metadata": {
        "id": "9wEOEpEYkDQz",
        "colab_type": "text"
      },
      "source": [
        "次に`range`関数を使って，標高値のあるメッシュの通し番号のリストを作成します．\n",
        "開始番号は`startPointX+(225*startPointY)`で，\n",
        "終了番号は開始番号に`df`の行数を足した値になります．\n",
        "`df`の行数は`df.shape[0]`で取得できます．"
      ]
    },
    {
      "cell_type": "code",
      "metadata": {
        "id": "wqYJxN10hbqa",
        "colab_type": "code",
        "outputId": "d48d17b5-bf9f-47bb-8dd3-ef4252e6e274",
        "colab": {
          "base_uri": "https://localhost:8080/",
          "height": 35
        }
      },
      "source": [
        "cols = int(elem.find(\".//gml:high\", ns).text.split(' ')[0]) + 1\n",
        "rows = int(elem.find(\".//gml:high\", ns).text.split(' ')[1]) + 1\n",
        "\n",
        "start = startPointX + (cols * startPointY)\n",
        "end = int(df.shape[0])\n",
        "n = list(range(start, start + end))\n",
        "len(n)"
      ],
      "execution_count": 0,
      "outputs": [
        {
          "output_type": "execute_result",
          "data": {
            "text/plain": [
              "21165"
            ]
          },
          "metadata": {
            "tags": []
          },
          "execution_count": 14
        }
      ]
    },
    {
      "cell_type": "markdown",
      "metadata": {
        "id": "XhtWB9N69UdN",
        "colab_type": "text"
      },
      "source": [
        "dfに新しい列を加える"
      ]
    },
    {
      "cell_type": "code",
      "metadata": {
        "id": "VEGJiEEJ6ojt",
        "colab_type": "code",
        "outputId": "d4de5ec0-1a53-4a67-b28f-1fe25adada15",
        "colab": {
          "base_uri": "https://localhost:8080/",
          "height": 415
        }
      },
      "source": [
        "df['n'] = n\n",
        "df"
      ],
      "execution_count": 0,
      "outputs": [
        {
          "output_type": "execute_result",
          "data": {
            "text/html": [
              "<div>\n",
              "<style scoped>\n",
              "    .dataframe tbody tr th:only-of-type {\n",
              "        vertical-align: middle;\n",
              "    }\n",
              "\n",
              "    .dataframe tbody tr th {\n",
              "        vertical-align: top;\n",
              "    }\n",
              "\n",
              "    .dataframe thead th {\n",
              "        text-align: right;\n",
              "    }\n",
              "</style>\n",
              "<table border=\"1\" class=\"dataframe\">\n",
              "  <thead>\n",
              "    <tr style=\"text-align: right;\">\n",
              "      <th></th>\n",
              "      <th>att</th>\n",
              "      <th>z</th>\n",
              "      <th>n</th>\n",
              "    </tr>\n",
              "  </thead>\n",
              "  <tbody>\n",
              "    <tr>\n",
              "      <th>0</th>\n",
              "      <td>地表面</td>\n",
              "      <td>1.21</td>\n",
              "      <td>2855</td>\n",
              "    </tr>\n",
              "    <tr>\n",
              "      <th>1</th>\n",
              "      <td>地表面</td>\n",
              "      <td>1.49</td>\n",
              "      <td>2856</td>\n",
              "    </tr>\n",
              "    <tr>\n",
              "      <th>2</th>\n",
              "      <td>地表面</td>\n",
              "      <td>1.18</td>\n",
              "      <td>2857</td>\n",
              "    </tr>\n",
              "    <tr>\n",
              "      <th>3</th>\n",
              "      <td>データなし</td>\n",
              "      <td>-9999.00</td>\n",
              "      <td>2858</td>\n",
              "    </tr>\n",
              "    <tr>\n",
              "      <th>4</th>\n",
              "      <td>データなし</td>\n",
              "      <td>-9999.00</td>\n",
              "      <td>2859</td>\n",
              "    </tr>\n",
              "    <tr>\n",
              "      <th>...</th>\n",
              "      <td>...</td>\n",
              "      <td>...</td>\n",
              "      <td>...</td>\n",
              "    </tr>\n",
              "    <tr>\n",
              "      <th>21160</th>\n",
              "      <td>データなし</td>\n",
              "      <td>-9999.00</td>\n",
              "      <td>24015</td>\n",
              "    </tr>\n",
              "    <tr>\n",
              "      <th>21161</th>\n",
              "      <td>データなし</td>\n",
              "      <td>-9999.00</td>\n",
              "      <td>24016</td>\n",
              "    </tr>\n",
              "    <tr>\n",
              "      <th>21162</th>\n",
              "      <td>データなし</td>\n",
              "      <td>-9999.00</td>\n",
              "      <td>24017</td>\n",
              "    </tr>\n",
              "    <tr>\n",
              "      <th>21163</th>\n",
              "      <td>データなし</td>\n",
              "      <td>-9999.00</td>\n",
              "      <td>24018</td>\n",
              "    </tr>\n",
              "    <tr>\n",
              "      <th>21164</th>\n",
              "      <td>地表面</td>\n",
              "      <td>2.13</td>\n",
              "      <td>24019</td>\n",
              "    </tr>\n",
              "  </tbody>\n",
              "</table>\n",
              "<p>21165 rows × 3 columns</p>\n",
              "</div>"
            ],
            "text/plain": [
              "         att        z      n\n",
              "0        地表面     1.21   2855\n",
              "1        地表面     1.49   2856\n",
              "2        地表面     1.18   2857\n",
              "3      データなし -9999.00   2858\n",
              "4      データなし -9999.00   2859\n",
              "...      ...      ...    ...\n",
              "21160  データなし -9999.00  24015\n",
              "21161  データなし -9999.00  24016\n",
              "21162  データなし -9999.00  24017\n",
              "21163  データなし -9999.00  24018\n",
              "21164    地表面     2.13  24019\n",
              "\n",
              "[21165 rows x 3 columns]"
            ]
          },
          "metadata": {
            "tags": []
          },
          "execution_count": 15
        }
      ]
    },
    {
      "cell_type": "markdown",
      "metadata": {
        "id": "5iJIT7XVIlt9",
        "colab_type": "text"
      },
      "source": [
        "nの値からxとyを求める．\n",
        "%は剰余，//は整数の商を求める演算子"
      ]
    },
    {
      "cell_type": "code",
      "metadata": {
        "id": "83-LMJYVYs6b",
        "colab_type": "code",
        "outputId": "8776f787-7383-4a31-b82a-4039913b419d",
        "colab": {
          "base_uri": "https://localhost:8080/",
          "height": 415
        }
      },
      "source": [
        "df['x4'] = (df['n'] % cols)\n",
        "df['y4'] = (df['n'] // cols)\n",
        "df"
      ],
      "execution_count": 0,
      "outputs": [
        {
          "output_type": "execute_result",
          "data": {
            "text/html": [
              "<div>\n",
              "<style scoped>\n",
              "    .dataframe tbody tr th:only-of-type {\n",
              "        vertical-align: middle;\n",
              "    }\n",
              "\n",
              "    .dataframe tbody tr th {\n",
              "        vertical-align: top;\n",
              "    }\n",
              "\n",
              "    .dataframe thead th {\n",
              "        text-align: right;\n",
              "    }\n",
              "</style>\n",
              "<table border=\"1\" class=\"dataframe\">\n",
              "  <thead>\n",
              "    <tr style=\"text-align: right;\">\n",
              "      <th></th>\n",
              "      <th>att</th>\n",
              "      <th>z</th>\n",
              "      <th>n</th>\n",
              "      <th>x4</th>\n",
              "      <th>y4</th>\n",
              "    </tr>\n",
              "  </thead>\n",
              "  <tbody>\n",
              "    <tr>\n",
              "      <th>0</th>\n",
              "      <td>地表面</td>\n",
              "      <td>1.21</td>\n",
              "      <td>2855</td>\n",
              "      <td>155</td>\n",
              "      <td>12</td>\n",
              "    </tr>\n",
              "    <tr>\n",
              "      <th>1</th>\n",
              "      <td>地表面</td>\n",
              "      <td>1.49</td>\n",
              "      <td>2856</td>\n",
              "      <td>156</td>\n",
              "      <td>12</td>\n",
              "    </tr>\n",
              "    <tr>\n",
              "      <th>2</th>\n",
              "      <td>地表面</td>\n",
              "      <td>1.18</td>\n",
              "      <td>2857</td>\n",
              "      <td>157</td>\n",
              "      <td>12</td>\n",
              "    </tr>\n",
              "    <tr>\n",
              "      <th>3</th>\n",
              "      <td>データなし</td>\n",
              "      <td>-9999.00</td>\n",
              "      <td>2858</td>\n",
              "      <td>158</td>\n",
              "      <td>12</td>\n",
              "    </tr>\n",
              "    <tr>\n",
              "      <th>4</th>\n",
              "      <td>データなし</td>\n",
              "      <td>-9999.00</td>\n",
              "      <td>2859</td>\n",
              "      <td>159</td>\n",
              "      <td>12</td>\n",
              "    </tr>\n",
              "    <tr>\n",
              "      <th>...</th>\n",
              "      <td>...</td>\n",
              "      <td>...</td>\n",
              "      <td>...</td>\n",
              "      <td>...</td>\n",
              "      <td>...</td>\n",
              "    </tr>\n",
              "    <tr>\n",
              "      <th>21160</th>\n",
              "      <td>データなし</td>\n",
              "      <td>-9999.00</td>\n",
              "      <td>24015</td>\n",
              "      <td>165</td>\n",
              "      <td>106</td>\n",
              "    </tr>\n",
              "    <tr>\n",
              "      <th>21161</th>\n",
              "      <td>データなし</td>\n",
              "      <td>-9999.00</td>\n",
              "      <td>24016</td>\n",
              "      <td>166</td>\n",
              "      <td>106</td>\n",
              "    </tr>\n",
              "    <tr>\n",
              "      <th>21162</th>\n",
              "      <td>データなし</td>\n",
              "      <td>-9999.00</td>\n",
              "      <td>24017</td>\n",
              "      <td>167</td>\n",
              "      <td>106</td>\n",
              "    </tr>\n",
              "    <tr>\n",
              "      <th>21163</th>\n",
              "      <td>データなし</td>\n",
              "      <td>-9999.00</td>\n",
              "      <td>24018</td>\n",
              "      <td>168</td>\n",
              "      <td>106</td>\n",
              "    </tr>\n",
              "    <tr>\n",
              "      <th>21164</th>\n",
              "      <td>地表面</td>\n",
              "      <td>2.13</td>\n",
              "      <td>24019</td>\n",
              "      <td>169</td>\n",
              "      <td>106</td>\n",
              "    </tr>\n",
              "  </tbody>\n",
              "</table>\n",
              "<p>21165 rows × 5 columns</p>\n",
              "</div>"
            ],
            "text/plain": [
              "         att        z      n   x4   y4\n",
              "0        地表面     1.21   2855  155   12\n",
              "1        地表面     1.49   2856  156   12\n",
              "2        地表面     1.18   2857  157   12\n",
              "3      データなし -9999.00   2858  158   12\n",
              "4      データなし -9999.00   2859  159   12\n",
              "...      ...      ...    ...  ...  ...\n",
              "21160  データなし -9999.00  24015  165  106\n",
              "21161  データなし -9999.00  24016  166  106\n",
              "21162  データなし -9999.00  24017  167  106\n",
              "21163  データなし -9999.00  24018  168  106\n",
              "21164    地表面     2.13  24019  169  106\n",
              "\n",
              "[21165 rows x 5 columns]"
            ]
          },
          "metadata": {
            "tags": []
          },
          "execution_count": 16
        }
      ]
    },
    {
      "cell_type": "markdown",
      "metadata": {
        "id": "Z674HEpqWyrt",
        "colab_type": "text"
      },
      "source": [
        "4桁の数字で、上2桁が緯度（1.5倍して分以下を切り上げたもの）、下2桁が経度（下2桁）を表す。1次メッシュコードはメッシュの南西端の緯度経度を用いて次式で算出される：緯度をlat[度]、経度をlon[度]とすると、{\\displaystyle (lat\\times 1.5\\times 100)+(lon-100)}{\\displaystyle (lat\\times 1.5\\times 100)+(lon-100)}。\n",
        "\n",
        "\n",
        "\n",
        "\n",
        "\n",
        "一次メッシュから三次メッシュまでのxとyを取得する．\n"
      ]
    },
    {
      "cell_type": "code",
      "metadata": {
        "id": "3_fYcab2W9_d",
        "colab_type": "code",
        "colab": {}
      },
      "source": [
        "y1 = int(mesh.text[0:2])\n",
        "x1 = int(mesh.text[2:4])\n",
        "y2 = int(mesh.text[4])\n",
        "x2 = int(mesh.text[5])\n",
        "y3 = int(mesh.text[6])\n",
        "x3 = int(mesh.text[7])\n"
      ],
      "execution_count": 0,
      "outputs": []
    },
    {
      "cell_type": "code",
      "metadata": {
        "id": "F318B6amY6Sz",
        "colab_type": "code",
        "outputId": "a723a139-da9f-4634-8193-90c90e324d24",
        "colab": {
          "base_uri": "https://localhost:8080/",
          "height": 35
        }
      },
      "source": [
        "df['x1'] = x1\n",
        "df['y1'] = y1\n",
        "df['x2'] = x2\n",
        "df['y2'] = y2\n",
        "df['x3'] = x3\n",
        "df['y3'] = y3\n",
        "\n",
        "mesh.text"
      ],
      "execution_count": 0,
      "outputs": [
        {
          "output_type": "execute_result",
          "data": {
            "text/plain": [
              "'51390350'"
            ]
          },
          "metadata": {
            "tags": []
          },
          "execution_count": 18
        }
      ]
    },
    {
      "cell_type": "code",
      "metadata": {
        "id": "CwoqImC3ZRAS",
        "colab_type": "code",
        "outputId": "d70f1567-b277-4777-a4c9-8bed4883e106",
        "colab": {
          "base_uri": "https://localhost:8080/",
          "height": 415
        }
      },
      "source": [
        "df"
      ],
      "execution_count": 0,
      "outputs": [
        {
          "output_type": "execute_result",
          "data": {
            "text/html": [
              "<div>\n",
              "<style scoped>\n",
              "    .dataframe tbody tr th:only-of-type {\n",
              "        vertical-align: middle;\n",
              "    }\n",
              "\n",
              "    .dataframe tbody tr th {\n",
              "        vertical-align: top;\n",
              "    }\n",
              "\n",
              "    .dataframe thead th {\n",
              "        text-align: right;\n",
              "    }\n",
              "</style>\n",
              "<table border=\"1\" class=\"dataframe\">\n",
              "  <thead>\n",
              "    <tr style=\"text-align: right;\">\n",
              "      <th></th>\n",
              "      <th>att</th>\n",
              "      <th>z</th>\n",
              "      <th>n</th>\n",
              "      <th>x4</th>\n",
              "      <th>y4</th>\n",
              "      <th>x1</th>\n",
              "      <th>y1</th>\n",
              "      <th>x2</th>\n",
              "      <th>y2</th>\n",
              "      <th>x3</th>\n",
              "      <th>y3</th>\n",
              "    </tr>\n",
              "  </thead>\n",
              "  <tbody>\n",
              "    <tr>\n",
              "      <th>0</th>\n",
              "      <td>地表面</td>\n",
              "      <td>1.21</td>\n",
              "      <td>2855</td>\n",
              "      <td>155</td>\n",
              "      <td>12</td>\n",
              "      <td>39</td>\n",
              "      <td>51</td>\n",
              "      <td>3</td>\n",
              "      <td>0</td>\n",
              "      <td>0</td>\n",
              "      <td>5</td>\n",
              "    </tr>\n",
              "    <tr>\n",
              "      <th>1</th>\n",
              "      <td>地表面</td>\n",
              "      <td>1.49</td>\n",
              "      <td>2856</td>\n",
              "      <td>156</td>\n",
              "      <td>12</td>\n",
              "      <td>39</td>\n",
              "      <td>51</td>\n",
              "      <td>3</td>\n",
              "      <td>0</td>\n",
              "      <td>0</td>\n",
              "      <td>5</td>\n",
              "    </tr>\n",
              "    <tr>\n",
              "      <th>2</th>\n",
              "      <td>地表面</td>\n",
              "      <td>1.18</td>\n",
              "      <td>2857</td>\n",
              "      <td>157</td>\n",
              "      <td>12</td>\n",
              "      <td>39</td>\n",
              "      <td>51</td>\n",
              "      <td>3</td>\n",
              "      <td>0</td>\n",
              "      <td>0</td>\n",
              "      <td>5</td>\n",
              "    </tr>\n",
              "    <tr>\n",
              "      <th>3</th>\n",
              "      <td>データなし</td>\n",
              "      <td>-9999.00</td>\n",
              "      <td>2858</td>\n",
              "      <td>158</td>\n",
              "      <td>12</td>\n",
              "      <td>39</td>\n",
              "      <td>51</td>\n",
              "      <td>3</td>\n",
              "      <td>0</td>\n",
              "      <td>0</td>\n",
              "      <td>5</td>\n",
              "    </tr>\n",
              "    <tr>\n",
              "      <th>4</th>\n",
              "      <td>データなし</td>\n",
              "      <td>-9999.00</td>\n",
              "      <td>2859</td>\n",
              "      <td>159</td>\n",
              "      <td>12</td>\n",
              "      <td>39</td>\n",
              "      <td>51</td>\n",
              "      <td>3</td>\n",
              "      <td>0</td>\n",
              "      <td>0</td>\n",
              "      <td>5</td>\n",
              "    </tr>\n",
              "    <tr>\n",
              "      <th>...</th>\n",
              "      <td>...</td>\n",
              "      <td>...</td>\n",
              "      <td>...</td>\n",
              "      <td>...</td>\n",
              "      <td>...</td>\n",
              "      <td>...</td>\n",
              "      <td>...</td>\n",
              "      <td>...</td>\n",
              "      <td>...</td>\n",
              "      <td>...</td>\n",
              "      <td>...</td>\n",
              "    </tr>\n",
              "    <tr>\n",
              "      <th>21160</th>\n",
              "      <td>データなし</td>\n",
              "      <td>-9999.00</td>\n",
              "      <td>24015</td>\n",
              "      <td>165</td>\n",
              "      <td>106</td>\n",
              "      <td>39</td>\n",
              "      <td>51</td>\n",
              "      <td>3</td>\n",
              "      <td>0</td>\n",
              "      <td>0</td>\n",
              "      <td>5</td>\n",
              "    </tr>\n",
              "    <tr>\n",
              "      <th>21161</th>\n",
              "      <td>データなし</td>\n",
              "      <td>-9999.00</td>\n",
              "      <td>24016</td>\n",
              "      <td>166</td>\n",
              "      <td>106</td>\n",
              "      <td>39</td>\n",
              "      <td>51</td>\n",
              "      <td>3</td>\n",
              "      <td>0</td>\n",
              "      <td>0</td>\n",
              "      <td>5</td>\n",
              "    </tr>\n",
              "    <tr>\n",
              "      <th>21162</th>\n",
              "      <td>データなし</td>\n",
              "      <td>-9999.00</td>\n",
              "      <td>24017</td>\n",
              "      <td>167</td>\n",
              "      <td>106</td>\n",
              "      <td>39</td>\n",
              "      <td>51</td>\n",
              "      <td>3</td>\n",
              "      <td>0</td>\n",
              "      <td>0</td>\n",
              "      <td>5</td>\n",
              "    </tr>\n",
              "    <tr>\n",
              "      <th>21163</th>\n",
              "      <td>データなし</td>\n",
              "      <td>-9999.00</td>\n",
              "      <td>24018</td>\n",
              "      <td>168</td>\n",
              "      <td>106</td>\n",
              "      <td>39</td>\n",
              "      <td>51</td>\n",
              "      <td>3</td>\n",
              "      <td>0</td>\n",
              "      <td>0</td>\n",
              "      <td>5</td>\n",
              "    </tr>\n",
              "    <tr>\n",
              "      <th>21164</th>\n",
              "      <td>地表面</td>\n",
              "      <td>2.13</td>\n",
              "      <td>24019</td>\n",
              "      <td>169</td>\n",
              "      <td>106</td>\n",
              "      <td>39</td>\n",
              "      <td>51</td>\n",
              "      <td>3</td>\n",
              "      <td>0</td>\n",
              "      <td>0</td>\n",
              "      <td>5</td>\n",
              "    </tr>\n",
              "  </tbody>\n",
              "</table>\n",
              "<p>21165 rows × 11 columns</p>\n",
              "</div>"
            ],
            "text/plain": [
              "         att        z      n   x4   y4  x1  y1  x2  y2  x3  y3\n",
              "0        地表面     1.21   2855  155   12  39  51   3   0   0   5\n",
              "1        地表面     1.49   2856  156   12  39  51   3   0   0   5\n",
              "2        地表面     1.18   2857  157   12  39  51   3   0   0   5\n",
              "3      データなし -9999.00   2858  158   12  39  51   3   0   0   5\n",
              "4      データなし -9999.00   2859  159   12  39  51   3   0   0   5\n",
              "...      ...      ...    ...  ...  ...  ..  ..  ..  ..  ..  ..\n",
              "21160  データなし -9999.00  24015  165  106  39  51   3   0   0   5\n",
              "21161  データなし -9999.00  24016  166  106  39  51   3   0   0   5\n",
              "21162  データなし -9999.00  24017  167  106  39  51   3   0   0   5\n",
              "21163  データなし -9999.00  24018  168  106  39  51   3   0   0   5\n",
              "21164    地表面     2.13  24019  169  106  39  51   3   0   0   5\n",
              "\n",
              "[21165 rows x 11 columns]"
            ]
          },
          "metadata": {
            "tags": []
          },
          "execution_count": 19
        }
      ]
    },
    {
      "cell_type": "code",
      "metadata": {
        "id": "xrOd5iJ8sYMr",
        "colab_type": "code",
        "colab": {}
      },
      "source": [
        "df['x'] = df['x4'] + (df['x3'] * cols) + (df['x2'] * 10 * cols) + (df['x1'] * 10 * 10 * cols)\n",
        "df['y'] = df['y4'] + ((10 - df['y3']) * rows) + ((10 - df['y2']) * 10 * rows) + ((100 - df['y1']) * 10 * 10 * rows)\n"
      ],
      "execution_count": 0,
      "outputs": []
    },
    {
      "cell_type": "markdown",
      "metadata": {
        "id": "lMZ4Ov146SGe",
        "colab_type": "text"
      },
      "source": [
        "座標埋め込みの原点（北西端の緯度経度）を取得する．\n",
        "北西端の座標は`gml:upperCorner`と`gml:lowerCorner`から取得できる．\n",
        "`gml:upperCorner`と`gml:lowerCorner`はそれぞれ北東端と南西端の座標を示しており，\n",
        "スペースで区切られている．\n",
        "`split()`使って緯度と経度を分割してリスト化し，左上X（`ULX`，Upper Left X），左上Y（`ULY`），右下X（`LRX`，Lower Right X），右下Y（`LRY`）を`float()`で実数にキャストして格納する．\n"
      ]
    },
    {
      "cell_type": "code",
      "metadata": {
        "id": "A24gMfh86pN1",
        "colab_type": "code",
        "outputId": "1ca71186-5755-4bfe-ea92-5afecff02b66",
        "colab": {
          "base_uri": "https://localhost:8080/",
          "height": 34
        }
      },
      "source": [
        "uppercorner = elem.find('.//gml:upperCorner', ns)\n",
        "lowercorner = elem.find('.//gml:lowerCorner', ns)\n",
        "\n",
        "ULX = float(lowercorner.text.split(' ')[1])\n",
        "ULY = float(uppercorner.text.split(' ')[0])\n",
        "LRX = float(uppercorner.text.split(' ')[1])\n",
        "LRY = float(lowercorner.text.split(' ')[0])\n",
        "print(ULX, ULY, LRX, LRY)"
      ],
      "execution_count": 0,
      "outputs": [
        {
          "output_type": "stream",
          "text": [
            "139.375 34.05 139.3875 34.041666667\n"
          ],
          "name": "stdout"
        }
      ]
    },
    {
      "cell_type": "markdown",
      "metadata": {
        "id": "Rx8Hc7KckR6K",
        "colab_type": "text"
      },
      "source": [
        "次に標高値ひとつあたりのX方向の長さ（単位は十進経度）とY方向の長さ（単位は十進緯度）を求める．\n",
        "X方向の長さは右側経度`LRX`と左側経度`ULX`の差を東西メッシュ数`cols`で割ったものになる．\n",
        "同様にY方向の長さは上側緯度`ULY`と下側緯度`LRY`の差を南北メッシュ数`rows`で割ったものになる．それぞれ`Xsize`と`Ysize`とする．\n",
        "\n",
        "\n",
        "\n"
      ]
    },
    {
      "cell_type": "code",
      "metadata": {
        "id": "2b4lKe-KlzSD",
        "colab_type": "code",
        "outputId": "5735c2f2-554f-4328-f048-f94489e4a588",
        "colab": {
          "base_uri": "https://localhost:8080/",
          "height": 35
        }
      },
      "source": [
        "Xsize = (LRX - ULX) / cols\n",
        "Ysize = (ULY - LRY) / rows\n",
        "print(Xsize, Ysize)"
      ],
      "execution_count": 65,
      "outputs": [
        {
          "output_type": "stream",
          "text": [
            "5.555555555550503e-05 5.555555333335368e-05\n"
          ],
          "name": "stdout"
        }
      ]
    },
    {
      "cell_type": "markdown",
      "metadata": {
        "id": "PRIsX-4el24R",
        "colab_type": "text"
      },
      "source": [
        "xとyを緯度軽度（十進緯度経度）に変換する．\n",
        "標高値の並び順は`gml:sequenceRule`の属性`order`に’書かれている．\n",
        "この場合は`+x-y`になっており，\n",
        "これは開始地点からxがプラス方向（経度がプラス方向，すなわち東方向）にデータが並び，\n",
        "一行分終わったらyがマイナス方向（緯度がマイナス方向，すなわち北半球では南方向）に一行分動くということを表している．\n",
        "\n",
        "\n",
        "\n",
        "\n"
      ]
    },
    {
      "cell_type": "code",
      "metadata": {
        "id": "P9R0bjQqn0uC",
        "colab_type": "code",
        "outputId": "6e4f6283-7773-494c-93be-d63d07c5bf04",
        "colab": {
          "base_uri": "https://localhost:8080/",
          "height": 34
        }
      },
      "source": [
        "od = elem.find('.//gml:sequenceRule', ns)\n",
        "od.attrib['order']"
      ],
      "execution_count": 0,
      "outputs": [
        {
          "output_type": "execute_result",
          "data": {
            "text/plain": [
              "'+x-y'"
            ]
          },
          "metadata": {
            "tags": []
          },
          "execution_count": 65
        }
      ]
    },
    {
      "cell_type": "code",
      "metadata": {
        "id": "5uVLb_bDnRDn",
        "colab_type": "code",
        "outputId": "a1ed35cc-99bc-4247-95f0-a5a8d69d5409",
        "colab": {
          "base_uri": "https://localhost:8080/",
          "height": 412
        }
      },
      "source": [
        "df['lon'] = ULX + df['x4'] * Xsize\n",
        "df['lat'] = ULY - df['y4'] * Ysize\n",
        "df"
      ],
      "execution_count": 68,
      "outputs": [
        {
          "output_type": "execute_result",
          "data": {
            "text/html": [
              "<div>\n",
              "<style scoped>\n",
              "    .dataframe tbody tr th:only-of-type {\n",
              "        vertical-align: middle;\n",
              "    }\n",
              "\n",
              "    .dataframe tbody tr th {\n",
              "        vertical-align: top;\n",
              "    }\n",
              "\n",
              "    .dataframe thead th {\n",
              "        text-align: right;\n",
              "    }\n",
              "</style>\n",
              "<table border=\"1\" class=\"dataframe\">\n",
              "  <thead>\n",
              "    <tr style=\"text-align: right;\">\n",
              "      <th></th>\n",
              "      <th>att</th>\n",
              "      <th>z</th>\n",
              "      <th>n</th>\n",
              "      <th>x4</th>\n",
              "      <th>y4</th>\n",
              "      <th>x1</th>\n",
              "      <th>y1</th>\n",
              "      <th>x2</th>\n",
              "      <th>y2</th>\n",
              "      <th>x3</th>\n",
              "      <th>y3</th>\n",
              "      <th>x</th>\n",
              "      <th>y</th>\n",
              "      <th>lon</th>\n",
              "      <th>lat</th>\n",
              "    </tr>\n",
              "  </thead>\n",
              "  <tbody>\n",
              "    <tr>\n",
              "      <th>0</th>\n",
              "      <td>地表面</td>\n",
              "      <td>2.52</td>\n",
              "      <td>31850</td>\n",
              "      <td>125</td>\n",
              "      <td>141</td>\n",
              "      <td>39</td>\n",
              "      <td>51</td>\n",
              "      <td>4</td>\n",
              "      <td>1</td>\n",
              "      <td>2</td>\n",
              "      <td>5</td>\n",
              "      <td>887075</td>\n",
              "      <td>749391</td>\n",
              "      <td>139.531944</td>\n",
              "      <td>34.125500</td>\n",
              "    </tr>\n",
              "    <tr>\n",
              "      <th>1</th>\n",
              "      <td>地表面</td>\n",
              "      <td>2.62</td>\n",
              "      <td>31851</td>\n",
              "      <td>126</td>\n",
              "      <td>141</td>\n",
              "      <td>39</td>\n",
              "      <td>51</td>\n",
              "      <td>4</td>\n",
              "      <td>1</td>\n",
              "      <td>2</td>\n",
              "      <td>5</td>\n",
              "      <td>887076</td>\n",
              "      <td>749391</td>\n",
              "      <td>139.532000</td>\n",
              "      <td>34.125500</td>\n",
              "    </tr>\n",
              "    <tr>\n",
              "      <th>2</th>\n",
              "      <td>データなし</td>\n",
              "      <td>-9999.00</td>\n",
              "      <td>31852</td>\n",
              "      <td>127</td>\n",
              "      <td>141</td>\n",
              "      <td>39</td>\n",
              "      <td>51</td>\n",
              "      <td>4</td>\n",
              "      <td>1</td>\n",
              "      <td>2</td>\n",
              "      <td>5</td>\n",
              "      <td>887077</td>\n",
              "      <td>749391</td>\n",
              "      <td>139.532056</td>\n",
              "      <td>34.125500</td>\n",
              "    </tr>\n",
              "    <tr>\n",
              "      <th>3</th>\n",
              "      <td>データなし</td>\n",
              "      <td>-9999.00</td>\n",
              "      <td>31853</td>\n",
              "      <td>128</td>\n",
              "      <td>141</td>\n",
              "      <td>39</td>\n",
              "      <td>51</td>\n",
              "      <td>4</td>\n",
              "      <td>1</td>\n",
              "      <td>2</td>\n",
              "      <td>5</td>\n",
              "      <td>887078</td>\n",
              "      <td>749391</td>\n",
              "      <td>139.532111</td>\n",
              "      <td>34.125500</td>\n",
              "    </tr>\n",
              "    <tr>\n",
              "      <th>4</th>\n",
              "      <td>データなし</td>\n",
              "      <td>-9999.00</td>\n",
              "      <td>31854</td>\n",
              "      <td>129</td>\n",
              "      <td>141</td>\n",
              "      <td>39</td>\n",
              "      <td>51</td>\n",
              "      <td>4</td>\n",
              "      <td>1</td>\n",
              "      <td>2</td>\n",
              "      <td>5</td>\n",
              "      <td>887079</td>\n",
              "      <td>749391</td>\n",
              "      <td>139.532167</td>\n",
              "      <td>34.125500</td>\n",
              "    </tr>\n",
              "    <tr>\n",
              "      <th>...</th>\n",
              "      <td>...</td>\n",
              "      <td>...</td>\n",
              "      <td>...</td>\n",
              "      <td>...</td>\n",
              "      <td>...</td>\n",
              "      <td>...</td>\n",
              "      <td>...</td>\n",
              "      <td>...</td>\n",
              "      <td>...</td>\n",
              "      <td>...</td>\n",
              "      <td>...</td>\n",
              "      <td>...</td>\n",
              "      <td>...</td>\n",
              "      <td>...</td>\n",
              "      <td>...</td>\n",
              "    </tr>\n",
              "    <tr>\n",
              "      <th>1801</th>\n",
              "      <td>データなし</td>\n",
              "      <td>-9999.00</td>\n",
              "      <td>33651</td>\n",
              "      <td>126</td>\n",
              "      <td>149</td>\n",
              "      <td>39</td>\n",
              "      <td>51</td>\n",
              "      <td>4</td>\n",
              "      <td>1</td>\n",
              "      <td>2</td>\n",
              "      <td>5</td>\n",
              "      <td>887076</td>\n",
              "      <td>749399</td>\n",
              "      <td>139.532000</td>\n",
              "      <td>34.125056</td>\n",
              "    </tr>\n",
              "    <tr>\n",
              "      <th>1802</th>\n",
              "      <td>データなし</td>\n",
              "      <td>-9999.00</td>\n",
              "      <td>33652</td>\n",
              "      <td>127</td>\n",
              "      <td>149</td>\n",
              "      <td>39</td>\n",
              "      <td>51</td>\n",
              "      <td>4</td>\n",
              "      <td>1</td>\n",
              "      <td>2</td>\n",
              "      <td>5</td>\n",
              "      <td>887077</td>\n",
              "      <td>749399</td>\n",
              "      <td>139.532056</td>\n",
              "      <td>34.125056</td>\n",
              "    </tr>\n",
              "    <tr>\n",
              "      <th>1803</th>\n",
              "      <td>地表面</td>\n",
              "      <td>1.48</td>\n",
              "      <td>33653</td>\n",
              "      <td>128</td>\n",
              "      <td>149</td>\n",
              "      <td>39</td>\n",
              "      <td>51</td>\n",
              "      <td>4</td>\n",
              "      <td>1</td>\n",
              "      <td>2</td>\n",
              "      <td>5</td>\n",
              "      <td>887078</td>\n",
              "      <td>749399</td>\n",
              "      <td>139.532111</td>\n",
              "      <td>34.125056</td>\n",
              "    </tr>\n",
              "    <tr>\n",
              "      <th>1804</th>\n",
              "      <td>地表面</td>\n",
              "      <td>2.61</td>\n",
              "      <td>33654</td>\n",
              "      <td>129</td>\n",
              "      <td>149</td>\n",
              "      <td>39</td>\n",
              "      <td>51</td>\n",
              "      <td>4</td>\n",
              "      <td>1</td>\n",
              "      <td>2</td>\n",
              "      <td>5</td>\n",
              "      <td>887079</td>\n",
              "      <td>749399</td>\n",
              "      <td>139.532167</td>\n",
              "      <td>34.125056</td>\n",
              "    </tr>\n",
              "    <tr>\n",
              "      <th>1805</th>\n",
              "      <td>地表面</td>\n",
              "      <td>5.80</td>\n",
              "      <td>33655</td>\n",
              "      <td>130</td>\n",
              "      <td>149</td>\n",
              "      <td>39</td>\n",
              "      <td>51</td>\n",
              "      <td>4</td>\n",
              "      <td>1</td>\n",
              "      <td>2</td>\n",
              "      <td>5</td>\n",
              "      <td>887080</td>\n",
              "      <td>749399</td>\n",
              "      <td>139.532222</td>\n",
              "      <td>34.125056</td>\n",
              "    </tr>\n",
              "  </tbody>\n",
              "</table>\n",
              "<p>1806 rows × 15 columns</p>\n",
              "</div>"
            ],
            "text/plain": [
              "        att        z      n   x4  ...       x       y         lon        lat\n",
              "0       地表面     2.52  31850  125  ...  887075  749391  139.531944  34.125500\n",
              "1       地表面     2.62  31851  126  ...  887076  749391  139.532000  34.125500\n",
              "2     データなし -9999.00  31852  127  ...  887077  749391  139.532056  34.125500\n",
              "3     データなし -9999.00  31853  128  ...  887078  749391  139.532111  34.125500\n",
              "4     データなし -9999.00  31854  129  ...  887079  749391  139.532167  34.125500\n",
              "...     ...      ...    ...  ...  ...     ...     ...         ...        ...\n",
              "1801  データなし -9999.00  33651  126  ...  887076  749399  139.532000  34.125056\n",
              "1802  データなし -9999.00  33652  127  ...  887077  749399  139.532056  34.125056\n",
              "1803    地表面     1.48  33653  128  ...  887078  749399  139.532111  34.125056\n",
              "1804    地表面     2.61  33654  129  ...  887079  749399  139.532167  34.125056\n",
              "1805    地表面     5.80  33655  130  ...  887080  749399  139.532222  34.125056\n",
              "\n",
              "[1806 rows x 15 columns]"
            ]
          },
          "metadata": {
            "tags": []
          },
          "execution_count": 68
        }
      ]
    },
    {
      "cell_type": "markdown",
      "metadata": {
        "id": "lKjs13-yJ77z",
        "colab_type": "text"
      },
      "source": [
        "`lat`と`lon`で`z`をピボットする．\n",
        "値がない場所は`-9999`とする．"
      ]
    },
    {
      "cell_type": "code",
      "metadata": {
        "id": "BDjObzulJZ8q",
        "colab_type": "code",
        "outputId": "17609b1e-1aab-44b4-8f29-0fb7967a5d12",
        "colab": {
          "base_uri": "https://localhost:8080/",
          "height": 402
        }
      },
      "source": [
        "dem = df.pivot_table(index = 'y', columns = 'x', values = 'z', fill_value = -9999)\n",
        "# dem = dem.sort_index(ascending = False)\n",
        "dem = dem.sort_index()\n",
        "\n",
        "dem"
      ],
      "execution_count": 69,
      "outputs": [
        {
          "output_type": "execute_result",
          "data": {
            "text/html": [
              "<div>\n",
              "<style scoped>\n",
              "    .dataframe tbody tr th:only-of-type {\n",
              "        vertical-align: middle;\n",
              "    }\n",
              "\n",
              "    .dataframe tbody tr th {\n",
              "        vertical-align: top;\n",
              "    }\n",
              "\n",
              "    .dataframe thead th {\n",
              "        text-align: right;\n",
              "    }\n",
              "</style>\n",
              "<table border=\"1\" class=\"dataframe\">\n",
              "  <thead>\n",
              "    <tr style=\"text-align: right;\">\n",
              "      <th>x</th>\n",
              "      <th>886950</th>\n",
              "      <th>886951</th>\n",
              "      <th>886952</th>\n",
              "      <th>886953</th>\n",
              "      <th>886954</th>\n",
              "      <th>886955</th>\n",
              "      <th>886956</th>\n",
              "      <th>886957</th>\n",
              "      <th>886958</th>\n",
              "      <th>886959</th>\n",
              "      <th>886960</th>\n",
              "      <th>886961</th>\n",
              "      <th>886962</th>\n",
              "      <th>886963</th>\n",
              "      <th>886964</th>\n",
              "      <th>886965</th>\n",
              "      <th>886966</th>\n",
              "      <th>886967</th>\n",
              "      <th>886968</th>\n",
              "      <th>886969</th>\n",
              "      <th>886970</th>\n",
              "      <th>886971</th>\n",
              "      <th>886972</th>\n",
              "      <th>886973</th>\n",
              "      <th>886974</th>\n",
              "      <th>886975</th>\n",
              "      <th>886976</th>\n",
              "      <th>886977</th>\n",
              "      <th>886978</th>\n",
              "      <th>886979</th>\n",
              "      <th>886980</th>\n",
              "      <th>886981</th>\n",
              "      <th>886982</th>\n",
              "      <th>886983</th>\n",
              "      <th>886984</th>\n",
              "      <th>886985</th>\n",
              "      <th>886986</th>\n",
              "      <th>886987</th>\n",
              "      <th>886988</th>\n",
              "      <th>886989</th>\n",
              "      <th>...</th>\n",
              "      <th>887135</th>\n",
              "      <th>887136</th>\n",
              "      <th>887137</th>\n",
              "      <th>887138</th>\n",
              "      <th>887139</th>\n",
              "      <th>887140</th>\n",
              "      <th>887141</th>\n",
              "      <th>887142</th>\n",
              "      <th>887143</th>\n",
              "      <th>887144</th>\n",
              "      <th>887145</th>\n",
              "      <th>887146</th>\n",
              "      <th>887147</th>\n",
              "      <th>887148</th>\n",
              "      <th>887149</th>\n",
              "      <th>887150</th>\n",
              "      <th>887151</th>\n",
              "      <th>887152</th>\n",
              "      <th>887153</th>\n",
              "      <th>887154</th>\n",
              "      <th>887155</th>\n",
              "      <th>887156</th>\n",
              "      <th>887157</th>\n",
              "      <th>887158</th>\n",
              "      <th>887159</th>\n",
              "      <th>887160</th>\n",
              "      <th>887161</th>\n",
              "      <th>887162</th>\n",
              "      <th>887163</th>\n",
              "      <th>887164</th>\n",
              "      <th>887165</th>\n",
              "      <th>887166</th>\n",
              "      <th>887167</th>\n",
              "      <th>887168</th>\n",
              "      <th>887169</th>\n",
              "      <th>887170</th>\n",
              "      <th>887171</th>\n",
              "      <th>887172</th>\n",
              "      <th>887173</th>\n",
              "      <th>887174</th>\n",
              "    </tr>\n",
              "    <tr>\n",
              "      <th>y</th>\n",
              "      <th></th>\n",
              "      <th></th>\n",
              "      <th></th>\n",
              "      <th></th>\n",
              "      <th></th>\n",
              "      <th></th>\n",
              "      <th></th>\n",
              "      <th></th>\n",
              "      <th></th>\n",
              "      <th></th>\n",
              "      <th></th>\n",
              "      <th></th>\n",
              "      <th></th>\n",
              "      <th></th>\n",
              "      <th></th>\n",
              "      <th></th>\n",
              "      <th></th>\n",
              "      <th></th>\n",
              "      <th></th>\n",
              "      <th></th>\n",
              "      <th></th>\n",
              "      <th></th>\n",
              "      <th></th>\n",
              "      <th></th>\n",
              "      <th></th>\n",
              "      <th></th>\n",
              "      <th></th>\n",
              "      <th></th>\n",
              "      <th></th>\n",
              "      <th></th>\n",
              "      <th></th>\n",
              "      <th></th>\n",
              "      <th></th>\n",
              "      <th></th>\n",
              "      <th></th>\n",
              "      <th></th>\n",
              "      <th></th>\n",
              "      <th></th>\n",
              "      <th></th>\n",
              "      <th></th>\n",
              "      <th></th>\n",
              "      <th></th>\n",
              "      <th></th>\n",
              "      <th></th>\n",
              "      <th></th>\n",
              "      <th></th>\n",
              "      <th></th>\n",
              "      <th></th>\n",
              "      <th></th>\n",
              "      <th></th>\n",
              "      <th></th>\n",
              "      <th></th>\n",
              "      <th></th>\n",
              "      <th></th>\n",
              "      <th></th>\n",
              "      <th></th>\n",
              "      <th></th>\n",
              "      <th></th>\n",
              "      <th></th>\n",
              "      <th></th>\n",
              "      <th></th>\n",
              "      <th></th>\n",
              "      <th></th>\n",
              "      <th></th>\n",
              "      <th></th>\n",
              "      <th></th>\n",
              "      <th></th>\n",
              "      <th></th>\n",
              "      <th></th>\n",
              "      <th></th>\n",
              "      <th></th>\n",
              "      <th></th>\n",
              "      <th></th>\n",
              "      <th></th>\n",
              "      <th></th>\n",
              "      <th></th>\n",
              "      <th></th>\n",
              "      <th></th>\n",
              "      <th></th>\n",
              "      <th></th>\n",
              "      <th></th>\n",
              "    </tr>\n",
              "  </thead>\n",
              "  <tbody>\n",
              "    <tr>\n",
              "      <th>749391</th>\n",
              "      <td>-9999</td>\n",
              "      <td>-9999</td>\n",
              "      <td>-9999</td>\n",
              "      <td>-9999</td>\n",
              "      <td>-9999</td>\n",
              "      <td>-9999</td>\n",
              "      <td>-9999</td>\n",
              "      <td>-9999</td>\n",
              "      <td>-9999</td>\n",
              "      <td>-9999</td>\n",
              "      <td>-9999</td>\n",
              "      <td>-9999</td>\n",
              "      <td>-9999</td>\n",
              "      <td>-9999</td>\n",
              "      <td>-9999</td>\n",
              "      <td>-9999</td>\n",
              "      <td>-9999</td>\n",
              "      <td>-9999</td>\n",
              "      <td>-9999</td>\n",
              "      <td>-9999</td>\n",
              "      <td>-9999</td>\n",
              "      <td>-9999</td>\n",
              "      <td>-9999</td>\n",
              "      <td>-9999</td>\n",
              "      <td>-9999</td>\n",
              "      <td>-9999</td>\n",
              "      <td>-9999</td>\n",
              "      <td>-9999</td>\n",
              "      <td>-9999</td>\n",
              "      <td>-9999</td>\n",
              "      <td>-9999</td>\n",
              "      <td>-9999</td>\n",
              "      <td>-9999</td>\n",
              "      <td>-9999</td>\n",
              "      <td>-9999</td>\n",
              "      <td>-9999</td>\n",
              "      <td>-9999</td>\n",
              "      <td>-9999</td>\n",
              "      <td>-9999</td>\n",
              "      <td>-9999</td>\n",
              "      <td>...</td>\n",
              "      <td>-9999</td>\n",
              "      <td>-9999</td>\n",
              "      <td>-9999</td>\n",
              "      <td>-9999</td>\n",
              "      <td>-9999</td>\n",
              "      <td>-9999</td>\n",
              "      <td>-9999</td>\n",
              "      <td>-9999</td>\n",
              "      <td>-9999</td>\n",
              "      <td>-9999</td>\n",
              "      <td>-9999</td>\n",
              "      <td>-9999</td>\n",
              "      <td>-9999</td>\n",
              "      <td>-9999</td>\n",
              "      <td>-9999</td>\n",
              "      <td>-9999</td>\n",
              "      <td>-9999</td>\n",
              "      <td>-9999</td>\n",
              "      <td>-9999</td>\n",
              "      <td>-9999</td>\n",
              "      <td>-9999</td>\n",
              "      <td>-9999</td>\n",
              "      <td>-9999</td>\n",
              "      <td>-9999</td>\n",
              "      <td>-9999</td>\n",
              "      <td>-9999</td>\n",
              "      <td>-9999</td>\n",
              "      <td>-9999</td>\n",
              "      <td>-9999</td>\n",
              "      <td>-9999</td>\n",
              "      <td>-9999</td>\n",
              "      <td>-9999</td>\n",
              "      <td>-9999</td>\n",
              "      <td>-9999</td>\n",
              "      <td>-9999</td>\n",
              "      <td>-9999</td>\n",
              "      <td>-9999</td>\n",
              "      <td>-9999</td>\n",
              "      <td>-9999</td>\n",
              "      <td>-9999</td>\n",
              "    </tr>\n",
              "    <tr>\n",
              "      <th>749392</th>\n",
              "      <td>-9999</td>\n",
              "      <td>-9999</td>\n",
              "      <td>-9999</td>\n",
              "      <td>-9999</td>\n",
              "      <td>-9999</td>\n",
              "      <td>-9999</td>\n",
              "      <td>-9999</td>\n",
              "      <td>-9999</td>\n",
              "      <td>-9999</td>\n",
              "      <td>-9999</td>\n",
              "      <td>-9999</td>\n",
              "      <td>-9999</td>\n",
              "      <td>-9999</td>\n",
              "      <td>-9999</td>\n",
              "      <td>-9999</td>\n",
              "      <td>-9999</td>\n",
              "      <td>-9999</td>\n",
              "      <td>-9999</td>\n",
              "      <td>-9999</td>\n",
              "      <td>-9999</td>\n",
              "      <td>-9999</td>\n",
              "      <td>-9999</td>\n",
              "      <td>-9999</td>\n",
              "      <td>-9999</td>\n",
              "      <td>-9999</td>\n",
              "      <td>-9999</td>\n",
              "      <td>-9999</td>\n",
              "      <td>-9999</td>\n",
              "      <td>-9999</td>\n",
              "      <td>-9999</td>\n",
              "      <td>-9999</td>\n",
              "      <td>-9999</td>\n",
              "      <td>-9999</td>\n",
              "      <td>-9999</td>\n",
              "      <td>-9999</td>\n",
              "      <td>-9999</td>\n",
              "      <td>-9999</td>\n",
              "      <td>-9999</td>\n",
              "      <td>-9999</td>\n",
              "      <td>-9999</td>\n",
              "      <td>...</td>\n",
              "      <td>-9999</td>\n",
              "      <td>-9999</td>\n",
              "      <td>-9999</td>\n",
              "      <td>-9999</td>\n",
              "      <td>-9999</td>\n",
              "      <td>-9999</td>\n",
              "      <td>-9999</td>\n",
              "      <td>-9999</td>\n",
              "      <td>-9999</td>\n",
              "      <td>-9999</td>\n",
              "      <td>-9999</td>\n",
              "      <td>-9999</td>\n",
              "      <td>-9999</td>\n",
              "      <td>-9999</td>\n",
              "      <td>-9999</td>\n",
              "      <td>-9999</td>\n",
              "      <td>-9999</td>\n",
              "      <td>-9999</td>\n",
              "      <td>-9999</td>\n",
              "      <td>-9999</td>\n",
              "      <td>-9999</td>\n",
              "      <td>-9999</td>\n",
              "      <td>-9999</td>\n",
              "      <td>-9999</td>\n",
              "      <td>-9999</td>\n",
              "      <td>-9999</td>\n",
              "      <td>-9999</td>\n",
              "      <td>-9999</td>\n",
              "      <td>-9999</td>\n",
              "      <td>-9999</td>\n",
              "      <td>-9999</td>\n",
              "      <td>-9999</td>\n",
              "      <td>-9999</td>\n",
              "      <td>-9999</td>\n",
              "      <td>-9999</td>\n",
              "      <td>-9999</td>\n",
              "      <td>-9999</td>\n",
              "      <td>-9999</td>\n",
              "      <td>-9999</td>\n",
              "      <td>-9999</td>\n",
              "    </tr>\n",
              "    <tr>\n",
              "      <th>749393</th>\n",
              "      <td>-9999</td>\n",
              "      <td>-9999</td>\n",
              "      <td>-9999</td>\n",
              "      <td>-9999</td>\n",
              "      <td>-9999</td>\n",
              "      <td>-9999</td>\n",
              "      <td>-9999</td>\n",
              "      <td>-9999</td>\n",
              "      <td>-9999</td>\n",
              "      <td>-9999</td>\n",
              "      <td>-9999</td>\n",
              "      <td>-9999</td>\n",
              "      <td>-9999</td>\n",
              "      <td>-9999</td>\n",
              "      <td>-9999</td>\n",
              "      <td>-9999</td>\n",
              "      <td>-9999</td>\n",
              "      <td>-9999</td>\n",
              "      <td>-9999</td>\n",
              "      <td>-9999</td>\n",
              "      <td>-9999</td>\n",
              "      <td>-9999</td>\n",
              "      <td>-9999</td>\n",
              "      <td>-9999</td>\n",
              "      <td>-9999</td>\n",
              "      <td>-9999</td>\n",
              "      <td>-9999</td>\n",
              "      <td>-9999</td>\n",
              "      <td>-9999</td>\n",
              "      <td>-9999</td>\n",
              "      <td>-9999</td>\n",
              "      <td>-9999</td>\n",
              "      <td>-9999</td>\n",
              "      <td>-9999</td>\n",
              "      <td>-9999</td>\n",
              "      <td>-9999</td>\n",
              "      <td>-9999</td>\n",
              "      <td>-9999</td>\n",
              "      <td>-9999</td>\n",
              "      <td>-9999</td>\n",
              "      <td>...</td>\n",
              "      <td>-9999</td>\n",
              "      <td>-9999</td>\n",
              "      <td>-9999</td>\n",
              "      <td>-9999</td>\n",
              "      <td>-9999</td>\n",
              "      <td>-9999</td>\n",
              "      <td>-9999</td>\n",
              "      <td>-9999</td>\n",
              "      <td>-9999</td>\n",
              "      <td>-9999</td>\n",
              "      <td>-9999</td>\n",
              "      <td>-9999</td>\n",
              "      <td>-9999</td>\n",
              "      <td>-9999</td>\n",
              "      <td>-9999</td>\n",
              "      <td>-9999</td>\n",
              "      <td>-9999</td>\n",
              "      <td>-9999</td>\n",
              "      <td>-9999</td>\n",
              "      <td>-9999</td>\n",
              "      <td>-9999</td>\n",
              "      <td>-9999</td>\n",
              "      <td>-9999</td>\n",
              "      <td>-9999</td>\n",
              "      <td>-9999</td>\n",
              "      <td>-9999</td>\n",
              "      <td>-9999</td>\n",
              "      <td>-9999</td>\n",
              "      <td>-9999</td>\n",
              "      <td>-9999</td>\n",
              "      <td>-9999</td>\n",
              "      <td>-9999</td>\n",
              "      <td>-9999</td>\n",
              "      <td>-9999</td>\n",
              "      <td>-9999</td>\n",
              "      <td>-9999</td>\n",
              "      <td>-9999</td>\n",
              "      <td>-9999</td>\n",
              "      <td>-9999</td>\n",
              "      <td>-9999</td>\n",
              "    </tr>\n",
              "    <tr>\n",
              "      <th>749394</th>\n",
              "      <td>-9999</td>\n",
              "      <td>-9999</td>\n",
              "      <td>-9999</td>\n",
              "      <td>-9999</td>\n",
              "      <td>-9999</td>\n",
              "      <td>-9999</td>\n",
              "      <td>-9999</td>\n",
              "      <td>-9999</td>\n",
              "      <td>-9999</td>\n",
              "      <td>-9999</td>\n",
              "      <td>-9999</td>\n",
              "      <td>-9999</td>\n",
              "      <td>-9999</td>\n",
              "      <td>-9999</td>\n",
              "      <td>-9999</td>\n",
              "      <td>-9999</td>\n",
              "      <td>-9999</td>\n",
              "      <td>-9999</td>\n",
              "      <td>-9999</td>\n",
              "      <td>-9999</td>\n",
              "      <td>-9999</td>\n",
              "      <td>-9999</td>\n",
              "      <td>-9999</td>\n",
              "      <td>-9999</td>\n",
              "      <td>-9999</td>\n",
              "      <td>-9999</td>\n",
              "      <td>-9999</td>\n",
              "      <td>-9999</td>\n",
              "      <td>-9999</td>\n",
              "      <td>-9999</td>\n",
              "      <td>-9999</td>\n",
              "      <td>-9999</td>\n",
              "      <td>-9999</td>\n",
              "      <td>-9999</td>\n",
              "      <td>-9999</td>\n",
              "      <td>-9999</td>\n",
              "      <td>-9999</td>\n",
              "      <td>-9999</td>\n",
              "      <td>-9999</td>\n",
              "      <td>-9999</td>\n",
              "      <td>...</td>\n",
              "      <td>-9999</td>\n",
              "      <td>-9999</td>\n",
              "      <td>-9999</td>\n",
              "      <td>-9999</td>\n",
              "      <td>-9999</td>\n",
              "      <td>-9999</td>\n",
              "      <td>-9999</td>\n",
              "      <td>-9999</td>\n",
              "      <td>-9999</td>\n",
              "      <td>-9999</td>\n",
              "      <td>-9999</td>\n",
              "      <td>-9999</td>\n",
              "      <td>-9999</td>\n",
              "      <td>-9999</td>\n",
              "      <td>-9999</td>\n",
              "      <td>-9999</td>\n",
              "      <td>-9999</td>\n",
              "      <td>-9999</td>\n",
              "      <td>-9999</td>\n",
              "      <td>-9999</td>\n",
              "      <td>-9999</td>\n",
              "      <td>-9999</td>\n",
              "      <td>-9999</td>\n",
              "      <td>-9999</td>\n",
              "      <td>-9999</td>\n",
              "      <td>-9999</td>\n",
              "      <td>-9999</td>\n",
              "      <td>-9999</td>\n",
              "      <td>-9999</td>\n",
              "      <td>-9999</td>\n",
              "      <td>-9999</td>\n",
              "      <td>-9999</td>\n",
              "      <td>-9999</td>\n",
              "      <td>-9999</td>\n",
              "      <td>-9999</td>\n",
              "      <td>-9999</td>\n",
              "      <td>-9999</td>\n",
              "      <td>-9999</td>\n",
              "      <td>-9999</td>\n",
              "      <td>-9999</td>\n",
              "    </tr>\n",
              "    <tr>\n",
              "      <th>749395</th>\n",
              "      <td>-9999</td>\n",
              "      <td>-9999</td>\n",
              "      <td>-9999</td>\n",
              "      <td>-9999</td>\n",
              "      <td>-9999</td>\n",
              "      <td>-9999</td>\n",
              "      <td>-9999</td>\n",
              "      <td>-9999</td>\n",
              "      <td>-9999</td>\n",
              "      <td>-9999</td>\n",
              "      <td>-9999</td>\n",
              "      <td>-9999</td>\n",
              "      <td>-9999</td>\n",
              "      <td>-9999</td>\n",
              "      <td>-9999</td>\n",
              "      <td>-9999</td>\n",
              "      <td>-9999</td>\n",
              "      <td>-9999</td>\n",
              "      <td>-9999</td>\n",
              "      <td>-9999</td>\n",
              "      <td>-9999</td>\n",
              "      <td>-9999</td>\n",
              "      <td>-9999</td>\n",
              "      <td>-9999</td>\n",
              "      <td>-9999</td>\n",
              "      <td>-9999</td>\n",
              "      <td>-9999</td>\n",
              "      <td>-9999</td>\n",
              "      <td>-9999</td>\n",
              "      <td>-9999</td>\n",
              "      <td>-9999</td>\n",
              "      <td>-9999</td>\n",
              "      <td>-9999</td>\n",
              "      <td>-9999</td>\n",
              "      <td>-9999</td>\n",
              "      <td>-9999</td>\n",
              "      <td>-9999</td>\n",
              "      <td>-9999</td>\n",
              "      <td>-9999</td>\n",
              "      <td>-9999</td>\n",
              "      <td>...</td>\n",
              "      <td>-9999</td>\n",
              "      <td>-9999</td>\n",
              "      <td>-9999</td>\n",
              "      <td>-9999</td>\n",
              "      <td>-9999</td>\n",
              "      <td>-9999</td>\n",
              "      <td>-9999</td>\n",
              "      <td>-9999</td>\n",
              "      <td>-9999</td>\n",
              "      <td>-9999</td>\n",
              "      <td>-9999</td>\n",
              "      <td>-9999</td>\n",
              "      <td>-9999</td>\n",
              "      <td>-9999</td>\n",
              "      <td>-9999</td>\n",
              "      <td>-9999</td>\n",
              "      <td>-9999</td>\n",
              "      <td>-9999</td>\n",
              "      <td>-9999</td>\n",
              "      <td>-9999</td>\n",
              "      <td>-9999</td>\n",
              "      <td>-9999</td>\n",
              "      <td>-9999</td>\n",
              "      <td>-9999</td>\n",
              "      <td>-9999</td>\n",
              "      <td>-9999</td>\n",
              "      <td>-9999</td>\n",
              "      <td>-9999</td>\n",
              "      <td>-9999</td>\n",
              "      <td>-9999</td>\n",
              "      <td>-9999</td>\n",
              "      <td>-9999</td>\n",
              "      <td>-9999</td>\n",
              "      <td>-9999</td>\n",
              "      <td>-9999</td>\n",
              "      <td>-9999</td>\n",
              "      <td>-9999</td>\n",
              "      <td>-9999</td>\n",
              "      <td>-9999</td>\n",
              "      <td>-9999</td>\n",
              "    </tr>\n",
              "    <tr>\n",
              "      <th>749396</th>\n",
              "      <td>-9999</td>\n",
              "      <td>-9999</td>\n",
              "      <td>-9999</td>\n",
              "      <td>-9999</td>\n",
              "      <td>-9999</td>\n",
              "      <td>-9999</td>\n",
              "      <td>-9999</td>\n",
              "      <td>-9999</td>\n",
              "      <td>-9999</td>\n",
              "      <td>-9999</td>\n",
              "      <td>-9999</td>\n",
              "      <td>-9999</td>\n",
              "      <td>-9999</td>\n",
              "      <td>-9999</td>\n",
              "      <td>-9999</td>\n",
              "      <td>-9999</td>\n",
              "      <td>-9999</td>\n",
              "      <td>-9999</td>\n",
              "      <td>-9999</td>\n",
              "      <td>-9999</td>\n",
              "      <td>-9999</td>\n",
              "      <td>-9999</td>\n",
              "      <td>-9999</td>\n",
              "      <td>-9999</td>\n",
              "      <td>-9999</td>\n",
              "      <td>-9999</td>\n",
              "      <td>-9999</td>\n",
              "      <td>-9999</td>\n",
              "      <td>-9999</td>\n",
              "      <td>-9999</td>\n",
              "      <td>-9999</td>\n",
              "      <td>-9999</td>\n",
              "      <td>-9999</td>\n",
              "      <td>-9999</td>\n",
              "      <td>-9999</td>\n",
              "      <td>-9999</td>\n",
              "      <td>-9999</td>\n",
              "      <td>-9999</td>\n",
              "      <td>-9999</td>\n",
              "      <td>-9999</td>\n",
              "      <td>...</td>\n",
              "      <td>-9999</td>\n",
              "      <td>-9999</td>\n",
              "      <td>-9999</td>\n",
              "      <td>-9999</td>\n",
              "      <td>-9999</td>\n",
              "      <td>-9999</td>\n",
              "      <td>-9999</td>\n",
              "      <td>-9999</td>\n",
              "      <td>-9999</td>\n",
              "      <td>-9999</td>\n",
              "      <td>-9999</td>\n",
              "      <td>-9999</td>\n",
              "      <td>-9999</td>\n",
              "      <td>-9999</td>\n",
              "      <td>-9999</td>\n",
              "      <td>-9999</td>\n",
              "      <td>-9999</td>\n",
              "      <td>-9999</td>\n",
              "      <td>-9999</td>\n",
              "      <td>-9999</td>\n",
              "      <td>-9999</td>\n",
              "      <td>-9999</td>\n",
              "      <td>-9999</td>\n",
              "      <td>-9999</td>\n",
              "      <td>-9999</td>\n",
              "      <td>-9999</td>\n",
              "      <td>-9999</td>\n",
              "      <td>-9999</td>\n",
              "      <td>-9999</td>\n",
              "      <td>-9999</td>\n",
              "      <td>-9999</td>\n",
              "      <td>-9999</td>\n",
              "      <td>-9999</td>\n",
              "      <td>-9999</td>\n",
              "      <td>-9999</td>\n",
              "      <td>-9999</td>\n",
              "      <td>-9999</td>\n",
              "      <td>-9999</td>\n",
              "      <td>-9999</td>\n",
              "      <td>-9999</td>\n",
              "    </tr>\n",
              "    <tr>\n",
              "      <th>749397</th>\n",
              "      <td>-9999</td>\n",
              "      <td>-9999</td>\n",
              "      <td>-9999</td>\n",
              "      <td>-9999</td>\n",
              "      <td>-9999</td>\n",
              "      <td>-9999</td>\n",
              "      <td>-9999</td>\n",
              "      <td>-9999</td>\n",
              "      <td>-9999</td>\n",
              "      <td>-9999</td>\n",
              "      <td>-9999</td>\n",
              "      <td>-9999</td>\n",
              "      <td>-9999</td>\n",
              "      <td>-9999</td>\n",
              "      <td>-9999</td>\n",
              "      <td>-9999</td>\n",
              "      <td>-9999</td>\n",
              "      <td>-9999</td>\n",
              "      <td>-9999</td>\n",
              "      <td>-9999</td>\n",
              "      <td>-9999</td>\n",
              "      <td>-9999</td>\n",
              "      <td>-9999</td>\n",
              "      <td>-9999</td>\n",
              "      <td>-9999</td>\n",
              "      <td>-9999</td>\n",
              "      <td>-9999</td>\n",
              "      <td>-9999</td>\n",
              "      <td>-9999</td>\n",
              "      <td>-9999</td>\n",
              "      <td>-9999</td>\n",
              "      <td>-9999</td>\n",
              "      <td>-9999</td>\n",
              "      <td>-9999</td>\n",
              "      <td>-9999</td>\n",
              "      <td>-9999</td>\n",
              "      <td>-9999</td>\n",
              "      <td>-9999</td>\n",
              "      <td>-9999</td>\n",
              "      <td>-9999</td>\n",
              "      <td>...</td>\n",
              "      <td>-9999</td>\n",
              "      <td>-9999</td>\n",
              "      <td>-9999</td>\n",
              "      <td>-9999</td>\n",
              "      <td>-9999</td>\n",
              "      <td>-9999</td>\n",
              "      <td>-9999</td>\n",
              "      <td>-9999</td>\n",
              "      <td>-9999</td>\n",
              "      <td>-9999</td>\n",
              "      <td>-9999</td>\n",
              "      <td>-9999</td>\n",
              "      <td>-9999</td>\n",
              "      <td>-9999</td>\n",
              "      <td>-9999</td>\n",
              "      <td>-9999</td>\n",
              "      <td>-9999</td>\n",
              "      <td>-9999</td>\n",
              "      <td>-9999</td>\n",
              "      <td>-9999</td>\n",
              "      <td>-9999</td>\n",
              "      <td>-9999</td>\n",
              "      <td>-9999</td>\n",
              "      <td>-9999</td>\n",
              "      <td>-9999</td>\n",
              "      <td>-9999</td>\n",
              "      <td>-9999</td>\n",
              "      <td>-9999</td>\n",
              "      <td>-9999</td>\n",
              "      <td>-9999</td>\n",
              "      <td>-9999</td>\n",
              "      <td>-9999</td>\n",
              "      <td>-9999</td>\n",
              "      <td>-9999</td>\n",
              "      <td>-9999</td>\n",
              "      <td>-9999</td>\n",
              "      <td>-9999</td>\n",
              "      <td>-9999</td>\n",
              "      <td>-9999</td>\n",
              "      <td>-9999</td>\n",
              "    </tr>\n",
              "    <tr>\n",
              "      <th>749398</th>\n",
              "      <td>-9999</td>\n",
              "      <td>-9999</td>\n",
              "      <td>-9999</td>\n",
              "      <td>-9999</td>\n",
              "      <td>-9999</td>\n",
              "      <td>-9999</td>\n",
              "      <td>-9999</td>\n",
              "      <td>-9999</td>\n",
              "      <td>-9999</td>\n",
              "      <td>-9999</td>\n",
              "      <td>-9999</td>\n",
              "      <td>-9999</td>\n",
              "      <td>-9999</td>\n",
              "      <td>-9999</td>\n",
              "      <td>-9999</td>\n",
              "      <td>-9999</td>\n",
              "      <td>-9999</td>\n",
              "      <td>-9999</td>\n",
              "      <td>-9999</td>\n",
              "      <td>-9999</td>\n",
              "      <td>-9999</td>\n",
              "      <td>-9999</td>\n",
              "      <td>-9999</td>\n",
              "      <td>-9999</td>\n",
              "      <td>-9999</td>\n",
              "      <td>-9999</td>\n",
              "      <td>-9999</td>\n",
              "      <td>-9999</td>\n",
              "      <td>-9999</td>\n",
              "      <td>-9999</td>\n",
              "      <td>-9999</td>\n",
              "      <td>-9999</td>\n",
              "      <td>-9999</td>\n",
              "      <td>-9999</td>\n",
              "      <td>-9999</td>\n",
              "      <td>-9999</td>\n",
              "      <td>-9999</td>\n",
              "      <td>-9999</td>\n",
              "      <td>-9999</td>\n",
              "      <td>-9999</td>\n",
              "      <td>...</td>\n",
              "      <td>-9999</td>\n",
              "      <td>-9999</td>\n",
              "      <td>-9999</td>\n",
              "      <td>-9999</td>\n",
              "      <td>-9999</td>\n",
              "      <td>-9999</td>\n",
              "      <td>-9999</td>\n",
              "      <td>-9999</td>\n",
              "      <td>-9999</td>\n",
              "      <td>-9999</td>\n",
              "      <td>-9999</td>\n",
              "      <td>-9999</td>\n",
              "      <td>-9999</td>\n",
              "      <td>-9999</td>\n",
              "      <td>-9999</td>\n",
              "      <td>-9999</td>\n",
              "      <td>-9999</td>\n",
              "      <td>-9999</td>\n",
              "      <td>-9999</td>\n",
              "      <td>-9999</td>\n",
              "      <td>-9999</td>\n",
              "      <td>-9999</td>\n",
              "      <td>-9999</td>\n",
              "      <td>-9999</td>\n",
              "      <td>-9999</td>\n",
              "      <td>-9999</td>\n",
              "      <td>-9999</td>\n",
              "      <td>-9999</td>\n",
              "      <td>-9999</td>\n",
              "      <td>-9999</td>\n",
              "      <td>-9999</td>\n",
              "      <td>-9999</td>\n",
              "      <td>-9999</td>\n",
              "      <td>-9999</td>\n",
              "      <td>-9999</td>\n",
              "      <td>-9999</td>\n",
              "      <td>-9999</td>\n",
              "      <td>-9999</td>\n",
              "      <td>-9999</td>\n",
              "      <td>-9999</td>\n",
              "    </tr>\n",
              "    <tr>\n",
              "      <th>749399</th>\n",
              "      <td>-9999</td>\n",
              "      <td>-9999</td>\n",
              "      <td>-9999</td>\n",
              "      <td>-9999</td>\n",
              "      <td>-9999</td>\n",
              "      <td>-9999</td>\n",
              "      <td>-9999</td>\n",
              "      <td>-9999</td>\n",
              "      <td>-9999</td>\n",
              "      <td>-9999</td>\n",
              "      <td>-9999</td>\n",
              "      <td>-9999</td>\n",
              "      <td>-9999</td>\n",
              "      <td>-9999</td>\n",
              "      <td>-9999</td>\n",
              "      <td>-9999</td>\n",
              "      <td>-9999</td>\n",
              "      <td>-9999</td>\n",
              "      <td>-9999</td>\n",
              "      <td>-9999</td>\n",
              "      <td>-9999</td>\n",
              "      <td>-9999</td>\n",
              "      <td>-9999</td>\n",
              "      <td>-9999</td>\n",
              "      <td>-9999</td>\n",
              "      <td>-9999</td>\n",
              "      <td>-9999</td>\n",
              "      <td>-9999</td>\n",
              "      <td>-9999</td>\n",
              "      <td>-9999</td>\n",
              "      <td>-9999</td>\n",
              "      <td>-9999</td>\n",
              "      <td>-9999</td>\n",
              "      <td>-9999</td>\n",
              "      <td>-9999</td>\n",
              "      <td>-9999</td>\n",
              "      <td>-9999</td>\n",
              "      <td>-9999</td>\n",
              "      <td>-9999</td>\n",
              "      <td>-9999</td>\n",
              "      <td>...</td>\n",
              "      <td>-9999</td>\n",
              "      <td>-9999</td>\n",
              "      <td>-9999</td>\n",
              "      <td>-9999</td>\n",
              "      <td>-9999</td>\n",
              "      <td>-9999</td>\n",
              "      <td>-9999</td>\n",
              "      <td>-9999</td>\n",
              "      <td>-9999</td>\n",
              "      <td>-9999</td>\n",
              "      <td>-9999</td>\n",
              "      <td>-9999</td>\n",
              "      <td>-9999</td>\n",
              "      <td>-9999</td>\n",
              "      <td>-9999</td>\n",
              "      <td>-9999</td>\n",
              "      <td>-9999</td>\n",
              "      <td>-9999</td>\n",
              "      <td>-9999</td>\n",
              "      <td>-9999</td>\n",
              "      <td>-9999</td>\n",
              "      <td>-9999</td>\n",
              "      <td>-9999</td>\n",
              "      <td>-9999</td>\n",
              "      <td>-9999</td>\n",
              "      <td>-9999</td>\n",
              "      <td>-9999</td>\n",
              "      <td>-9999</td>\n",
              "      <td>-9999</td>\n",
              "      <td>-9999</td>\n",
              "      <td>-9999</td>\n",
              "      <td>-9999</td>\n",
              "      <td>-9999</td>\n",
              "      <td>-9999</td>\n",
              "      <td>-9999</td>\n",
              "      <td>-9999</td>\n",
              "      <td>-9999</td>\n",
              "      <td>-9999</td>\n",
              "      <td>-9999</td>\n",
              "      <td>-9999</td>\n",
              "    </tr>\n",
              "  </tbody>\n",
              "</table>\n",
              "<p>9 rows × 225 columns</p>\n",
              "</div>"
            ],
            "text/plain": [
              "x       886950  886951  886952  886953  ...  887171  887172  887173  887174\n",
              "y                                       ...                                \n",
              "749391   -9999   -9999   -9999   -9999  ...   -9999   -9999   -9999   -9999\n",
              "749392   -9999   -9999   -9999   -9999  ...   -9999   -9999   -9999   -9999\n",
              "749393   -9999   -9999   -9999   -9999  ...   -9999   -9999   -9999   -9999\n",
              "749394   -9999   -9999   -9999   -9999  ...   -9999   -9999   -9999   -9999\n",
              "749395   -9999   -9999   -9999   -9999  ...   -9999   -9999   -9999   -9999\n",
              "749396   -9999   -9999   -9999   -9999  ...   -9999   -9999   -9999   -9999\n",
              "749397   -9999   -9999   -9999   -9999  ...   -9999   -9999   -9999   -9999\n",
              "749398   -9999   -9999   -9999   -9999  ...   -9999   -9999   -9999   -9999\n",
              "749399   -9999   -9999   -9999   -9999  ...   -9999   -9999   -9999   -9999\n",
              "\n",
              "[9 rows x 225 columns]"
            ]
          },
          "metadata": {
            "tags": []
          },
          "execution_count": 69
        }
      ]
    },
    {
      "cell_type": "markdown",
      "metadata": {
        "id": "fomv6_Kkt5_s",
        "colab_type": "text"
      },
      "source": [
        "ピボットした標高行列をnumpyのnp.ndarrayに変換する．"
      ]
    },
    {
      "cell_type": "code",
      "metadata": {
        "id": "-ksrm-FXJ57C",
        "colab_type": "code",
        "outputId": "c352f9bc-03ff-4a91-954f-c9afa500dd02",
        "colab": {
          "base_uri": "https://localhost:8080/",
          "height": 167
        }
      },
      "source": [
        "demp=dem.values.astype(np.float32)\n",
        "demp"
      ],
      "execution_count": 70,
      "outputs": [
        {
          "output_type": "execute_result",
          "data": {
            "text/plain": [
              "array([[-9999., -9999., -9999., ..., -9999., -9999., -9999.],\n",
              "       [-9999., -9999., -9999., ..., -9999., -9999., -9999.],\n",
              "       [-9999., -9999., -9999., ..., -9999., -9999., -9999.],\n",
              "       ...,\n",
              "       [-9999., -9999., -9999., ..., -9999., -9999., -9999.],\n",
              "       [-9999., -9999., -9999., ..., -9999., -9999., -9999.],\n",
              "       [-9999., -9999., -9999., ..., -9999., -9999., -9999.]],\n",
              "      dtype=float32)"
            ]
          },
          "metadata": {
            "tags": []
          },
          "execution_count": 70
        }
      ]
    },
    {
      "cell_type": "code",
      "metadata": {
        "scrolled": false,
        "id": "1MsgJP8SxyHy",
        "colab_type": "code",
        "outputId": "39c8acb1-9e51-455f-ae38-26920d4d9aa1",
        "colab": {
          "base_uri": "https://localhost:8080/",
          "height": 580
        }
      },
      "source": [
        "plt.figure(figsize = (10, 10))\n",
        "im = plt.imshow(demp, cmap = \"terrain\",vmin = -10)\n",
        "plt.colorbar(im)\n",
        "plt.show()\n",
        "#plt.savefig('slope_c.png')"
      ],
      "execution_count": 71,
      "outputs": [
        {
          "output_type": "display_data",
          "data": {
            "image/png": "[encoded data removed]",
            "text/plain": [
              "<Figure size 720x720 with 2 Axes>"
            ]
          },
          "metadata": {
            "tags": []
          }
        }
      ]
    },
    {
      "cell_type": "markdown",
      "metadata": {
        "id": "PIqBG6Uyic18",
        "colab_type": "text"
      },
      "source": [
        "GeoTiffで書き出し\n"
      ]
    },
    {
      "cell_type": "code",
      "metadata": {
        "id": "URVuifQlifjp",
        "colab_type": "code",
        "colab": {}
      },
      "source": [
        "trans = [min(df['lon']), Xsize, 0, max(df['lat']), 0, -Ysize]\n",
        "\n",
        "srs = osgeo.osr.SpatialReference()\n",
        "srs.ImportFromEPSG(4612)\n",
        "driver = osgeo.gdal.GetDriverByName('GTiff')\n",
        "output = driver.Create(base_dir + 'test.tif', demp.shape[1], demp.shape[0], 1, osgeo.gdal.GDT_Float32)\n",
        "output.GetRasterBand(1).WriteArray(demp)\n",
        "#output.GetRasterBand(1).WriteArray(demp)\n",
        "\n",
        "output.GetRasterBand(1).SetNoDataValue(-9999)\n",
        "output.SetGeoTransform(trans)\n",
        "output.SetProjection(srs.ExportToWkt())\n",
        "output.FlushCache()\n",
        "output = None"
      ],
      "execution_count": 0,
      "outputs": []
    },
    {
      "cell_type": "code",
      "metadata": {
        "id": "pYki_UrRrVWb",
        "colab_type": "code",
        "outputId": "c281de0f-0c0c-4d27-80dd-a9077816d2bd",
        "colab": {
          "base_uri": "https://localhost:8080/",
          "height": 34
        }
      },
      "source": [
        "\n",
        "demp.shape"
      ],
      "execution_count": 0,
      "outputs": [
        {
          "output_type": "execute_result",
          "data": {
            "text/plain": [
              "(95, 225)"
            ]
          },
          "metadata": {
            "tags": []
          },
          "execution_count": 28
        }
      ]
    },
    {
      "cell_type": "markdown",
      "metadata": {
        "id": "3L_wYHCriGaE",
        "colab_type": "text"
      },
      "source": [
        "全部入りのプログラム"
      ]
    },
    {
      "cell_type": "code",
      "metadata": {
        "id": "StSLy80AKiAM",
        "colab_type": "code",
        "outputId": "55d3ad63-88df-4c65-f2f4-f85082139d94",
        "colab": {
          "base_uri": "https://localhost:8080/",
          "height": 763
        }
      },
      "source": [
        "import xml.etree.ElementTree as ET\n",
        "import numpy as np\n",
        "import seaborn as sns\n",
        "import matplotlib.pyplot as plt\n",
        "import matplotlib.colors as colors\n",
        "#import math\n",
        "import glob\n",
        "import pandas as pd\n",
        "import io\n",
        "from osgeo import gdal, gdalconst, gdal_array, osr\n",
        "#from pysheds.grid import Grid\n",
        "\n",
        "from google.colab import drive\n",
        "\n",
        "drive.mount('/content/drive')\n",
        "base_dir = \"/content/drive/My Drive/gisday2019/\"\n",
        "\n",
        "ns = {'default': 'http://fgd.gsi.go.jp/spec/2008/FGD_GMLSchema',\n",
        "  'xlink': 'http://www.w3.org/1999/xlink',\n",
        "  'xsi': 'http://www.w3.org/2001/XMLSchema-instance',\n",
        "  'gml': 'http://www.opengis.net/gml/3.2'}\n",
        "\n",
        "infiles = glob.glob(base_dir + '/GSI-DEM/*.xml')\n",
        "dfall = pd.DataFrame()\n",
        "\n",
        "# ここからループする\n",
        "\n",
        "for infile in infiles:\n",
        "  tree = ET.parse(infile)\n",
        "  elem = tree.getroot()\n",
        "\n",
        "  lowercorner = elem.find('.//gml:lowerCorner', ns)\n",
        "  uppercorner = elem.find('.//gml:upperCorner', ns)\n",
        "\n",
        "  tuplelist = elem.find(\".//gml:tupleList\", ns)\n",
        "  df = pd.read_csv(io.StringIO(tuplelist.text), header = None)\n",
        "  df.columns = ['att', 'z']\n",
        "\n",
        "  startPoint = elem.find('.//gml:startPoint', ns).text.split(' ')\n",
        "  startPointX = int(startPoint[0])\n",
        "  startPointY = int(startPoint[1])\n",
        "\n",
        "  cols = int(elem.find(\".//gml:high\", ns).text.split(' ')[0]) + 1\n",
        "  rows = int(elem.find(\".//gml:high\", ns).text.split(' ')[1]) + 1\n",
        "\n",
        "  start = startPointX + (cols * startPointY)\n",
        "  end = int(df.shape[0])\n",
        "\n",
        "  df['n'] = list(range(start, start + end))\n",
        "  df['x4'] = (df['n'] % cols)\n",
        "  df['y4'] = (df['n'] // cols)\n",
        "\n",
        "  uppercorner = elem.find('.//gml:upperCorner', ns)\n",
        "  lowercorner = elem.find('.//gml:lowerCorner', ns)\n",
        "\n",
        "  ULX = float(lowercorner.text.split(' ')[1])\n",
        "  ULY = float(uppercorner.text.split(' ')[0])\n",
        "  LRX = float(uppercorner.text.split(' ')[1])\n",
        "  LRY = float(lowercorner.text.split(' ')[0])\n",
        "\n",
        "  mesh = elem.find('.//default:mesh', ns)\n",
        "  \n",
        "  y1 = int(mesh.text[0:2])\n",
        "  x1 = int(mesh.text[2:4])\n",
        "  y2 = int(mesh.text[4])\n",
        "  x2 = int(mesh.text[5])\n",
        "  y3 = int(mesh.text[6])\n",
        "  x3 = int(mesh.text[7])\n",
        "\n",
        "  df['x1'] = x1\n",
        "  df['y1'] = y1\n",
        "  df['x2'] = x2\n",
        "  df['y2'] = y2\n",
        "  df['x3'] = x3\n",
        "  df['y3'] = y3\n",
        "\n",
        "  df['x'] = df['x4'] + (df['x3'] * cols) + (df['x2'] * 10 * cols) + (df['x1'] * 10 * 10 * cols)\n",
        "  df['y'] = df['y4'] + ((10 - df['y3']) * rows) + ((10 - df['y2']) * 10 * rows) + ((100 - df['y1']) * 10 * 10 * rows)\n",
        "\n",
        "  Xsize = (LRX - ULX) / cols\n",
        "  Ysize = (ULY - LRY) / rows\n",
        "\n",
        "  df['lon'] = ULX + df['x4'] * Xsize\n",
        "  df['lat'] = ULY - df['y4'] * Ysize\n",
        "\n",
        "  dfall = dfall.append(df)\n",
        "\n",
        "trans = [min(dfall['lon']), Xsize, 0, max(dfall['lat']), 0, -Ysize]\n",
        "\n",
        "\n",
        "#データがない部分用のダミーデータを作る\n",
        "d1 = pd.DataFrame()\n",
        "d2 = pd.DataFrame()\n",
        "\n",
        "d1['x'] = list(range(min(dfall['x']), max(dfall['x'])))\n",
        "d1['y'] = min(dfall['y'])\n",
        "d1['z'] = -9999\n",
        "d2['x'] = min(dfall['x'])\n",
        "d2['y'] = list(range(min(dfall['y']), max(dfall['y'])))\n",
        "d2['z'] = -9999\n",
        "\n",
        "dfall = dfall.append(d1).append(d2)\n",
        "\n",
        "dem = dfall.pivot_table(index = 'y', columns = 'x', values = 'z', fill_value = -9999)\n",
        "dem = dem.sort_index()\n",
        "\n",
        "\n",
        "demp = dem.values.astype(np.float32)\n",
        "\n",
        "plt.figure(figsize = (10, 10))\n",
        "im = plt.imshow(demp, cmap = \"terrain\",vmin = -10)\n",
        "# im = plt.imshow(demp, cmap = \"terrain\")\n",
        "plt.colorbar(im)\n",
        "plt.show()\n",
        "\n",
        "\n",
        "trans = [min(dfall['lon']), Xsize, 0, max(dfall['lat']), 0, -Ysize]\n",
        "\n",
        "srs = osgeo.osr.SpatialReference()\n",
        "srs.ImportFromEPSG(4612)\n",
        "driver = osgeo.gdal.GetDriverByName('GTiff')\n",
        "output = driver.Create(base_dir + 'test.tif', demp.shape[1], demp.shape[0], 1, osgeo.gdal.GDT_Float32)\n",
        "output.GetRasterBand(1).WriteArray(demp)\n",
        "output.GetRasterBand(1).SetNoDataValue(-9999)\n",
        "\n",
        "output.SetGeoTransform(trans)\n",
        "output.SetProjection(srs.ExportToWkt())\n",
        "output.FlushCache()\n",
        "output = None\n"
      ],
      "execution_count": 63,
      "outputs": [
        {
          "output_type": "stream",
          "text": [
            "Drive already mounted at /content/drive; to attempt to forcibly remount, call drive.mount(\"/content/drive\", force_remount=True).\n"
          ],
          "name": "stdout"
        },
        {
          "output_type": "stream",
          "text": [
            "/usr/local/lib/python3.6/dist-packages/pandas/core/frame.py:7138: FutureWarning: Sorting because non-concatenation axis is not aligned. A future version\n",
            "of pandas will change to not sort by default.\n",
            "\n",
            "To accept the future behavior, pass 'sort=False'.\n",
            "\n",
            "To retain the current behavior and silence the warning, pass 'sort=True'.\n",
            "\n",
            "  sort=sort,\n"
          ],
          "name": "stderr"
        },
        {
          "output_type": "display_data",
          "data": {
            "image/png": "[encoded data removed]",
            "text/plain": [
              "<Figure size 720x720 with 2 Axes>"
            ]
          },
          "metadata": {
            "tags": []
          }
        }
      ]
    },
    {
      "cell_type": "markdown",
      "metadata": {
        "id": "pMkoDHJcwaqc",
        "colab_type": "text"
      },
      "source": [
        "保存したGeoTiffを直交座標に投影変換する"
      ]
    },
    {
      "cell_type": "code",
      "metadata": {
        "id": "zza2t7bIwaPn",
        "colab_type": "code",
        "colab": {
          "base_uri": "https://localhost:8080/",
          "height": 35
        },
        "outputId": "180a8f30-c428-4582-9f7e-cfeb28fea2db"
      },
      "source": [
        "gdal.Warp("
      ],
      "execution_count": 64,
      "outputs": [
        {
          "output_type": "execute_result",
          "data": {
            "text/plain": [
              "<function osgeo.gdal.Warp>"
            ]
          },
          "metadata": {
            "tags": []
          },
          "execution_count": 64
        }
      ]
    },
    {
      "cell_type": "code",
      "metadata": {
        "id": "LMWEwf6WuIzm",
        "colab_type": "code",
        "outputId": "7ed61d5a-98f1-4c17-af2c-47188c4310ce",
        "colab": {
          "base_uri": "https://localhost:8080/",
          "height": 35
        }
      },
      "source": [
        "trans"
      ],
      "execution_count": 58,
      "outputs": [
        {
          "output_type": "execute_result",
          "data": {
            "text/plain": [
              "[139.375, 5.555555555550503e-05, 0, 34.12549999998, 0, -5.555555333335368e-05]"
            ]
          },
          "metadata": {
            "tags": []
          },
          "execution_count": 58
        }
      ]
    },
    {
      "cell_type": "code",
      "metadata": {
        "id": "gl0QLDLNBznT",
        "colab_type": "code",
        "outputId": "af8c23c6-3faa-4e3f-b1b2-4e7d40ff3be3",
        "colab": {
          "base_uri": "https://localhost:8080/",
          "height": 674
        }
      },
      "source": [
        "dfall"
      ],
      "execution_count": 61,
      "outputs": [
        {
          "output_type": "execute_result",
          "data": {
            "text/html": [
              "<div>\n",
              "<style scoped>\n",
              "    .dataframe tbody tr th:only-of-type {\n",
              "        vertical-align: middle;\n",
              "    }\n",
              "\n",
              "    .dataframe tbody tr th {\n",
              "        vertical-align: top;\n",
              "    }\n",
              "\n",
              "    .dataframe thead th {\n",
              "        text-align: right;\n",
              "    }\n",
              "</style>\n",
              "<table border=\"1\" class=\"dataframe\">\n",
              "  <thead>\n",
              "    <tr style=\"text-align: right;\">\n",
              "      <th></th>\n",
              "      <th>att</th>\n",
              "      <th>lat</th>\n",
              "      <th>lon</th>\n",
              "      <th>n</th>\n",
              "      <th>x</th>\n",
              "      <th>x1</th>\n",
              "      <th>x2</th>\n",
              "      <th>x3</th>\n",
              "      <th>x4</th>\n",
              "      <th>y</th>\n",
              "      <th>y1</th>\n",
              "      <th>y2</th>\n",
              "      <th>y3</th>\n",
              "      <th>y4</th>\n",
              "      <th>z</th>\n",
              "    </tr>\n",
              "  </thead>\n",
              "  <tbody>\n",
              "    <tr>\n",
              "      <th>0</th>\n",
              "      <td>地表面</td>\n",
              "      <td>34.049333</td>\n",
              "      <td>139.383611</td>\n",
              "      <td>2855.0</td>\n",
              "      <td>884405.0</td>\n",
              "      <td>39.0</td>\n",
              "      <td>3.0</td>\n",
              "      <td>0.0</td>\n",
              "      <td>155.0</td>\n",
              "      <td>750762</td>\n",
              "      <td>51.0</td>\n",
              "      <td>0.0</td>\n",
              "      <td>5.0</td>\n",
              "      <td>12.0</td>\n",
              "      <td>1.21</td>\n",
              "    </tr>\n",
              "    <tr>\n",
              "      <th>1</th>\n",
              "      <td>地表面</td>\n",
              "      <td>34.049333</td>\n",
              "      <td>139.383667</td>\n",
              "      <td>2856.0</td>\n",
              "      <td>884406.0</td>\n",
              "      <td>39.0</td>\n",
              "      <td>3.0</td>\n",
              "      <td>0.0</td>\n",
              "      <td>156.0</td>\n",
              "      <td>750762</td>\n",
              "      <td>51.0</td>\n",
              "      <td>0.0</td>\n",
              "      <td>5.0</td>\n",
              "      <td>12.0</td>\n",
              "      <td>1.49</td>\n",
              "    </tr>\n",
              "    <tr>\n",
              "      <th>2</th>\n",
              "      <td>地表面</td>\n",
              "      <td>34.049333</td>\n",
              "      <td>139.383722</td>\n",
              "      <td>2857.0</td>\n",
              "      <td>884407.0</td>\n",
              "      <td>39.0</td>\n",
              "      <td>3.0</td>\n",
              "      <td>0.0</td>\n",
              "      <td>157.0</td>\n",
              "      <td>750762</td>\n",
              "      <td>51.0</td>\n",
              "      <td>0.0</td>\n",
              "      <td>5.0</td>\n",
              "      <td>12.0</td>\n",
              "      <td>1.18</td>\n",
              "    </tr>\n",
              "    <tr>\n",
              "      <th>3</th>\n",
              "      <td>データなし</td>\n",
              "      <td>34.049333</td>\n",
              "      <td>139.383778</td>\n",
              "      <td>2858.0</td>\n",
              "      <td>884408.0</td>\n",
              "      <td>39.0</td>\n",
              "      <td>3.0</td>\n",
              "      <td>0.0</td>\n",
              "      <td>158.0</td>\n",
              "      <td>750762</td>\n",
              "      <td>51.0</td>\n",
              "      <td>0.0</td>\n",
              "      <td>5.0</td>\n",
              "      <td>12.0</td>\n",
              "      <td>-9999.00</td>\n",
              "    </tr>\n",
              "    <tr>\n",
              "      <th>4</th>\n",
              "      <td>データなし</td>\n",
              "      <td>34.049333</td>\n",
              "      <td>139.383833</td>\n",
              "      <td>2859.0</td>\n",
              "      <td>884409.0</td>\n",
              "      <td>39.0</td>\n",
              "      <td>3.0</td>\n",
              "      <td>0.0</td>\n",
              "      <td>159.0</td>\n",
              "      <td>750762</td>\n",
              "      <td>51.0</td>\n",
              "      <td>0.0</td>\n",
              "      <td>5.0</td>\n",
              "      <td>12.0</td>\n",
              "      <td>-9999.00</td>\n",
              "    </tr>\n",
              "    <tr>\n",
              "      <th>...</th>\n",
              "      <td>...</td>\n",
              "      <td>...</td>\n",
              "      <td>...</td>\n",
              "      <td>...</td>\n",
              "      <td>...</td>\n",
              "      <td>...</td>\n",
              "      <td>...</td>\n",
              "      <td>...</td>\n",
              "      <td>...</td>\n",
              "      <td>...</td>\n",
              "      <td>...</td>\n",
              "      <td>...</td>\n",
              "      <td>...</td>\n",
              "      <td>...</td>\n",
              "      <td>...</td>\n",
              "    </tr>\n",
              "    <tr>\n",
              "      <th>1460</th>\n",
              "      <td>NaN</td>\n",
              "      <td>NaN</td>\n",
              "      <td>NaN</td>\n",
              "      <td>NaN</td>\n",
              "      <td>NaN</td>\n",
              "      <td>NaN</td>\n",
              "      <td>NaN</td>\n",
              "      <td>NaN</td>\n",
              "      <td>NaN</td>\n",
              "      <td>750851</td>\n",
              "      <td>NaN</td>\n",
              "      <td>NaN</td>\n",
              "      <td>NaN</td>\n",
              "      <td>NaN</td>\n",
              "      <td>-9999.00</td>\n",
              "    </tr>\n",
              "    <tr>\n",
              "      <th>1461</th>\n",
              "      <td>NaN</td>\n",
              "      <td>NaN</td>\n",
              "      <td>NaN</td>\n",
              "      <td>NaN</td>\n",
              "      <td>NaN</td>\n",
              "      <td>NaN</td>\n",
              "      <td>NaN</td>\n",
              "      <td>NaN</td>\n",
              "      <td>NaN</td>\n",
              "      <td>750852</td>\n",
              "      <td>NaN</td>\n",
              "      <td>NaN</td>\n",
              "      <td>NaN</td>\n",
              "      <td>NaN</td>\n",
              "      <td>-9999.00</td>\n",
              "    </tr>\n",
              "    <tr>\n",
              "      <th>1462</th>\n",
              "      <td>NaN</td>\n",
              "      <td>NaN</td>\n",
              "      <td>NaN</td>\n",
              "      <td>NaN</td>\n",
              "      <td>NaN</td>\n",
              "      <td>NaN</td>\n",
              "      <td>NaN</td>\n",
              "      <td>NaN</td>\n",
              "      <td>NaN</td>\n",
              "      <td>750853</td>\n",
              "      <td>NaN</td>\n",
              "      <td>NaN</td>\n",
              "      <td>NaN</td>\n",
              "      <td>NaN</td>\n",
              "      <td>-9999.00</td>\n",
              "    </tr>\n",
              "    <tr>\n",
              "      <th>1463</th>\n",
              "      <td>NaN</td>\n",
              "      <td>NaN</td>\n",
              "      <td>NaN</td>\n",
              "      <td>NaN</td>\n",
              "      <td>NaN</td>\n",
              "      <td>NaN</td>\n",
              "      <td>NaN</td>\n",
              "      <td>NaN</td>\n",
              "      <td>NaN</td>\n",
              "      <td>750854</td>\n",
              "      <td>NaN</td>\n",
              "      <td>NaN</td>\n",
              "      <td>NaN</td>\n",
              "      <td>NaN</td>\n",
              "      <td>-9999.00</td>\n",
              "    </tr>\n",
              "    <tr>\n",
              "      <th>1464</th>\n",
              "      <td>NaN</td>\n",
              "      <td>NaN</td>\n",
              "      <td>NaN</td>\n",
              "      <td>NaN</td>\n",
              "      <td>NaN</td>\n",
              "      <td>NaN</td>\n",
              "      <td>NaN</td>\n",
              "      <td>NaN</td>\n",
              "      <td>NaN</td>\n",
              "      <td>750855</td>\n",
              "      <td>NaN</td>\n",
              "      <td>NaN</td>\n",
              "      <td>NaN</td>\n",
              "      <td>NaN</td>\n",
              "      <td>-9999.00</td>\n",
              "    </tr>\n",
              "  </tbody>\n",
              "</table>\n",
              "<p>2130875 rows × 15 columns</p>\n",
              "</div>"
            ],
            "text/plain": [
              "        att        lat         lon       n  ...   y2   y3    y4        z\n",
              "0       地表面  34.049333  139.383611  2855.0  ...  0.0  5.0  12.0     1.21\n",
              "1       地表面  34.049333  139.383667  2856.0  ...  0.0  5.0  12.0     1.49\n",
              "2       地表面  34.049333  139.383722  2857.0  ...  0.0  5.0  12.0     1.18\n",
              "3     データなし  34.049333  139.383778  2858.0  ...  0.0  5.0  12.0 -9999.00\n",
              "4     データなし  34.049333  139.383833  2859.0  ...  0.0  5.0  12.0 -9999.00\n",
              "...     ...        ...         ...     ...  ...  ...  ...   ...      ...\n",
              "1460    NaN        NaN         NaN     NaN  ...  NaN  NaN   NaN -9999.00\n",
              "1461    NaN        NaN         NaN     NaN  ...  NaN  NaN   NaN -9999.00\n",
              "1462    NaN        NaN         NaN     NaN  ...  NaN  NaN   NaN -9999.00\n",
              "1463    NaN        NaN         NaN     NaN  ...  NaN  NaN   NaN -9999.00\n",
              "1464    NaN        NaN         NaN     NaN  ...  NaN  NaN   NaN -9999.00\n",
              "\n",
              "[2130875 rows x 15 columns]"
            ]
          },
          "metadata": {
            "tags": []
          },
          "execution_count": 61
        }
      ]
    },
    {
      "cell_type": "code",
      "metadata": {
        "id": "lnnpmRSdTcXy",
        "colab_type": "code",
        "outputId": "3688b2e8-53e6-4419-c710-bc3ce1026d4d",
        "colab": {
          "base_uri": "https://localhost:8080/",
          "height": 574
        }
      },
      "source": [
        "plt.figure(figsize = (10, 10))\n",
        "im = plt.imshow(demp[600:850, 750:1000], cmap = \"terrain\",vmin = -10)\n",
        "plt.colorbar(im)\n",
        "plt.show()"
      ],
      "execution_count": 62,
      "outputs": [
        {
          "output_type": "display_data",
          "data": {
            "image/png": "[encoded data removed]",
            "text/plain": [
              "<Figure size 720x720 with 2 Axes>"
            ]
          },
          "metadata": {
            "tags": []
          }
        }
      ]
    },
    {
      "cell_type": "code",
      "metadata": {
        "id": "ntylumJFP9eJ",
        "colab_type": "code",
        "outputId": "a6ce2389-d3a2-4d32-b8d2-ffee32e14f5a",
        "colab": {
          "base_uri": "https://localhost:8080/",
          "height": 1000
        }
      },
      "source": [
        "infiles"
      ],
      "execution_count": 0,
      "outputs": [
        {
          "output_type": "execute_result",
          "data": {
            "text/plain": [
              "['/content/drive/My Drive/gisday2019//GSI-DEM/FG-GML-5139-03-50-DEM5A-20161001.xml',\n",
              " '/content/drive/My Drive/gisday2019//GSI-DEM/FG-GML-5139-03-59-DEM5A-20161001.xml',\n",
              " '/content/drive/My Drive/gisday2019//GSI-DEM/FG-GML-5139-03-68-DEM5A-20161001.xml',\n",
              " '/content/drive/My Drive/gisday2019//GSI-DEM/FG-GML-5139-03-69-DEM5A-20161001.xml',\n",
              " '/content/drive/My Drive/gisday2019//GSI-DEM/FG-GML-5139-03-78-DEM5A-20161001.xml',\n",
              " '/content/drive/My Drive/gisday2019//GSI-DEM/FG-GML-5139-03-79-DEM5A-20161001.xml',\n",
              " '/content/drive/My Drive/gisday2019//GSI-DEM/FG-GML-5139-03-87-DEM5A-20161001.xml',\n",
              " '/content/drive/My Drive/gisday2019//GSI-DEM/FG-GML-5139-03-88-DEM5A-20161001.xml',\n",
              " '/content/drive/My Drive/gisday2019//GSI-DEM/FG-GML-5139-03-89-DEM5A-20161001.xml',\n",
              " '/content/drive/My Drive/gisday2019//GSI-DEM/FG-GML-5139-03-97-DEM5A-20161001.xml',\n",
              " '/content/drive/My Drive/gisday2019//GSI-DEM/FG-GML-5139-03-98-DEM5A-20161001.xml',\n",
              " '/content/drive/My Drive/gisday2019//GSI-DEM/FG-GML-5139-03-99-DEM5A-20161001.xml',\n",
              " '/content/drive/My Drive/gisday2019//GSI-DEM/FG-GML-5139-04-50-DEM5A-20161001.xml',\n",
              " '/content/drive/My Drive/gisday2019//GSI-DEM/FG-GML-5139-04-51-DEM5A-20161001.xml',\n",
              " '/content/drive/My Drive/gisday2019//GSI-DEM/FG-GML-5139-04-52-DEM5A-20161001.xml',\n",
              " '/content/drive/My Drive/gisday2019//GSI-DEM/FG-GML-5139-04-60-DEM5A-20161001.xml',\n",
              " '/content/drive/My Drive/gisday2019//GSI-DEM/FG-GML-5139-04-61-DEM5A-20161001.xml',\n",
              " '/content/drive/My Drive/gisday2019//GSI-DEM/FG-GML-5139-04-62-DEM5A-20161001.xml',\n",
              " '/content/drive/My Drive/gisday2019//GSI-DEM/FG-GML-5139-04-63-DEM5A-20161001.xml',\n",
              " '/content/drive/My Drive/gisday2019//GSI-DEM/FG-GML-5139-04-70-DEM5A-20161001.xml',\n",
              " '/content/drive/My Drive/gisday2019//GSI-DEM/FG-GML-5139-04-71-DEM5A-20161001.xml',\n",
              " '/content/drive/My Drive/gisday2019//GSI-DEM/FG-GML-5139-04-72-DEM5A-20161001.xml',\n",
              " '/content/drive/My Drive/gisday2019//GSI-DEM/FG-GML-5139-04-73-DEM5A-20161001.xml',\n",
              " '/content/drive/My Drive/gisday2019//GSI-DEM/FG-GML-5139-04-74-DEM5A-20161001.xml',\n",
              " '/content/drive/My Drive/gisday2019//GSI-DEM/FG-GML-5139-04-80-DEM5A-20161001.xml',\n",
              " '/content/drive/My Drive/gisday2019//GSI-DEM/FG-GML-5139-04-81-DEM5A-20161001.xml',\n",
              " '/content/drive/My Drive/gisday2019//GSI-DEM/FG-GML-5139-04-82-DEM5A-20161001.xml',\n",
              " '/content/drive/My Drive/gisday2019//GSI-DEM/FG-GML-5139-04-83-DEM5A-20161001.xml',\n",
              " '/content/drive/My Drive/gisday2019//GSI-DEM/FG-GML-5139-04-84-DEM5A-20161001.xml',\n",
              " '/content/drive/My Drive/gisday2019//GSI-DEM/FG-GML-5139-04-85-DEM5A-20161001.xml',\n",
              " '/content/drive/My Drive/gisday2019//GSI-DEM/FG-GML-5139-04-90-DEM5A-20161001.xml',\n",
              " '/content/drive/My Drive/gisday2019//GSI-DEM/FG-GML-5139-04-91-DEM5A-20161001.xml',\n",
              " '/content/drive/My Drive/gisday2019//GSI-DEM/FG-GML-5139-04-92-DEM5A-20161001.xml',\n",
              " '/content/drive/My Drive/gisday2019//GSI-DEM/FG-GML-5139-04-93-DEM5A-20161001.xml',\n",
              " '/content/drive/My Drive/gisday2019//GSI-DEM/FG-GML-5139-04-94-DEM5A-20161001.xml',\n",
              " '/content/drive/My Drive/gisday2019//GSI-DEM/FG-GML-5139-04-95-DEM5A-20161001.xml',\n",
              " '/content/drive/My Drive/gisday2019//GSI-DEM/FG-GML-5139-13-08-DEM5A-20161001.xml',\n",
              " '/content/drive/My Drive/gisday2019//GSI-DEM/FG-GML-5139-13-09-DEM5A-20161001.xml',\n",
              " '/content/drive/My Drive/gisday2019//GSI-DEM/FG-GML-5139-13-18-DEM5A-20161001.xml',\n",
              " '/content/drive/My Drive/gisday2019//GSI-DEM/FG-GML-5139-13-19-DEM5A-20161001.xml',\n",
              " '/content/drive/My Drive/gisday2019//GSI-DEM/FG-GML-5139-13-29-DEM5A-20161001.xml',\n",
              " '/content/drive/My Drive/gisday2019//GSI-DEM/FG-GML-5139-13-39-DEM5A-20161001.xml',\n",
              " '/content/drive/My Drive/gisday2019//GSI-DEM/FG-GML-5139-13-49-DEM5A-20161001.xml',\n",
              " '/content/drive/My Drive/gisday2019//GSI-DEM/FG-GML-5139-14-00-DEM5A-20161001.xml',\n",
              " '/content/drive/My Drive/gisday2019//GSI-DEM/FG-GML-5139-14-01-DEM5A-20161001.xml',\n",
              " '/content/drive/My Drive/gisday2019//GSI-DEM/FG-GML-5139-14-02-DEM5A-20161001.xml',\n",
              " '/content/drive/My Drive/gisday2019//GSI-DEM/FG-GML-5139-14-03-DEM5A-20161001.xml',\n",
              " '/content/drive/My Drive/gisday2019//GSI-DEM/FG-GML-5139-14-04-DEM5A-20161001.xml',\n",
              " '/content/drive/My Drive/gisday2019//GSI-DEM/FG-GML-5139-14-05-DEM5A-20161001.xml',\n",
              " '/content/drive/My Drive/gisday2019//GSI-DEM/FG-GML-5139-14-10-DEM5A-20161001.xml',\n",
              " '/content/drive/My Drive/gisday2019//GSI-DEM/FG-GML-5139-14-11-DEM5A-20161001.xml',\n",
              " '/content/drive/My Drive/gisday2019//GSI-DEM/FG-GML-5139-14-12-DEM5A-20161001.xml',\n",
              " '/content/drive/My Drive/gisday2019//GSI-DEM/FG-GML-5139-14-13-DEM5A-20161001.xml',\n",
              " '/content/drive/My Drive/gisday2019//GSI-DEM/FG-GML-5139-14-14-DEM5A-20161001.xml',\n",
              " '/content/drive/My Drive/gisday2019//GSI-DEM/FG-GML-5139-14-15-DEM5A-20161001.xml',\n",
              " '/content/drive/My Drive/gisday2019//GSI-DEM/FG-GML-5139-14-20-DEM5A-20161001.xml',\n",
              " '/content/drive/My Drive/gisday2019//GSI-DEM/FG-GML-5139-14-21-DEM5A-20161001.xml',\n",
              " '/content/drive/My Drive/gisday2019//GSI-DEM/FG-GML-5139-14-22-DEM5A-20161001.xml',\n",
              " '/content/drive/My Drive/gisday2019//GSI-DEM/FG-GML-5139-14-23-DEM5A-20161001.xml',\n",
              " '/content/drive/My Drive/gisday2019//GSI-DEM/FG-GML-5139-14-24-DEM5A-20161001.xml',\n",
              " '/content/drive/My Drive/gisday2019//GSI-DEM/FG-GML-5139-14-25-DEM5A-20161001.xml',\n",
              " '/content/drive/My Drive/gisday2019//GSI-DEM/FG-GML-5139-14-30-DEM5A-20161001.xml',\n",
              " '/content/drive/My Drive/gisday2019//GSI-DEM/FG-GML-5139-14-31-DEM5A-20161001.xml',\n",
              " '/content/drive/My Drive/gisday2019//GSI-DEM/FG-GML-5139-14-32-DEM5A-20161001.xml',\n",
              " '/content/drive/My Drive/gisday2019//GSI-DEM/FG-GML-5139-14-33-DEM5A-20161001.xml',\n",
              " '/content/drive/My Drive/gisday2019//GSI-DEM/FG-GML-5139-14-34-DEM5A-20161001.xml',\n",
              " '/content/drive/My Drive/gisday2019//GSI-DEM/FG-GML-5139-14-40-DEM5A-20161001.xml',\n",
              " '/content/drive/My Drive/gisday2019//GSI-DEM/FG-GML-5139-14-41-DEM5A-20161001.xml',\n",
              " '/content/drive/My Drive/gisday2019//GSI-DEM/FG-GML-5139-14-42-DEM5A-20161001.xml',\n",
              " '/content/drive/My Drive/gisday2019//GSI-DEM/FG-GML-5139-14-43-DEM5A-20161001.xml',\n",
              " '/content/drive/My Drive/gisday2019//GSI-DEM/FG-GML-5139-14-52-DEM5A-20161001.xml']"
            ]
          },
          "metadata": {
            "tags": []
          },
          "execution_count": 90
        }
      ]
    },
    {
      "cell_type": "markdown",
      "metadata": {
        "id": "etjAb7YXfo4Z",
        "colab_type": "text"
      },
      "source": [
        "処理対象のファイル名を取得する．\n",
        "処理対象は*.txtとする"
      ]
    },
    {
      "cell_type": "code",
      "metadata": {
        "id": "1Csm47r5fo4a",
        "colab_type": "code",
        "colab": {}
      },
      "source": [
        "infiles = glob.glob(\"*.txt\")"
      ],
      "execution_count": 0,
      "outputs": []
    },
    {
      "cell_type": "code",
      "metadata": {
        "id": "4gNdrlC7fo4d",
        "colab_type": "code",
        "colab": {}
      },
      "source": [
        "for infile in infiles:\n",
        "\n",
        "#データフレーム`dem`に標高データを読み込む．\n",
        "\n",
        "#その後，列名に`X`，`Y`，`Z`をつける.\n",
        "\n",
        "    dem = pd.read_csv(infile, delim_whitespace=True, header=-1)\n",
        "    dem.columns = ['X', 'Y', 'Z']\n",
        "    \n",
        "\n",
        "#NoData（1.701410e+38）の値を-32768に置き換える．\n",
        "\n",
        "    dem['Z2'] = dem['Z'].where(dem['Z'] != 1.701410e+38, -32768)\n",
        "\n",
        "#縦持ちの標高データを横持ちに変換する．\n",
        "#その後，Y方向でソートして南北の順を整列させる．\n",
        "\n",
        "    asc_ras = dem.pivot_table(index = 'Y', columns = 'X', values = 'Z2', fill_value = 0)\n",
        "    asc_ras = asc_ras.sort_index(ascending = False)\n",
        "\n",
        "#ASCIIラスターのヘッダをつける．\n",
        "#ヘッダの型式は以下になっている.\n",
        "\n",
        "#```\n",
        "#ncols 2000\n",
        "#nrows 1500\n",
        "#xllccenter 378923\n",
        "#yllcenter 4072345\n",
        "#cellsize 1\n",
        "#nodata_value -32768\n",
        "#43 2 45 7 3 56 2 5 23 65 34 6 32 54 57 34 2 2 54 6 \n",
        "#35 45 65 34 2 6 78 4 2 6 89 3 2 7 45 23 5 8 4 1 62 ...\n",
        "#```\n",
        "\n",
        "#ヘッダは横持ちにしたDEMから取得する.\n",
        "\n",
        "    headers = \"ncols %d\\n\" % len(asc_ras.columns) \\\n",
        "        + \"nrows %d\\n\" % len(asc_ras.index) \\\n",
        "        + \"xllcenter %f\\n\" % dem['X'].min() \\\n",
        "        + \"yllcenter %f\\n\" % dem['Y'].min() \\\n",
        "        + \"cellsize 1\\n\" \\\n",
        "        + \"nodata_value -32768\\n\"\n",
        "\n",
        "#ヘッダを書き出す\n",
        "\n",
        "    f = open(infile+'.asc', 'w')\n",
        "    f.write(headers)\n",
        "\n",
        "#横持ちにしたDEM本体をアペンドモードで書き出す．\n",
        "\n",
        "    with open(infile+'.asc', 'a') as f:\n",
        "        asc_ras.to_csv(f, index = False, header = False, sep =' ')"
      ],
      "execution_count": 0,
      "outputs": []
    }
  ]
}