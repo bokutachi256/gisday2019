{
  "nbformat": 4,
  "nbformat_minor": 0,
  "metadata": {
    "colab": {
      "name": "1 基盤地図情報の読み込み",
      "provenance": [],
      "collapsed_sections": [],
      "toc_visible": true,
      "include_colab_link": true
    },
    "kernelspec": {
      "name": "python3",
      "display_name": "Python 3"
    }
  },
  "cells": [
    {
      "cell_type": "markdown",
      "metadata": {
        "id": "view-in-github",
        "colab_type": "text"
      },
      "source": [
        "<a href=\"https://colab.research.google.com/github/bokutachi256/gisday2019/blob/master/1_%E5%9F%BA%E7%9B%A4%E5%9C%B0%E5%9B%B3%E6%83%85%E5%A0%B1%E3%81%AE%E8%AA%AD%E3%81%BF%E8%BE%BC%E3%81%BF.ipynb\" target=\"_parent\"><img src=\"https://colab.research.google.com/assets/colab-badge.svg\" alt=\"Open In Colab\"/></a>"
      ]
    },
    {
      "cell_type": "markdown",
      "metadata": {
        "id": "x1sK1KXQfo3h",
        "colab_type": "text"
      },
      "source": [
        "# 基盤地図情報の読み込み\n"
      ]
    },
    {
      "cell_type": "markdown",
      "metadata": {
        "id": "u065ZlIAlYRp",
        "colab_type": "text"
      },
      "source": [
        "* GIS Day in 東京 2019 Eコース\n",
        "* Pythonを用いたDEM処理\n",
        "* 首都大学東京 都市環境学部 地理環境学科 中山大地\n",
        "* 2019年12月21日 首都大学東京 南大沢キャンパス\n",
        "* [github repository: www.github.com/bokutachi256/gisday2019](https://www.github.com/bokutachi256/gisday2019)"
      ]
    },
    {
      "cell_type": "markdown",
      "metadata": {
        "id": "5bzzDbUTP4RM",
        "colab_type": "text"
      },
      "source": [
        "# はじめに\n"
      ]
    },
    {
      "cell_type": "code",
      "metadata": {
        "id": "sF3KKqAkG8N2",
        "colab_type": "code",
        "colab": {}
      },
      "source": [
        ""
      ],
      "execution_count": 0,
      "outputs": []
    },
    {
      "cell_type": "markdown",
      "metadata": {
        "id": "t6vHFn8viFYz",
        "colab_type": "text"
      },
      "source": [
        "\n",
        "この章では基盤地図情報の数値標高モデル（DEM: Digital Elevation Model）を用いて分析する方法について解説します．\n",
        "\n",
        "基盤地図情報DEMを扱う上でややこしいところは以下の5点になると思います．\n",
        "\n",
        "1. 3次メッシュ単位で1ファイルになっていること\n",
        "1. 名前空間つきXMLになっていること\n",
        "1. 標高値が1行に格納されていること\n",
        "1. 標高値が固定長ではなく，省略されている場合があること\n",
        "1. 海面のみの3次メッシュはファイル自体が存在しないこと\n",
        "\n",
        "これらを解決してメッシュ形式のDEMを取得するには様々な方法が考えられます．\n",
        "\n",
        "このテキストでは以下のこだわりでこれらの問題点を解決していきます．\n",
        "\n",
        "1. 複数ファイルを自動的に結合する\n",
        "1. 名前空間付きXMLをまじめに取り扱う\n",
        "1. pandasのデータフレームを用い，縦持ちにした標高データを横持ちに変換する\n",
        "1. `for`ループと`if`を使わない\n",
        "1. 存在しないファイルのメッシュも自動的に補間する\n",
        "\n",
        "ネットで公開されている変換プログラムの多くは，データをメッシュ化するのにforループを使用しています．\n",
        "しかし，Pythonのforループは処理速度が遅いためできるだけ使わずに処理をしたいところです．\n",
        "本プログラムではpandasのデータフレームを利用し，縦持ちで整理した標高データを横持ちに変換することでこの問題を解決しています．\n",
        "この方法の2次的な利点として，ファイルとして存在しないメッシュのデータや，\n",
        "省略されているデータの処理も楽になるということも挙げられます．"
      ]
    },
    {
      "cell_type": "markdown",
      "metadata": {
        "id": "M38PPVcC5a8B",
        "colab_type": "text"
      },
      "source": [
        "# 計算の準備"
      ]
    },
    {
      "cell_type": "markdown",
      "metadata": {
        "id": "UPrMeWEVXxsN",
        "colab_type": "text"
      },
      "source": [
        "## サンプルデータの準備\n"
      ]
    },
    {
      "cell_type": "markdown",
      "metadata": {
        "id": "RDN5KIvkiKxR",
        "colab_type": "text"
      },
      "source": [
        "\n",
        "[共有データ(https://drive.google.com/open?id=1kyhO5UU50vRfSp3BTZyy9jm2rZo8Qslp)](https://drive.google.com/open?id=1kyhO5UU50vRfSp3BTZyy9jm2rZo8Qslp)にアクセスし，\n",
        "ご自身のgoogle driveに`gisday2019`ディレクトリを作成してそこに配置してください．\n",
        "\n",
        "講習会後にこの共有ファイルは削除します．\n",
        "このプログラムを後日試したい方は，\n",
        "[基盤地図情報サイト](https://www.gsi.go.jp/kiban/)から数値標高モデルをダウンロードしてお使いください．\n",
        "講習会ではDEM5Aを使用しました．"
      ]
    },
    {
      "cell_type": "markdown",
      "metadata": {
        "id": "R5u9UYLpYRlv",
        "colab_type": "text"
      },
      "source": [
        "## ライブラリのインポート"
      ]
    },
    {
      "cell_type": "markdown",
      "metadata": {
        "id": "FzHFvx4viOJK",
        "colab_type": "text"
      },
      "source": [
        "使用するライブラリを説明します．\n",
        "\n",
        "* `xml.etree.ElementTree`: XML処理用のライブラリ． \n",
        "* `numpy`: 多次元配列計算のライブラリ．\n",
        "* `matplotlib.pyplot`: グラフ作成・データ可視化ライブラリ．DEMのチェックに使用．\n",
        "* `matplotlib.colors`: カラーライブラリ．\n",
        "* `pandas`: データ処理ライブラリ．データの縦持ち・横持ち変換に使用．\n",
        "* `io`: ストリームライブラリ．標高値をデータフレームに格納するのに使用．\n",
        "* `osgeo`: 地理データ処理ライブラリ．GeoTiffの書き出しに使用．\n",
        "* `google.colab`: Google Colaboratory用ライブラリ．google driveのマウントに使用．\n",
        "\n"
      ]
    },
    {
      "cell_type": "code",
      "metadata": {
        "id": "x5eWquNDfo3k",
        "colab_type": "code",
        "colab": {}
      },
      "source": [
        "import xml.etree.ElementTree as ET\n",
        "import numpy as np\n",
        "import matplotlib.pyplot as plt\n",
        "import matplotlib.colors as colors\n",
        "import pandas as pd\n",
        "import io\n",
        "from osgeo import gdal, gdalconst, gdal_array, osr\n",
        "from google.colab import drive"
      ],
      "execution_count": 0,
      "outputs": []
    },
    {
      "cell_type": "markdown",
      "metadata": {
        "id": "yji-aK7Hlci6",
        "colab_type": "text"
      },
      "source": [
        "## Google Driveのマウント\n"
      ]
    },
    {
      "cell_type": "markdown",
      "metadata": {
        "id": "5c5AGJs_iTFt",
        "colab_type": "text"
      },
      "source": [
        "\n",
        "`drive.mount`を使ってGoogle DriveをGoogle Colaboratoryにマウントします．\n",
        "`drive.mount`の引数はGoogle Colaboratory内のマウントポイントです．\n",
        "このマウントポイントで示されたディレクトリにGoogle Driveのルートディレクトリ（マイドライブ）が接続されます．\n",
        "\n",
        "`drive.mount`が実行されると，どのGoogleアカウントで接続するか聞かれます．\n",
        "適切なアカウントを指定してアクセス権を与えます．\n",
        "その後認証コードが発行されますので，それをコピーしてテキストボックスにペーストします．\n",
        "これでGoogle Driveがマウントされます．\n",
        "\n",
        "マイドライブの中に作業用のディレクトリ`gisday2019`を作成しましたので，\n",
        "この作業用ディレクトリへのフルパスは`/drive/My Drive/gisday2019`になります．\n",
        "これを変数`base_dir`に格納しておきます．"
      ]
    },
    {
      "cell_type": "code",
      "metadata": {
        "id": "mwp_IjmPurre",
        "colab_type": "code",
        "outputId": "2f084d88-7462-41f5-9fcd-c3c23eb2043a",
        "colab": {
          "base_uri": "https://localhost:8080/",
          "height": 55
        }
      },
      "source": [
        "drive.mount('/content/drive')\n",
        "base_dir = \"/content/drive/My Drive/gisday2019/\""
      ],
      "execution_count": 0,
      "outputs": [
        {
          "output_type": "stream",
          "text": [
            "Drive already mounted at /content/drive; to attempt to forcibly remount, call drive.mount(\"/content/drive\", force_remount=True).\n"
          ],
          "name": "stdout"
        }
      ]
    },
    {
      "cell_type": "markdown",
      "metadata": {
        "id": "3V8EZ9oifo3q",
        "colab_type": "text"
      },
      "source": [
        "# 基盤地図情報XMLファイルについて"
      ]
    },
    {
      "cell_type": "markdown",
      "metadata": {
        "id": "p46wAYrR9bUB",
        "colab_type": "text"
      },
      "source": [
        "以下が基盤地図情報DEMのXMLファイルです．"
      ]
    },
    {
      "cell_type": "markdown",
      "metadata": {
        "colab_type": "text",
        "id": "YzI9iRWA33zz"
      },
      "source": [
        "```xml\n",
        "<?xml version=\"1.0\" encoding=\"UTF-8\"?>\n",
        "<Dataset\n",
        "  gml:id=\"Dataset1\"\n",
        "  xmlns=\"http://fgd.gsi.go.jp/spec/2008/FGD_GMLSchema\" \n",
        "  xmlns:xlink=\"http://www.w3.org/1999/xlink\"\n",
        "  xmlns:xsi=\"http://www.w3.org/2001/XMLSchema-instance\"\n",
        "  xmlns:gml=\"http://www.opengis.net/gml/3.2\"\n",
        "  xsi:schemaLocation=\"http://fgd.gsi.go.jp/spec/2008/FGD_GMLSchema FGD_GMLSchema.xsd\"\n",
        ">\n",
        "  <gml:description>基盤地図情報メタデータ ID=fmdid:15-3101</gml:description>\n",
        "  <gml:name>基盤地図情報ダウンロードデータ（GML版）</gml:name>\n",
        "  <DEM gml:id=\"DEM001\">\n",
        "    <fid>fgoid:10-00100-15-60101-51390350</fid>\n",
        "    <lfSpanFr gml:id=\"DEM001-1\">\n",
        "      <gml:timePosition>2016-10-01</gml:timePosition>\n",
        "    </lfSpanFr>\n",
        "    <devDate gml:id=\"DEM001-2\">\n",
        "      <gml:timePosition>2016-10-01</gml:timePosition>\n",
        "    </devDate>\n",
        "    <orgGILvl>0</orgGILvl>\n",
        "    <orgMDId>H24GC009 NoData</orgMDId>\n",
        "    <type>5mメッシュ（標高）</type>\n",
        "    <mesh>51390350</mesh>\n",
        "    <coverage gml:id=\"DEM001-3\">\n",
        "      <gml:boundedBy>\n",
        "        <gml:Envelope srsName=\"fguuid:jgd2011.bl\">\n",
        "          <gml:lowerCorner>34.041666667 139.375</gml:lowerCorner>\n",
        "          <gml:upperCorner>34.05 139.3875</gml:upperCorner>\n",
        "        </gml:Envelope>\n",
        "      </gml:boundedBy>\n",
        "      <gml:gridDomain>\n",
        "        <gml:Grid gml:id=\"DEM001-4\" dimension=\"2\">\n",
        "          <gml:limits>\n",
        "            <gml:GridEnvelope>\n",
        "              <gml:low>0 0</gml:low>\n",
        "              <gml:high>224 149</gml:high>\n",
        "            </gml:GridEnvelope>\n",
        "            </gml:limits>\n",
        "            <gml:axisLabels>x y</gml:axisLabels>\n",
        "        </gml:Grid>\n",
        "      </gml:gridDomain>\n",
        "      <gml:rangeSet>\n",
        "        <gml:DataBlock>\n",
        "          <gml:rangeParameters>\n",
        "            <gml:QuantityList uom=\"DEM構成点\"/>\n",
        "          </gml:rangeParameters>\n",
        "          <gml:tupleList>地表面,1.21 地表面,1.49. .......\n",
        "        </gml:DataBlock>\n",
        "      </gml:rangeSet>\n",
        "      <gml:coverageFunction>\n",
        "        <gml:GridFunction>\n",
        "          <gml:sequenceRule order=\"+x-y\">Linear</gml:sequenceRule>\n",
        "          <gml:startPoint>155 12</gml:startPoint>\n",
        "        </gml:GridFunction>\n",
        "      </gml:coverageFunction>\n",
        "    </coverage>\n",
        "  </DEM>\n",
        "</Dataset>\n",
        "```"
      ]
    },
    {
      "cell_type": "markdown",
      "metadata": {
        "id": "h_LS9git5vGc",
        "colab_type": "text"
      },
      "source": [
        "## 基盤地図情報の読み込みと扱い方"
      ]
    },
    {
      "cell_type": "markdown",
      "metadata": {
        "id": "LaBu8ILKizyO",
        "colab_type": "text"
      },
      "source": [
        "\n",
        "基盤地図情報のXMLを読み込んでparseします．\n",
        "XMLファイルは作業用ディレクトリの`GIS-DEM`ディレクトリにコピーしてありますので．\n",
        "`base_dir + \"GSI-DEM/FG-GML-5139-03-50-DEM5A-20161001.xml\"`としてアクセスします．\n",
        "\n",
        "`ET.parse`を用いてxmlをパースしてから`getroot`を使ってのルート要素を取得し，`elem`に代入します．"
      ]
    },
    {
      "cell_type": "code",
      "metadata": {
        "id": "bH-7JgIkfo3r",
        "colab_type": "code",
        "colab": {}
      },
      "source": [
        "tree = ET.parse(base_dir + \"GSI-DEM/FG-GML-5139-03-50-DEM5A-20161001.xml\")\n",
        "elem = tree.getroot()"
      ],
      "execution_count": 0,
      "outputs": []
    },
    {
      "cell_type": "markdown",
      "metadata": {
        "id": "cvQZ_DvkiKEA",
        "colab_type": "text"
      },
      "source": [
        "ルート要素`elem`を確認してみます．"
      ]
    },
    {
      "cell_type": "code",
      "metadata": {
        "id": "aDLSzZflKC2Y",
        "colab_type": "code",
        "outputId": "0eb69bc4-acb7-4e4a-cc64-e00abcc4277d",
        "colab": {
          "base_uri": "https://localhost:8080/",
          "height": 35
        }
      },
      "source": [
        "elem"
      ],
      "execution_count": 0,
      "outputs": [
        {
          "output_type": "execute_result",
          "data": {
            "text/plain": [
              "<Element '{http://fgd.gsi.go.jp/spec/2008/FGD_GMLSchema}Dataset' at 0x7f83044ab188>"
            ]
          },
          "metadata": {
            "tags": []
          },
          "execution_count": 5
        }
      ]
    },
    {
      "cell_type": "markdown",
      "metadata": {
        "id": "UwnrwkRxiWNF",
        "colab_type": "text"
      },
      "source": [
        "ルート要素のタグ`Dataset`が表示されました．"
      ]
    },
    {
      "cell_type": "markdown",
      "metadata": {
        "id": "8l10Y0zofo37",
        "colab_type": "text"
      },
      "source": [
        "次にイテレータを使ってすべてのタグを取得し，それを表示してみます．\n"
      ]
    },
    {
      "cell_type": "code",
      "metadata": {
        "id": "6aQc2t8Vfo3-",
        "colab_type": "code",
        "colab": {}
      },
      "source": [
        "for e in elem.getiterator():\n",
        "    print(e.tag)"
      ],
      "execution_count": 0,
      "outputs": []
    },
    {
      "cell_type": "markdown",
      "metadata": {
        "id": "cOBc8-wBJ7_a",
        "colab_type": "text"
      },
      "source": [
        "## 名前空間付きXMLから値を取得する\n"
      ]
    },
    {
      "cell_type": "markdown",
      "metadata": {
        "id": "5voSDYsniWAp",
        "colab_type": "text"
      },
      "source": [
        "\n",
        "基盤地図情報DEMのXMLは名前空間付きXMLです．\n",
        "このため，タグへのアクセスには名前空間の接頭辞をつける必要があります．\n",
        "たとえば，`find`メソッドを使ってタグ`mesh`にアクセスする場合，\n",
        "通常のXMLのように名前空間なしでアクセスするとエラーが発生します．"
      ]
    },
    {
      "cell_type": "code",
      "metadata": {
        "id": "dMKuY89QahGB",
        "colab_type": "code",
        "outputId": "62a4673e-326b-455e-fb04-5bd43c031a3e",
        "colab": {
          "base_uri": "https://localhost:8080/",
          "height": 193
        }
      },
      "source": [
        "mesh = elem.find(\".//mesh\")\n",
        "print(mesh.text)"
      ],
      "execution_count": 0,
      "outputs": [
        {
          "output_type": "error",
          "ename": "AttributeError",
          "evalue": "ignored",
          "traceback": [
            "\u001b[0;31m---------------------------------------------------------------------------\u001b[0m",
            "\u001b[0;31mAttributeError\u001b[0m                            Traceback (most recent call last)",
            "\u001b[0;32m<ipython-input-6-c1c1a9a64e78>\u001b[0m in \u001b[0;36m<module>\u001b[0;34m()\u001b[0m\n\u001b[1;32m      1\u001b[0m \u001b[0mmesh\u001b[0m \u001b[0;34m=\u001b[0m \u001b[0melem\u001b[0m\u001b[0;34m.\u001b[0m\u001b[0mfind\u001b[0m\u001b[0;34m(\u001b[0m\u001b[0;34m\".//mesh\"\u001b[0m\u001b[0;34m)\u001b[0m\u001b[0;34m\u001b[0m\u001b[0;34m\u001b[0m\u001b[0m\n\u001b[0;32m----> 2\u001b[0;31m \u001b[0mprint\u001b[0m\u001b[0;34m(\u001b[0m\u001b[0mmesh\u001b[0m\u001b[0;34m.\u001b[0m\u001b[0mtext\u001b[0m\u001b[0;34m)\u001b[0m\u001b[0;34m\u001b[0m\u001b[0;34m\u001b[0m\u001b[0m\n\u001b[0m",
            "\u001b[0;31mAttributeError\u001b[0m: 'NoneType' object has no attribute 'text'"
          ]
        }
      ]
    },
    {
      "cell_type": "markdown",
      "metadata": {
        "id": "KdWpLJx4aebL",
        "colab_type": "text"
      },
      "source": [
        "\n",
        "これを解決するためには，タグに紐づけられている名前空間のURIをタグごとに加える必要があります．\n",
        "例えば以下のようにです．\n"
      ]
    },
    {
      "cell_type": "code",
      "metadata": {
        "id": "WEUa7wrDanPw",
        "colab_type": "code",
        "outputId": "548515d6-e478-46a0-d856-8833cbdd2643",
        "colab": {
          "base_uri": "https://localhost:8080/",
          "height": 35
        }
      },
      "source": [
        "mesh = elem.find(\".//{http://fgd.gsi.go.jp/spec/2008/FGD_GMLSchema}mesh\")\n",
        "print(mesh.text)"
      ],
      "execution_count": 0,
      "outputs": [
        {
          "output_type": "stream",
          "text": [
            "51390350\n"
          ],
          "name": "stdout"
        }
      ]
    },
    {
      "cell_type": "markdown",
      "metadata": {
        "id": "XlK2GxTHalKA",
        "colab_type": "text"
      },
      "source": [
        "しかし，すべてのタグにURIをつけるのは煩雑です．\n",
        "プログラミングミスの原因にもなりかねません．\n",
        "もう少しエレガントな方法としては，\n",
        "タグのディクショナリをメソッドの第2引数に指定する方法があります．\n",
        "\n",
        "以下はDEMのXMLの冒頭部です．\n",
        "xmlnsで始まる部分が名前空間の定義になっており，それぞれURIが指定されています．\n"
      ]
    },
    {
      "cell_type": "markdown",
      "metadata": {
        "id": "PBo5jzYP_7c-",
        "colab_type": "text"
      },
      "source": [
        "```xml\n",
        "<?xml version=\"1.0\" encoding=\"UTF-8\"?>\n",
        "<Dataset\n",
        "  gml:id=\"Dataset1\"\n",
        "  xmlns=\"http://fgd.gsi.go.jp/spec/2008/FGD_GMLSchema\" \n",
        "  xmlns:xlink=\"http://www.w3.org/1999/xlink\"\n",
        "  xmlns:xsi=\"http://www.w3.org/2001/XMLSchema-instance\"\n",
        "  xmlns:gml=\"http://www.opengis.net/gml/3.2\"\n",
        "  xsi:schemaLocation=\"http://fgd.gsi.go.jp/spec/2008/FGD_GMLSchema FGD_GMLSchema.xsd\"\n",
        ">\n",
        "```"
      ]
    },
    {
      "cell_type": "markdown",
      "metadata": {
        "id": "D3O_HpT5ykLJ",
        "colab_type": "text"
      },
      "source": [
        "これを元にして名前空間の接頭辞のディクショナリを作成します．\n",
        "デフォルトの名前空間`xmlns=\"http://fgd.gsi.go.jp/spec/2008/FGD_GMLSchema\"`については，ディクショナリのキーを`default`としています．\n"
      ]
    },
    {
      "cell_type": "code",
      "metadata": {
        "id": "UppGuoz6yoFp",
        "colab_type": "code",
        "colab": {}
      },
      "source": [
        "ns = {'default': 'http://fgd.gsi.go.jp/spec/2008/FGD_GMLSchema',\n",
        "  'xlink': 'http://www.w3.org/1999/xlink',\n",
        "  'xsi': 'http://www.w3.org/2001/XMLSchema-instance',\n",
        "  'gml': 'http://www.opengis.net/gml/3.2'}"
      ],
      "execution_count": 0,
      "outputs": []
    },
    {
      "cell_type": "markdown",
      "metadata": {
        "id": "jFs54Phkfo4C",
        "colab_type": "text"
      },
      "source": [
        "`elem`オブジェクトの`find`メソッドにタグ`default:mesh`を入力してタ検索し，\n",
        "値を表示してみましょう．\n",
        "戻り値（このタグの値）は標準地域メッシュ番号となっています．\n",
        "最初の4桁`5139`が1次メッシュコード，\n",
        "次の2桁`03`が2次メッシュコード，\n",
        "最後の2桁`50`が3次メッシュコードです．"
      ]
    },
    {
      "cell_type": "code",
      "metadata": {
        "colab_type": "code",
        "outputId": "8e621630-139a-4d93-adf8-4ef0bcbac6b9",
        "id": "yH5cSqtHsK5x",
        "colab": {
          "base_uri": "https://localhost:8080/",
          "height": 35
        }
      },
      "source": [
        "mesh = elem.find('.//default:mesh', ns)\n",
        "print(mesh.text)"
      ],
      "execution_count": 0,
      "outputs": [
        {
          "output_type": "stream",
          "text": [
            "51390350\n"
          ],
          "name": "stdout"
        }
      ]
    },
    {
      "cell_type": "markdown",
      "metadata": {
        "id": "BSokynWtGcWC",
        "colab_type": "text"
      },
      "source": [
        "次に`gml:lowerCorner`を表示してみます．\n",
        "このタグにはDEMの南西端の座標が格納されています．"
      ]
    },
    {
      "cell_type": "code",
      "metadata": {
        "colab_type": "code",
        "outputId": "1987a4ec-5b1a-4303-ba50-9195b88ce950",
        "id": "R2_nGWl6xG3M",
        "colab": {
          "base_uri": "https://localhost:8080/",
          "height": 35
        }
      },
      "source": [
        "lowercorner = elem.find('.//gml:lowerCorner', ns)\n",
        "print(lowercorner.text)"
      ],
      "execution_count": 0,
      "outputs": [
        {
          "output_type": "stream",
          "text": [
            "34.041666667 139.375\n"
          ],
          "name": "stdout"
        }
      ]
    },
    {
      "cell_type": "markdown",
      "metadata": {
        "id": "0KJJM6UzGk-V",
        "colab_type": "text"
      },
      "source": [
        "同様に`gml:upperCorner`には\n",
        "北東端の座標が格納されています．"
      ]
    },
    {
      "cell_type": "code",
      "metadata": {
        "id": "132ceHv8fo4O",
        "colab_type": "code",
        "outputId": "c0acc6e0-1ce7-4591-f693-88cb5ff23e22",
        "colab": {
          "base_uri": "https://localhost:8080/",
          "height": 35
        }
      },
      "source": [
        "uppercorner = elem.find('.//gml:upperCorner', ns)\n",
        "print(uppercorner.text)"
      ],
      "execution_count": 0,
      "outputs": [
        {
          "output_type": "stream",
          "text": [
            "34.05 139.3875\n"
          ],
          "name": "stdout"
        }
      ]
    },
    {
      "cell_type": "markdown",
      "metadata": {
        "id": "JtdRzsg3fo4H",
        "colab_type": "text"
      },
      "source": [
        "## 標高値の取得とデータフレームへの格納\n"
      ]
    },
    {
      "cell_type": "markdown",
      "metadata": {
        "id": "0yiUJEW5iZFz",
        "colab_type": "text"
      },
      "source": [
        "\n",
        "タグ`gml:tupleList`には標高が格納されています．\n",
        "値は改行コードとカンマで分けられた文字列になっており，\n",
        "カンマの前が標高点の属性，カンマの後ろが標高値になっています．\n",
        "またデータがないメッシュの属性は`データなし`で標高値は`-9999`，\n",
        "データがあるメッシュの属性は`地表面`で標高値が実数で入っています．"
      ]
    },
    {
      "cell_type": "code",
      "metadata": {
        "id": "pymkTh7nfo4J",
        "colab_type": "code",
        "colab": {}
      },
      "source": [
        "tuplelist = elem.find(\".//gml:tupleList\", ns)\n",
        "print(tuplelist.text)"
      ],
      "execution_count": 0,
      "outputs": []
    },
    {
      "cell_type": "markdown",
      "metadata": {
        "id": "OizB-wgCUAFq",
        "colab_type": "text"
      },
      "source": [
        "標高値が格納されている文字列はcsvそのものになっており，\n",
        "csvとして書き出せばpandasの`pd.read_csv()`でデータフレームに読み込むことができます．\n",
        "\n",
        "しかし，一旦ファイルに書き出して再度読み込むのも煩雑なため，`io.StringIO`を使ってテキストストリームを作成し，これにpandasの`pd.read_csv`を組み合わせてcsv型式の文字列をデータフレームに格納します．\n",
        "ついでに列名`att`と`z`も加えます．"
      ]
    },
    {
      "cell_type": "code",
      "metadata": {
        "id": "rvMhDi2KThDP",
        "colab_type": "code",
        "outputId": "1d342ba4-3530-4ca0-a351-99790292daf0",
        "colab": {
          "base_uri": "https://localhost:8080/",
          "height": 415
        }
      },
      "source": [
        "df = pd.read_csv(io.StringIO(tuplelist.text), header = None)\n",
        "df.columns = ['att', 'z']\n",
        "df"
      ],
      "execution_count": 0,
      "outputs": [
        {
          "output_type": "execute_result",
          "data": {
            "text/html": [
              "<div>\n",
              "<style scoped>\n",
              "    .dataframe tbody tr th:only-of-type {\n",
              "        vertical-align: middle;\n",
              "    }\n",
              "\n",
              "    .dataframe tbody tr th {\n",
              "        vertical-align: top;\n",
              "    }\n",
              "\n",
              "    .dataframe thead th {\n",
              "        text-align: right;\n",
              "    }\n",
              "</style>\n",
              "<table border=\"1\" class=\"dataframe\">\n",
              "  <thead>\n",
              "    <tr style=\"text-align: right;\">\n",
              "      <th></th>\n",
              "      <th>att</th>\n",
              "      <th>z</th>\n",
              "    </tr>\n",
              "  </thead>\n",
              "  <tbody>\n",
              "    <tr>\n",
              "      <th>0</th>\n",
              "      <td>地表面</td>\n",
              "      <td>1.21</td>\n",
              "    </tr>\n",
              "    <tr>\n",
              "      <th>1</th>\n",
              "      <td>地表面</td>\n",
              "      <td>1.49</td>\n",
              "    </tr>\n",
              "    <tr>\n",
              "      <th>2</th>\n",
              "      <td>地表面</td>\n",
              "      <td>1.18</td>\n",
              "    </tr>\n",
              "    <tr>\n",
              "      <th>3</th>\n",
              "      <td>データなし</td>\n",
              "      <td>-9999.00</td>\n",
              "    </tr>\n",
              "    <tr>\n",
              "      <th>4</th>\n",
              "      <td>データなし</td>\n",
              "      <td>-9999.00</td>\n",
              "    </tr>\n",
              "    <tr>\n",
              "      <th>...</th>\n",
              "      <td>...</td>\n",
              "      <td>...</td>\n",
              "    </tr>\n",
              "    <tr>\n",
              "      <th>21160</th>\n",
              "      <td>データなし</td>\n",
              "      <td>-9999.00</td>\n",
              "    </tr>\n",
              "    <tr>\n",
              "      <th>21161</th>\n",
              "      <td>データなし</td>\n",
              "      <td>-9999.00</td>\n",
              "    </tr>\n",
              "    <tr>\n",
              "      <th>21162</th>\n",
              "      <td>データなし</td>\n",
              "      <td>-9999.00</td>\n",
              "    </tr>\n",
              "    <tr>\n",
              "      <th>21163</th>\n",
              "      <td>データなし</td>\n",
              "      <td>-9999.00</td>\n",
              "    </tr>\n",
              "    <tr>\n",
              "      <th>21164</th>\n",
              "      <td>地表面</td>\n",
              "      <td>2.13</td>\n",
              "    </tr>\n",
              "  </tbody>\n",
              "</table>\n",
              "<p>21165 rows × 2 columns</p>\n",
              "</div>"
            ],
            "text/plain": [
              "         att        z\n",
              "0        地表面     1.21\n",
              "1        地表面     1.49\n",
              "2        地表面     1.18\n",
              "3      データなし -9999.00\n",
              "4      データなし -9999.00\n",
              "...      ...      ...\n",
              "21160  データなし -9999.00\n",
              "21161  データなし -9999.00\n",
              "21162  データなし -9999.00\n",
              "21163  データなし -9999.00\n",
              "21164    地表面     2.13\n",
              "\n",
              "[21165 rows x 2 columns]"
            ]
          },
          "metadata": {
            "tags": []
          },
          "execution_count": 13
        }
      ]
    },
    {
      "cell_type": "markdown",
      "metadata": {
        "id": "IndJCYzjRxI_",
        "colab_type": "text"
      },
      "source": [
        "データフレームの大きさは21165行 $\\times$ 2列になっています．\n",
        "5mメッシュDEMの場合，格納されている標高値の列数と行数は`gml:high`と`gml:low`によって規定されています．\n",
        "両者を取得して確認してみましょう．"
      ]
    },
    {
      "cell_type": "code",
      "metadata": {
        "colab_type": "code",
        "outputId": "b3c8a6e4-a062-4708-d450-fc3a683e86eb",
        "id": "4VijmFR0SDp_",
        "colab": {
          "base_uri": "https://localhost:8080/",
          "height": 52
        }
      },
      "source": [
        "print(elem.find(\".//gml:low\", ns).text)\n",
        "print(elem.find(\".//gml:high\", ns).text)"
      ],
      "execution_count": 0,
      "outputs": [
        {
          "output_type": "stream",
          "text": [
            "0 0\n",
            "224 149\n"
          ],
          "name": "stdout"
        }
      ]
    },
    {
      "cell_type": "markdown",
      "metadata": {
        "id": "r-fw9qjOSULe",
        "colab_type": "text"
      },
      "source": [
        "(0, 0)から(224, 149)の225列 $\\times$ 150行の合計33376個になっています．\n",
        "しかし，実際には21165個のデータしかありません．\n",
        "これは，海面などで標高値がない部分が連続する場合，データが省略されていることが原因です．\n",
        "データの開始地点は`gml:startPoint`に格納されています．"
      ]
    },
    {
      "cell_type": "code",
      "metadata": {
        "colab_type": "code",
        "outputId": "6f3f4ae9-403d-4280-a3e0-475104f3af6e",
        "id": "NjOWeV7jTZB3",
        "colab": {
          "base_uri": "https://localhost:8080/",
          "height": 35
        }
      },
      "source": [
        "print(elem.find('.//gml:startPoint', ns).text)"
      ],
      "execution_count": 0,
      "outputs": [
        {
          "output_type": "stream",
          "text": [
            "155 12\n"
          ],
          "name": "stdout"
        }
      ]
    },
    {
      "cell_type": "markdown",
      "metadata": {
        "id": "p6MagWymTgDn",
        "colab_type": "text"
      },
      "source": [
        "`gml:startPoint`を見てみると，標高値は155列12行から格納されていることがわかります．\n",
        "しかし，$(225-155)+((150-12)\\times225)$の31120個のデータがあるはずですが，\n",
        "実際には21165メッシュ分しかありません．\n",
        "`gml:startPoint`はあくまでもデータの格納開始地点を表しているにすぎず，終了地点を表すタグはないので，\n",
        "不足分はデータが省略されています．\n"
      ]
    },
    {
      "cell_type": "markdown",
      "metadata": {
        "id": "j5wdF56t5-Tz",
        "colab_type": "text"
      },
      "source": [
        "# 標高配列の作成"
      ]
    },
    {
      "cell_type": "markdown",
      "metadata": {
        "id": "6aQKEGdN01g4",
        "colab_type": "text"
      },
      "source": [
        "## 標高データに通し番号をつける\n"
      ]
    },
    {
      "cell_type": "markdown",
      "metadata": {
        "id": "kSX1AWEpibhP",
        "colab_type": "text"
      },
      "source": [
        "\n",
        "`df`に格納されている標高値にメッシュの通し番号をつけます．\n",
        "この通し番号は省略されたデータも含むものとします．\n",
        "\n",
        "メッシュの初期値は`開始列番号+(開始行番号*列数)`です．\n",
        "開始列番号と開始行番号は`gml:startPoint`から取得します．\n",
        "`gml:startPoint`の値はスペースで区切られており，\n",
        "スペースの前が開始列番号，後ろが開始行番号です．\n",
        "開始列番号を`startPointX`，開始行番号を`startPointY`とし，\n",
        "`split`メソッドを使って分割します．\n",
        "分割されて取得されるリストは文字列になっていますので，\n",
        "`int`関数を使って整数値に変換します．"
      ]
    },
    {
      "cell_type": "code",
      "metadata": {
        "id": "h6nabYBRi0nE",
        "colab_type": "code",
        "outputId": "2d3dc32b-c78d-4f43-fdf1-d49e883d3ed1",
        "colab": {
          "base_uri": "https://localhost:8080/",
          "height": 35
        }
      },
      "source": [
        "startPoint = elem.find('.//gml:startPoint', ns).text.split(' ')\n",
        "startPointX = int(startPoint[0])\n",
        "startPointY = int(startPoint[1])\n",
        "print(startPointX, startPointY)"
      ],
      "execution_count": 0,
      "outputs": [
        {
          "output_type": "stream",
          "text": [
            "155 12\n"
          ],
          "name": "stdout"
        }
      ]
    },
    {
      "cell_type": "markdown",
      "metadata": {
        "id": "XUaKkd0aq7qo",
        "colab_type": "text"
      },
      "source": [
        "行数と列数は`gml:high`から取得できます．\n",
        "`gml:high`も行数と列数がスペースで区切られているので，\n",
        "`split(' ')`で値を分割します．区切られた値はリストになりますので，\n",
        "最初の要素`[0]`である列数を整数化して変数`cols`に代入します．\n",
        "同様に2番目の要素`[1]`の行数を整数化して`rows`に代入します．"
      ]
    },
    {
      "cell_type": "code",
      "metadata": {
        "id": "wqYJxN10hbqa",
        "colab_type": "code",
        "outputId": "db8c504d-2b36-44fa-ec21-fd75cbd622b2",
        "colab": {
          "base_uri": "https://localhost:8080/",
          "height": 35
        }
      },
      "source": [
        "cols = int(elem.find(\".//gml:high\", ns).text.split(' ')[0]) + 1\n",
        "rows = int(elem.find(\".//gml:high\", ns).text.split(' ')[1]) + 1\n",
        "print(rows, cols)"
      ],
      "execution_count": 0,
      "outputs": [
        {
          "output_type": "stream",
          "text": [
            "150 225\n"
          ],
          "name": "stdout"
        }
      ]
    },
    {
      "cell_type": "markdown",
      "metadata": {
        "id": "9wEOEpEYkDQz",
        "colab_type": "text"
      },
      "source": [
        "\n",
        "開始番号`start`は`startPointX + (列数 * startPointY)`で，\n",
        "終了番号`end`は開始番号に`df`の行数を加えたものになります．\n",
        "`df`の行数は`df.shape[0]`で取得できます．"
      ]
    },
    {
      "cell_type": "code",
      "metadata": {
        "id": "SZ6M7VSlqw8T",
        "colab_type": "code",
        "outputId": "06b2b97a-f1aa-409a-d254-b9a086fb23d4",
        "colab": {
          "base_uri": "https://localhost:8080/",
          "height": 35
        }
      },
      "source": [
        "start = startPointX + (cols * startPointY)\n",
        "end = int(df.shape[0]) + start\n",
        "print(start, end)"
      ],
      "execution_count": 0,
      "outputs": [
        {
          "output_type": "stream",
          "text": [
            "2855 24020\n"
          ],
          "name": "stdout"
        }
      ]
    },
    {
      "cell_type": "markdown",
      "metadata": {
        "id": "JG_477pRrCUI",
        "colab_type": "text"
      },
      "source": [
        "次に`range`関数を使って，標高値のあるメッシュの通し番号のリスト`n`を作成します．"
      ]
    },
    {
      "cell_type": "code",
      "metadata": {
        "id": "z9pfwtniq4am",
        "colab_type": "code",
        "outputId": "eb7a93ff-4d5c-4fe5-8cc8-2e2bafc50e53",
        "colab": {
          "base_uri": "https://localhost:8080/",
          "height": 35
        }
      },
      "source": [
        "n = list(range(start, end))\n",
        "len(n)"
      ],
      "execution_count": 0,
      "outputs": [
        {
          "output_type": "execute_result",
          "data": {
            "text/plain": [
              "21165"
            ]
          },
          "metadata": {
            "tags": []
          },
          "execution_count": 19
        }
      ]
    },
    {
      "cell_type": "markdown",
      "metadata": {
        "id": "XhtWB9N69UdN",
        "colab_type": "text"
      },
      "source": [
        "標高を格納したデータフレーム`df`にリスト`n`を加えます．"
      ]
    },
    {
      "cell_type": "code",
      "metadata": {
        "id": "VEGJiEEJ6ojt",
        "colab_type": "code",
        "outputId": "8ae57dac-9e3c-4212-8937-2cb0c30f0c96",
        "colab": {
          "base_uri": "https://localhost:8080/",
          "height": 415
        }
      },
      "source": [
        "df['n'] = n\n",
        "df"
      ],
      "execution_count": 0,
      "outputs": [
        {
          "output_type": "execute_result",
          "data": {
            "text/html": [
              "<div>\n",
              "<style scoped>\n",
              "    .dataframe tbody tr th:only-of-type {\n",
              "        vertical-align: middle;\n",
              "    }\n",
              "\n",
              "    .dataframe tbody tr th {\n",
              "        vertical-align: top;\n",
              "    }\n",
              "\n",
              "    .dataframe thead th {\n",
              "        text-align: right;\n",
              "    }\n",
              "</style>\n",
              "<table border=\"1\" class=\"dataframe\">\n",
              "  <thead>\n",
              "    <tr style=\"text-align: right;\">\n",
              "      <th></th>\n",
              "      <th>att</th>\n",
              "      <th>z</th>\n",
              "      <th>n</th>\n",
              "    </tr>\n",
              "  </thead>\n",
              "  <tbody>\n",
              "    <tr>\n",
              "      <th>0</th>\n",
              "      <td>地表面</td>\n",
              "      <td>1.21</td>\n",
              "      <td>2855</td>\n",
              "    </tr>\n",
              "    <tr>\n",
              "      <th>1</th>\n",
              "      <td>地表面</td>\n",
              "      <td>1.49</td>\n",
              "      <td>2856</td>\n",
              "    </tr>\n",
              "    <tr>\n",
              "      <th>2</th>\n",
              "      <td>地表面</td>\n",
              "      <td>1.18</td>\n",
              "      <td>2857</td>\n",
              "    </tr>\n",
              "    <tr>\n",
              "      <th>3</th>\n",
              "      <td>データなし</td>\n",
              "      <td>-9999.00</td>\n",
              "      <td>2858</td>\n",
              "    </tr>\n",
              "    <tr>\n",
              "      <th>4</th>\n",
              "      <td>データなし</td>\n",
              "      <td>-9999.00</td>\n",
              "      <td>2859</td>\n",
              "    </tr>\n",
              "    <tr>\n",
              "      <th>...</th>\n",
              "      <td>...</td>\n",
              "      <td>...</td>\n",
              "      <td>...</td>\n",
              "    </tr>\n",
              "    <tr>\n",
              "      <th>21160</th>\n",
              "      <td>データなし</td>\n",
              "      <td>-9999.00</td>\n",
              "      <td>24015</td>\n",
              "    </tr>\n",
              "    <tr>\n",
              "      <th>21161</th>\n",
              "      <td>データなし</td>\n",
              "      <td>-9999.00</td>\n",
              "      <td>24016</td>\n",
              "    </tr>\n",
              "    <tr>\n",
              "      <th>21162</th>\n",
              "      <td>データなし</td>\n",
              "      <td>-9999.00</td>\n",
              "      <td>24017</td>\n",
              "    </tr>\n",
              "    <tr>\n",
              "      <th>21163</th>\n",
              "      <td>データなし</td>\n",
              "      <td>-9999.00</td>\n",
              "      <td>24018</td>\n",
              "    </tr>\n",
              "    <tr>\n",
              "      <th>21164</th>\n",
              "      <td>地表面</td>\n",
              "      <td>2.13</td>\n",
              "      <td>24019</td>\n",
              "    </tr>\n",
              "  </tbody>\n",
              "</table>\n",
              "<p>21165 rows × 3 columns</p>\n",
              "</div>"
            ],
            "text/plain": [
              "         att        z      n\n",
              "0        地表面     1.21   2855\n",
              "1        地表面     1.49   2856\n",
              "2        地表面     1.18   2857\n",
              "3      データなし -9999.00   2858\n",
              "4      データなし -9999.00   2859\n",
              "...      ...      ...    ...\n",
              "21160  データなし -9999.00  24015\n",
              "21161  データなし -9999.00  24016\n",
              "21162  データなし -9999.00  24017\n",
              "21163  データなし -9999.00  24018\n",
              "21164    地表面     2.13  24019\n",
              "\n",
              "[21165 rows x 3 columns]"
            ]
          },
          "metadata": {
            "tags": []
          },
          "execution_count": 20
        }
      ]
    },
    {
      "cell_type": "markdown",
      "metadata": {
        "id": "5iJIT7XVIlt9",
        "colab_type": "text"
      },
      "source": [
        "## 標高値の通し番号から列番号と行番号を求める\n"
      ]
    },
    {
      "cell_type": "markdown",
      "metadata": {
        "id": "hLKlppnkifTt",
        "colab_type": "text"
      },
      "source": [
        "\n",
        "通し番号`n`の値から列番号`x4`と行番号`y4`を求めます．\n",
        "`n`を列数`cols`で割った余りが列番号，\n",
        "商の整数部が行番号になります．\n",
        "剰余を求める演算子`%`と整数の商を求める`//`を利用します．\n",
        "求めた列番号と行番号はそれぞれ`x4`と`y4`としてデータフレーム`df`に格納します．"
      ]
    },
    {
      "cell_type": "code",
      "metadata": {
        "id": "83-LMJYVYs6b",
        "colab_type": "code",
        "outputId": "bacc7e13-4688-4d19-9364-9474281f9b50",
        "colab": {
          "base_uri": "https://localhost:8080/",
          "height": 415
        }
      },
      "source": [
        "df['x4'] = (df['n'] % cols)\n",
        "df['y4'] = (df['n'] // cols)\n",
        "df"
      ],
      "execution_count": 0,
      "outputs": [
        {
          "output_type": "execute_result",
          "data": {
            "text/html": [
              "<div>\n",
              "<style scoped>\n",
              "    .dataframe tbody tr th:only-of-type {\n",
              "        vertical-align: middle;\n",
              "    }\n",
              "\n",
              "    .dataframe tbody tr th {\n",
              "        vertical-align: top;\n",
              "    }\n",
              "\n",
              "    .dataframe thead th {\n",
              "        text-align: right;\n",
              "    }\n",
              "</style>\n",
              "<table border=\"1\" class=\"dataframe\">\n",
              "  <thead>\n",
              "    <tr style=\"text-align: right;\">\n",
              "      <th></th>\n",
              "      <th>att</th>\n",
              "      <th>z</th>\n",
              "      <th>n</th>\n",
              "      <th>x4</th>\n",
              "      <th>y4</th>\n",
              "    </tr>\n",
              "  </thead>\n",
              "  <tbody>\n",
              "    <tr>\n",
              "      <th>0</th>\n",
              "      <td>地表面</td>\n",
              "      <td>1.21</td>\n",
              "      <td>2855</td>\n",
              "      <td>155</td>\n",
              "      <td>12</td>\n",
              "    </tr>\n",
              "    <tr>\n",
              "      <th>1</th>\n",
              "      <td>地表面</td>\n",
              "      <td>1.49</td>\n",
              "      <td>2856</td>\n",
              "      <td>156</td>\n",
              "      <td>12</td>\n",
              "    </tr>\n",
              "    <tr>\n",
              "      <th>2</th>\n",
              "      <td>地表面</td>\n",
              "      <td>1.18</td>\n",
              "      <td>2857</td>\n",
              "      <td>157</td>\n",
              "      <td>12</td>\n",
              "    </tr>\n",
              "    <tr>\n",
              "      <th>3</th>\n",
              "      <td>データなし</td>\n",
              "      <td>-9999.00</td>\n",
              "      <td>2858</td>\n",
              "      <td>158</td>\n",
              "      <td>12</td>\n",
              "    </tr>\n",
              "    <tr>\n",
              "      <th>4</th>\n",
              "      <td>データなし</td>\n",
              "      <td>-9999.00</td>\n",
              "      <td>2859</td>\n",
              "      <td>159</td>\n",
              "      <td>12</td>\n",
              "    </tr>\n",
              "    <tr>\n",
              "      <th>...</th>\n",
              "      <td>...</td>\n",
              "      <td>...</td>\n",
              "      <td>...</td>\n",
              "      <td>...</td>\n",
              "      <td>...</td>\n",
              "    </tr>\n",
              "    <tr>\n",
              "      <th>21160</th>\n",
              "      <td>データなし</td>\n",
              "      <td>-9999.00</td>\n",
              "      <td>24015</td>\n",
              "      <td>165</td>\n",
              "      <td>106</td>\n",
              "    </tr>\n",
              "    <tr>\n",
              "      <th>21161</th>\n",
              "      <td>データなし</td>\n",
              "      <td>-9999.00</td>\n",
              "      <td>24016</td>\n",
              "      <td>166</td>\n",
              "      <td>106</td>\n",
              "    </tr>\n",
              "    <tr>\n",
              "      <th>21162</th>\n",
              "      <td>データなし</td>\n",
              "      <td>-9999.00</td>\n",
              "      <td>24017</td>\n",
              "      <td>167</td>\n",
              "      <td>106</td>\n",
              "    </tr>\n",
              "    <tr>\n",
              "      <th>21163</th>\n",
              "      <td>データなし</td>\n",
              "      <td>-9999.00</td>\n",
              "      <td>24018</td>\n",
              "      <td>168</td>\n",
              "      <td>106</td>\n",
              "    </tr>\n",
              "    <tr>\n",
              "      <th>21164</th>\n",
              "      <td>地表面</td>\n",
              "      <td>2.13</td>\n",
              "      <td>24019</td>\n",
              "      <td>169</td>\n",
              "      <td>106</td>\n",
              "    </tr>\n",
              "  </tbody>\n",
              "</table>\n",
              "<p>21165 rows × 5 columns</p>\n",
              "</div>"
            ],
            "text/plain": [
              "         att        z      n   x4   y4\n",
              "0        地表面     1.21   2855  155   12\n",
              "1        地表面     1.49   2856  156   12\n",
              "2        地表面     1.18   2857  157   12\n",
              "3      データなし -9999.00   2858  158   12\n",
              "4      データなし -9999.00   2859  159   12\n",
              "...      ...      ...    ...  ...  ...\n",
              "21160  データなし -9999.00  24015  165  106\n",
              "21161  データなし -9999.00  24016  166  106\n",
              "21162  データなし -9999.00  24017  167  106\n",
              "21163  データなし -9999.00  24018  168  106\n",
              "21164    地表面     2.13  24019  169  106\n",
              "\n",
              "[21165 rows x 5 columns]"
            ]
          },
          "metadata": {
            "tags": []
          },
          "execution_count": 21
        }
      ]
    },
    {
      "cell_type": "markdown",
      "metadata": {
        "id": "Z674HEpqWyrt",
        "colab_type": "text"
      },
      "source": [
        "## 標高値にユニークな列番号と行番号をつける\n"
      ]
    },
    {
      "cell_type": "markdown",
      "metadata": {
        "id": "DcruIir4ihJ4",
        "colab_type": "text"
      },
      "source": [
        "\n",
        "次に各標高点の1次メッシュから3次メッシュまでの列番号と行番号を求めます．\n",
        "\n",
        "メッシュコードが格納されているのは`mesh.text`で，これは以前に取得しています．\n",
        "`mesh.text`は8桁の数字からなっており，\n",
        "最初の4桁が1時メッシュコード，\n",
        "次の2桁が2次メッシュコード，\n",
        "最後の2桁が3次メッシュコードです．\n",
        "\n",
        "1次メッシュコードから3次メッシュコードの構成は以下のようになっています．\n",
        "\n",
        "* 1次メッシュコード\n",
        "\n",
        "5039|5040|5041|$\\ldots$\n",
        "-|-|-|-\n",
        "4939|4940|4941|$\\ldots$\n",
        "4839|4840|4841|$\\ldots$\n",
        "4739|4740|4741|$\\ldots$\n",
        "$\\vdots$|$\\vdots$|$\\vdots$\n",
        "\n",
        "* 2次メッシュコード\n",
        "\n",
        "70|71|72|73|$\\ldots$|77\n",
        "-|-|-|-|-|-|\n",
        "60|61|62|63|$\\ldots$|67\n",
        "50|51|52|53|$\\ldots$|57\n",
        "$\\vdots$|$\\vdots$|$\\vdots$|$\\vdots$| |$\\vdots$\n",
        "00|01|02|03|$\\ldots$|07\n",
        "\n",
        "* 3次メッシュコード\n",
        "\n",
        "90|91|92|93|$\\ldots$|99\n",
        "-|-|-|-|-|-|\n",
        "80|81|82|83|$\\ldots$|89\n",
        "70|71|72|73|$\\ldots$|79\n",
        "$\\vdots$|$\\vdots$|$\\vdots$|$\\vdots$| |$\\vdots$\n",
        "00|01|02|03|$\\ldots$|09\n",
        "\n",
        "1次メッシュの中には2次メッシュが8 $\\times$ 8メッシュ，\n",
        "2次メッシュの中には3次メッシュが10 $\\times$ 10メッシュ入っています．\n",
        "さらに3次メッシュの中には標高点が`cols`$\\times$ `rows`個あります．\n",
        "つまり，1次メッシュの中には$(8\\times 10\\times cols) \\times (8 \\times 10 \\times rows)$個の標高点が格納されています．\n",
        "\n",
        "1次メッシュから3次メッシュまでのxとyを取得します．"
      ]
    },
    {
      "cell_type": "code",
      "metadata": {
        "id": "3_fYcab2W9_d",
        "colab_type": "code",
        "colab": {}
      },
      "source": [
        "y1 = int(mesh.text[0:2])\n",
        "x1 = int(mesh.text[2:4])\n",
        "y2 = int(mesh.text[4])\n",
        "x2 = int(mesh.text[5])\n",
        "y3 = int(mesh.text[6])\n",
        "x3 = int(mesh.text[7])"
      ],
      "execution_count": 0,
      "outputs": []
    },
    {
      "cell_type": "markdown",
      "metadata": {
        "id": "ieLMPWEtN695",
        "colab_type": "text"
      },
      "source": [
        "取得した1次メッシュから3次メッシュのxとyをデータフレームに追加します．"
      ]
    },
    {
      "cell_type": "code",
      "metadata": {
        "id": "F318B6amY6Sz",
        "colab_type": "code",
        "outputId": "a65ab7c7-cf1d-4fd5-dbb7-bc2ccba27cb4",
        "colab": {
          "base_uri": "https://localhost:8080/",
          "height": 415
        }
      },
      "source": [
        "df['x1'] = x1\n",
        "df['y1'] = y1\n",
        "df['x2'] = x2\n",
        "df['y2'] = y2\n",
        "df['x3'] = x3\n",
        "df['y3'] = y3\n",
        "df"
      ],
      "execution_count": 0,
      "outputs": [
        {
          "output_type": "execute_result",
          "data": {
            "text/html": [
              "<div>\n",
              "<style scoped>\n",
              "    .dataframe tbody tr th:only-of-type {\n",
              "        vertical-align: middle;\n",
              "    }\n",
              "\n",
              "    .dataframe tbody tr th {\n",
              "        vertical-align: top;\n",
              "    }\n",
              "\n",
              "    .dataframe thead th {\n",
              "        text-align: right;\n",
              "    }\n",
              "</style>\n",
              "<table border=\"1\" class=\"dataframe\">\n",
              "  <thead>\n",
              "    <tr style=\"text-align: right;\">\n",
              "      <th></th>\n",
              "      <th>att</th>\n",
              "      <th>z</th>\n",
              "      <th>n</th>\n",
              "      <th>x4</th>\n",
              "      <th>y4</th>\n",
              "      <th>x1</th>\n",
              "      <th>y1</th>\n",
              "      <th>x2</th>\n",
              "      <th>y2</th>\n",
              "      <th>x3</th>\n",
              "      <th>y3</th>\n",
              "    </tr>\n",
              "  </thead>\n",
              "  <tbody>\n",
              "    <tr>\n",
              "      <th>0</th>\n",
              "      <td>地表面</td>\n",
              "      <td>1.21</td>\n",
              "      <td>2855</td>\n",
              "      <td>155</td>\n",
              "      <td>12</td>\n",
              "      <td>39</td>\n",
              "      <td>51</td>\n",
              "      <td>3</td>\n",
              "      <td>0</td>\n",
              "      <td>0</td>\n",
              "      <td>5</td>\n",
              "    </tr>\n",
              "    <tr>\n",
              "      <th>1</th>\n",
              "      <td>地表面</td>\n",
              "      <td>1.49</td>\n",
              "      <td>2856</td>\n",
              "      <td>156</td>\n",
              "      <td>12</td>\n",
              "      <td>39</td>\n",
              "      <td>51</td>\n",
              "      <td>3</td>\n",
              "      <td>0</td>\n",
              "      <td>0</td>\n",
              "      <td>5</td>\n",
              "    </tr>\n",
              "    <tr>\n",
              "      <th>2</th>\n",
              "      <td>地表面</td>\n",
              "      <td>1.18</td>\n",
              "      <td>2857</td>\n",
              "      <td>157</td>\n",
              "      <td>12</td>\n",
              "      <td>39</td>\n",
              "      <td>51</td>\n",
              "      <td>3</td>\n",
              "      <td>0</td>\n",
              "      <td>0</td>\n",
              "      <td>5</td>\n",
              "    </tr>\n",
              "    <tr>\n",
              "      <th>3</th>\n",
              "      <td>データなし</td>\n",
              "      <td>-9999.00</td>\n",
              "      <td>2858</td>\n",
              "      <td>158</td>\n",
              "      <td>12</td>\n",
              "      <td>39</td>\n",
              "      <td>51</td>\n",
              "      <td>3</td>\n",
              "      <td>0</td>\n",
              "      <td>0</td>\n",
              "      <td>5</td>\n",
              "    </tr>\n",
              "    <tr>\n",
              "      <th>4</th>\n",
              "      <td>データなし</td>\n",
              "      <td>-9999.00</td>\n",
              "      <td>2859</td>\n",
              "      <td>159</td>\n",
              "      <td>12</td>\n",
              "      <td>39</td>\n",
              "      <td>51</td>\n",
              "      <td>3</td>\n",
              "      <td>0</td>\n",
              "      <td>0</td>\n",
              "      <td>5</td>\n",
              "    </tr>\n",
              "    <tr>\n",
              "      <th>...</th>\n",
              "      <td>...</td>\n",
              "      <td>...</td>\n",
              "      <td>...</td>\n",
              "      <td>...</td>\n",
              "      <td>...</td>\n",
              "      <td>...</td>\n",
              "      <td>...</td>\n",
              "      <td>...</td>\n",
              "      <td>...</td>\n",
              "      <td>...</td>\n",
              "      <td>...</td>\n",
              "    </tr>\n",
              "    <tr>\n",
              "      <th>21160</th>\n",
              "      <td>データなし</td>\n",
              "      <td>-9999.00</td>\n",
              "      <td>24015</td>\n",
              "      <td>165</td>\n",
              "      <td>106</td>\n",
              "      <td>39</td>\n",
              "      <td>51</td>\n",
              "      <td>3</td>\n",
              "      <td>0</td>\n",
              "      <td>0</td>\n",
              "      <td>5</td>\n",
              "    </tr>\n",
              "    <tr>\n",
              "      <th>21161</th>\n",
              "      <td>データなし</td>\n",
              "      <td>-9999.00</td>\n",
              "      <td>24016</td>\n",
              "      <td>166</td>\n",
              "      <td>106</td>\n",
              "      <td>39</td>\n",
              "      <td>51</td>\n",
              "      <td>3</td>\n",
              "      <td>0</td>\n",
              "      <td>0</td>\n",
              "      <td>5</td>\n",
              "    </tr>\n",
              "    <tr>\n",
              "      <th>21162</th>\n",
              "      <td>データなし</td>\n",
              "      <td>-9999.00</td>\n",
              "      <td>24017</td>\n",
              "      <td>167</td>\n",
              "      <td>106</td>\n",
              "      <td>39</td>\n",
              "      <td>51</td>\n",
              "      <td>3</td>\n",
              "      <td>0</td>\n",
              "      <td>0</td>\n",
              "      <td>5</td>\n",
              "    </tr>\n",
              "    <tr>\n",
              "      <th>21163</th>\n",
              "      <td>データなし</td>\n",
              "      <td>-9999.00</td>\n",
              "      <td>24018</td>\n",
              "      <td>168</td>\n",
              "      <td>106</td>\n",
              "      <td>39</td>\n",
              "      <td>51</td>\n",
              "      <td>3</td>\n",
              "      <td>0</td>\n",
              "      <td>0</td>\n",
              "      <td>5</td>\n",
              "    </tr>\n",
              "    <tr>\n",
              "      <th>21164</th>\n",
              "      <td>地表面</td>\n",
              "      <td>2.13</td>\n",
              "      <td>24019</td>\n",
              "      <td>169</td>\n",
              "      <td>106</td>\n",
              "      <td>39</td>\n",
              "      <td>51</td>\n",
              "      <td>3</td>\n",
              "      <td>0</td>\n",
              "      <td>0</td>\n",
              "      <td>5</td>\n",
              "    </tr>\n",
              "  </tbody>\n",
              "</table>\n",
              "<p>21165 rows × 11 columns</p>\n",
              "</div>"
            ],
            "text/plain": [
              "         att        z      n   x4   y4  x1  y1  x2  y2  x3  y3\n",
              "0        地表面     1.21   2855  155   12  39  51   3   0   0   5\n",
              "1        地表面     1.49   2856  156   12  39  51   3   0   0   5\n",
              "2        地表面     1.18   2857  157   12  39  51   3   0   0   5\n",
              "3      データなし -9999.00   2858  158   12  39  51   3   0   0   5\n",
              "4      データなし -9999.00   2859  159   12  39  51   3   0   0   5\n",
              "...      ...      ...    ...  ...  ...  ..  ..  ..  ..  ..  ..\n",
              "21160  データなし -9999.00  24015  165  106  39  51   3   0   0   5\n",
              "21161  データなし -9999.00  24016  166  106  39  51   3   0   0   5\n",
              "21162  データなし -9999.00  24017  167  106  39  51   3   0   0   5\n",
              "21163  データなし -9999.00  24018  168  106  39  51   3   0   0   5\n",
              "21164    地表面     2.13  24019  169  106  39  51   3   0   0   5\n",
              "\n",
              "[21165 rows x 11 columns]"
            ]
          },
          "metadata": {
            "tags": []
          },
          "execution_count": 23
        }
      ]
    },
    {
      "cell_type": "markdown",
      "metadata": {
        "id": "s9BbN2WFOgTi",
        "colab_type": "text"
      },
      "source": [
        "次に`x1`〜`x4`，`y1`〜`y4`を使って，1次メッシュをまたぐような列番号`x`と行番号`y`を作成します．\n"
      ]
    },
    {
      "cell_type": "code",
      "metadata": {
        "id": "xrOd5iJ8sYMr",
        "colab_type": "code",
        "outputId": "337f414d-2ce9-4507-c487-bbd13c84ab12",
        "colab": {
          "base_uri": "https://localhost:8080/",
          "height": 415
        }
      },
      "source": [
        "df['x'] = df['x4'] + (df['x3'] * cols) + (df['x2'] * 10 * cols) + (df['x1'] * 8 * 10 * cols)\n",
        "df['y'] = df['y4'] + ((8 - df['y3']) * rows) + ((10 - df['y2']) * 10 * rows) + ((100 - df['y1']) * 8 * 10 * rows)\n",
        "df"
      ],
      "execution_count": 0,
      "outputs": [
        {
          "output_type": "execute_result",
          "data": {
            "text/html": [
              "<div>\n",
              "<style scoped>\n",
              "    .dataframe tbody tr th:only-of-type {\n",
              "        vertical-align: middle;\n",
              "    }\n",
              "\n",
              "    .dataframe tbody tr th {\n",
              "        vertical-align: top;\n",
              "    }\n",
              "\n",
              "    .dataframe thead th {\n",
              "        text-align: right;\n",
              "    }\n",
              "</style>\n",
              "<table border=\"1\" class=\"dataframe\">\n",
              "  <thead>\n",
              "    <tr style=\"text-align: right;\">\n",
              "      <th></th>\n",
              "      <th>att</th>\n",
              "      <th>z</th>\n",
              "      <th>n</th>\n",
              "      <th>x4</th>\n",
              "      <th>y4</th>\n",
              "      <th>x1</th>\n",
              "      <th>y1</th>\n",
              "      <th>x2</th>\n",
              "      <th>y2</th>\n",
              "      <th>x3</th>\n",
              "      <th>y3</th>\n",
              "      <th>x</th>\n",
              "      <th>y</th>\n",
              "    </tr>\n",
              "  </thead>\n",
              "  <tbody>\n",
              "    <tr>\n",
              "      <th>0</th>\n",
              "      <td>地表面</td>\n",
              "      <td>1.21</td>\n",
              "      <td>2855</td>\n",
              "      <td>155</td>\n",
              "      <td>12</td>\n",
              "      <td>39</td>\n",
              "      <td>51</td>\n",
              "      <td>3</td>\n",
              "      <td>0</td>\n",
              "      <td>0</td>\n",
              "      <td>5</td>\n",
              "      <td>708905</td>\n",
              "      <td>603462</td>\n",
              "    </tr>\n",
              "    <tr>\n",
              "      <th>1</th>\n",
              "      <td>地表面</td>\n",
              "      <td>1.49</td>\n",
              "      <td>2856</td>\n",
              "      <td>156</td>\n",
              "      <td>12</td>\n",
              "      <td>39</td>\n",
              "      <td>51</td>\n",
              "      <td>3</td>\n",
              "      <td>0</td>\n",
              "      <td>0</td>\n",
              "      <td>5</td>\n",
              "      <td>708906</td>\n",
              "      <td>603462</td>\n",
              "    </tr>\n",
              "    <tr>\n",
              "      <th>2</th>\n",
              "      <td>地表面</td>\n",
              "      <td>1.18</td>\n",
              "      <td>2857</td>\n",
              "      <td>157</td>\n",
              "      <td>12</td>\n",
              "      <td>39</td>\n",
              "      <td>51</td>\n",
              "      <td>3</td>\n",
              "      <td>0</td>\n",
              "      <td>0</td>\n",
              "      <td>5</td>\n",
              "      <td>708907</td>\n",
              "      <td>603462</td>\n",
              "    </tr>\n",
              "    <tr>\n",
              "      <th>3</th>\n",
              "      <td>データなし</td>\n",
              "      <td>-9999.00</td>\n",
              "      <td>2858</td>\n",
              "      <td>158</td>\n",
              "      <td>12</td>\n",
              "      <td>39</td>\n",
              "      <td>51</td>\n",
              "      <td>3</td>\n",
              "      <td>0</td>\n",
              "      <td>0</td>\n",
              "      <td>5</td>\n",
              "      <td>708908</td>\n",
              "      <td>603462</td>\n",
              "    </tr>\n",
              "    <tr>\n",
              "      <th>4</th>\n",
              "      <td>データなし</td>\n",
              "      <td>-9999.00</td>\n",
              "      <td>2859</td>\n",
              "      <td>159</td>\n",
              "      <td>12</td>\n",
              "      <td>39</td>\n",
              "      <td>51</td>\n",
              "      <td>3</td>\n",
              "      <td>0</td>\n",
              "      <td>0</td>\n",
              "      <td>5</td>\n",
              "      <td>708909</td>\n",
              "      <td>603462</td>\n",
              "    </tr>\n",
              "    <tr>\n",
              "      <th>...</th>\n",
              "      <td>...</td>\n",
              "      <td>...</td>\n",
              "      <td>...</td>\n",
              "      <td>...</td>\n",
              "      <td>...</td>\n",
              "      <td>...</td>\n",
              "      <td>...</td>\n",
              "      <td>...</td>\n",
              "      <td>...</td>\n",
              "      <td>...</td>\n",
              "      <td>...</td>\n",
              "      <td>...</td>\n",
              "      <td>...</td>\n",
              "    </tr>\n",
              "    <tr>\n",
              "      <th>21160</th>\n",
              "      <td>データなし</td>\n",
              "      <td>-9999.00</td>\n",
              "      <td>24015</td>\n",
              "      <td>165</td>\n",
              "      <td>106</td>\n",
              "      <td>39</td>\n",
              "      <td>51</td>\n",
              "      <td>3</td>\n",
              "      <td>0</td>\n",
              "      <td>0</td>\n",
              "      <td>5</td>\n",
              "      <td>708915</td>\n",
              "      <td>603556</td>\n",
              "    </tr>\n",
              "    <tr>\n",
              "      <th>21161</th>\n",
              "      <td>データなし</td>\n",
              "      <td>-9999.00</td>\n",
              "      <td>24016</td>\n",
              "      <td>166</td>\n",
              "      <td>106</td>\n",
              "      <td>39</td>\n",
              "      <td>51</td>\n",
              "      <td>3</td>\n",
              "      <td>0</td>\n",
              "      <td>0</td>\n",
              "      <td>5</td>\n",
              "      <td>708916</td>\n",
              "      <td>603556</td>\n",
              "    </tr>\n",
              "    <tr>\n",
              "      <th>21162</th>\n",
              "      <td>データなし</td>\n",
              "      <td>-9999.00</td>\n",
              "      <td>24017</td>\n",
              "      <td>167</td>\n",
              "      <td>106</td>\n",
              "      <td>39</td>\n",
              "      <td>51</td>\n",
              "      <td>3</td>\n",
              "      <td>0</td>\n",
              "      <td>0</td>\n",
              "      <td>5</td>\n",
              "      <td>708917</td>\n",
              "      <td>603556</td>\n",
              "    </tr>\n",
              "    <tr>\n",
              "      <th>21163</th>\n",
              "      <td>データなし</td>\n",
              "      <td>-9999.00</td>\n",
              "      <td>24018</td>\n",
              "      <td>168</td>\n",
              "      <td>106</td>\n",
              "      <td>39</td>\n",
              "      <td>51</td>\n",
              "      <td>3</td>\n",
              "      <td>0</td>\n",
              "      <td>0</td>\n",
              "      <td>5</td>\n",
              "      <td>708918</td>\n",
              "      <td>603556</td>\n",
              "    </tr>\n",
              "    <tr>\n",
              "      <th>21164</th>\n",
              "      <td>地表面</td>\n",
              "      <td>2.13</td>\n",
              "      <td>24019</td>\n",
              "      <td>169</td>\n",
              "      <td>106</td>\n",
              "      <td>39</td>\n",
              "      <td>51</td>\n",
              "      <td>3</td>\n",
              "      <td>0</td>\n",
              "      <td>0</td>\n",
              "      <td>5</td>\n",
              "      <td>708919</td>\n",
              "      <td>603556</td>\n",
              "    </tr>\n",
              "  </tbody>\n",
              "</table>\n",
              "<p>21165 rows × 13 columns</p>\n",
              "</div>"
            ],
            "text/plain": [
              "         att        z      n   x4   y4  x1  y1  x2  y2  x3  y3       x       y\n",
              "0        地表面     1.21   2855  155   12  39  51   3   0   0   5  708905  603462\n",
              "1        地表面     1.49   2856  156   12  39  51   3   0   0   5  708906  603462\n",
              "2        地表面     1.18   2857  157   12  39  51   3   0   0   5  708907  603462\n",
              "3      データなし -9999.00   2858  158   12  39  51   3   0   0   5  708908  603462\n",
              "4      データなし -9999.00   2859  159   12  39  51   3   0   0   5  708909  603462\n",
              "...      ...      ...    ...  ...  ...  ..  ..  ..  ..  ..  ..     ...     ...\n",
              "21160  データなし -9999.00  24015  165  106  39  51   3   0   0   5  708915  603556\n",
              "21161  データなし -9999.00  24016  166  106  39  51   3   0   0   5  708916  603556\n",
              "21162  データなし -9999.00  24017  167  106  39  51   3   0   0   5  708917  603556\n",
              "21163  データなし -9999.00  24018  168  106  39  51   3   0   0   5  708918  603556\n",
              "21164    地表面     2.13  24019  169  106  39  51   3   0   0   5  708919  603556\n",
              "\n",
              "[21165 rows x 13 columns]"
            ]
          },
          "metadata": {
            "tags": []
          },
          "execution_count": 24
        }
      ]
    },
    {
      "cell_type": "markdown",
      "metadata": {
        "id": "lMZ4Ov146SGe",
        "colab_type": "text"
      },
      "source": [
        "## 標高値ごとの緯度経度座標を求める\n"
      ]
    },
    {
      "cell_type": "markdown",
      "metadata": {
        "id": "ZT2AZWKaijI_",
        "colab_type": "text"
      },
      "source": [
        "\n",
        "念のため，標高値それぞれの緯度経度も求めましょう．\n",
        "まず，処理中のファイルの北西端の緯度経度を取得します．\n",
        "これは`gml:upperCorner`と`gml:lowerCorner`から取得できます．\n",
        "`gml:upperCorner`と`gml:lowerCorner`はそれぞれ北東端と南西端の座標を示しており，スペースで区切られています．\n",
        "`split()`使って緯度と経度を分割してリスト化し，左上X（`ULX`，Upper Left X），左上Y（`ULY`），右下X（`LRX`，Lower Right X），右下Y（`LRY`）を`float()`として実数にキャストして格納します．\n"
      ]
    },
    {
      "cell_type": "code",
      "metadata": {
        "id": "A24gMfh86pN1",
        "colab_type": "code",
        "outputId": "05219016-7f16-485e-b014-3b55e1ff7e0e",
        "colab": {
          "base_uri": "https://localhost:8080/",
          "height": 35
        }
      },
      "source": [
        "uppercorner = elem.find('.//gml:upperCorner', ns)\n",
        "lowercorner = elem.find('.//gml:lowerCorner', ns)\n",
        "\n",
        "ULX = float(lowercorner.text.split(' ')[1])\n",
        "ULY = float(uppercorner.text.split(' ')[0])\n",
        "LRX = float(uppercorner.text.split(' ')[1])\n",
        "LRY = float(lowercorner.text.split(' ')[0])\n",
        "print(ULX, ULY, LRX, LRY)"
      ],
      "execution_count": 0,
      "outputs": [
        {
          "output_type": "stream",
          "text": [
            "139.375 34.05 139.3875 34.041666667\n"
          ],
          "name": "stdout"
        }
      ]
    },
    {
      "cell_type": "markdown",
      "metadata": {
        "id": "Rx8Hc7KckR6K",
        "colab_type": "text"
      },
      "source": [
        "次に標高値ひとつあたりのX方向の長さ（単位は十進経度）とY方向の長さ（単位は十進緯度）を求めます．\n",
        "X方向の長さは右側経度`LRX`と左側経度`ULX`の差を東西メッシュ数`cols`で割ったものになります．\n",
        "同様にY方向の長さは上側緯度`ULY`と下側緯度`LRY`の差を南北メッシュ数`rows`で割ったものになります．それぞれ`Xsize`と`Ysize`とします．\n",
        "\n",
        "\n",
        "\n"
      ]
    },
    {
      "cell_type": "code",
      "metadata": {
        "id": "2b4lKe-KlzSD",
        "colab_type": "code",
        "outputId": "faed883e-12d5-4895-9fe0-5b0913609ba5",
        "colab": {
          "base_uri": "https://localhost:8080/",
          "height": 35
        }
      },
      "source": [
        "Xsize = (LRX - ULX) / cols\n",
        "Ysize = (ULY - LRY) / rows\n",
        "print(Xsize, Ysize)"
      ],
      "execution_count": 0,
      "outputs": [
        {
          "output_type": "stream",
          "text": [
            "5.555555555550503e-05 5.5555553333306305e-05\n"
          ],
          "name": "stdout"
        }
      ]
    },
    {
      "cell_type": "markdown",
      "metadata": {
        "id": "mZSm6ajUA3P0",
        "colab_type": "text"
      },
      "source": [
        "緯度経度を計算します．\n",
        "経度は左側経度（`ULX`）に`x4`を足して標高値1つあたりの経度幅`Xsize`）を掛けたものになります．\n",
        "緯度は上側緯度（`ULY`）から`y4`を引いたものに標高値一つあたりの緯度幅`Ysize`を掛けたものになります．"
      ]
    },
    {
      "cell_type": "code",
      "metadata": {
        "id": "5uVLb_bDnRDn",
        "colab_type": "code",
        "outputId": "4fe32c33-308e-47a3-b830-dc975e73cf14",
        "colab": {
          "base_uri": "https://localhost:8080/",
          "height": 519
        }
      },
      "source": [
        "df['lon'] = ULX + df['x4'] * Xsize\n",
        "df['lat'] = ULY - df['y4'] * Ysize\n",
        "df"
      ],
      "execution_count": 0,
      "outputs": [
        {
          "output_type": "execute_result",
          "data": {
            "text/html": [
              "<div>\n",
              "<style scoped>\n",
              "    .dataframe tbody tr th:only-of-type {\n",
              "        vertical-align: middle;\n",
              "    }\n",
              "\n",
              "    .dataframe tbody tr th {\n",
              "        vertical-align: top;\n",
              "    }\n",
              "\n",
              "    .dataframe thead th {\n",
              "        text-align: right;\n",
              "    }\n",
              "</style>\n",
              "<table border=\"1\" class=\"dataframe\">\n",
              "  <thead>\n",
              "    <tr style=\"text-align: right;\">\n",
              "      <th></th>\n",
              "      <th>att</th>\n",
              "      <th>z</th>\n",
              "      <th>n</th>\n",
              "      <th>x4</th>\n",
              "      <th>y4</th>\n",
              "      <th>x1</th>\n",
              "      <th>y1</th>\n",
              "      <th>x2</th>\n",
              "      <th>y2</th>\n",
              "      <th>x3</th>\n",
              "      <th>y3</th>\n",
              "      <th>x</th>\n",
              "      <th>y</th>\n",
              "      <th>lon</th>\n",
              "      <th>lat</th>\n",
              "    </tr>\n",
              "  </thead>\n",
              "  <tbody>\n",
              "    <tr>\n",
              "      <th>0</th>\n",
              "      <td>地表面</td>\n",
              "      <td>1.21</td>\n",
              "      <td>2855</td>\n",
              "      <td>155</td>\n",
              "      <td>12</td>\n",
              "      <td>39</td>\n",
              "      <td>51</td>\n",
              "      <td>3</td>\n",
              "      <td>0</td>\n",
              "      <td>0</td>\n",
              "      <td>5</td>\n",
              "      <td>708905</td>\n",
              "      <td>603462</td>\n",
              "      <td>139.383611</td>\n",
              "      <td>34.049333</td>\n",
              "    </tr>\n",
              "    <tr>\n",
              "      <th>1</th>\n",
              "      <td>地表面</td>\n",
              "      <td>1.49</td>\n",
              "      <td>2856</td>\n",
              "      <td>156</td>\n",
              "      <td>12</td>\n",
              "      <td>39</td>\n",
              "      <td>51</td>\n",
              "      <td>3</td>\n",
              "      <td>0</td>\n",
              "      <td>0</td>\n",
              "      <td>5</td>\n",
              "      <td>708906</td>\n",
              "      <td>603462</td>\n",
              "      <td>139.383667</td>\n",
              "      <td>34.049333</td>\n",
              "    </tr>\n",
              "    <tr>\n",
              "      <th>2</th>\n",
              "      <td>地表面</td>\n",
              "      <td>1.18</td>\n",
              "      <td>2857</td>\n",
              "      <td>157</td>\n",
              "      <td>12</td>\n",
              "      <td>39</td>\n",
              "      <td>51</td>\n",
              "      <td>3</td>\n",
              "      <td>0</td>\n",
              "      <td>0</td>\n",
              "      <td>5</td>\n",
              "      <td>708907</td>\n",
              "      <td>603462</td>\n",
              "      <td>139.383722</td>\n",
              "      <td>34.049333</td>\n",
              "    </tr>\n",
              "    <tr>\n",
              "      <th>3</th>\n",
              "      <td>データなし</td>\n",
              "      <td>-9999.00</td>\n",
              "      <td>2858</td>\n",
              "      <td>158</td>\n",
              "      <td>12</td>\n",
              "      <td>39</td>\n",
              "      <td>51</td>\n",
              "      <td>3</td>\n",
              "      <td>0</td>\n",
              "      <td>0</td>\n",
              "      <td>5</td>\n",
              "      <td>708908</td>\n",
              "      <td>603462</td>\n",
              "      <td>139.383778</td>\n",
              "      <td>34.049333</td>\n",
              "    </tr>\n",
              "    <tr>\n",
              "      <th>4</th>\n",
              "      <td>データなし</td>\n",
              "      <td>-9999.00</td>\n",
              "      <td>2859</td>\n",
              "      <td>159</td>\n",
              "      <td>12</td>\n",
              "      <td>39</td>\n",
              "      <td>51</td>\n",
              "      <td>3</td>\n",
              "      <td>0</td>\n",
              "      <td>0</td>\n",
              "      <td>5</td>\n",
              "      <td>708909</td>\n",
              "      <td>603462</td>\n",
              "      <td>139.383833</td>\n",
              "      <td>34.049333</td>\n",
              "    </tr>\n",
              "    <tr>\n",
              "      <th>...</th>\n",
              "      <td>...</td>\n",
              "      <td>...</td>\n",
              "      <td>...</td>\n",
              "      <td>...</td>\n",
              "      <td>...</td>\n",
              "      <td>...</td>\n",
              "      <td>...</td>\n",
              "      <td>...</td>\n",
              "      <td>...</td>\n",
              "      <td>...</td>\n",
              "      <td>...</td>\n",
              "      <td>...</td>\n",
              "      <td>...</td>\n",
              "      <td>...</td>\n",
              "      <td>...</td>\n",
              "    </tr>\n",
              "    <tr>\n",
              "      <th>21160</th>\n",
              "      <td>データなし</td>\n",
              "      <td>-9999.00</td>\n",
              "      <td>24015</td>\n",
              "      <td>165</td>\n",
              "      <td>106</td>\n",
              "      <td>39</td>\n",
              "      <td>51</td>\n",
              "      <td>3</td>\n",
              "      <td>0</td>\n",
              "      <td>0</td>\n",
              "      <td>5</td>\n",
              "      <td>708915</td>\n",
              "      <td>603556</td>\n",
              "      <td>139.384167</td>\n",
              "      <td>34.044111</td>\n",
              "    </tr>\n",
              "    <tr>\n",
              "      <th>21161</th>\n",
              "      <td>データなし</td>\n",
              "      <td>-9999.00</td>\n",
              "      <td>24016</td>\n",
              "      <td>166</td>\n",
              "      <td>106</td>\n",
              "      <td>39</td>\n",
              "      <td>51</td>\n",
              "      <td>3</td>\n",
              "      <td>0</td>\n",
              "      <td>0</td>\n",
              "      <td>5</td>\n",
              "      <td>708916</td>\n",
              "      <td>603556</td>\n",
              "      <td>139.384222</td>\n",
              "      <td>34.044111</td>\n",
              "    </tr>\n",
              "    <tr>\n",
              "      <th>21162</th>\n",
              "      <td>データなし</td>\n",
              "      <td>-9999.00</td>\n",
              "      <td>24017</td>\n",
              "      <td>167</td>\n",
              "      <td>106</td>\n",
              "      <td>39</td>\n",
              "      <td>51</td>\n",
              "      <td>3</td>\n",
              "      <td>0</td>\n",
              "      <td>0</td>\n",
              "      <td>5</td>\n",
              "      <td>708917</td>\n",
              "      <td>603556</td>\n",
              "      <td>139.384278</td>\n",
              "      <td>34.044111</td>\n",
              "    </tr>\n",
              "    <tr>\n",
              "      <th>21163</th>\n",
              "      <td>データなし</td>\n",
              "      <td>-9999.00</td>\n",
              "      <td>24018</td>\n",
              "      <td>168</td>\n",
              "      <td>106</td>\n",
              "      <td>39</td>\n",
              "      <td>51</td>\n",
              "      <td>3</td>\n",
              "      <td>0</td>\n",
              "      <td>0</td>\n",
              "      <td>5</td>\n",
              "      <td>708918</td>\n",
              "      <td>603556</td>\n",
              "      <td>139.384333</td>\n",
              "      <td>34.044111</td>\n",
              "    </tr>\n",
              "    <tr>\n",
              "      <th>21164</th>\n",
              "      <td>地表面</td>\n",
              "      <td>2.13</td>\n",
              "      <td>24019</td>\n",
              "      <td>169</td>\n",
              "      <td>106</td>\n",
              "      <td>39</td>\n",
              "      <td>51</td>\n",
              "      <td>3</td>\n",
              "      <td>0</td>\n",
              "      <td>0</td>\n",
              "      <td>5</td>\n",
              "      <td>708919</td>\n",
              "      <td>603556</td>\n",
              "      <td>139.384389</td>\n",
              "      <td>34.044111</td>\n",
              "    </tr>\n",
              "  </tbody>\n",
              "</table>\n",
              "<p>21165 rows × 15 columns</p>\n",
              "</div>"
            ],
            "text/plain": [
              "         att        z      n   x4  ...       x       y         lon        lat\n",
              "0        地表面     1.21   2855  155  ...  708905  603462  139.383611  34.049333\n",
              "1        地表面     1.49   2856  156  ...  708906  603462  139.383667  34.049333\n",
              "2        地表面     1.18   2857  157  ...  708907  603462  139.383722  34.049333\n",
              "3      データなし -9999.00   2858  158  ...  708908  603462  139.383778  34.049333\n",
              "4      データなし -9999.00   2859  159  ...  708909  603462  139.383833  34.049333\n",
              "...      ...      ...    ...  ...  ...     ...     ...         ...        ...\n",
              "21160  データなし -9999.00  24015  165  ...  708915  603556  139.384167  34.044111\n",
              "21161  データなし -9999.00  24016  166  ...  708916  603556  139.384222  34.044111\n",
              "21162  データなし -9999.00  24017  167  ...  708917  603556  139.384278  34.044111\n",
              "21163  データなし -9999.00  24018  168  ...  708918  603556  139.384333  34.044111\n",
              "21164    地表面     2.13  24019  169  ...  708919  603556  139.384389  34.044111\n",
              "\n",
              "[21165 rows x 15 columns]"
            ]
          },
          "metadata": {
            "tags": []
          },
          "execution_count": 27
        }
      ]
    },
    {
      "cell_type": "markdown",
      "metadata": {
        "id": "lKjs13-yJ77z",
        "colab_type": "text"
      },
      "source": [
        "## 縦持ちデータから横持ちデータへの変換\n"
      ]
    },
    {
      "cell_type": "markdown",
      "metadata": {
        "id": "q-hQPvOHilpu",
        "colab_type": "text"
      },
      "source": [
        "\n",
        "以上ですべての標高値にユニークな列番号と行番号が揃いました．\n",
        "現在のデータフレーム`df`では`x`が列番号，`y`が行番号，`z`が標高値となっています．\n",
        "このように，データがってに並んでいる形式のことを縦持ちデータと呼びます．\n",
        "\n",
        "\n",
        "z|x|y\n",
        "-:|-:|-:\n",
        "10.5|701902|603556\n",
        "12.2|701903|603556\n",
        "14.6|701904|603556\n",
        "15.5|701902|603557\n",
        "20.0|701903|603557\n",
        "18.2|701904|603557\n",
        "12.8|701902|603558\n",
        "10.5|701903|603558\n",
        "8.5|701904|603558\n",
        "$\\vdots$|$\\vdots$|$\\vdots$\n",
        "\n",
        "ここで，`y`と`x`で`z`でピボットします．\n",
        "すると以下のような形式になります．\n",
        "\n",
        "yx|701902|701903|701904|$\\ldots$\n",
        "-:|-:|-:|-:|-:\n",
        "603556|10.5|12.2|14.6|$\\ldots$\n",
        "603557|15.5|20.0|18.2|$\\ldots$\n",
        "603558|12.8|10.5|8.5|$\\ldots$\n",
        "$\\vdots$|$\\vdots$|$\\vdots$|$\\vdots$|$\\ddots$\n",
        "\n",
        "これが横持ち形式のデータです．\n",
        "座標と標高値の縦持ちデータを横持ちに変換するだけで\n",
        "DEMを作ることができます．\n",
        "\n",
        "縦持ちを横持ちに変換するのは`pivot_table()`を使用します．\n",
        "引数は行の値`index = 'y'`，\n",
        "列の値`coluns = 'x'`，\n",
        "行列に埋め込む値`values = 'z'`と\n",
        "値がない部分に埋め込む値`fill_value = '-9999'`です．\n",
        "値がない部分には`-9999`を埋め込みますので，\n",
        "標高値が省略されている点もうまく対応することができます．\n",
        "\n",
        "標高値を横持ちに変換したあとで，行名でソートします．"
      ]
    },
    {
      "cell_type": "code",
      "metadata": {
        "id": "BDjObzulJZ8q",
        "colab_type": "code",
        "outputId": "f89bf599-28c1-4a49-b453-38b166e80525",
        "colab": {
          "base_uri": "https://localhost:8080/",
          "height": 466
        }
      },
      "source": [
        "dem = df.pivot_table(index = 'y', columns = 'x', values = 'z', fill_value = -9999)\n",
        "dem = dem.sort_index()\n",
        "dem"
      ],
      "execution_count": 0,
      "outputs": [
        {
          "output_type": "execute_result",
          "data": {
            "text/html": [
              "<div>\n",
              "<style scoped>\n",
              "    .dataframe tbody tr th:only-of-type {\n",
              "        vertical-align: middle;\n",
              "    }\n",
              "\n",
              "    .dataframe tbody tr th {\n",
              "        vertical-align: top;\n",
              "    }\n",
              "\n",
              "    .dataframe thead th {\n",
              "        text-align: right;\n",
              "    }\n",
              "</style>\n",
              "<table border=\"1\" class=\"dataframe\">\n",
              "  <thead>\n",
              "    <tr style=\"text-align: right;\">\n",
              "      <th>x</th>\n",
              "      <th>708750</th>\n",
              "      <th>708751</th>\n",
              "      <th>708752</th>\n",
              "      <th>708753</th>\n",
              "      <th>708754</th>\n",
              "      <th>708755</th>\n",
              "      <th>708756</th>\n",
              "      <th>708757</th>\n",
              "      <th>708758</th>\n",
              "      <th>708759</th>\n",
              "      <th>708760</th>\n",
              "      <th>708761</th>\n",
              "      <th>708762</th>\n",
              "      <th>708763</th>\n",
              "      <th>708764</th>\n",
              "      <th>708765</th>\n",
              "      <th>708766</th>\n",
              "      <th>708767</th>\n",
              "      <th>708768</th>\n",
              "      <th>708769</th>\n",
              "      <th>708770</th>\n",
              "      <th>708771</th>\n",
              "      <th>708772</th>\n",
              "      <th>708773</th>\n",
              "      <th>708774</th>\n",
              "      <th>708775</th>\n",
              "      <th>708776</th>\n",
              "      <th>708777</th>\n",
              "      <th>708778</th>\n",
              "      <th>708779</th>\n",
              "      <th>708780</th>\n",
              "      <th>708781</th>\n",
              "      <th>708782</th>\n",
              "      <th>708783</th>\n",
              "      <th>708784</th>\n",
              "      <th>708785</th>\n",
              "      <th>708786</th>\n",
              "      <th>708787</th>\n",
              "      <th>708788</th>\n",
              "      <th>708789</th>\n",
              "      <th>...</th>\n",
              "      <th>708935</th>\n",
              "      <th>708936</th>\n",
              "      <th>708937</th>\n",
              "      <th>708938</th>\n",
              "      <th>708939</th>\n",
              "      <th>708940</th>\n",
              "      <th>708941</th>\n",
              "      <th>708942</th>\n",
              "      <th>708943</th>\n",
              "      <th>708944</th>\n",
              "      <th>708945</th>\n",
              "      <th>708946</th>\n",
              "      <th>708947</th>\n",
              "      <th>708948</th>\n",
              "      <th>708949</th>\n",
              "      <th>708950</th>\n",
              "      <th>708951</th>\n",
              "      <th>708952</th>\n",
              "      <th>708953</th>\n",
              "      <th>708954</th>\n",
              "      <th>708955</th>\n",
              "      <th>708956</th>\n",
              "      <th>708957</th>\n",
              "      <th>708958</th>\n",
              "      <th>708959</th>\n",
              "      <th>708960</th>\n",
              "      <th>708961</th>\n",
              "      <th>708962</th>\n",
              "      <th>708963</th>\n",
              "      <th>708964</th>\n",
              "      <th>708965</th>\n",
              "      <th>708966</th>\n",
              "      <th>708967</th>\n",
              "      <th>708968</th>\n",
              "      <th>708969</th>\n",
              "      <th>708970</th>\n",
              "      <th>708971</th>\n",
              "      <th>708972</th>\n",
              "      <th>708973</th>\n",
              "      <th>708974</th>\n",
              "    </tr>\n",
              "    <tr>\n",
              "      <th>y</th>\n",
              "      <th></th>\n",
              "      <th></th>\n",
              "      <th></th>\n",
              "      <th></th>\n",
              "      <th></th>\n",
              "      <th></th>\n",
              "      <th></th>\n",
              "      <th></th>\n",
              "      <th></th>\n",
              "      <th></th>\n",
              "      <th></th>\n",
              "      <th></th>\n",
              "      <th></th>\n",
              "      <th></th>\n",
              "      <th></th>\n",
              "      <th></th>\n",
              "      <th></th>\n",
              "      <th></th>\n",
              "      <th></th>\n",
              "      <th></th>\n",
              "      <th></th>\n",
              "      <th></th>\n",
              "      <th></th>\n",
              "      <th></th>\n",
              "      <th></th>\n",
              "      <th></th>\n",
              "      <th></th>\n",
              "      <th></th>\n",
              "      <th></th>\n",
              "      <th></th>\n",
              "      <th></th>\n",
              "      <th></th>\n",
              "      <th></th>\n",
              "      <th></th>\n",
              "      <th></th>\n",
              "      <th></th>\n",
              "      <th></th>\n",
              "      <th></th>\n",
              "      <th></th>\n",
              "      <th></th>\n",
              "      <th></th>\n",
              "      <th></th>\n",
              "      <th></th>\n",
              "      <th></th>\n",
              "      <th></th>\n",
              "      <th></th>\n",
              "      <th></th>\n",
              "      <th></th>\n",
              "      <th></th>\n",
              "      <th></th>\n",
              "      <th></th>\n",
              "      <th></th>\n",
              "      <th></th>\n",
              "      <th></th>\n",
              "      <th></th>\n",
              "      <th></th>\n",
              "      <th></th>\n",
              "      <th></th>\n",
              "      <th></th>\n",
              "      <th></th>\n",
              "      <th></th>\n",
              "      <th></th>\n",
              "      <th></th>\n",
              "      <th></th>\n",
              "      <th></th>\n",
              "      <th></th>\n",
              "      <th></th>\n",
              "      <th></th>\n",
              "      <th></th>\n",
              "      <th></th>\n",
              "      <th></th>\n",
              "      <th></th>\n",
              "      <th></th>\n",
              "      <th></th>\n",
              "      <th></th>\n",
              "      <th></th>\n",
              "      <th></th>\n",
              "      <th></th>\n",
              "      <th></th>\n",
              "      <th></th>\n",
              "      <th></th>\n",
              "    </tr>\n",
              "  </thead>\n",
              "  <tbody>\n",
              "    <tr>\n",
              "      <th>603462</th>\n",
              "      <td>-9999</td>\n",
              "      <td>-9999</td>\n",
              "      <td>-9999</td>\n",
              "      <td>-9999</td>\n",
              "      <td>-9999</td>\n",
              "      <td>-9999</td>\n",
              "      <td>-9999</td>\n",
              "      <td>-9999</td>\n",
              "      <td>-9999</td>\n",
              "      <td>-9999</td>\n",
              "      <td>-9999</td>\n",
              "      <td>-9999</td>\n",
              "      <td>-9999</td>\n",
              "      <td>-9999</td>\n",
              "      <td>-9999</td>\n",
              "      <td>-9999</td>\n",
              "      <td>-9999</td>\n",
              "      <td>-9999</td>\n",
              "      <td>-9999</td>\n",
              "      <td>-9999</td>\n",
              "      <td>-9999</td>\n",
              "      <td>-9999</td>\n",
              "      <td>-9999</td>\n",
              "      <td>-9999</td>\n",
              "      <td>-9999</td>\n",
              "      <td>-9999</td>\n",
              "      <td>-9999</td>\n",
              "      <td>-9999</td>\n",
              "      <td>-9999</td>\n",
              "      <td>-9999</td>\n",
              "      <td>-9999</td>\n",
              "      <td>-9999</td>\n",
              "      <td>-9999</td>\n",
              "      <td>-9999</td>\n",
              "      <td>-9999</td>\n",
              "      <td>-9999</td>\n",
              "      <td>-9999</td>\n",
              "      <td>-9999</td>\n",
              "      <td>-9999</td>\n",
              "      <td>-9999</td>\n",
              "      <td>...</td>\n",
              "      <td>-9999.0</td>\n",
              "      <td>-9999.0</td>\n",
              "      <td>-9999.0</td>\n",
              "      <td>-9999.0</td>\n",
              "      <td>-9999.0</td>\n",
              "      <td>-9999.0</td>\n",
              "      <td>-9999.0</td>\n",
              "      <td>-9999.0</td>\n",
              "      <td>-9999.0</td>\n",
              "      <td>-9999.0</td>\n",
              "      <td>-9999.0</td>\n",
              "      <td>-9999.0</td>\n",
              "      <td>-9999.0</td>\n",
              "      <td>-9999.0</td>\n",
              "      <td>-9999.0</td>\n",
              "      <td>-9999.0</td>\n",
              "      <td>-9999</td>\n",
              "      <td>-9999</td>\n",
              "      <td>-9999</td>\n",
              "      <td>-9999</td>\n",
              "      <td>-9999</td>\n",
              "      <td>-9999</td>\n",
              "      <td>-9999</td>\n",
              "      <td>-9999</td>\n",
              "      <td>-9999</td>\n",
              "      <td>-9999</td>\n",
              "      <td>-9999</td>\n",
              "      <td>-9999</td>\n",
              "      <td>-9999</td>\n",
              "      <td>-9999</td>\n",
              "      <td>-9999</td>\n",
              "      <td>-9999</td>\n",
              "      <td>-9999</td>\n",
              "      <td>-9999</td>\n",
              "      <td>-9999</td>\n",
              "      <td>-9999</td>\n",
              "      <td>-9999</td>\n",
              "      <td>-9999</td>\n",
              "      <td>-9999</td>\n",
              "      <td>-9999</td>\n",
              "    </tr>\n",
              "    <tr>\n",
              "      <th>603463</th>\n",
              "      <td>-9999</td>\n",
              "      <td>-9999</td>\n",
              "      <td>-9999</td>\n",
              "      <td>-9999</td>\n",
              "      <td>-9999</td>\n",
              "      <td>-9999</td>\n",
              "      <td>-9999</td>\n",
              "      <td>-9999</td>\n",
              "      <td>-9999</td>\n",
              "      <td>-9999</td>\n",
              "      <td>-9999</td>\n",
              "      <td>-9999</td>\n",
              "      <td>-9999</td>\n",
              "      <td>-9999</td>\n",
              "      <td>-9999</td>\n",
              "      <td>-9999</td>\n",
              "      <td>-9999</td>\n",
              "      <td>-9999</td>\n",
              "      <td>-9999</td>\n",
              "      <td>-9999</td>\n",
              "      <td>-9999</td>\n",
              "      <td>-9999</td>\n",
              "      <td>-9999</td>\n",
              "      <td>-9999</td>\n",
              "      <td>-9999</td>\n",
              "      <td>-9999</td>\n",
              "      <td>-9999</td>\n",
              "      <td>-9999</td>\n",
              "      <td>-9999</td>\n",
              "      <td>-9999</td>\n",
              "      <td>-9999</td>\n",
              "      <td>-9999</td>\n",
              "      <td>-9999</td>\n",
              "      <td>-9999</td>\n",
              "      <td>-9999</td>\n",
              "      <td>-9999</td>\n",
              "      <td>-9999</td>\n",
              "      <td>-9999</td>\n",
              "      <td>-9999</td>\n",
              "      <td>-9999</td>\n",
              "      <td>...</td>\n",
              "      <td>-9999.0</td>\n",
              "      <td>-9999.0</td>\n",
              "      <td>-9999.0</td>\n",
              "      <td>-9999.0</td>\n",
              "      <td>-9999.0</td>\n",
              "      <td>-9999.0</td>\n",
              "      <td>-9999.0</td>\n",
              "      <td>-9999.0</td>\n",
              "      <td>-9999.0</td>\n",
              "      <td>-9999.0</td>\n",
              "      <td>-9999.0</td>\n",
              "      <td>-9999.0</td>\n",
              "      <td>-9999.0</td>\n",
              "      <td>-9999.0</td>\n",
              "      <td>-9999.0</td>\n",
              "      <td>-9999.0</td>\n",
              "      <td>-9999</td>\n",
              "      <td>-9999</td>\n",
              "      <td>-9999</td>\n",
              "      <td>-9999</td>\n",
              "      <td>-9999</td>\n",
              "      <td>-9999</td>\n",
              "      <td>-9999</td>\n",
              "      <td>-9999</td>\n",
              "      <td>-9999</td>\n",
              "      <td>-9999</td>\n",
              "      <td>-9999</td>\n",
              "      <td>-9999</td>\n",
              "      <td>-9999</td>\n",
              "      <td>-9999</td>\n",
              "      <td>-9999</td>\n",
              "      <td>-9999</td>\n",
              "      <td>-9999</td>\n",
              "      <td>-9999</td>\n",
              "      <td>-9999</td>\n",
              "      <td>-9999</td>\n",
              "      <td>-9999</td>\n",
              "      <td>-9999</td>\n",
              "      <td>-9999</td>\n",
              "      <td>-9999</td>\n",
              "    </tr>\n",
              "    <tr>\n",
              "      <th>603464</th>\n",
              "      <td>-9999</td>\n",
              "      <td>-9999</td>\n",
              "      <td>-9999</td>\n",
              "      <td>-9999</td>\n",
              "      <td>-9999</td>\n",
              "      <td>-9999</td>\n",
              "      <td>-9999</td>\n",
              "      <td>-9999</td>\n",
              "      <td>-9999</td>\n",
              "      <td>-9999</td>\n",
              "      <td>-9999</td>\n",
              "      <td>-9999</td>\n",
              "      <td>-9999</td>\n",
              "      <td>-9999</td>\n",
              "      <td>-9999</td>\n",
              "      <td>-9999</td>\n",
              "      <td>-9999</td>\n",
              "      <td>-9999</td>\n",
              "      <td>-9999</td>\n",
              "      <td>-9999</td>\n",
              "      <td>-9999</td>\n",
              "      <td>-9999</td>\n",
              "      <td>-9999</td>\n",
              "      <td>-9999</td>\n",
              "      <td>-9999</td>\n",
              "      <td>-9999</td>\n",
              "      <td>-9999</td>\n",
              "      <td>-9999</td>\n",
              "      <td>-9999</td>\n",
              "      <td>-9999</td>\n",
              "      <td>-9999</td>\n",
              "      <td>-9999</td>\n",
              "      <td>-9999</td>\n",
              "      <td>-9999</td>\n",
              "      <td>-9999</td>\n",
              "      <td>-9999</td>\n",
              "      <td>-9999</td>\n",
              "      <td>-9999</td>\n",
              "      <td>-9999</td>\n",
              "      <td>-9999</td>\n",
              "      <td>...</td>\n",
              "      <td>-9999.0</td>\n",
              "      <td>-9999.0</td>\n",
              "      <td>-9999.0</td>\n",
              "      <td>-9999.0</td>\n",
              "      <td>-9999.0</td>\n",
              "      <td>-9999.0</td>\n",
              "      <td>-9999.0</td>\n",
              "      <td>-9999.0</td>\n",
              "      <td>-9999.0</td>\n",
              "      <td>-9999.0</td>\n",
              "      <td>-9999.0</td>\n",
              "      <td>-9999.0</td>\n",
              "      <td>-9999.0</td>\n",
              "      <td>-9999.0</td>\n",
              "      <td>-9999.0</td>\n",
              "      <td>-9999.0</td>\n",
              "      <td>-9999</td>\n",
              "      <td>-9999</td>\n",
              "      <td>-9999</td>\n",
              "      <td>-9999</td>\n",
              "      <td>-9999</td>\n",
              "      <td>-9999</td>\n",
              "      <td>-9999</td>\n",
              "      <td>-9999</td>\n",
              "      <td>-9999</td>\n",
              "      <td>-9999</td>\n",
              "      <td>-9999</td>\n",
              "      <td>-9999</td>\n",
              "      <td>-9999</td>\n",
              "      <td>-9999</td>\n",
              "      <td>-9999</td>\n",
              "      <td>-9999</td>\n",
              "      <td>-9999</td>\n",
              "      <td>-9999</td>\n",
              "      <td>-9999</td>\n",
              "      <td>-9999</td>\n",
              "      <td>-9999</td>\n",
              "      <td>-9999</td>\n",
              "      <td>-9999</td>\n",
              "      <td>-9999</td>\n",
              "    </tr>\n",
              "    <tr>\n",
              "      <th>603465</th>\n",
              "      <td>-9999</td>\n",
              "      <td>-9999</td>\n",
              "      <td>-9999</td>\n",
              "      <td>-9999</td>\n",
              "      <td>-9999</td>\n",
              "      <td>-9999</td>\n",
              "      <td>-9999</td>\n",
              "      <td>-9999</td>\n",
              "      <td>-9999</td>\n",
              "      <td>-9999</td>\n",
              "      <td>-9999</td>\n",
              "      <td>-9999</td>\n",
              "      <td>-9999</td>\n",
              "      <td>-9999</td>\n",
              "      <td>-9999</td>\n",
              "      <td>-9999</td>\n",
              "      <td>-9999</td>\n",
              "      <td>-9999</td>\n",
              "      <td>-9999</td>\n",
              "      <td>-9999</td>\n",
              "      <td>-9999</td>\n",
              "      <td>-9999</td>\n",
              "      <td>-9999</td>\n",
              "      <td>-9999</td>\n",
              "      <td>-9999</td>\n",
              "      <td>-9999</td>\n",
              "      <td>-9999</td>\n",
              "      <td>-9999</td>\n",
              "      <td>-9999</td>\n",
              "      <td>-9999</td>\n",
              "      <td>-9999</td>\n",
              "      <td>-9999</td>\n",
              "      <td>-9999</td>\n",
              "      <td>-9999</td>\n",
              "      <td>-9999</td>\n",
              "      <td>-9999</td>\n",
              "      <td>-9999</td>\n",
              "      <td>-9999</td>\n",
              "      <td>-9999</td>\n",
              "      <td>-9999</td>\n",
              "      <td>...</td>\n",
              "      <td>-9999.0</td>\n",
              "      <td>-9999.0</td>\n",
              "      <td>-9999.0</td>\n",
              "      <td>-9999.0</td>\n",
              "      <td>-9999.0</td>\n",
              "      <td>-9999.0</td>\n",
              "      <td>-9999.0</td>\n",
              "      <td>-9999.0</td>\n",
              "      <td>-9999.0</td>\n",
              "      <td>-9999.0</td>\n",
              "      <td>-9999.0</td>\n",
              "      <td>-9999.0</td>\n",
              "      <td>-9999.0</td>\n",
              "      <td>-9999.0</td>\n",
              "      <td>-9999.0</td>\n",
              "      <td>-9999.0</td>\n",
              "      <td>-9999</td>\n",
              "      <td>-9999</td>\n",
              "      <td>-9999</td>\n",
              "      <td>-9999</td>\n",
              "      <td>-9999</td>\n",
              "      <td>-9999</td>\n",
              "      <td>-9999</td>\n",
              "      <td>-9999</td>\n",
              "      <td>-9999</td>\n",
              "      <td>-9999</td>\n",
              "      <td>-9999</td>\n",
              "      <td>-9999</td>\n",
              "      <td>-9999</td>\n",
              "      <td>-9999</td>\n",
              "      <td>-9999</td>\n",
              "      <td>-9999</td>\n",
              "      <td>-9999</td>\n",
              "      <td>-9999</td>\n",
              "      <td>-9999</td>\n",
              "      <td>-9999</td>\n",
              "      <td>-9999</td>\n",
              "      <td>-9999</td>\n",
              "      <td>-9999</td>\n",
              "      <td>-9999</td>\n",
              "    </tr>\n",
              "    <tr>\n",
              "      <th>603466</th>\n",
              "      <td>-9999</td>\n",
              "      <td>-9999</td>\n",
              "      <td>-9999</td>\n",
              "      <td>-9999</td>\n",
              "      <td>-9999</td>\n",
              "      <td>-9999</td>\n",
              "      <td>-9999</td>\n",
              "      <td>-9999</td>\n",
              "      <td>-9999</td>\n",
              "      <td>-9999</td>\n",
              "      <td>-9999</td>\n",
              "      <td>-9999</td>\n",
              "      <td>-9999</td>\n",
              "      <td>-9999</td>\n",
              "      <td>-9999</td>\n",
              "      <td>-9999</td>\n",
              "      <td>-9999</td>\n",
              "      <td>-9999</td>\n",
              "      <td>-9999</td>\n",
              "      <td>-9999</td>\n",
              "      <td>-9999</td>\n",
              "      <td>-9999</td>\n",
              "      <td>-9999</td>\n",
              "      <td>-9999</td>\n",
              "      <td>-9999</td>\n",
              "      <td>-9999</td>\n",
              "      <td>-9999</td>\n",
              "      <td>-9999</td>\n",
              "      <td>-9999</td>\n",
              "      <td>-9999</td>\n",
              "      <td>-9999</td>\n",
              "      <td>-9999</td>\n",
              "      <td>-9999</td>\n",
              "      <td>-9999</td>\n",
              "      <td>-9999</td>\n",
              "      <td>-9999</td>\n",
              "      <td>-9999</td>\n",
              "      <td>-9999</td>\n",
              "      <td>-9999</td>\n",
              "      <td>-9999</td>\n",
              "      <td>...</td>\n",
              "      <td>-9999.0</td>\n",
              "      <td>-9999.0</td>\n",
              "      <td>-9999.0</td>\n",
              "      <td>-9999.0</td>\n",
              "      <td>-9999.0</td>\n",
              "      <td>-9999.0</td>\n",
              "      <td>-9999.0</td>\n",
              "      <td>-9999.0</td>\n",
              "      <td>-9999.0</td>\n",
              "      <td>-9999.0</td>\n",
              "      <td>-9999.0</td>\n",
              "      <td>-9999.0</td>\n",
              "      <td>-9999.0</td>\n",
              "      <td>-9999.0</td>\n",
              "      <td>-9999.0</td>\n",
              "      <td>-9999.0</td>\n",
              "      <td>-9999</td>\n",
              "      <td>-9999</td>\n",
              "      <td>-9999</td>\n",
              "      <td>-9999</td>\n",
              "      <td>-9999</td>\n",
              "      <td>-9999</td>\n",
              "      <td>-9999</td>\n",
              "      <td>-9999</td>\n",
              "      <td>-9999</td>\n",
              "      <td>-9999</td>\n",
              "      <td>-9999</td>\n",
              "      <td>-9999</td>\n",
              "      <td>-9999</td>\n",
              "      <td>-9999</td>\n",
              "      <td>-9999</td>\n",
              "      <td>-9999</td>\n",
              "      <td>-9999</td>\n",
              "      <td>-9999</td>\n",
              "      <td>-9999</td>\n",
              "      <td>-9999</td>\n",
              "      <td>-9999</td>\n",
              "      <td>-9999</td>\n",
              "      <td>-9999</td>\n",
              "      <td>-9999</td>\n",
              "    </tr>\n",
              "    <tr>\n",
              "      <th>...</th>\n",
              "      <td>...</td>\n",
              "      <td>...</td>\n",
              "      <td>...</td>\n",
              "      <td>...</td>\n",
              "      <td>...</td>\n",
              "      <td>...</td>\n",
              "      <td>...</td>\n",
              "      <td>...</td>\n",
              "      <td>...</td>\n",
              "      <td>...</td>\n",
              "      <td>...</td>\n",
              "      <td>...</td>\n",
              "      <td>...</td>\n",
              "      <td>...</td>\n",
              "      <td>...</td>\n",
              "      <td>...</td>\n",
              "      <td>...</td>\n",
              "      <td>...</td>\n",
              "      <td>...</td>\n",
              "      <td>...</td>\n",
              "      <td>...</td>\n",
              "      <td>...</td>\n",
              "      <td>...</td>\n",
              "      <td>...</td>\n",
              "      <td>...</td>\n",
              "      <td>...</td>\n",
              "      <td>...</td>\n",
              "      <td>...</td>\n",
              "      <td>...</td>\n",
              "      <td>...</td>\n",
              "      <td>...</td>\n",
              "      <td>...</td>\n",
              "      <td>...</td>\n",
              "      <td>...</td>\n",
              "      <td>...</td>\n",
              "      <td>...</td>\n",
              "      <td>...</td>\n",
              "      <td>...</td>\n",
              "      <td>...</td>\n",
              "      <td>...</td>\n",
              "      <td>...</td>\n",
              "      <td>...</td>\n",
              "      <td>...</td>\n",
              "      <td>...</td>\n",
              "      <td>...</td>\n",
              "      <td>...</td>\n",
              "      <td>...</td>\n",
              "      <td>...</td>\n",
              "      <td>...</td>\n",
              "      <td>...</td>\n",
              "      <td>...</td>\n",
              "      <td>...</td>\n",
              "      <td>...</td>\n",
              "      <td>...</td>\n",
              "      <td>...</td>\n",
              "      <td>...</td>\n",
              "      <td>...</td>\n",
              "      <td>...</td>\n",
              "      <td>...</td>\n",
              "      <td>...</td>\n",
              "      <td>...</td>\n",
              "      <td>...</td>\n",
              "      <td>...</td>\n",
              "      <td>...</td>\n",
              "      <td>...</td>\n",
              "      <td>...</td>\n",
              "      <td>...</td>\n",
              "      <td>...</td>\n",
              "      <td>...</td>\n",
              "      <td>...</td>\n",
              "      <td>...</td>\n",
              "      <td>...</td>\n",
              "      <td>...</td>\n",
              "      <td>...</td>\n",
              "      <td>...</td>\n",
              "      <td>...</td>\n",
              "      <td>...</td>\n",
              "      <td>...</td>\n",
              "      <td>...</td>\n",
              "      <td>...</td>\n",
              "      <td>...</td>\n",
              "    </tr>\n",
              "    <tr>\n",
              "      <th>603552</th>\n",
              "      <td>-9999</td>\n",
              "      <td>-9999</td>\n",
              "      <td>-9999</td>\n",
              "      <td>-9999</td>\n",
              "      <td>-9999</td>\n",
              "      <td>-9999</td>\n",
              "      <td>-9999</td>\n",
              "      <td>-9999</td>\n",
              "      <td>-9999</td>\n",
              "      <td>-9999</td>\n",
              "      <td>-9999</td>\n",
              "      <td>-9999</td>\n",
              "      <td>-9999</td>\n",
              "      <td>-9999</td>\n",
              "      <td>-9999</td>\n",
              "      <td>-9999</td>\n",
              "      <td>-9999</td>\n",
              "      <td>-9999</td>\n",
              "      <td>-9999</td>\n",
              "      <td>-9999</td>\n",
              "      <td>-9999</td>\n",
              "      <td>-9999</td>\n",
              "      <td>-9999</td>\n",
              "      <td>-9999</td>\n",
              "      <td>-9999</td>\n",
              "      <td>-9999</td>\n",
              "      <td>-9999</td>\n",
              "      <td>-9999</td>\n",
              "      <td>-9999</td>\n",
              "      <td>-9999</td>\n",
              "      <td>-9999</td>\n",
              "      <td>-9999</td>\n",
              "      <td>-9999</td>\n",
              "      <td>-9999</td>\n",
              "      <td>-9999</td>\n",
              "      <td>-9999</td>\n",
              "      <td>-9999</td>\n",
              "      <td>-9999</td>\n",
              "      <td>-9999</td>\n",
              "      <td>-9999</td>\n",
              "      <td>...</td>\n",
              "      <td>-9999.0</td>\n",
              "      <td>-9999.0</td>\n",
              "      <td>-9999.0</td>\n",
              "      <td>-9999.0</td>\n",
              "      <td>-9999.0</td>\n",
              "      <td>-9999.0</td>\n",
              "      <td>-9999.0</td>\n",
              "      <td>-9999.0</td>\n",
              "      <td>-9999.0</td>\n",
              "      <td>-9999.0</td>\n",
              "      <td>-9999.0</td>\n",
              "      <td>-9999.0</td>\n",
              "      <td>-9999.0</td>\n",
              "      <td>-9999.0</td>\n",
              "      <td>-9999.0</td>\n",
              "      <td>-9999.0</td>\n",
              "      <td>-9999</td>\n",
              "      <td>-9999</td>\n",
              "      <td>-9999</td>\n",
              "      <td>-9999</td>\n",
              "      <td>-9999</td>\n",
              "      <td>-9999</td>\n",
              "      <td>-9999</td>\n",
              "      <td>-9999</td>\n",
              "      <td>-9999</td>\n",
              "      <td>-9999</td>\n",
              "      <td>-9999</td>\n",
              "      <td>-9999</td>\n",
              "      <td>-9999</td>\n",
              "      <td>-9999</td>\n",
              "      <td>-9999</td>\n",
              "      <td>-9999</td>\n",
              "      <td>-9999</td>\n",
              "      <td>-9999</td>\n",
              "      <td>-9999</td>\n",
              "      <td>-9999</td>\n",
              "      <td>-9999</td>\n",
              "      <td>-9999</td>\n",
              "      <td>-9999</td>\n",
              "      <td>-9999</td>\n",
              "    </tr>\n",
              "    <tr>\n",
              "      <th>603553</th>\n",
              "      <td>-9999</td>\n",
              "      <td>-9999</td>\n",
              "      <td>-9999</td>\n",
              "      <td>-9999</td>\n",
              "      <td>-9999</td>\n",
              "      <td>-9999</td>\n",
              "      <td>-9999</td>\n",
              "      <td>-9999</td>\n",
              "      <td>-9999</td>\n",
              "      <td>-9999</td>\n",
              "      <td>-9999</td>\n",
              "      <td>-9999</td>\n",
              "      <td>-9999</td>\n",
              "      <td>-9999</td>\n",
              "      <td>-9999</td>\n",
              "      <td>-9999</td>\n",
              "      <td>-9999</td>\n",
              "      <td>-9999</td>\n",
              "      <td>-9999</td>\n",
              "      <td>-9999</td>\n",
              "      <td>-9999</td>\n",
              "      <td>-9999</td>\n",
              "      <td>-9999</td>\n",
              "      <td>-9999</td>\n",
              "      <td>-9999</td>\n",
              "      <td>-9999</td>\n",
              "      <td>-9999</td>\n",
              "      <td>-9999</td>\n",
              "      <td>-9999</td>\n",
              "      <td>-9999</td>\n",
              "      <td>-9999</td>\n",
              "      <td>-9999</td>\n",
              "      <td>-9999</td>\n",
              "      <td>-9999</td>\n",
              "      <td>-9999</td>\n",
              "      <td>-9999</td>\n",
              "      <td>-9999</td>\n",
              "      <td>-9999</td>\n",
              "      <td>-9999</td>\n",
              "      <td>-9999</td>\n",
              "      <td>...</td>\n",
              "      <td>-9999.0</td>\n",
              "      <td>-9999.0</td>\n",
              "      <td>-9999.0</td>\n",
              "      <td>-9999.0</td>\n",
              "      <td>-9999.0</td>\n",
              "      <td>-9999.0</td>\n",
              "      <td>-9999.0</td>\n",
              "      <td>-9999.0</td>\n",
              "      <td>-9999.0</td>\n",
              "      <td>-9999.0</td>\n",
              "      <td>-9999.0</td>\n",
              "      <td>-9999.0</td>\n",
              "      <td>-9999.0</td>\n",
              "      <td>-9999.0</td>\n",
              "      <td>-9999.0</td>\n",
              "      <td>-9999.0</td>\n",
              "      <td>-9999</td>\n",
              "      <td>-9999</td>\n",
              "      <td>-9999</td>\n",
              "      <td>-9999</td>\n",
              "      <td>-9999</td>\n",
              "      <td>-9999</td>\n",
              "      <td>-9999</td>\n",
              "      <td>-9999</td>\n",
              "      <td>-9999</td>\n",
              "      <td>-9999</td>\n",
              "      <td>-9999</td>\n",
              "      <td>-9999</td>\n",
              "      <td>-9999</td>\n",
              "      <td>-9999</td>\n",
              "      <td>-9999</td>\n",
              "      <td>-9999</td>\n",
              "      <td>-9999</td>\n",
              "      <td>-9999</td>\n",
              "      <td>-9999</td>\n",
              "      <td>-9999</td>\n",
              "      <td>-9999</td>\n",
              "      <td>-9999</td>\n",
              "      <td>-9999</td>\n",
              "      <td>-9999</td>\n",
              "    </tr>\n",
              "    <tr>\n",
              "      <th>603554</th>\n",
              "      <td>-9999</td>\n",
              "      <td>-9999</td>\n",
              "      <td>-9999</td>\n",
              "      <td>-9999</td>\n",
              "      <td>-9999</td>\n",
              "      <td>-9999</td>\n",
              "      <td>-9999</td>\n",
              "      <td>-9999</td>\n",
              "      <td>-9999</td>\n",
              "      <td>-9999</td>\n",
              "      <td>-9999</td>\n",
              "      <td>-9999</td>\n",
              "      <td>-9999</td>\n",
              "      <td>-9999</td>\n",
              "      <td>-9999</td>\n",
              "      <td>-9999</td>\n",
              "      <td>-9999</td>\n",
              "      <td>-9999</td>\n",
              "      <td>-9999</td>\n",
              "      <td>-9999</td>\n",
              "      <td>-9999</td>\n",
              "      <td>-9999</td>\n",
              "      <td>-9999</td>\n",
              "      <td>-9999</td>\n",
              "      <td>-9999</td>\n",
              "      <td>-9999</td>\n",
              "      <td>-9999</td>\n",
              "      <td>-9999</td>\n",
              "      <td>-9999</td>\n",
              "      <td>-9999</td>\n",
              "      <td>-9999</td>\n",
              "      <td>-9999</td>\n",
              "      <td>-9999</td>\n",
              "      <td>-9999</td>\n",
              "      <td>-9999</td>\n",
              "      <td>-9999</td>\n",
              "      <td>-9999</td>\n",
              "      <td>-9999</td>\n",
              "      <td>-9999</td>\n",
              "      <td>-9999</td>\n",
              "      <td>...</td>\n",
              "      <td>-9999.0</td>\n",
              "      <td>-9999.0</td>\n",
              "      <td>-9999.0</td>\n",
              "      <td>-9999.0</td>\n",
              "      <td>-9999.0</td>\n",
              "      <td>-9999.0</td>\n",
              "      <td>-9999.0</td>\n",
              "      <td>-9999.0</td>\n",
              "      <td>-9999.0</td>\n",
              "      <td>-9999.0</td>\n",
              "      <td>-9999.0</td>\n",
              "      <td>-9999.0</td>\n",
              "      <td>-9999.0</td>\n",
              "      <td>-9999.0</td>\n",
              "      <td>-9999.0</td>\n",
              "      <td>-9999.0</td>\n",
              "      <td>-9999</td>\n",
              "      <td>-9999</td>\n",
              "      <td>-9999</td>\n",
              "      <td>-9999</td>\n",
              "      <td>-9999</td>\n",
              "      <td>-9999</td>\n",
              "      <td>-9999</td>\n",
              "      <td>-9999</td>\n",
              "      <td>-9999</td>\n",
              "      <td>-9999</td>\n",
              "      <td>-9999</td>\n",
              "      <td>-9999</td>\n",
              "      <td>-9999</td>\n",
              "      <td>-9999</td>\n",
              "      <td>-9999</td>\n",
              "      <td>-9999</td>\n",
              "      <td>-9999</td>\n",
              "      <td>-9999</td>\n",
              "      <td>-9999</td>\n",
              "      <td>-9999</td>\n",
              "      <td>-9999</td>\n",
              "      <td>-9999</td>\n",
              "      <td>-9999</td>\n",
              "      <td>-9999</td>\n",
              "    </tr>\n",
              "    <tr>\n",
              "      <th>603555</th>\n",
              "      <td>-9999</td>\n",
              "      <td>-9999</td>\n",
              "      <td>-9999</td>\n",
              "      <td>-9999</td>\n",
              "      <td>-9999</td>\n",
              "      <td>-9999</td>\n",
              "      <td>-9999</td>\n",
              "      <td>-9999</td>\n",
              "      <td>-9999</td>\n",
              "      <td>-9999</td>\n",
              "      <td>-9999</td>\n",
              "      <td>-9999</td>\n",
              "      <td>-9999</td>\n",
              "      <td>-9999</td>\n",
              "      <td>-9999</td>\n",
              "      <td>-9999</td>\n",
              "      <td>-9999</td>\n",
              "      <td>-9999</td>\n",
              "      <td>-9999</td>\n",
              "      <td>-9999</td>\n",
              "      <td>-9999</td>\n",
              "      <td>-9999</td>\n",
              "      <td>-9999</td>\n",
              "      <td>-9999</td>\n",
              "      <td>-9999</td>\n",
              "      <td>-9999</td>\n",
              "      <td>-9999</td>\n",
              "      <td>-9999</td>\n",
              "      <td>-9999</td>\n",
              "      <td>-9999</td>\n",
              "      <td>-9999</td>\n",
              "      <td>-9999</td>\n",
              "      <td>-9999</td>\n",
              "      <td>-9999</td>\n",
              "      <td>-9999</td>\n",
              "      <td>-9999</td>\n",
              "      <td>-9999</td>\n",
              "      <td>-9999</td>\n",
              "      <td>-9999</td>\n",
              "      <td>-9999</td>\n",
              "      <td>...</td>\n",
              "      <td>-9999.0</td>\n",
              "      <td>-9999.0</td>\n",
              "      <td>-9999.0</td>\n",
              "      <td>-9999.0</td>\n",
              "      <td>-9999.0</td>\n",
              "      <td>-9999.0</td>\n",
              "      <td>-9999.0</td>\n",
              "      <td>-9999.0</td>\n",
              "      <td>-9999.0</td>\n",
              "      <td>-9999.0</td>\n",
              "      <td>-9999.0</td>\n",
              "      <td>-9999.0</td>\n",
              "      <td>-9999.0</td>\n",
              "      <td>-9999.0</td>\n",
              "      <td>-9999.0</td>\n",
              "      <td>-9999.0</td>\n",
              "      <td>-9999</td>\n",
              "      <td>-9999</td>\n",
              "      <td>-9999</td>\n",
              "      <td>-9999</td>\n",
              "      <td>-9999</td>\n",
              "      <td>-9999</td>\n",
              "      <td>-9999</td>\n",
              "      <td>-9999</td>\n",
              "      <td>-9999</td>\n",
              "      <td>-9999</td>\n",
              "      <td>-9999</td>\n",
              "      <td>-9999</td>\n",
              "      <td>-9999</td>\n",
              "      <td>-9999</td>\n",
              "      <td>-9999</td>\n",
              "      <td>-9999</td>\n",
              "      <td>-9999</td>\n",
              "      <td>-9999</td>\n",
              "      <td>-9999</td>\n",
              "      <td>-9999</td>\n",
              "      <td>-9999</td>\n",
              "      <td>-9999</td>\n",
              "      <td>-9999</td>\n",
              "      <td>-9999</td>\n",
              "    </tr>\n",
              "    <tr>\n",
              "      <th>603556</th>\n",
              "      <td>-9999</td>\n",
              "      <td>-9999</td>\n",
              "      <td>-9999</td>\n",
              "      <td>-9999</td>\n",
              "      <td>-9999</td>\n",
              "      <td>-9999</td>\n",
              "      <td>-9999</td>\n",
              "      <td>-9999</td>\n",
              "      <td>-9999</td>\n",
              "      <td>-9999</td>\n",
              "      <td>-9999</td>\n",
              "      <td>-9999</td>\n",
              "      <td>-9999</td>\n",
              "      <td>-9999</td>\n",
              "      <td>-9999</td>\n",
              "      <td>-9999</td>\n",
              "      <td>-9999</td>\n",
              "      <td>-9999</td>\n",
              "      <td>-9999</td>\n",
              "      <td>-9999</td>\n",
              "      <td>-9999</td>\n",
              "      <td>-9999</td>\n",
              "      <td>-9999</td>\n",
              "      <td>-9999</td>\n",
              "      <td>-9999</td>\n",
              "      <td>-9999</td>\n",
              "      <td>-9999</td>\n",
              "      <td>-9999</td>\n",
              "      <td>-9999</td>\n",
              "      <td>-9999</td>\n",
              "      <td>-9999</td>\n",
              "      <td>-9999</td>\n",
              "      <td>-9999</td>\n",
              "      <td>-9999</td>\n",
              "      <td>-9999</td>\n",
              "      <td>-9999</td>\n",
              "      <td>-9999</td>\n",
              "      <td>-9999</td>\n",
              "      <td>-9999</td>\n",
              "      <td>-9999</td>\n",
              "      <td>...</td>\n",
              "      <td>-9999.0</td>\n",
              "      <td>-9999.0</td>\n",
              "      <td>-9999.0</td>\n",
              "      <td>-9999.0</td>\n",
              "      <td>-9999.0</td>\n",
              "      <td>-9999.0</td>\n",
              "      <td>-9999.0</td>\n",
              "      <td>-9999.0</td>\n",
              "      <td>-9999.0</td>\n",
              "      <td>-9999.0</td>\n",
              "      <td>-9999.0</td>\n",
              "      <td>-9999.0</td>\n",
              "      <td>-9999.0</td>\n",
              "      <td>-9999.0</td>\n",
              "      <td>-9999.0</td>\n",
              "      <td>-9999.0</td>\n",
              "      <td>-9999</td>\n",
              "      <td>-9999</td>\n",
              "      <td>-9999</td>\n",
              "      <td>-9999</td>\n",
              "      <td>-9999</td>\n",
              "      <td>-9999</td>\n",
              "      <td>-9999</td>\n",
              "      <td>-9999</td>\n",
              "      <td>-9999</td>\n",
              "      <td>-9999</td>\n",
              "      <td>-9999</td>\n",
              "      <td>-9999</td>\n",
              "      <td>-9999</td>\n",
              "      <td>-9999</td>\n",
              "      <td>-9999</td>\n",
              "      <td>-9999</td>\n",
              "      <td>-9999</td>\n",
              "      <td>-9999</td>\n",
              "      <td>-9999</td>\n",
              "      <td>-9999</td>\n",
              "      <td>-9999</td>\n",
              "      <td>-9999</td>\n",
              "      <td>-9999</td>\n",
              "      <td>-9999</td>\n",
              "    </tr>\n",
              "  </tbody>\n",
              "</table>\n",
              "<p>95 rows × 225 columns</p>\n",
              "</div>"
            ],
            "text/plain": [
              "x       708750  708751  708752  708753  ...  708971  708972  708973  708974\n",
              "y                                       ...                                \n",
              "603462   -9999   -9999   -9999   -9999  ...   -9999   -9999   -9999   -9999\n",
              "603463   -9999   -9999   -9999   -9999  ...   -9999   -9999   -9999   -9999\n",
              "603464   -9999   -9999   -9999   -9999  ...   -9999   -9999   -9999   -9999\n",
              "603465   -9999   -9999   -9999   -9999  ...   -9999   -9999   -9999   -9999\n",
              "603466   -9999   -9999   -9999   -9999  ...   -9999   -9999   -9999   -9999\n",
              "...        ...     ...     ...     ...  ...     ...     ...     ...     ...\n",
              "603552   -9999   -9999   -9999   -9999  ...   -9999   -9999   -9999   -9999\n",
              "603553   -9999   -9999   -9999   -9999  ...   -9999   -9999   -9999   -9999\n",
              "603554   -9999   -9999   -9999   -9999  ...   -9999   -9999   -9999   -9999\n",
              "603555   -9999   -9999   -9999   -9999  ...   -9999   -9999   -9999   -9999\n",
              "603556   -9999   -9999   -9999   -9999  ...   -9999   -9999   -9999   -9999\n",
              "\n",
              "[95 rows x 225 columns]"
            ]
          },
          "metadata": {
            "tags": []
          },
          "execution_count": 28
        }
      ]
    },
    {
      "cell_type": "markdown",
      "metadata": {
        "id": "fomv6_Kkt5_s",
        "colab_type": "text"
      },
      "source": [
        "以上でDEMが完成しました．\n",
        "次にピボットした標高行列をnumpyのnp.ndarrayに変換します．\n",
        "これはGeoTiffとして保存するための準備です．"
      ]
    },
    {
      "cell_type": "code",
      "metadata": {
        "id": "-ksrm-FXJ57C",
        "colab_type": "code",
        "outputId": "b01c4809-8fb0-4426-cf50-94905e864aa3",
        "colab": {
          "base_uri": "https://localhost:8080/",
          "height": 156
        }
      },
      "source": [
        "demp=dem.values.astype(np.float32)\n",
        "demp"
      ],
      "execution_count": 0,
      "outputs": [
        {
          "output_type": "execute_result",
          "data": {
            "text/plain": [
              "array([[-9999., -9999., -9999., ..., -9999., -9999., -9999.],\n",
              "       [-9999., -9999., -9999., ..., -9999., -9999., -9999.],\n",
              "       [-9999., -9999., -9999., ..., -9999., -9999., -9999.],\n",
              "       ...,\n",
              "       [-9999., -9999., -9999., ..., -9999., -9999., -9999.],\n",
              "       [-9999., -9999., -9999., ..., -9999., -9999., -9999.],\n",
              "       [-9999., -9999., -9999., ..., -9999., -9999., -9999.]],\n",
              "      dtype=float32)"
            ]
          },
          "metadata": {
            "tags": []
          },
          "execution_count": 29
        }
      ]
    },
    {
      "cell_type": "markdown",
      "metadata": {
        "id": "QyFH4NQU6kqY",
        "colab_type": "text"
      },
      "source": [
        "## DEMの図化"
      ]
    },
    {
      "cell_type": "markdown",
      "metadata": {
        "id": "UYMLnrx4SOOd",
        "colab_type": "text"
      },
      "source": [
        "作成したDEMを表示して確認してみましょう．"
      ]
    },
    {
      "cell_type": "code",
      "metadata": {
        "scrolled": false,
        "id": "1MsgJP8SxyHy",
        "colab_type": "code",
        "outputId": "d04a111b-ed3d-4faa-ea97-8269696f27d6",
        "colab": {
          "base_uri": "https://localhost:8080/",
          "height": 574
        }
      },
      "source": [
        "plt.figure(figsize = (10, 10))\n",
        "im = plt.imshow(demp, cmap = \"terrain\",vmin = -10)\n",
        "plt.colorbar(im)\n",
        "plt.show()"
      ],
      "execution_count": 0,
      "outputs": [
        {
          "output_type": "display_data",
          "data": {
            "image/png": "[encoded data removed]",
            "text/plain": [
              "<Figure size 720x720 with 2 Axes>"
            ]
          },
          "metadata": {
            "tags": []
          }
        }
      ]
    },
    {
      "cell_type": "markdown",
      "metadata": {
        "id": "PIqBG6Uyic18",
        "colab_type": "text"
      },
      "source": [
        "# DEMをGeoTiffで保存する\n"
      ]
    },
    {
      "cell_type": "markdown",
      "metadata": {
        "id": "Udb2QdbQipRr",
        "colab_type": "text"
      },
      "source": [
        "\n",
        "GeoTiffで保存するためにはgdalライブラリを使います．\n",
        "まず，DEMのアフィンパラメーターを用意します．\n",
        "アフィンパラメーターは6個の実数のリストになります．\n",
        "1個めはDEM全体の左側の座標，\n",
        "2個めは標高値ひとつあたりの横方向のサイズ，\n",
        "3個めは0で固定，\n",
        "4個目はDEM全体の上側の座標，\n",
        "5個目は0で固定，\n",
        "6個目は標高値ひとつあたりの縦方向のサイズです．\n",
        "\n",
        "DEM全体の左側の座標は，`df['lon']`の最小値（西の端），\n",
        "標高値ひとつあたりの横方向のサイズは`Xsize`，\n",
        "DEM全体の上側の座標は`df['lat']`の最大値（北の端），\n",
        "標高値ひとつあたりの縦方向のサイズは`Ysize`になります．\n",
        "ただし，標高値ひとつあたりの縦方向のサイズは南方向になるので負になります．\n",
        "\n",
        "これらのパラメーターをリスト化し`trans`に格納します．\n"
      ]
    },
    {
      "cell_type": "code",
      "metadata": {
        "id": "URVuifQlifjp",
        "colab_type": "code",
        "outputId": "b005bb8f-9587-4122-cb09-5f3d53c6079b",
        "colab": {
          "base_uri": "https://localhost:8080/",
          "height": 121
        }
      },
      "source": [
        "trans = [min(df['lon']), Xsize, 0, max(df['lat']), 0, -Ysize]\n",
        "trans"
      ],
      "execution_count": 0,
      "outputs": [
        {
          "output_type": "execute_result",
          "data": {
            "text/plain": [
              "[139.375,\n",
              " 5.555555555550503e-05,\n",
              " 0,\n",
              " 34.049333333359996,\n",
              " 0,\n",
              " -5.5555553333306305e-05]"
            ]
          },
          "metadata": {
            "tags": []
          },
          "execution_count": 32
        }
      ]
    },
    {
      "cell_type": "markdown",
      "metadata": {
        "id": "hk-cyreYU8mT",
        "colab_type": "text"
      },
      "source": [
        "次にDEMの座標系を指定します．\n",
        "GeoTiffで保存するためには，空間参照系を表すオブジェクト`osr.SpatialRefernece()`を作成し，\n",
        "これにEPSGコードで空間参照系を設定します．\n",
        "基盤地図情報のDEMはJGD2011の緯度経度座標系（地理座標系）で，\n",
        "EPSGが`4612`になりますので，以下のような設定になります．\n"
      ]
    },
    {
      "cell_type": "code",
      "metadata": {
        "id": "2nSOv-4oTSC8",
        "colab_type": "code",
        "outputId": "bac4c93c-0d67-406c-ca51-b51ccfd46eec",
        "colab": {
          "base_uri": "https://localhost:8080/",
          "height": 55
        }
      },
      "source": [
        "srs = osr.SpatialReference()\n",
        "srs.ImportFromEPSG(4612)"
      ],
      "execution_count": 0,
      "outputs": [
        {
          "output_type": "execute_result",
          "data": {
            "text/plain": [
              "<osgeo.osr.SpatialReference; proxy of <Swig Object of type 'OSRSpatialReferenceShadow *' at 0x7f8302fe4ab0> >"
            ]
          },
          "metadata": {
            "tags": []
          },
          "execution_count": 33
        }
      ]
    },
    {
      "cell_type": "markdown",
      "metadata": {
        "id": "5a_zJPlYWXJG",
        "colab_type": "text"
      },
      "source": [
        "次に書き出しの設定をします．\n",
        "GeoTiffで保存するためには`gdal.GetDriverByName`型のオブジェクトを作り，\n",
        "ここでファイル形式を指定します．\n",
        "次に`Create`メソッドを使ってファイルを生成します．\n",
        "`Create`メソッドの引数は，保存ファイル名，画像の縦サイズ，画像の横サイズ，バンド数，格納する配列の型です．\n",
        "\n",
        "縦横サイズは`demp.shape`で取得できます．\n",
        "`demp.shape[1]`が縦サイズ，`demp.shape[0]`が横サイズです．\n",
        "バンド数はDEMが一つだけなので`1`です．\n",
        "配列`demp`を保存しますので，データ型は32ビット浮動小数点型になります．"
      ]
    },
    {
      "cell_type": "code",
      "metadata": {
        "id": "DUPlWjhpU7zO",
        "colab_type": "code",
        "colab": {}
      },
      "source": [
        "driver = gdal.GetDriverByName('GTiff')\n",
        "output = driver.Create(base_dir + 'test.tif', demp.shape[1], demp.shape[0], 1, gdal.GDT_Float32)"
      ],
      "execution_count": 0,
      "outputs": []
    },
    {
      "cell_type": "markdown",
      "metadata": {
        "id": "Ar0PGPWcYZXe",
        "colab_type": "text"
      },
      "source": [
        "標高の配列，設定した参照座標系などをオブジェクトに書き込みます．\n",
        "また，データなしの値を`-9999`に設定します．"
      ]
    },
    {
      "cell_type": "code",
      "metadata": {
        "id": "w0bPNK-sWUbp",
        "colab_type": "code",
        "colab": {}
      },
      "source": [
        "output.GetRasterBand(1).WriteArray(demp)\n",
        "output.GetRasterBand(1).SetNoDataValue(-9999)\n",
        "output.SetGeoTransform(trans)\n",
        "output.SetProjection(srs.ExportToWkt())"
      ],
      "execution_count": 0,
      "outputs": []
    },
    {
      "cell_type": "markdown",
      "metadata": {
        "id": "uKPKjXcKdbdZ",
        "colab_type": "text"
      },
      "source": [
        "最後にキャッシュをすべて書き出し，オブジェクトを削除して終了です．\n"
      ]
    },
    {
      "cell_type": "code",
      "metadata": {
        "id": "VB9OOE8hYfJR",
        "colab_type": "code",
        "colab": {}
      },
      "source": [
        "output.FlushCache()\n",
        "output = None"
      ],
      "execution_count": 0,
      "outputs": []
    },
    {
      "cell_type": "markdown",
      "metadata": {
        "id": "3L_wYHCriGaE",
        "colab_type": "text"
      },
      "source": [
        "# 全部入りのプログラム\n"
      ]
    },
    {
      "cell_type": "markdown",
      "metadata": {
        "id": "aFDgdOfpirNN",
        "colab_type": "text"
      },
      "source": [
        "\n",
        "以下が全部入りのプログラムです．\n",
        "ディレクトリ内にあるすべての基盤地図情報DEMのXMLファイルを自動的に読み込み，\n",
        "つなぎ合わせてGeoTiffで書き出します．\n",
        "\n",
        "ディレクトリ内のすべてのXMLファイルを処理する部分では，\n",
        "`glob`とループで逐次処理を行っています．\n",
        "ファイルごとに縦持ちの標高データ`df`を作成しそれを`dfall`に追加することで，\n",
        "処理対象のXMLから取得したすべての標高値を`dfall`に格納しています．\n",
        "最後に`dfall`を横持ちに変換することで\n",
        "ファイルの結合をしています．\n"
      ]
    },
    {
      "cell_type": "code",
      "metadata": {
        "id": "StSLy80AKiAM",
        "colab_type": "code",
        "colab": {}
      },
      "source": [
        "import xml.etree.ElementTree as ET\n",
        "import numpy as np\n",
        "import matplotlib.pyplot as plt\n",
        "import matplotlib.colors as colors\n",
        "import glob\n",
        "import pandas as pd\n",
        "import io\n",
        "from osgeo import gdal, gdalconst, gdal_array, osr\n",
        "from google.colab import drive\n",
        "\n",
        "drive.mount('/content/drive')\n",
        "base_dir = \"/content/drive/My Drive/gisday2019/\"\n",
        "\n",
        "ns = {'default': 'http://fgd.gsi.go.jp/spec/2008/FGD_GMLSchema',\n",
        "  'xlink': 'http://www.w3.org/1999/xlink',\n",
        "  'xsi': 'http://www.w3.org/2001/XMLSchema-instance',\n",
        "  'gml': 'http://www.opengis.net/gml/3.2'}\n",
        "\n",
        "infiles = glob.glob(base_dir + '/GSI-DEM/*.xml')\n",
        "\n",
        "dfall = pd.DataFrame()\n",
        "\n",
        "# ここからループしてすべてのXMLファイルを変換する\n",
        "\n",
        "for infile in infiles:\n",
        "  tree = ET.parse(infile)\n",
        "  elem = tree.getroot()\n",
        "\n",
        "  lowercorner = elem.find('.//gml:lowerCorner', ns)\n",
        "  uppercorner = elem.find('.//gml:upperCorner', ns)\n",
        "\n",
        "  tuplelist = elem.find(\".//gml:tupleList\", ns)\n",
        "  df = pd.read_csv(io.StringIO(tuplelist.text), header = None)\n",
        "  df.columns = ['att', 'z']\n",
        "\n",
        "  startPoint = elem.find('.//gml:startPoint', ns).text.split(' ')\n",
        "  startPointX = int(startPoint[0])\n",
        "  startPointY = int(startPoint[1])\n",
        "\n",
        "  cols = int(elem.find(\".//gml:high\", ns).text.split(' ')[0]) + 1\n",
        "  rows = int(elem.find(\".//gml:high\", ns).text.split(' ')[1]) + 1\n",
        "\n",
        "  start = startPointX + (cols * startPointY)\n",
        "  end = int(df.shape[0]) + start\n",
        "\n",
        "  df['n'] = list(range(start, end))\n",
        "  df['x4'] = (df['n'] % cols)\n",
        "  df['y4'] = (df['n'] // cols)\n",
        "\n",
        "  uppercorner = elem.find('.//gml:upperCorner', ns)\n",
        "  lowercorner = elem.find('.//gml:lowerCorner', ns)\n",
        "\n",
        "  ULX = float(lowercorner.text.split(' ')[1])\n",
        "  ULY = float(uppercorner.text.split(' ')[0])\n",
        "  LRX = float(uppercorner.text.split(' ')[1])\n",
        "  LRY = float(lowercorner.text.split(' ')[0])\n",
        "\n",
        "  mesh = elem.find('.//default:mesh', ns)\n",
        "  \n",
        "  df['y1'] = int(mesh.text[0:2])\n",
        "  df['x1'] = int(mesh.text[2:4])\n",
        "  df['y2'] = int(mesh.text[4])\n",
        "  df['x2'] = int(mesh.text[5])\n",
        "  df['y3'] = int(mesh.text[6])\n",
        "  df['x3'] = int(mesh.text[7])\n",
        "\n",
        "  df['x'] = df['x4'] + (df['x3'] * cols) + (df['x2'] * 10 * cols) + (df['x1'] * 8 * 10 * cols)\n",
        "  df['y'] = df['y4'] + ((8 - df['y3']) * rows) + ((10 - df['y2']) * 10 * rows) + ((100 - df['y1']) * 8 * 10 * rows)\n",
        "\n",
        "  Xsize = (LRX - ULX) / cols\n",
        "  Ysize = (ULY - LRY) / rows\n",
        "\n",
        "  df['lon'] = ULX + df['x4'] * Xsize\n",
        "  df['lat'] = ULY - df['y4'] * Ysize\n",
        "\n",
        "  dfall = dfall.append(df)\n",
        "\n",
        "# データがない部分用のダミーデータを作る\n",
        "d1 = pd.DataFrame()\n",
        "d2 = pd.DataFrame()\n",
        "\n",
        "d1['x'] = list(range(min(dfall['x']), max(dfall['x'])))\n",
        "d1['y'] = min(dfall['y'])\n",
        "d1['z'] = -9999\n",
        "d2['x'] = min(dfall['x'])\n",
        "d2['y'] = list(range(min(dfall['y']), max(dfall['y'])))\n",
        "d2['z'] = -9999\n",
        "\n",
        "# ダミーデータを標高の入っているデータフレームに結合する\n",
        "dfall = dfall.append(d1).append(d2)\n",
        "\n",
        "# 縦持ちデータを横持ちにピボットする\n",
        "# データなしと標高値が重なる場合があるので，その場合は最大値（すなわち標高値）を残す\n",
        "dem = dfall.pivot_table(index = 'y', columns = 'x', values = 'z', fill_value = -9999, aggfunc = 'max')\n",
        "dem = dem.sort_index()\n",
        "\n",
        "# 横持ちにした標高値を32ビット浮動小数点型のnp.Arrayに変換する\n",
        "demp = dem.values.astype(np.float32)\n",
        "\n",
        "# 確認のためDEMを図化する\n",
        "plt.figure(figsize = (10, 10))\n",
        "im = plt.imshow(demp, cmap = \"terrain\",vmin = -10)\n",
        "plt.colorbar(im)\n",
        "plt.show()\n",
        "\n",
        "# GeoTiff書き出しのためのアフィンパラメータの設定（北西端の座標，メッシュサイズなど）\n",
        "trans = [min(dfall['lon']), Xsize, 0, max(dfall['lat']), 0, -Ysize]\n",
        "\n",
        "# 座標系の設定（EPSG:4612，JGD2000の緯度経度座標系）\n",
        "srs = osr.SpatialReference()\n",
        "srs.ImportFromEPSG(4612)\n",
        "\n",
        "# GeoTiff書き出しのための準備，オブジェクトの生成と初期化\n",
        "driver = gdal.GetDriverByName('GTiff')\n",
        "output = driver.Create(base_dir + 'miyake_dem_JGD2011_latlon.tif', demp.shape[1], demp.shape[0], 1, gdal.GDT_Float32)\n",
        "output.GetRasterBand(1).WriteArray(demp)\n",
        "output.GetRasterBand(1).SetNoDataValue(-9999)\n",
        "output.SetGeoTransform(trans)\n",
        "output.SetProjection(srs.ExportToWkt())\n",
        "\n",
        "# GeoTiffに書き出して終了\n",
        "output.FlushCache()\n",
        "output = None"
      ],
      "execution_count": 0,
      "outputs": []
    },
    {
      "cell_type": "markdown",
      "metadata": {
        "id": "M1wJcahiEMrx",
        "colab_type": "text"
      },
      "source": [
        "# 今後の課題\n"
      ]
    },
    {
      "cell_type": "markdown",
      "metadata": {
        "id": "y0DthhLpiv9G",
        "colab_type": "text"
      },
      "source": [
        "\n",
        "保存したGeoTiffは緯度経度座標系なので，\n",
        "平面直角座標系に投影変換をしたいと思います．\n",
        "`gdal.Warp`を使えば投影変換ができるはずですが，\n",
        "どうしてもうまくいきませんでした．\n",
        "\n",
        "ぜひご自身で挑戦してみてください．"
      ]
    },
    {
      "cell_type": "code",
      "metadata": {
        "id": "pjOQMZqUUqXs",
        "colab_type": "code",
        "colab": {}
      },
      "source": [
        "opt = gdal.WarpOptions(dstSRS = 'EPSG:6677', srcNodata = -9999, dstNodata = -9999, outputType=gdal.GDT_Float64, xRes = 5.0, yRes = 5.0, resampleAlg = 'bilinear')\n",
        "gdal.Warp(base_dir + 'miyake_dem_reprojected.tif', base_dir + 'miyake_dem_JGD2011_latlon.tif', options = opt)"
      ],
      "execution_count": 0,
      "outputs": []
    }
  ]
}