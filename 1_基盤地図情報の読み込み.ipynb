{
  "cells": [
    {
      "cell_type": "markdown",
      "metadata": {
        "id": "view-in-github",
        "colab_type": "text"
      },
      "source": [
        "<a href=\"https://colab.research.google.com/github/bokutachi256/gisday2019/blob/main/1_%E5%9F%BA%E7%9B%A4%E5%9C%B0%E5%9B%B3%E6%83%85%E5%A0%B1%E3%81%AE%E8%AA%AD%E3%81%BF%E8%BE%BC%E3%81%BF.ipynb\" target=\"_parent\"><img src=\"https://colab.research.google.com/assets/colab-badge.svg\" alt=\"Open In Colab\"/></a>"
      ]
    },
    {
      "cell_type": "markdown",
      "metadata": {
        "id": "x1sK1KXQfo3h"
      },
      "source": [
        "# 基盤地図情報の読み込み\n"
      ]
    },
    {
      "cell_type": "markdown",
      "metadata": {
        "id": "u065ZlIAlYRp"
      },
      "source": [
        "* GIS Day in 東京 2019 Eコース\n",
        "* Pythonを用いたDEM処理\n",
        "* 首都大学東京 都市環境学部 地理環境学科 中山大地\n",
        "* 2019年12月21日 首都大学東京 南大沢キャンパス\n",
        "* [Github Repository: www.github.com/bokutachi256/gisday2019](https://www.github.com/bokutachi256/gisday2019)\n",
        "* 参考になるページ\n",
        "  - [gdal python のマニュアルページ](https://gdal.org/python/)\n",
        "* 更新履歴\n",
        "  - 2021年6月8日改訂：gdal.Warpを用いた投影変換を追加\n",
        "  - 2022年4月11日：ローカルなPython環境に対応すように改稿\n",
        "  - 2022年5月18日：pyshedsの仕様変更に伴う改訂\n",
        "  - 2022年6月7日：gdal.WarpOptions にtargetAlignedPixelsを追加\n",
        "  - 2022年6月15日：Zipで固まっているDEM XMLでも結合できるように改良\n",
        "  - 2022年6月16日：Google Collaboratoryとローカル環境を自動判別\n",
        "  - 2023年2月27日：軽微なバグを修正（gdalwarp）\n",
        "  "
      ]
    },
    {
      "cell_type": "markdown",
      "metadata": {
        "id": "5bzzDbUTP4RM"
      },
      "source": [
        "# はじめに\n"
      ]
    },
    {
      "cell_type": "markdown",
      "metadata": {
        "id": "t6vHFn8viFYz"
      },
      "source": [
        "\n",
        "この章では基盤地図情報の数値標高モデル（DEM: Digital Elevation Model）を用いて分析する方法について解説します．\n",
        "\n",
        "基盤地図情報DEMを扱う上でややこしいところは以下の5点になると思います．\n",
        "\n",
        "1. 3次メッシュ単位で1ファイルになっていること\n",
        "1. 名前空間つきXMLになっていること\n",
        "1. 標高値が1行に格納されていること\n",
        "1. 標高値が固定長ではなく，省略されている場合があること\n",
        "1. 海面のみの3次メッシュはファイル自体が存在しないこと\n",
        "\n",
        "これらを解決してメッシュ形式のDEMを取得するには様々な方法が考えられます．\n",
        "\n",
        "このテキストでは以下のこだわりでこれらの問題点を解決していきます．\n",
        "\n",
        "1. 複数ファイルを自動的に結合する\n",
        "1. 名前空間付きXMLをまじめに取り扱う\n",
        "1. pandasのデータフレームを用い，縦持ちにした標高データを横持ちに変換する\n",
        "1. `for`ループと`if`を使わない\n",
        "1. 存在しないファイルのメッシュも自動的に補間する\n",
        "\n",
        "ネットで公開されている変換プログラムの多くは，データをメッシュ化するのにforループを使用しています．\n",
        "しかし，Pythonのforループは処理速度が遅いためできるだけ使わずに処理をしたいところです．\n",
        "本プログラムではpandasのデータフレームを利用し，縦持ちで整理した標高データを横持ちに変換することでこの問題を解決しています．\n",
        "この方法の2次的な利点として，ファイルとして存在しないメッシュのデータや，\n",
        "省略されているデータの処理も楽になるということも挙げられます．"
      ]
    },
    {
      "cell_type": "markdown",
      "metadata": {
        "id": "M38PPVcC5a8B"
      },
      "source": [
        "# 計算の準備"
      ]
    },
    {
      "cell_type": "markdown",
      "metadata": {
        "id": "UPrMeWEVXxsN"
      },
      "source": [
        "## サンプルデータの準備\n"
      ]
    },
    {
      "cell_type": "markdown",
      "metadata": {
        "id": "RDN5KIvkiKxR"
      },
      "source": [
        "ご自身のgoogle driveに`5mDEM`ディレクトリを作成し，そこに[基盤地図情報サイト](https://www.gsi.go.jp/kiban/)から5m DEMのをダウンロードし，\n",
        "標高データのxmlファイルのみをコピーしてください．\n",
        "ローカルのnotebook環境で実行する場合は，このプログラムのあるディレクトリに`5mDEM`ディレクトリを作成し，\n",
        "そこに標高データのxmlファイルをコピーしてください．\n"
      ]
    },
    {
      "cell_type": "markdown",
      "metadata": {
        "id": "R5u9UYLpYRlv"
      },
      "source": [
        "## ライブラリのインポート"
      ]
    },
    {
      "cell_type": "markdown",
      "metadata": {
        "id": "FzHFvx4viOJK"
      },
      "source": [
        "使用するライブラリを説明します．\n",
        "\n",
        "* `xml.etree.ElementTree`: XML処理用のライブラリ． \n",
        "* `numpy`: 多次元配列計算のライブラリ．\n",
        "* `matplotlib.pyplot`: グラフ作成・データ可視化ライブラリ．DEMのチェックに使用．\n",
        "* `matplotlib.colors`: カラーライブラリ．\n",
        "* `pandas`: データ処理ライブラリ．データの縦持ち・横持ち変換に使用．\n",
        "* `io`: ストリームライブラリ．標高値をデータフレームに格納するのに使用．\n",
        "* `osgeo`: 地理データ処理ライブラリ．GeoTiffの書き出しに使用．\n",
        "* `google.colab`: Google Colaboratory用ライブラリ．google driveのマウントに使用．\n",
        "\n",
        "以下で使用するライブラリを導入します．"
      ]
    },
    {
      "cell_type": "code",
      "execution_count": null,
      "metadata": {
        "id": "x5eWquNDfo3k"
      },
      "outputs": [],
      "source": [
        "import xml.etree.ElementTree as ET\n",
        "import numpy as np\n",
        "import matplotlib.pyplot as plt\n",
        "import matplotlib.colors as colors\n",
        "import pandas as pd\n",
        "import io\n",
        "from osgeo import gdal, gdalconst, gdal_array, osr"
      ]
    },
    {
      "cell_type": "markdown",
      "metadata": {
        "id": "HmaW0z02Q3gg"
      },
      "source": [
        "# サンプルデータの用意"
      ]
    },
    {
      "cell_type": "markdown",
      "metadata": {
        "id": "UqsTmr6qQ3gg"
      },
      "source": []
    },
    {
      "cell_type": "markdown",
      "metadata": {
        "id": "yji-aK7Hlci6"
      },
      "source": [
        "## Google ColaboratoryにGoogle Driveをマウントして実行する場合"
      ]
    },
    {
      "cell_type": "markdown",
      "metadata": {
        "id": "5c5AGJs_iTFt"
      },
      "source": [
        "Google ColaboratoryでGoogle Drive内のファイルを読み書きする場合には\n",
        "`google.colab`をインポートしてください．\n",
        "\n",
        "インポート後は`drive.mount`を使ってGoogle DriveをGoogle Colaboratoryにマウントします．\n",
        "`drive.mount`の引数はGoogle Colaboratory内のマウントポイントです．\n",
        "このマウントポイントで示されたディレクトリにGoogle Driveのルートディレクトリ（マイドライブ）が接続されます．\n",
        "\n",
        "`drive.mount`が実行されると，どのGoogleアカウントで接続するか聞かれます．\n",
        "適切なアカウントを指定してアクセス権を与えます．\n",
        "これでGoogle Driveがマウントされます．\n",
        "\n",
        "マイドライブの中に作業用のディレクトリ`DEM`を作成しましたので，\n",
        "これを変数`base_dir`に格納しておきます．\n",
        "\n"
      ]
    },
    {
      "cell_type": "code",
      "execution_count": null,
      "metadata": {
        "id": "Vbfh26bmQ3gg"
      },
      "outputs": [],
      "source": [
        "# Google Colaboratoryとgoogle Driveを使う場合\n",
        "from google.colab import drive\n",
        "drive.mount('/content/drive')\n",
        "\n",
        "base_dir = \"/content/drive/My Drive/DEM/\""
      ]
    },
    {
      "cell_type": "markdown",
      "metadata": {
        "id": "qdE9pDQ3Q3gg"
      },
      "source": [
        "## ローカルPCにインストールされたPython環境で実行する場合"
      ]
    },
    {
      "cell_type": "markdown",
      "metadata": {
        "id": "zWu9mvoZQ3gg"
      },
      "source": [
        "ローカル環境で実行する場合は作業用ディレクトリ`DEM`を設定します．\n",
        "これを変数`base_dir`に格納しておきます．"
      ]
    },
    {
      "cell_type": "code",
      "execution_count": null,
      "metadata": {
        "id": "95KAyoXeQ3gg"
      },
      "outputs": [],
      "source": [
        "# ローカルで実行する場合は作業用ディレクトリの設定のみ必要\n",
        "base_dir = \"./DEM/\""
      ]
    },
    {
      "cell_type": "markdown",
      "metadata": {
        "id": "3V8EZ9oifo3q"
      },
      "source": [
        "# 基盤地図情報XMLファイルについて"
      ]
    },
    {
      "cell_type": "markdown",
      "metadata": {
        "id": "p46wAYrR9bUB"
      },
      "source": [
        "以下が基盤地図情報DEMのXMLファイルです．"
      ]
    },
    {
      "cell_type": "markdown",
      "metadata": {
        "id": "YzI9iRWA33zz"
      },
      "source": [
        "```xml\n",
        "<?xml version=\"1.0\" encoding=\"UTF-8\"?>\n",
        "<Dataset\n",
        "  gml:id=\"Dataset1\"\n",
        "  xmlns=\"http://fgd.gsi.go.jp/spec/2008/FGD_GMLSchema\" \n",
        "  xmlns:xlink=\"http://www.w3.org/1999/xlink\"\n",
        "  xmlns:xsi=\"http://www.w3.org/2001/XMLSchema-instance\"\n",
        "  xmlns:gml=\"http://www.opengis.net/gml/3.2\"\n",
        "  xsi:schemaLocation=\"http://fgd.gsi.go.jp/spec/2008/FGD_GMLSchema FGD_GMLSchema.xsd\"\n",
        ">\n",
        "  <gml:description>基盤地図情報メタデータ ID=fmdid:15-3101</gml:description>\n",
        "  <gml:name>基盤地図情報ダウンロードデータ（GML版）</gml:name>\n",
        "  <DEM gml:id=\"DEM001\">\n",
        "    <fid>fgoid:10-00100-15-60101-51390350</fid>\n",
        "    <lfSpanFr gml:id=\"DEM001-1\">\n",
        "      <gml:timePosition>2016-10-01</gml:timePosition>\n",
        "    </lfSpanFr>\n",
        "    <devDate gml:id=\"DEM001-2\">\n",
        "      <gml:timePosition>2016-10-01</gml:timePosition>\n",
        "    </devDate>\n",
        "    <orgGILvl>0</orgGILvl>\n",
        "    <orgMDId>H24GC009 NoData</orgMDId>\n",
        "    <type>5mメッシュ（標高）</type>\n",
        "    <mesh>51390350</mesh>\n",
        "    <coverage gml:id=\"DEM001-3\">\n",
        "      <gml:boundedBy>\n",
        "        <gml:Envelope srsName=\"fguuid:jgd2011.bl\">\n",
        "          <gml:lowerCorner>34.041666667 139.375</gml:lowerCorner>\n",
        "          <gml:upperCorner>34.05 139.3875</gml:upperCorner>\n",
        "        </gml:Envelope>\n",
        "      </gml:boundedBy>\n",
        "      <gml:gridDomain>\n",
        "        <gml:Grid gml:id=\"DEM001-4\" dimension=\"2\">\n",
        "          <gml:limits>\n",
        "            <gml:GridEnvelope>\n",
        "              <gml:low>0 0</gml:low>\n",
        "              <gml:high>224 149</gml:high>\n",
        "            </gml:GridEnvelope>\n",
        "            </gml:limits>\n",
        "            <gml:axisLabels>x y</gml:axisLabels>\n",
        "        </gml:Grid>\n",
        "      </gml:gridDomain>\n",
        "      <gml:rangeSet>\n",
        "        <gml:DataBlock>\n",
        "          <gml:rangeParameters>\n",
        "            <gml:QuantityList uom=\"DEM構成点\"/>\n",
        "          </gml:rangeParameters>\n",
        "          <gml:tupleList>地表面,1.21 地表面,1.49. .......\n",
        "        </gml:DataBlock>\n",
        "      </gml:rangeSet>\n",
        "      <gml:coverageFunction>\n",
        "        <gml:GridFunction>\n",
        "          <gml:sequenceRule order=\"+x-y\">Linear</gml:sequenceRule>\n",
        "          <gml:startPoint>155 12</gml:startPoint>\n",
        "        </gml:GridFunction>\n",
        "      </gml:coverageFunction>\n",
        "    </coverage>\n",
        "  </DEM>\n",
        "</Dataset>\n",
        "```"
      ]
    },
    {
      "cell_type": "markdown",
      "metadata": {
        "id": "h_LS9git5vGc"
      },
      "source": [
        "## 基盤地図情報の読み込みと扱い方"
      ]
    },
    {
      "cell_type": "markdown",
      "metadata": {
        "id": "LaBu8ILKizyO"
      },
      "source": [
        "\n",
        "基盤地図情報のXMLを読み込んでparseしていきましょう．\n",
        "XMLファイルは作業用ディレクトリの`5mDEM`ディレクトリにコピーしてありますので．\n",
        "例えば`FG-GML-5339-21-00-DEM5A-20161001.xml`というファイルであれば，\n",
        "`base_dir + \"FG-GML-5339-21-00-DEM5A-20161001.xml\"`としてアクセスします．\n",
        "\n",
        "`ET.parse`を用いてxmlをパースしてから`getroot`を使ってのルート要素を取得し，`elem`に代入します．"
      ]
    },
    {
      "cell_type": "code",
      "execution_count": null,
      "metadata": {
        "id": "bH-7JgIkfo3r"
      },
      "outputs": [],
      "source": [
        "tree = ET.parse(base_dir + \"FG-GML-5139-03-50-DEM5A-20161001.xml\")\n",
        "elem = tree.getroot()"
      ]
    },
    {
      "cell_type": "markdown",
      "metadata": {
        "id": "cvQZ_DvkiKEA"
      },
      "source": [
        "ルート要素`elem`を確認してみます．"
      ]
    },
    {
      "cell_type": "code",
      "execution_count": null,
      "metadata": {
        "id": "aDLSzZflKC2Y"
      },
      "outputs": [],
      "source": [
        "elem"
      ]
    },
    {
      "cell_type": "markdown",
      "metadata": {
        "id": "UwnrwkRxiWNF"
      },
      "source": [
        "ルート要素のタグ`Dataset`が表示されました．"
      ]
    },
    {
      "cell_type": "markdown",
      "metadata": {
        "id": "8l10Y0zofo37"
      },
      "source": [
        "次にイテレータを使ってすべてのタグを取得し，それを表示してみます．\n"
      ]
    },
    {
      "cell_type": "code",
      "execution_count": null,
      "metadata": {
        "id": "6aQc2t8Vfo3-"
      },
      "outputs": [],
      "source": [
        "for e in elem.iter():\n",
        "    print(e.tag)"
      ]
    },
    {
      "cell_type": "markdown",
      "metadata": {
        "id": "cOBc8-wBJ7_a"
      },
      "source": [
        "## 名前空間付きXMLから値を取得する\n"
      ]
    },
    {
      "cell_type": "markdown",
      "metadata": {
        "id": "5voSDYsniWAp"
      },
      "source": [
        "\n",
        "基盤地図情報DEMのXMLは名前空間付きXMLです．\n",
        "このため，タグへのアクセスには名前空間の接頭辞をつける必要があります．\n",
        "たとえば，`find`メソッドを使ってタグ`mesh`にアクセスする場合，\n",
        "通常のXMLのように名前空間なしでアクセスするとエラーが発生します．"
      ]
    },
    {
      "cell_type": "code",
      "execution_count": null,
      "metadata": {
        "id": "dMKuY89QahGB"
      },
      "outputs": [],
      "source": [
        "#このセルを実行するとエラーが出ます\n",
        "\n",
        "mesh = elem.find(\".//mesh\")\n",
        "print(mesh.text)"
      ]
    },
    {
      "cell_type": "markdown",
      "metadata": {
        "id": "KdWpLJx4aebL"
      },
      "source": [
        "\n",
        "これを解決するためには，タグに紐づけられている名前空間のURIをタグごとに加える必要があります．\n",
        "例えば以下のようにです．\n"
      ]
    },
    {
      "cell_type": "code",
      "execution_count": null,
      "metadata": {
        "id": "WEUa7wrDanPw"
      },
      "outputs": [],
      "source": [
        "mesh = elem.find(\".//{http://fgd.gsi.go.jp/spec/2008/FGD_GMLSchema}mesh\")\n",
        "print(mesh.text)"
      ]
    },
    {
      "cell_type": "markdown",
      "metadata": {
        "id": "XlK2GxTHalKA"
      },
      "source": [
        "しかし，すべてのタグにURIをつけるのは煩雑です．\n",
        "プログラミングミスの原因にもなりかねません．\n",
        "もう少しエレガントな方法としては，\n",
        "タグのディクショナリをメソッドの第2引数に指定する方法があります．\n",
        "\n",
        "以下はDEMのXMLの冒頭部です．\n",
        "xmlnsで始まる部分が名前空間の定義になっており，それぞれURIが指定されています．\n"
      ]
    },
    {
      "cell_type": "markdown",
      "metadata": {
        "id": "PBo5jzYP_7c-"
      },
      "source": [
        "```xml\n",
        "<?xml version=\"1.0\" encoding=\"UTF-8\"?>\n",
        "<Dataset\n",
        "  gml:id=\"Dataset1\"\n",
        "  xmlns=\"http://fgd.gsi.go.jp/spec/2008/FGD_GMLSchema\" \n",
        "  xmlns:xlink=\"http://www.w3.org/1999/xlink\"\n",
        "  xmlns:xsi=\"http://www.w3.org/2001/XMLSchema-instance\"\n",
        "  xmlns:gml=\"http://www.opengis.net/gml/3.2\"\n",
        "  xsi:schemaLocation=\"http://fgd.gsi.go.jp/spec/2008/FGD_GMLSchema FGD_GMLSchema.xsd\"\n",
        ">\n",
        "```"
      ]
    },
    {
      "cell_type": "markdown",
      "metadata": {
        "id": "D3O_HpT5ykLJ"
      },
      "source": [
        "これを元にして名前空間の接頭辞のディクショナリを作成します．\n",
        "デフォルトの名前空間`xmlns=\"http://fgd.gsi.go.jp/spec/2008/FGD_GMLSchema\"`については，ディクショナリのキーを`default`としています．\n"
      ]
    },
    {
      "cell_type": "code",
      "execution_count": null,
      "metadata": {
        "id": "UppGuoz6yoFp"
      },
      "outputs": [],
      "source": [
        "ns = {'default': 'http://fgd.gsi.go.jp/spec/2008/FGD_GMLSchema',\n",
        "  'xlink': 'http://www.w3.org/1999/xlink',\n",
        "  'xsi': 'http://www.w3.org/2001/XMLSchema-instance',\n",
        "  'gml': 'http://www.opengis.net/gml/3.2'}"
      ]
    },
    {
      "cell_type": "markdown",
      "metadata": {
        "id": "jFs54Phkfo4C"
      },
      "source": [
        "`elem`オブジェクトの`find`メソッドにタグ`default:mesh`を入力して検索し，\n",
        "値を表示してみましょう．\n",
        "戻り値（このタグの値）は標準地域メッシュ番号となっています．\n",
        "最初の4桁`5139`が1次メッシュコード，\n",
        "次の2桁`03`が2次メッシュコード，\n",
        "最後の2桁`50`が3次メッシュコードです．"
      ]
    },
    {
      "cell_type": "code",
      "execution_count": null,
      "metadata": {
        "id": "yH5cSqtHsK5x"
      },
      "outputs": [],
      "source": [
        "mesh = elem.find('.//default:mesh', ns)\n",
        "print(mesh.text)"
      ]
    },
    {
      "cell_type": "markdown",
      "metadata": {
        "id": "BSokynWtGcWC"
      },
      "source": [
        "次に`gml:lowerCorner`を表示してみます．\n",
        "このタグにはDEMの南西端の座標が格納されています．"
      ]
    },
    {
      "cell_type": "code",
      "execution_count": null,
      "metadata": {
        "id": "R2_nGWl6xG3M"
      },
      "outputs": [],
      "source": [
        "lowercorner = elem.find('.//gml:lowerCorner', ns)\n",
        "print(lowercorner.text)"
      ]
    },
    {
      "cell_type": "markdown",
      "metadata": {
        "id": "0KJJM6UzGk-V"
      },
      "source": [
        "同様に`gml:upperCorner`には\n",
        "北東端の座標が格納されています．"
      ]
    },
    {
      "cell_type": "code",
      "execution_count": null,
      "metadata": {
        "id": "132ceHv8fo4O"
      },
      "outputs": [],
      "source": [
        "uppercorner = elem.find('.//gml:upperCorner', ns)\n",
        "print(uppercorner.text)"
      ]
    },
    {
      "cell_type": "markdown",
      "metadata": {
        "id": "JtdRzsg3fo4H"
      },
      "source": [
        "## 標高値の取得とデータフレームへの格納\n"
      ]
    },
    {
      "cell_type": "markdown",
      "metadata": {
        "id": "0yiUJEW5iZFz"
      },
      "source": [
        "\n",
        "タグ`gml:tupleList`には標高が格納されています．\n",
        "値は改行コードとカンマで分けられた文字列になっており，\n",
        "カンマの前が標高点の属性，カンマの後ろが標高値になっています．\n",
        "またデータがないメッシュの属性は`データなし`で標高値は`-9999`，\n",
        "データがあるメッシュの属性は`地表面`で標高値が実数で入っています．"
      ]
    },
    {
      "cell_type": "code",
      "execution_count": null,
      "metadata": {
        "id": "pymkTh7nfo4J"
      },
      "outputs": [],
      "source": [
        "tuplelist = elem.find(\".//gml:tupleList\", ns)\n",
        "print(tuplelist.text)"
      ]
    },
    {
      "cell_type": "markdown",
      "metadata": {
        "id": "OizB-wgCUAFq"
      },
      "source": [
        "標高値が格納されている文字列はcsvそのものになっており，\n",
        "csvとして書き出せばpandasの`pd.read_csv()`でデータフレームに読み込むことができます．\n",
        "\n",
        "しかし，一旦ファイルに書き出して再度読み込むのも煩雑なため，`io.StringIO`を使ってテキストストリームを作成し，これにpandasの`pd.read_csv`を組み合わせてcsv型式の文字列をデータフレームに格納します．\n",
        "ついでに列名`att`と`z`も加えます．"
      ]
    },
    {
      "cell_type": "code",
      "execution_count": null,
      "metadata": {
        "id": "rvMhDi2KThDP"
      },
      "outputs": [],
      "source": [
        "df = pd.read_csv(io.StringIO(tuplelist.text), header = None)\n",
        "df.columns = ['att', 'z']\n",
        "df"
      ]
    },
    {
      "cell_type": "markdown",
      "metadata": {
        "id": "IndJCYzjRxI_"
      },
      "source": [
        "データフレームの大きさは21165行 $\\times$ 2列になっています．\n",
        "5mメッシュDEMの場合，格納されている標高値の列数と行数は`gml:high`と`gml:low`によって規定されています．\n",
        "両者を取得して確認してみましょう．"
      ]
    },
    {
      "cell_type": "code",
      "execution_count": null,
      "metadata": {
        "id": "4VijmFR0SDp_"
      },
      "outputs": [],
      "source": [
        "print(elem.find(\".//gml:low\", ns).text)\n",
        "print(elem.find(\".//gml:high\", ns).text)"
      ]
    },
    {
      "cell_type": "markdown",
      "metadata": {
        "id": "r-fw9qjOSULe"
      },
      "source": [
        "(0, 0)から(224, 149)の225列 $\\times$ 150行の合計33376個になっています．\n",
        "しかし，実際には21165個のデータしかありません．\n",
        "これは，海面などで標高値がない部分が連続する場合，データが省略されていることが原因です．\n",
        "データの開始地点は`gml:startPoint`に格納されています．"
      ]
    },
    {
      "cell_type": "code",
      "execution_count": null,
      "metadata": {
        "id": "NjOWeV7jTZB3"
      },
      "outputs": [],
      "source": [
        "print(elem.find('.//gml:startPoint', ns).text)"
      ]
    },
    {
      "cell_type": "markdown",
      "metadata": {
        "id": "p6MagWymTgDn"
      },
      "source": [
        "`gml:startPoint`を見てみると，標高値は155列12行から格納されていることがわかります．\n",
        "しかし，$(225-155)+((150-12)\\times225)$の31120個のデータがあるはずですが，\n",
        "実際には21165メッシュ分しかありません．\n",
        "`gml:startPoint`はあくまでもデータの格納開始地点を表しているにすぎず，終了地点を表すタグはないので，\n",
        "不足分はデータが省略されています．\n"
      ]
    },
    {
      "cell_type": "markdown",
      "metadata": {
        "id": "j5wdF56t5-Tz"
      },
      "source": [
        "# 標高配列の作成"
      ]
    },
    {
      "cell_type": "markdown",
      "metadata": {
        "id": "6aQKEGdN01g4"
      },
      "source": [
        "## 標高データに通し番号をつける\n"
      ]
    },
    {
      "cell_type": "markdown",
      "metadata": {
        "id": "kSX1AWEpibhP"
      },
      "source": [
        "\n",
        "`df`に格納されている標高値にメッシュの通し番号をつけます．\n",
        "この通し番号は省略されたデータも含むものとします．\n",
        "\n",
        "メッシュの初期値は`開始列番号+(開始行番号*列数)`です．\n",
        "開始列番号と開始行番号は`gml:startPoint`から取得します．\n",
        "`gml:startPoint`の値はスペースで区切られており，\n",
        "スペースの前が開始列番号，後ろが開始行番号です．\n",
        "開始列番号を`startPointX`，開始行番号を`startPointY`とし，\n",
        "`split`メソッドを使って分割します．\n",
        "分割されて取得されるリストは文字列になっていますので，\n",
        "`int`関数を使って整数値に変換します．"
      ]
    },
    {
      "cell_type": "code",
      "execution_count": null,
      "metadata": {
        "id": "h6nabYBRi0nE"
      },
      "outputs": [],
      "source": [
        "startPoint = elem.find('.//gml:startPoint', ns).text.split(' ')\n",
        "startPointX = int(startPoint[0])\n",
        "startPointY = int(startPoint[1])\n",
        "print(startPointX, startPointY)"
      ]
    },
    {
      "cell_type": "markdown",
      "metadata": {
        "id": "XUaKkd0aq7qo"
      },
      "source": [
        "行数と列数は`gml:high`から取得できます．\n",
        "`gml:high`も行数と列数がスペースで区切られているので，\n",
        "`split(' ')`で値を分割します．区切られた値はリストになりますので，\n",
        "最初の要素`[0]`である列数を整数化して変数`cols`に代入します．\n",
        "同様に2番目の要素`[1]`の行数を整数化して`rows`に代入します．"
      ]
    },
    {
      "cell_type": "code",
      "execution_count": null,
      "metadata": {
        "id": "wqYJxN10hbqa"
      },
      "outputs": [],
      "source": [
        "cols = int(elem.find(\".//gml:high\", ns).text.split(' ')[0]) + 1\n",
        "rows = int(elem.find(\".//gml:high\", ns).text.split(' ')[1]) + 1\n",
        "print(rows, cols)"
      ]
    },
    {
      "cell_type": "markdown",
      "metadata": {
        "id": "9wEOEpEYkDQz"
      },
      "source": [
        "\n",
        "開始番号`start`は`startPointX + (列数 * startPointY)`で，\n",
        "終了番号`end`は開始番号に`df`の行数を加えたものになります．\n",
        "`df`の行数は`df.shape[0]`で取得できます．"
      ]
    },
    {
      "cell_type": "code",
      "execution_count": null,
      "metadata": {
        "id": "SZ6M7VSlqw8T"
      },
      "outputs": [],
      "source": [
        "start = startPointX + (cols * startPointY)\n",
        "end = int(df.shape[0]) + start\n",
        "print(start, end)"
      ]
    },
    {
      "cell_type": "markdown",
      "metadata": {
        "id": "JG_477pRrCUI"
      },
      "source": [
        "次に`range`関数を使って，標高値のあるメッシュの通し番号のリスト`n`を作成します．"
      ]
    },
    {
      "cell_type": "code",
      "execution_count": null,
      "metadata": {
        "id": "z9pfwtniq4am"
      },
      "outputs": [],
      "source": [
        "n = list(range(start, end))\n",
        "len(n)"
      ]
    },
    {
      "cell_type": "markdown",
      "metadata": {
        "id": "XhtWB9N69UdN"
      },
      "source": [
        "標高を格納したデータフレーム`df`にリスト`n`を加えます．"
      ]
    },
    {
      "cell_type": "code",
      "execution_count": null,
      "metadata": {
        "id": "VEGJiEEJ6ojt"
      },
      "outputs": [],
      "source": [
        "df['n'] = n\n",
        "df"
      ]
    },
    {
      "cell_type": "markdown",
      "metadata": {
        "id": "5iJIT7XVIlt9"
      },
      "source": [
        "## 標高値の通し番号から列番号と行番号を求める\n"
      ]
    },
    {
      "cell_type": "markdown",
      "metadata": {
        "id": "hLKlppnkifTt"
      },
      "source": [
        "\n",
        "通し番号`n`の値から列番号`x4`と行番号`y4`を求めます．\n",
        "`n`を列数`cols`で割った余りが列番号，\n",
        "商の整数部が行番号になります．\n",
        "剰余を求める演算子`%`と整数の商を求める`//`を利用します．\n",
        "求めた列番号と行番号はそれぞれ`x4`と`y4`としてデータフレーム`df`に格納します．"
      ]
    },
    {
      "cell_type": "code",
      "execution_count": null,
      "metadata": {
        "id": "83-LMJYVYs6b"
      },
      "outputs": [],
      "source": [
        "df['x4'] = (df['n'] % cols)\n",
        "df['y4'] = (df['n'] // cols)\n",
        "df"
      ]
    },
    {
      "cell_type": "markdown",
      "metadata": {
        "id": "Z674HEpqWyrt"
      },
      "source": [
        "## 標高値にユニークな列番号と行番号をつける\n"
      ]
    },
    {
      "cell_type": "markdown",
      "metadata": {
        "id": "DcruIir4ihJ4"
      },
      "source": [
        "\n",
        "次に各標高点の1次メッシュから3次メッシュまでの列番号と行番号を求めます．\n",
        "\n",
        "メッシュコードが格納されているのは`mesh.text`で，これは以前に取得しています．\n",
        "`mesh.text`は8桁の数字からなっており，\n",
        "最初の4桁が1時メッシュコード，\n",
        "次の2桁が2次メッシュコード，\n",
        "最後の2桁が3次メッシュコードです．\n",
        "\n",
        "1次メッシュコードから3次メッシュコードの構成は以下のようになっています．\n",
        "\n",
        "* 1次メッシュコード\n",
        "\n",
        "5039|5040|5041|$\\ldots$\n",
        "-|-|-|-\n",
        "4939|4940|4941|$\\ldots$\n",
        "4839|4840|4841|$\\ldots$\n",
        "4739|4740|4741|$\\ldots$\n",
        "$\\vdots$|$\\vdots$|$\\vdots$|$\\ddots$\n",
        "\n",
        "* 2次メッシュコード\n",
        "\n",
        "70|71|72|73|$\\ldots$|77\n",
        "-|-|-|-|-|-|\n",
        "60|61|62|63|$\\ldots$|67\n",
        "50|51|52|53|$\\ldots$|57\n",
        "$\\vdots$|$\\vdots$|$\\vdots$|$\\vdots$|$\\ddots$|$\\vdots$\n",
        "00|01|02|03|$\\ldots$|07\n",
        "\n",
        "* 3次メッシュコード\n",
        "\n",
        "90|91|92|93|$\\ldots$|99\n",
        "-|-|-|-|-|-|\n",
        "80|81|82|83|$\\ldots$|89\n",
        "70|71|72|73|$\\ldots$|79\n",
        "$\\vdots$|$\\vdots$|$\\vdots$|$\\vdots$|$\\ddots$|$\\vdots$\n",
        "00|01|02|03|$\\ldots$|09\n",
        "\n",
        "1次メッシュの中には2次メッシュが8 $\\times$ 8メッシュ，\n",
        "2次メッシュの中には3次メッシュが10 $\\times$ 10メッシュ入っています．\n",
        "さらに3次メッシュの中には標高点が`cols`$\\times$ `rows`個あります．\n",
        "つまり，1次メッシュの中には$(8\\times 10\\times cols) \\times (8 \\times 10 \\times rows)$個の標高点が格納されています．\n",
        "\n",
        "1次メッシュから3次メッシュまでのxとyを取得します．"
      ]
    },
    {
      "cell_type": "code",
      "execution_count": null,
      "metadata": {
        "id": "3_fYcab2W9_d"
      },
      "outputs": [],
      "source": [
        "y1 = int(mesh.text[0:2])\n",
        "x1 = int(mesh.text[2:4])\n",
        "y2 = int(mesh.text[4])\n",
        "x2 = int(mesh.text[5])\n",
        "y3 = int(mesh.text[6])\n",
        "x3 = int(mesh.text[7])"
      ]
    },
    {
      "cell_type": "markdown",
      "metadata": {
        "id": "ieLMPWEtN695"
      },
      "source": [
        "取得した1次メッシュから3次メッシュのxとyをデータフレームに追加します．"
      ]
    },
    {
      "cell_type": "code",
      "execution_count": null,
      "metadata": {
        "id": "F318B6amY6Sz"
      },
      "outputs": [],
      "source": [
        "df['x1'] = x1\n",
        "df['y1'] = y1\n",
        "df['x2'] = x2\n",
        "df['y2'] = y2\n",
        "df['x3'] = x3\n",
        "df['y3'] = y3\n",
        "df"
      ]
    },
    {
      "cell_type": "markdown",
      "metadata": {
        "id": "s9BbN2WFOgTi"
      },
      "source": [
        "次に`x1`〜`x4`，`y1`〜`y4`を使って，1次メッシュをまたぐような列番号`x`と行番号`y`を作成します．\n"
      ]
    },
    {
      "cell_type": "code",
      "execution_count": null,
      "metadata": {
        "id": "xrOd5iJ8sYMr"
      },
      "outputs": [],
      "source": [
        "df['x'] = df['x4'] + (df['x3'] * cols) + (df['x2'] * 10 * cols) + (df['x1'] * 8 * 10 * cols)\n",
        "df['y'] = df['y4'] + ((8 - df['y3']) * rows) + ((10 - df['y2']) * 10 * rows) + ((100 - df['y1']) * 8 * 10 * rows)\n",
        "df"
      ]
    },
    {
      "cell_type": "markdown",
      "metadata": {
        "id": "lMZ4Ov146SGe"
      },
      "source": [
        "## 標高値ごとの緯度経度座標を求める\n"
      ]
    },
    {
      "cell_type": "markdown",
      "metadata": {
        "id": "ZT2AZWKaijI_"
      },
      "source": [
        "\n",
        "念のため，標高値それぞれの緯度経度も求めましょう．\n",
        "まず，処理中のファイルの北西端の緯度経度を取得します．\n",
        "これは`gml:upperCorner`と`gml:lowerCorner`から取得できます．\n",
        "`gml:upperCorner`と`gml:lowerCorner`はそれぞれ北東端と南西端の座標を示しており，スペースで区切られています．\n",
        "`split()`使って緯度と経度を分割してリスト化し，左上X（`ULX`，Upper Left X），左上Y（`ULY`），右下X（`LRX`，Lower Right X），右下Y（`LRY`）を`float()`として実数にキャストして格納します．\n"
      ]
    },
    {
      "cell_type": "code",
      "execution_count": null,
      "metadata": {
        "id": "A24gMfh86pN1"
      },
      "outputs": [],
      "source": [
        "uppercorner = elem.find('.//gml:upperCorner', ns)\n",
        "lowercorner = elem.find('.//gml:lowerCorner', ns)\n",
        "\n",
        "ULX = float(lowercorner.text.split(' ')[1])\n",
        "ULY = float(uppercorner.text.split(' ')[0])\n",
        "LRX = float(uppercorner.text.split(' ')[1])\n",
        "LRY = float(lowercorner.text.split(' ')[0])\n",
        "print(ULX, ULY, LRX, LRY)"
      ]
    },
    {
      "cell_type": "markdown",
      "metadata": {
        "id": "Rx8Hc7KckR6K"
      },
      "source": [
        "次に標高値ひとつあたりのX方向の長さ（単位は十進経度）とY方向の長さ（単位は十進緯度）を求めます．\n",
        "X方向の長さは右側経度`LRX`と左側経度`ULX`の差を東西メッシュ数`cols`で割ったものになります．\n",
        "同様にY方向の長さは上側緯度`ULY`と下側緯度`LRY`の差を南北メッシュ数`rows`で割ったものになります．それぞれ`Xsize`と`Ysize`とします．\n",
        "\n",
        "\n",
        "\n"
      ]
    },
    {
      "cell_type": "code",
      "execution_count": null,
      "metadata": {
        "id": "2b4lKe-KlzSD"
      },
      "outputs": [],
      "source": [
        "Xsize = (LRX - ULX) / cols\n",
        "Ysize = (ULY - LRY) / rows\n",
        "print(Xsize, Ysize)"
      ]
    },
    {
      "cell_type": "markdown",
      "metadata": {
        "id": "mZSm6ajUA3P0"
      },
      "source": [
        "緯度経度を計算します．\n",
        "経度は左側経度（`ULX`）に`x4`を足して標高値1つあたりの経度幅`Xsize`）を乗じたものになります．\n",
        "緯度は上側緯度（`ULY`）から`y4`を引いたものに標高値一つあたりの緯度幅`Ysize`を乗じたものになります．"
      ]
    },
    {
      "cell_type": "code",
      "execution_count": null,
      "metadata": {
        "id": "5uVLb_bDnRDn"
      },
      "outputs": [],
      "source": [
        "df['lon'] = ULX + df['x4'] * Xsize\n",
        "df['lat'] = ULY - df['y4'] * Ysize\n",
        "df"
      ]
    },
    {
      "cell_type": "markdown",
      "metadata": {
        "id": "lKjs13-yJ77z"
      },
      "source": [
        "## 縦持ちデータから横持ちデータへの変換\n"
      ]
    },
    {
      "cell_type": "markdown",
      "metadata": {
        "id": "q-hQPvOHilpu"
      },
      "source": [
        "\n",
        "以上ですべての標高値にユニークな列番号と行番号が揃いました．\n",
        "現在のデータフレーム`df`では`x`が列番号，`y`が行番号，`z`が標高値となっています．\n",
        "このように，データがってに並んでいる形式のことを縦持ちデータと呼びます．\n",
        "\n",
        "\n",
        "z|x|y\n",
        "-:|-:|-:\n",
        "10.5|701902|603556\n",
        "12.2|701903|603556\n",
        "14.6|701904|603556\n",
        "15.5|701902|603557\n",
        "20.0|701903|603557\n",
        "18.2|701904|603557\n",
        "12.8|701902|603558\n",
        "10.5|701903|603558\n",
        "8.5|701904|603558\n",
        "$\\vdots$|$\\vdots$|$\\vdots$\n",
        "\n",
        "ここで，`y`と`x`で`z`でピボットします．\n",
        "すると以下のような形式になります．\n",
        "\n",
        "yx|701902|701903|701904|$\\ldots$\n",
        "-:|-:|-:|-:|-:\n",
        "603556|10.5|12.2|14.6|$\\ldots$\n",
        "603557|15.5|20.0|18.2|$\\ldots$\n",
        "603558|12.8|10.5|8.5|$\\ldots$\n",
        "$\\vdots$|$\\vdots$|$\\vdots$|$\\vdots$|$\\ddots$\n",
        "\n",
        "これが横持ち形式のデータです．\n",
        "座標と標高値の縦持ちデータを横持ちに変換するだけで\n",
        "DEMを作ることができます．\n",
        "\n",
        "縦持ちを横持ちに変換するのは`pivot_table()`を使用します．\n",
        "引数は行の値`index = 'y'`，\n",
        "列の値`coluns = 'x'`，\n",
        "行列に埋め込む値`values = 'z'`と\n",
        "値がない部分に埋め込む値`fill_value = '-9999'`です．\n",
        "値がない部分には`-9999`を埋め込みますので，\n",
        "標高値が省略されている点もうまく対応することができます．\n",
        "\n",
        "標高値を横持ちに変換したあとで，行名でソートします．"
      ]
    },
    {
      "cell_type": "code",
      "execution_count": null,
      "metadata": {
        "id": "BDjObzulJZ8q"
      },
      "outputs": [],
      "source": [
        "dem = df.pivot_table(index = 'y', columns = 'x', values = 'z', fill_value = -9999)\n",
        "dem = dem.sort_index()\n",
        "dem"
      ]
    },
    {
      "cell_type": "markdown",
      "metadata": {
        "id": "fomv6_Kkt5_s"
      },
      "source": [
        "以上でDEMが完成しました．\n",
        "次にピボットした標高行列をnumpyのnp.ndarrayに変換します．\n",
        "これはGeoTiffとして保存するための準備です．"
      ]
    },
    {
      "cell_type": "code",
      "execution_count": null,
      "metadata": {
        "id": "-ksrm-FXJ57C"
      },
      "outputs": [],
      "source": [
        "demp=dem.values.astype(np.float32)\n",
        "demp"
      ]
    },
    {
      "cell_type": "markdown",
      "metadata": {
        "id": "QyFH4NQU6kqY"
      },
      "source": [
        "## DEMの図化"
      ]
    },
    {
      "cell_type": "markdown",
      "metadata": {
        "id": "UYMLnrx4SOOd"
      },
      "source": [
        "作成したDEMを表示して確認してみましょう．"
      ]
    },
    {
      "cell_type": "code",
      "execution_count": null,
      "metadata": {
        "id": "1MsgJP8SxyHy",
        "scrolled": false
      },
      "outputs": [],
      "source": [
        "plt.figure(figsize = (10, 10))\n",
        "im = plt.imshow(demp, cmap = \"terrain\",vmin = -10)\n",
        "plt.colorbar(im)\n",
        "plt.show()"
      ]
    },
    {
      "cell_type": "markdown",
      "metadata": {
        "id": "PIqBG6Uyic18"
      },
      "source": [
        "# DEMをGeoTiffで保存する"
      ]
    },
    {
      "cell_type": "markdown",
      "metadata": {
        "id": "Udb2QdbQipRr"
      },
      "source": [
        "gdalライブラリを使って変換したDEMをGeoTiffで保存します．\n",
        "まず，DEMのアフィンパラメーターを用意します．\n",
        "アフィンパラメーターは6個の実数のリストになります．\n",
        "1個めはDEM全体の左側の座標，\n",
        "2個めは標高値ひとつあたりの横方向のサイズ，\n",
        "3個めは0で固定，\n",
        "4個目はDEM全体の上側の座標，\n",
        "5個目は0で固定，\n",
        "6個目は標高値ひとつあたりの縦方向のサイズです．\n",
        "\n",
        "DEM全体の左側の座標は，`df['lon']`の最小値（西の端），\n",
        "標高値ひとつあたりの横方向のサイズは`Xsize`，\n",
        "DEM全体の上側の座標は`df['lat']`の最大値（北の端），\n",
        "標高値ひとつあたりの縦方向のサイズは`Ysize`になります．\n",
        "ただし，標高値ひとつあたりの縦方向のサイズは南方向になるので負になります．\n",
        "\n",
        "これらのパラメーターをリスト化し`trans`に格納します．\n"
      ]
    },
    {
      "cell_type": "code",
      "execution_count": null,
      "metadata": {
        "id": "URVuifQlifjp"
      },
      "outputs": [],
      "source": [
        "trans = [min(df['lon']), Xsize, 0, max(df['lat']), 0, -Ysize]\n",
        "trans"
      ]
    },
    {
      "cell_type": "markdown",
      "metadata": {
        "id": "hk-cyreYU8mT"
      },
      "source": [
        "次にDEMの座標系を指定します．\n",
        "GeoTiffで保存するためには，空間参照系を表すオブジェクト`osr.SpatialRefernece()`を作成し，\n",
        "これにEPSGコードで空間参照系を設定します．\n",
        "基盤地図情報のDEMはJGD2011の緯度経度座標系（地理座標系）で，\n",
        "EPSGが`4612`になりますので，以下のような設定になります．\n"
      ]
    },
    {
      "cell_type": "code",
      "execution_count": null,
      "metadata": {
        "id": "2nSOv-4oTSC8"
      },
      "outputs": [],
      "source": [
        "srs = osr.SpatialReference()\n",
        "srs.ImportFromEPSG(4612)"
      ]
    },
    {
      "cell_type": "markdown",
      "metadata": {
        "id": "5a_zJPlYWXJG"
      },
      "source": [
        "次に書き出しの設定をします．\n",
        "GeoTiffで保存するためには`gdal.GetDriverByName`型のオブジェクトを作り，\n",
        "ここでファイル形式を指定します．\n",
        "次に`Create`メソッドを使ってファイルを生成します．\n",
        "`Create`メソッドの引数は，保存ファイル名，画像の縦（南北）サイズ，画像の横（東西）サイズ，バンド数，格納する配列の型です．\n",
        "\n",
        "縦横サイズは`demp.shape`で取得できます．\n",
        "`demp.shape[1]`が縦サイズ，`demp.shape[0]`が横サイズです．\n",
        "バンド数はDEMが一つだけなので`1`です．\n",
        "配列`demp`を保存しますので，データ型は32ビット浮動小数点型になります．"
      ]
    },
    {
      "cell_type": "code",
      "execution_count": null,
      "metadata": {
        "id": "DUPlWjhpU7zO"
      },
      "outputs": [],
      "source": [
        "driver = gdal.GetDriverByName('GTiff')\n",
        "output = driver.Create(base_dir + 'output_dem_JGD2011_latlon.tif', demp.shape[1], demp.shape[0], 1, gdal.GDT_Float32)"
      ]
    },
    {
      "cell_type": "markdown",
      "metadata": {
        "id": "Ar0PGPWcYZXe"
      },
      "source": [
        "標高の配列，設定した参照座標系などをオブジェクトに書き込みます．\n",
        "また，データなしの値を`-9999`に設定します．"
      ]
    },
    {
      "cell_type": "code",
      "execution_count": null,
      "metadata": {
        "id": "w0bPNK-sWUbp"
      },
      "outputs": [],
      "source": [
        "output.GetRasterBand(1).WriteArray(demp)\n",
        "output.GetRasterBand(1).SetNoDataValue(-9999)\n",
        "output.SetGeoTransform(trans)\n",
        "output.SetProjection(srs.ExportToWkt())"
      ]
    },
    {
      "cell_type": "markdown",
      "metadata": {
        "id": "uKPKjXcKdbdZ"
      },
      "source": [
        "最後にキャッシュをすべて書き出し，オブジェクトを削除します．\n"
      ]
    },
    {
      "cell_type": "code",
      "execution_count": null,
      "metadata": {
        "id": "VB9OOE8hYfJR"
      },
      "outputs": [],
      "source": [
        "output.FlushCache()\n",
        "output = None"
      ]
    },
    {
      "cell_type": "markdown",
      "metadata": {
        "id": "M1wJcahiEMrx"
      },
      "source": [
        "# 作成したDEMの投影変換\n"
      ]
    },
    {
      "cell_type": "markdown",
      "metadata": {
        "id": "y0DthhLpiv9G"
      },
      "source": [
        "保存したGeoTiffは緯度経度座標系なので，\n",
        "平面直角座標系に投影変換をします．\n",
        "`gdal.Warp`を使えば投影変換ができます．\n"
      ]
    },
    {
      "cell_type": "markdown",
      "metadata": {
        "id": "nyT5OOEZQ3gl"
      },
      "source": [
        "`gdal.warp`はオプションがたくさんあるため，`gdal.WarpOptions`で変換オプションを別途指定します．\n",
        "\n",
        "`dstSRS`は変換後のCRSをEPSGコードで指定します．\n",
        "`srcNoData`は元データのうちNoDataを示す値を入れます．NoDataは先ほど`output.GetRasterBand(1).SetNoDataValue(-9999)`として-9999を指定したので-9999にします．\n",
        "`dstNoData`は変換後のNoDataの値なのでこれも同じく-9999にします．\n",
        "`oupputType`は変換後のデータ型の指定です．特に問題がなければ単精度実数型（32ビット浮動小数点型，`gdal.GDT_Float32`）でよいでしょう．\n",
        "`xRes`と`yRes`は縦横の解像度です．解像度の単位は変換後CRSの単位になります．ここでは5mにしたいので5としています．\n",
        "`targetAlignePixels`は変換後のDEMの原点の処理方法です．これを`true`にしないと，元データの左上の座標に基づいてDEMの再配列が行われるため，半端な座標からのスタートになります．\n",
        "`true`にしておくと`xRes`と`yRes`の倍数からのスタートになります．このオプションは`true`にする事をおすすめします．\n",
        "`resampling`はリサンプリング手法の選択です．DEMは連続変数であるため`bilinear`か`cubic`がよいでしょう．\n"
      ]
    },
    {
      "cell_type": "code",
      "execution_count": null,
      "metadata": {
        "id": "pjOQMZqUUqXs"
      },
      "outputs": [],
      "source": [
        "opt = gdal.WarpOptions(dstSRS = 'EPSG:6677', srcNodata = -9999, dstNodata = -9999, outputType=gdal.GDT_Float32, xRes = 5.0, yRes = 5.0, targetAlignedPixels = 'true', resampleAlg = 'bilinear')\n",
        "demnew = gdal.Warp(base_dir + 'output_dem_reprojected.tif', base_dir + 'output_dem_JGD2011_latlon.tif', options = opt)\n",
        "demnew.FlushCache()\n",
        "demnew = None\n"
      ]
    },
    {
      "cell_type": "markdown",
      "metadata": {
        "id": "3L_wYHCriGaE"
      },
      "source": [
        "# ここまでのまとめ"
      ]
    },
    {
      "cell_type": "markdown",
      "metadata": {
        "id": "aFDgdOfpirNN"
      },
      "source": [
        "\n",
        "以下がここまでをまとめたプログラムです．\n",
        "\n",
        "5mメッシュデータに対応したものと，10mメッシュデータに対応したものがあります．\n",
        "10mメッシュデータは5mメッシュデータとはメッシュ体系が異なるため，若干の変更がされています．\n",
        "\n",
        "どちらのプログラムもディレクトリ内にあるすべての基盤地図情報DEMのXMLファイルを自動的に読み込み，\n",
        "つなぎ合わせてGeoTiffで書き出します．\n",
        "\n",
        "ディレクトリ内のすべてのXMLファイルを処理する部分では，\n",
        "`glob`とループで逐次処理を行っています．\n",
        "ファイルごとに縦持ちの標高データ`df`を作成しそれを`dfall`に追加することで，\n",
        "処理対象のXMLから取得したすべての標高値を`dfall`に格納しています．\n",
        "最後に`dfall`を横持ちに変換することで\n",
        "ファイルの結合をしています．\n"
      ]
    },
    {
      "cell_type": "markdown",
      "metadata": {
        "id": "LgDh4Ty8Q3gl"
      },
      "source": [
        "## 5mメッシュバージョン"
      ]
    },
    {
      "cell_type": "code",
      "execution_count": null,
      "metadata": {
        "id": "StSLy80AKiAM"
      },
      "outputs": [],
      "source": [
        "# 基盤地図情報DEM XMLを結合するプログラム\n",
        "# 5mメッシュバージョン\n",
        "\n",
        "import xml.etree.ElementTree as ET\n",
        "import numpy as np\n",
        "import matplotlib.pyplot as plt\n",
        "import matplotlib.colors as colors\n",
        "import glob\n",
        "import pandas as pd\n",
        "import io\n",
        "import sys\n",
        "from tqdm import tqdm\n",
        "import time\n",
        "from osgeo import gdal, gdalconst, gdal_array, osr\n",
        "\n",
        "# Google Colaboratoryで実行しているかローカルで実行しているかを判別する\n",
        "# \n",
        "# Google Colaboratoryで実行している場合はgoogle.colabをインポートし，\n",
        "# drive.mountを実行する．\n",
        "# さらに作業用ディレクトリを指定する．\n",
        "#\n",
        "# ローカルで実行する場合は作業用ディレクトリの設定のみ実行する\n",
        "\n",
        "is_colab = 'google.colab' in sys.modules\n",
        "if is_colab:\n",
        "  from google.colab import drive\n",
        "  drive.mount('/content/drive')\n",
        "  base_dir = \"/content/drive/My Drive/DEM/\"\n",
        "else:\n",
        "  base_dir = \"./DEM/\"\n",
        "\n",
        "ns = {'default': 'http://fgd.gsi.go.jp/spec/2008/FGD_GMLSchema',\n",
        "  'xlink': 'http://www.w3.org/1999/xlink',\n",
        "  'xsi': 'http://www.w3.org/2001/XMLSchema-instance',\n",
        "  'gml': 'http://www.opengis.net/gml/3.2'}\n",
        "\n",
        "infiles = glob.glob(base_dir + '*.xml')\n",
        "\n",
        "dfall = pd.DataFrame()\n",
        "\n",
        "# ここからループしてすべてのXMLファイルを変換する\n",
        "\n",
        "for infile in tqdm(infiles):\n",
        "  tree = ET.parse(infile)\n",
        "  elem = tree.getroot()\n",
        "\n",
        "  lowercorner = elem.find('.//gml:lowerCorner', ns)\n",
        "  uppercorner = elem.find('.//gml:upperCorner', ns)\n",
        "\n",
        "  tuplelist = elem.find(\".//gml:tupleList\", ns)\n",
        "  df = pd.read_csv(io.StringIO(tuplelist.text), header = None)\n",
        "  df.columns = ['att', 'z']\n",
        "\n",
        "  startPoint = elem.find('.//gml:startPoint', ns).text.split(' ')\n",
        "  startPointX = int(startPoint[0])\n",
        "  startPointY = int(startPoint[1])\n",
        "\n",
        "  cols = int(elem.find(\".//gml:high\", ns).text.split(' ')[0]) + 1\n",
        "  rows = int(elem.find(\".//gml:high\", ns).text.split(' ')[1]) + 1\n",
        "\n",
        "  start = startPointX + (cols * startPointY)\n",
        "  end = int(df.shape[0]) + start\n",
        "\n",
        "  df['n'] = list(range(start, end))\n",
        "  df['x4'] = (df['n'] % cols)\n",
        "  df['y4'] = (df['n'] // cols)\n",
        "\n",
        "  uppercorner = elem.find('.//gml:upperCorner', ns)\n",
        "  lowercorner = elem.find('.//gml:lowerCorner', ns)\n",
        "\n",
        "  ULX = float(lowercorner.text.split(' ')[1])\n",
        "  ULY = float(uppercorner.text.split(' ')[0])\n",
        "  LRX = float(uppercorner.text.split(' ')[1])\n",
        "  LRY = float(lowercorner.text.split(' ')[0])\n",
        "\n",
        "  mesh = elem.find('.//default:mesh', ns)\n",
        "  \n",
        "  df['y1'] = int(mesh.text[0:2])\n",
        "  df['x1'] = int(mesh.text[2:4])\n",
        "  df['y2'] = int(mesh.text[4])\n",
        "  df['x2'] = int(mesh.text[5])\n",
        "  df['y3'] = int(mesh.text[6])\n",
        "  df['x3'] = int(mesh.text[7])\n",
        "\n",
        "  df['x'] = df['x4'] + (df['x3'] * cols) + (df['x2'] * 10 * cols) + (df['x1'] * 8 * 10 * cols)\n",
        "  df['y'] = df['y4'] + ((8 - df['y3']) * rows) + ((10 - df['y2']) * 10 * rows) + ((100 - df['y1']) * 8 * 10 * rows)\n",
        "\n",
        "  Xsize = (LRX - ULX) / cols\n",
        "  Ysize = (ULY - LRY) / rows\n",
        "\n",
        "  df['lon'] = ULX + df['x4'] * Xsize\n",
        "  df['lat'] = ULY - df['y4'] * Ysize\n",
        "\n",
        "  dfall = pd.concat([dfall, df])\n",
        "\n",
        "# データがない部分用のダミーデータを作る\n",
        "d1 = pd.DataFrame()\n",
        "d2 = pd.DataFrame()\n",
        "\n",
        "d1['x'] = list(range(min(dfall['x']), max(dfall['x'])))\n",
        "d1['y'] = min(dfall['y'])\n",
        "d1['z'] = -9999\n",
        "d2['x'] = min(dfall['x'])\n",
        "d2['y'] = list(range(min(dfall['y']), max(dfall['y'])))\n",
        "d2['z'] = -9999\n",
        "\n",
        "# ダミーデータを標高の入っているデータフレームに結合する\n",
        "dfall = pd.concat([dfall, d1, d2])\n",
        "\n",
        "# 縦持ちデータを横持ちにピボットする\n",
        "# データなしと標高値が重なる場合があるので，その場合は最大値（すなわち標高値）を残す\n",
        "dem = dfall.pivot_table(index = 'y', columns = 'x', values = 'z', fill_value = -9999, aggfunc = 'max')\n",
        "dem = dem.sort_index()\n",
        "\n",
        "# 横持ちにした標高値を32ビット浮動小数点型のnp.Arrayに変換する\n",
        "demp = dem.values.astype(np.float32)\n",
        "\n",
        "# 確認のためDEMを図化する\n",
        "plt.figure(figsize = (10, 10))\n",
        "im = plt.imshow(demp, cmap = \"terrain\",vmin = -10)\n",
        "plt.colorbar(im)\n",
        "plt.show()\n",
        "\n",
        "# GeoTiff書き出しのためのアフィンパラメータの設定（北西端の座標，メッシュサイズなど）\n",
        "trans = [min(dfall['lon']), Xsize, 0, max(dfall['lat']), 0, -Ysize]\n",
        "\n",
        "# 座標系の設定（EPSG:4612，JGD2000の緯度経度座標系）\n",
        "srs = osr.SpatialReference()\n",
        "srs.ImportFromEPSG(4612)\n",
        "\n",
        "# GeoTiff書き出しのための準備，オブジェクトの生成と初期化\n",
        "driver = gdal.GetDriverByName('GTiff')\n",
        "output = driver.Create(base_dir + 'output_dem_JGD2011_latlon.tif', demp.shape[1], demp.shape[0], 1, gdal.GDT_Float32)\n",
        "output.GetRasterBand(1).WriteArray(demp)\n",
        "output.GetRasterBand(1).SetNoDataValue(-9999)\n",
        "output.SetGeoTransform(trans)\n",
        "output.SetProjection(srs.ExportToWkt())\n",
        "output.FlushCache()\n",
        "output = None\n",
        "\n",
        "# DEMをEPSG:6677（JGD2011第9系）に投影変換して保存する\n",
        "opt = gdal.WarpOptions(dstSRS = 'EPSG:6677', srcNodata = -9999, dstNodata = -9999, outputType=gdal.GDT_Float32, xRes = 5.0, yRes = 5.0, targetAlignedPixels = 'true', resampleAlg = 'bilinear')\n",
        "demnew = gdal.Warp(base_dir + 'output_dem_reprojected.tif', base_dir + 'output_dem_JGD2011_latlon.tif', options = opt)\n",
        "demnew.FlushCache()\n",
        "demnew = None\n"
      ]
    },
    {
      "cell_type": "markdown",
      "metadata": {
        "id": "CVB8xuJnQ3gl"
      },
      "source": [
        "## 10mメッシュバージョン"
      ]
    },
    {
      "cell_type": "code",
      "execution_count": null,
      "metadata": {
        "id": "1eXhMh1UQ3gl"
      },
      "outputs": [],
      "source": [
        "# 基盤地図情報DEM XMLを結合するプログラム\n",
        "# 10mメッシュバージョン\n",
        "\n",
        "import xml.etree.ElementTree as ET\n",
        "import numpy as np\n",
        "import matplotlib.pyplot as plt\n",
        "import matplotlib.colors as colors\n",
        "import glob\n",
        "import pandas as pd\n",
        "import io\n",
        "import sys\n",
        "from tqdm import tqdm\n",
        "import time\n",
        "from osgeo import gdal, gdalconst, gdal_array, osr\n",
        "\n",
        "# Google Colaboratoryで実行しているかローカルで実行しているかを判別する\n",
        "# \n",
        "# Google Colaboratoryで実行している場合はgoogle.colabをインポートし，\n",
        "# drive.mountを実行する．\n",
        "# さらに作業用ディレクトリを指定する．\n",
        "#\n",
        "# ローカルで実行する場合は作業用ディレクトリの設定のみ実行する\n",
        "\n",
        "is_colab = 'google.colab' in sys.modules\n",
        "if is_colab:\n",
        "  from google.colab import drive\n",
        "  drive.mount('/content/drive')\n",
        "  base_dir = \"/content/drive/My Drive/DEM/\"\n",
        "else:\n",
        "  base_dir = \"./DEM/\"\n",
        "\n",
        "ns = {'default': 'http://fgd.gsi.go.jp/spec/2008/FGD_GMLSchema',\n",
        "  'xlink': 'http://www.w3.org/1999/xlink',\n",
        "  'xsi': 'http://www.w3.org/2001/XMLSchema-instance',\n",
        "  'gml': 'http://www.opengis.net/gml/3.2'}\n",
        "\n",
        "infiles = glob.glob(base_dir + '*.xml')\n",
        "\n",
        "dfall = pd.DataFrame()\n",
        "\n",
        "# ここからループしてすべてのXMLファイルを変換する\n",
        "\n",
        "for infile in tqdm(infiles):\n",
        "  tree = ET.parse(infile)\n",
        "  elem = tree.getroot()\n",
        "\n",
        "  lowercorner = elem.find('.//gml:lowerCorner', ns)\n",
        "  uppercorner = elem.find('.//gml:upperCorner', ns)\n",
        "\n",
        "  tuplelist = elem.find(\".//gml:tupleList\", ns)\n",
        "  df = pd.read_csv(io.StringIO(tuplelist.text), header = None)\n",
        "  df.columns = ['att', 'z']\n",
        "\n",
        "  startPoint = elem.find('.//gml:startPoint', ns).text.split(' ')\n",
        "  startPointX = int(startPoint[0])\n",
        "  startPointY = int(startPoint[1])\n",
        "\n",
        "  cols = int(elem.find(\".//gml:high\", ns).text.split(' ')[0]) + 1\n",
        "  rows = int(elem.find(\".//gml:high\", ns).text.split(' ')[1]) + 1\n",
        "\n",
        "  start = startPointX + (cols * startPointY)\n",
        "  end = int(df.shape[0]) + start\n",
        "\n",
        "  df['n'] = list(range(start, end))\n",
        "  df['x4'] = (df['n'] % cols)\n",
        "  df['y4'] = (df['n'] // cols)\n",
        "\n",
        "  uppercorner = elem.find('.//gml:upperCorner', ns)\n",
        "  lowercorner = elem.find('.//gml:lowerCorner', ns)\n",
        "\n",
        "  ULX = float(lowercorner.text.split(' ')[1])\n",
        "  ULY = float(uppercorner.text.split(' ')[0])\n",
        "  LRX = float(uppercorner.text.split(' ')[1])\n",
        "  LRY = float(lowercorner.text.split(' ')[0])\n",
        "\n",
        "  mesh = elem.find('.//default:mesh', ns)\n",
        "  \n",
        "  df['y1'] = int(mesh.text[0:2])\n",
        "  df['x1'] = int(mesh.text[2:4])\n",
        "  df['y2'] = int(mesh.text[4])\n",
        "  df['x2'] = int(mesh.text[5])\n",
        "#  df['y3'] = int(mesh.text[6])\n",
        "#  df['x3'] = int(mesh.text[7])\n",
        "  df['y3'] = 0\n",
        "  df['x3'] = 0\n",
        "\n",
        "  # 10m DEM用の計算\n",
        "  df['x'] = df['x4'] + (df['x2'] * 10 * cols) + (df['x1'] * 8 * 10 * cols)\n",
        "  df['y'] = df['y4'] + ((10 - df['y2']) * 10 * rows) + ((100 - df['y1']) * 8 * 10 * rows)\n",
        "\n",
        "  Xsize = (LRX - ULX) / cols\n",
        "  Ysize = (ULY - LRY) / rows\n",
        "\n",
        "  df['lon'] = ULX + df['x4'] * Xsize\n",
        "  df['lat'] = ULY - df['y4'] * Ysize\n",
        "\n",
        "  dfall = pd.concat([dfall, df])\n",
        "  # データがない部分用のダミーデータを作る\n",
        "  d1 = pd.DataFrame()\n",
        "  d2 = pd.DataFrame()\n",
        "\n",
        "  d1['x'] = list(range(min(df['x']), max(df['x'])))\n",
        "  d1['y'] = min(df['y'])\n",
        "  d1['z'] = -9999\n",
        "  d2['x'] = min(df['x'])\n",
        "  d2['y'] = list(range(min(df['y']), max(df['y'])))\n",
        "  d2['z'] = -9999\n",
        "\n",
        "  # ダミーデータを標高の入っているデータフレームに結合する\n",
        "  dfall = pd.concat([dfall, d1, d2])\n",
        "\n",
        "# 縦持ちデータを横持ちにピボットする\n",
        "# データなしと標高値が重なる場合があるので，その場合は最大値（すなわち標高値）を残す\n",
        "dem = dfall.pivot_table(index = 'y', columns = 'x', values = 'z', fill_value = -9999, aggfunc = 'max')\n",
        "dem = dem.sort_index()\n",
        "\n",
        "# 横持ちにした標高値を32ビット浮動小数点型のnp.Arrayに変換する\n",
        "demp = dem.values.astype(np.float32)\n",
        "\n",
        "# 確認のためDEMを図化する\n",
        "plt.figure(figsize = (10, 10))\n",
        "im = plt.imshow(demp, cmap = \"terrain\",vmin = -10)\n",
        "plt.colorbar(im)\n",
        "plt.show()\n",
        "\n",
        "# GeoTiff書き出しのためのアフィンパラメータの設定（北西端の座標，メッシュサイズなど）\n",
        "trans = [min(dfall['lon']), Xsize, 0, max(dfall['lat']), 0, -Ysize]\n",
        "\n",
        "# 座標系の設定（EPSG:4612，JGD2000の緯度経度座標系）\n",
        "srs = osr.SpatialReference()\n",
        "srs.ImportFromEPSG(4612)\n",
        "\n",
        "# GeoTiff書き出しのための準備，オブジェクトの生成と初期化\n",
        "driver = gdal.GetDriverByName('GTiff')\n",
        "output = driver.Create(base_dir + 'output_dem_JGD2011_latlon.tif', demp.shape[1], demp.shape[0], 1, gdal.GDT_Float32)\n",
        "output.GetRasterBand(1).WriteArray(demp)\n",
        "output.GetRasterBand(1).SetNoDataValue(-9999)\n",
        "output.SetGeoTransform(trans)\n",
        "output.SetProjection(srs.ExportToWkt())\n",
        "\n",
        "# GeoTiffに書き出して終了\n",
        "output.FlushCache()\n",
        "output = None\n",
        "\n",
        "# DEMをEPSG:6677（JGD2011第9系）に投影変換して保存する\n",
        "opt = gdal.WarpOptions(dstSRS = 'EPSG:6677', srcNodata = -9999, dstNodata = -9999, outputType=gdal.GDT_Float32, xRes = 10.0, yRes = 10.0, targetAlignedPixels = 'true', resampleAlg = 'bilinear')\n",
        "\n",
        "demnew = gdal.Warp(base_dir + 'output_dem_reprojected.tif', base_dir + 'output_dem_JGD2011_latlon.tif', options = opt)\n",
        "demnew.FlushCache()\n",
        "demnew = None\n"
      ]
    },
    {
      "cell_type": "markdown",
      "metadata": {
        "id": "8On5s1stQ3gm"
      },
      "source": [
        "# 全部入りのプログラム（Zipファイルのまま変換）\n"
      ]
    },
    {
      "cell_type": "markdown",
      "metadata": {
        "id": "rtzp_dcyQ3gm"
      },
      "source": [
        "## 5mメッシュバージョン"
      ]
    },
    {
      "cell_type": "code",
      "execution_count": null,
      "metadata": {
        "id": "lawmoCb6Q3gm"
      },
      "outputs": [],
      "source": [
        "# 基盤地図情報DEM XMLを結合するプログラム\n",
        "# 5mメッシュバージョン\n",
        "\n",
        "import xml.etree.ElementTree as ET\n",
        "import numpy as np\n",
        "import matplotlib.pyplot as plt\n",
        "import matplotlib.colors as colors\n",
        "import glob\n",
        "import zipfile\n",
        "import sys\n",
        "import pandas as pd\n",
        "import io\n",
        "from tqdm import tqdm\n",
        "import time\n",
        "from osgeo import gdal, gdalconst, gdal_array, osr\n",
        "\n",
        "# Google Colaboratoryで実行しているかローカルで実行しているかを判別する\n",
        "# \n",
        "# Google Colaboratoryで実行している場合はgoogle.colabをインポートし，\n",
        "# drive.mountを実行する．\n",
        "# さらに作業用ディレクトリを指定する．\n",
        "#\n",
        "# ローカルで実行する場合は作業用ディレクトリの設定のみ実行する\n",
        "\n",
        "is_colab = 'google.colab' in sys.modules\n",
        "if is_colab:\n",
        "  from google.colab import drive\n",
        "  drive.mount('/content/drive')\n",
        "  base_dir = \"/content/drive/My Drive/DEM/\"\n",
        "else:\n",
        "  base_dir = \"./DEM/\"\n",
        "\n",
        "\n",
        "ns = {'default': 'http://fgd.gsi.go.jp/spec/2008/FGD_GMLSchema',\n",
        "  'xlink': 'http://www.w3.org/1999/xlink',\n",
        "  'xsi': 'http://www.w3.org/2001/XMLSchema-instance',\n",
        "  'gml': 'http://www.opengis.net/gml/3.2'}\n",
        "\n",
        "infiles = glob.glob(base_dir + 'FG-GML*.zip')\n",
        "\n",
        "dfall = pd.DataFrame()\n",
        "\n",
        "# ここからループしてすべてのXMLファイルを変換する\n",
        "\n",
        "for infile in tqdm(infiles):\n",
        "    with zipfile.ZipFile(infile) as zf:\n",
        "        for demxml in zf.namelist():\n",
        "            with zf.open(demxml) as zfx:\n",
        "                tree = ET.parse(zfx)\n",
        "                elem = tree.getroot()\n",
        "\n",
        "                lowercorner = elem.find('.//gml:lowerCorner', ns)\n",
        "                uppercorner = elem.find('.//gml:upperCorner', ns)\n",
        "\n",
        "                tuplelist = elem.find(\".//gml:tupleList\", ns)\n",
        "                df = pd.read_csv(io.StringIO(tuplelist.text), header = None)\n",
        "                df.columns = ['att', 'z']\n",
        "\n",
        "                startPoint = elem.find('.//gml:startPoint', ns).text.split(' ')\n",
        "                startPointX = int(startPoint[0])\n",
        "                startPointY = int(startPoint[1])\n",
        "\n",
        "                cols = int(elem.find(\".//gml:high\", ns).text.split(' ')[0]) + 1\n",
        "                rows = int(elem.find(\".//gml:high\", ns).text.split(' ')[1]) + 1\n",
        "\n",
        "                start = startPointX + (cols * startPointY)\n",
        "                end = int(df.shape[0]) + start\n",
        "\n",
        "                df['n'] = list(range(start, end))\n",
        "                df['x4'] = (df['n'] % cols)\n",
        "                df['y4'] = (df['n'] // cols)\n",
        "\n",
        "                uppercorner = elem.find('.//gml:upperCorner', ns)\n",
        "                lowercorner = elem.find('.//gml:lowerCorner', ns)\n",
        "\n",
        "                ULX = float(lowercorner.text.split(' ')[1])\n",
        "                ULY = float(uppercorner.text.split(' ')[0])\n",
        "                LRX = float(uppercorner.text.split(' ')[1])\n",
        "                LRY = float(lowercorner.text.split(' ')[0])\n",
        "\n",
        "                mesh = elem.find('.//default:mesh', ns)\n",
        "                \n",
        "                df['y1'] = int(mesh.text[0:2])\n",
        "                df['x1'] = int(mesh.text[2:4])\n",
        "                df['y2'] = int(mesh.text[4])\n",
        "                df['x2'] = int(mesh.text[5])\n",
        "                df['y3'] = int(mesh.text[6])\n",
        "                df['x3'] = int(mesh.text[7])\n",
        "\n",
        "                df['x'] = df['x4'] + (df['x3'] * cols) + (df['x2'] * 10 * cols) + (df['x1'] * 8 * 10 * cols)\n",
        "                df['y'] = df['y4'] + ((8 - df['y3']) * rows) + ((10 - df['y2']) * 10 * rows) + ((100 - df['y1']) * 8 * 10 * rows)\n",
        "\n",
        "                Xsize = (LRX - ULX) / cols\n",
        "                Ysize = (ULY - LRY) / rows\n",
        "\n",
        "                df['lon'] = ULX + df['x4'] * Xsize\n",
        "                df['lat'] = ULY - df['y4'] * Ysize\n",
        "\n",
        "                dfall = pd.concat([dfall, df])\n",
        "\n",
        "# データがない部分用のダミーデータを作る\n",
        "d1 = pd.DataFrame()\n",
        "d2 = pd.DataFrame()\n",
        "\n",
        "d1['x'] = list(range(min(dfall['x']), max(dfall['x'])))\n",
        "d1['y'] = min(dfall['y'])\n",
        "d1['z'] = -9999\n",
        "d2['x'] = min(dfall['x'])\n",
        "d2['y'] = list(range(min(dfall['y']), max(dfall['y'])))\n",
        "d2['z'] = -9999\n",
        "\n",
        "# ダミーデータを標高の入っているデータフレームに結合する\n",
        "dfall = pd.concat([dfall, d1, d2])\n",
        "\n",
        "# 縦持ちデータを横持ちにピボットする\n",
        "# データなしと標高値が重なる場合があるので，その場合は最大値（すなわち標高値）を残す\n",
        "dem = dfall.pivot_table(index = 'y', columns = 'x', values = 'z', fill_value = -9999, aggfunc = 'max')\n",
        "dem = dem.sort_index()\n",
        "\n",
        "# 横持ちにした標高値を32ビット浮動小数点型のnp.Arrayに変換する\n",
        "demp = dem.values.astype(np.float32)\n",
        "\n",
        "# 確認のためDEMを図化する\n",
        "plt.figure(figsize = (10, 10))\n",
        "im = plt.imshow(demp, cmap = \"terrain\",vmin = -10)\n",
        "plt.colorbar(im)\n",
        "plt.show()\n",
        "\n",
        "# GeoTiff書き出しのためのアフィンパラメータの設定（北西端の座標，メッシュサイズなど）\n",
        "trans = [min(dfall['lon']), Xsize, 0, max(dfall['lat']), 0, -Ysize]\n",
        "\n",
        "# 座標系の設定（EPSG:4612，JGD2000の緯度経度座標系）\n",
        "srs = osr.SpatialReference()\n",
        "srs.ImportFromEPSG(4612)\n",
        "\n",
        "# GeoTiff書き出しのための準備，オブジェクトの生成と初期化\n",
        "driver = gdal.GetDriverByName('GTiff')\n",
        "output = driver.Create(base_dir + 'output_dem_JGD2011_latlon.tif', demp.shape[1], demp.shape[0], 1, gdal.GDT_Float32)\n",
        "output.GetRasterBand(1).WriteArray(demp)\n",
        "output.GetRasterBand(1).SetNoDataValue(-9999)\n",
        "output.SetGeoTransform(trans)\n",
        "output.SetProjection(srs.ExportToWkt())\n",
        "output.FlushCache()\n",
        "output = None\n",
        "\n",
        "# DEMをEPSG:6677（JGD2011第9系）に投影変換して保存する\n",
        "opt = gdal.WarpOptions(dstSRS = 'EPSG:6677', srcNodata = -9999, dstNodata = -9999, outputType=gdal.GDT_Float32, xRes = 5.0, yRes = 5.0, targetAlignedPixels = 'true', resampleAlg = 'bilinear')\n",
        "demnew = gdal.Warp(base_dir + 'output_dem_reprojected.tif', base_dir + 'output_dem_JGD2011_latlon.tif', options = opt)\n",
        "demnew.FlushCache()\n",
        "demnew = None\n"
      ]
    },
    {
      "cell_type": "markdown",
      "metadata": {
        "id": "TQHPyri-Q3gm"
      },
      "source": [
        "## 10mメッシュバージョン"
      ]
    },
    {
      "cell_type": "code",
      "execution_count": null,
      "metadata": {
        "id": "cvDmBxw1Q3gm"
      },
      "outputs": [],
      "source": [
        "# 基盤地図情報DEM XMLを結合するプログラム\n",
        "# 10mメッシュバージョン\n",
        "\n",
        "import xml.etree.ElementTree as ET\n",
        "import numpy as np\n",
        "import matplotlib.pyplot as plt\n",
        "import matplotlib.colors as colors\n",
        "import glob\n",
        "import zipfile\n",
        "import sys\n",
        "import pandas as pd\n",
        "import io\n",
        "from tqdm import tqdm\n",
        "import time\n",
        "from osgeo import gdal, gdalconst, gdal_array, osr\n",
        "\n",
        "# Google Colaboratoryで実行しているかローカルで実行しているかを判別する\n",
        "# \n",
        "# Google Colaboratoryで実行している場合はgoogle.colabをインポートし，\n",
        "# drive.mountを実行する．\n",
        "# さらに作業用ディレクトリを指定する．\n",
        "#\n",
        "# ローカルで実行する場合は作業用ディレクトリの設定のみ実行する\n",
        "\n",
        "is_colab = 'google.colab' in sys.modules\n",
        "if is_colab:\n",
        "  from google.colab import drive\n",
        "  drive.mount('/content/drive')\n",
        "  base_dir = \"/content/drive/My Drive/DEM/\"\n",
        "else:\n",
        "  base_dir = \"./DEM/\"\n",
        "\n",
        "ns = {'default': 'http://fgd.gsi.go.jp/spec/2008/FGD_GMLSchema',\n",
        "  'xlink': 'http://www.w3.org/1999/xlink',\n",
        "  'xsi': 'http://www.w3.org/2001/XMLSchema-instance',\n",
        "  'gml': 'http://www.opengis.net/gml/3.2'}\n",
        "\n",
        "infiles = glob.glob(base_dir + 'FG-GML*.zip')\n",
        "\n",
        "dfall = pd.DataFrame()\n",
        "\n",
        "# ここからループしてすべてのXMLファイルを変換する\n",
        "\n",
        "for infile in tqdm(infiles):\n",
        "    with zipfile.ZipFile(infile) as zf:\n",
        "        for demxml in zf.namelist():\n",
        "            with zf.open(demxml) as zfx:\n",
        "                tree = ET.parse(zfx)\n",
        "                elem = tree.getroot()\n",
        "\n",
        "                lowercorner = elem.find('.//gml:lowerCorner', ns)\n",
        "                uppercorner = elem.find('.//gml:upperCorner', ns)\n",
        "\n",
        "                tuplelist = elem.find(\".//gml:tupleList\", ns)\n",
        "                df = pd.read_csv(io.StringIO(tuplelist.text), header = None)\n",
        "                df.columns = ['att', 'z']\n",
        "\n",
        "                startPoint = elem.find('.//gml:startPoint', ns).text.split(' ')\n",
        "                startPointX = int(startPoint[0])\n",
        "                startPointY = int(startPoint[1])\n",
        "\n",
        "                cols = int(elem.find(\".//gml:high\", ns).text.split(' ')[0]) + 1\n",
        "                rows = int(elem.find(\".//gml:high\", ns).text.split(' ')[1]) + 1\n",
        "\n",
        "                start = startPointX + (cols * startPointY)\n",
        "                end = int(df.shape[0]) + start\n",
        "\n",
        "                df['n'] = list(range(start, end))\n",
        "                df['x4'] = (df['n'] % cols)\n",
        "                df['y4'] = (df['n'] // cols)\n",
        "\n",
        "                uppercorner = elem.find('.//gml:upperCorner', ns)\n",
        "                lowercorner = elem.find('.//gml:lowerCorner', ns)\n",
        "\n",
        "                ULX = float(lowercorner.text.split(' ')[1])\n",
        "                ULY = float(uppercorner.text.split(' ')[0])\n",
        "                LRX = float(uppercorner.text.split(' ')[1])\n",
        "                LRY = float(lowercorner.text.split(' ')[0])\n",
        "\n",
        "                mesh = elem.find('.//default:mesh', ns)\n",
        "                \n",
        "                df['y1'] = int(mesh.text[0:2])\n",
        "                df['x1'] = int(mesh.text[2:4])\n",
        "                df['y2'] = int(mesh.text[4])\n",
        "                df['x2'] = int(mesh.text[5])\n",
        "                df['y3'] = 0\n",
        "                df['x3'] = 0\n",
        "\n",
        "                # 10m DEM用の計算\n",
        "                df['x'] = df['x4'] + (df['x2'] * 10 * cols) + (df['x1'] * 8 * 10 * cols)\n",
        "                df['y'] = df['y4'] + ((10 - df['y2']) * 10 * rows) + ((100 - df['y1']) * 8 * 10 * rows)\n",
        "\n",
        "                Xsize = (LRX - ULX) / cols\n",
        "                Ysize = (ULY - LRY) / rows\n",
        "\n",
        "                df['lon'] = ULX + df['x4'] * Xsize\n",
        "                df['lat'] = ULY - df['y4'] * Ysize\n",
        "\n",
        "                dfall = pd.concat([dfall, df])\n",
        "                # データがない部分用のダミーデータを作る\n",
        "                d1 = pd.DataFrame()\n",
        "                d2 = pd.DataFrame()\n",
        "\n",
        "                d1['x'] = list(range(min(df['x']), max(df['x'])))\n",
        "                d1['y'] = min(df['y'])\n",
        "                d1['z'] = -9999\n",
        "                d2['x'] = min(df['x'])\n",
        "                d2['y'] = list(range(min(df['y']), max(df['y'])))\n",
        "                d2['z'] = -9999\n",
        "\n",
        "                # ダミーデータを標高の入っているデータフレームに結合する\n",
        "                dfall = pd.concat([dfall, d1, d2])\n",
        "\n",
        "# 縦持ちデータを横持ちにピボットする\n",
        "# データなしと標高値が重なる場合があるので，その場合は最大値（すなわち標高値）を残す\n",
        "dem = dfall.pivot_table(index = 'y', columns = 'x', values = 'z', fill_value = -9999, aggfunc = 'max')\n",
        "dem = dem.sort_index()\n",
        "\n",
        "# 横持ちにした標高値を32ビット浮動小数点型のnp.Arrayに変換する\n",
        "demp = dem.values.astype(np.float32)\n",
        "\n",
        "# 確認のためDEMを図化する\n",
        "plt.figure(figsize = (10, 10))\n",
        "im = plt.imshow(demp, cmap = \"terrain\",vmin = -10)\n",
        "plt.colorbar(im)\n",
        "plt.show()\n",
        "\n",
        "# GeoTiff書き出しのためのアフィンパラメータの設定（北西端の座標，メッシュサイズなど）\n",
        "trans = [min(dfall['lon']), Xsize, 0, max(dfall['lat']), 0, -Ysize]\n",
        "\n",
        "# 座標系の設定（EPSG:4612，JGD2000の緯度経度座標系）\n",
        "srs = osr.SpatialReference()\n",
        "srs.ImportFromEPSG(4612)\n",
        "\n",
        "# GeoTiff書き出しのための準備，オブジェクトの生成と初期化\n",
        "driver = gdal.GetDriverByName('GTiff')\n",
        "output = driver.Create(base_dir + 'output_dem_JGD2011_latlon.tif', demp.shape[1], demp.shape[0], 1, gdal.GDT_Float32)\n",
        "output.GetRasterBand(1).WriteArray(demp)\n",
        "output.GetRasterBand(1).SetNoDataValue(-9999)\n",
        "output.SetGeoTransform(trans)\n",
        "output.SetProjection(srs.ExportToWkt())\n",
        "\n",
        "# GeoTiffに書き出して終了\n",
        "output.FlushCache()\n",
        "output = None\n",
        "\n",
        "# DEMをEPSG:6677（JGD2011第9系）に投影変換して保存する\n",
        "opt = gdal.WarpOptions(dstSRS = 'EPSG:6677', srcNodata = -9999, dstNodata = -9999, outputType=gdal.GDT_Float32, xRes = 10.0, yRes = 10.0, targetAlignedPixels = 'true', resampleAlg = 'bilinear')\n",
        "\n",
        "demnew = gdal.Warp(base_dir + 'output_dem_reprojected.tif', base_dir + 'output_dem_JGD2011_latlon.tif', options = opt)\n",
        "demnew.FlushCache()\n",
        "demnew = None\n"
      ]
    }
  ],
  "metadata": {
    "colab": {
      "name": "1 基盤地図情報の読み込み",
      "provenance": [],
      "toc_visible": true,
      "include_colab_link": true
    },
    "kernelspec": {
      "display_name": "Python 3.9.13 ('pysheds')",
      "language": "python",
      "name": "python3"
    },
    "language_info": {
      "codemirror_mode": {
        "name": "ipython",
        "version": 3
      },
      "file_extension": ".py",
      "mimetype": "text/x-python",
      "name": "python",
      "nbconvert_exporter": "python",
      "pygments_lexer": "ipython3",
      "version": "3.9.13"
    },
    "vscode": {
      "interpreter": {
        "hash": "391d556c58223add3908dba23e2631abb01367b58e4026cd2235b3044453b261"
      }
    }
  },
  "nbformat": 4,
  "nbformat_minor": 0
}