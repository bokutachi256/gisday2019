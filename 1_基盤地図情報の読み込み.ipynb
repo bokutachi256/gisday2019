{
  "nbformat": 4,
  "nbformat_minor": 0,
  "metadata": {
    "colab": {
      "name": "1 基盤地図情報の読み込み",
      "provenance": [],
      "collapsed_sections": [],
      "include_colab_link": true
    },
    "kernelspec": {
      "name": "python3",
      "display_name": "Python 3"
    }
  },
  "cells": [
    {
      "cell_type": "markdown",
      "metadata": {
        "id": "view-in-github",
        "colab_type": "text"
      },
      "source": [
        "<a href=\"https://colab.research.google.com/github/bokutachi256/gisday2019/blob/master/1_%E5%9F%BA%E7%9B%A4%E5%9C%B0%E5%9B%B3%E6%83%85%E5%A0%B1%E3%81%AE%E8%AA%AD%E3%81%BF%E8%BE%BC%E3%81%BF.ipynb\" target=\"_parent\"><img src=\"https://colab.research.google.com/assets/colab-badge.svg\" alt=\"Open In Colab\"/></a>"
      ]
    },
    {
      "cell_type": "code",
      "metadata": {
        "id": "kqhy-uDTuSNP",
        "colab_type": "code",
        "colab": {}
      },
      "source": [
        "!pip install pysheds"
      ],
      "execution_count": 0,
      "outputs": []
    },
    {
      "cell_type": "markdown",
      "metadata": {
        "id": "x1sK1KXQfo3h",
        "colab_type": "text"
      },
      "source": [
        "ここでは基盤地図情報の数値標高モデル（DEM: Digital Elevation Model）を用いて分析する方法について解説していきます．\n",
        "\n",
        "まず，[基盤地図情報のwebサイト](http://www.gsi.go.jp/kiban/)からDEMをダウンロードします．\n",
        "ダウンロードしたデータは`FG-GML-5139-03-50-DEM5A-20161001.xml`とします．\n",
        "\n",
        "このデータはXML型式になっていますので，\n",
        "Pythonでxmlを扱うために`xml.etree.ElementTree`を`ET`として読み込みます．\n"
      ]
    },
    {
      "cell_type": "code",
      "metadata": {
        "id": "x5eWquNDfo3k",
        "colab_type": "code",
        "colab": {}
      },
      "source": [
        "import xml.etree.ElementTree as ET\n",
        "import numpy as np\n",
        "import seaborn as sns\n",
        "import matplotlib.pyplot as plt\n",
        "import matplotlib.colors as colors\n",
        "#import math\n",
        "#import glob\n",
        "import pandas as pd\n",
        "import io\n",
        "import osgeo.gdal, osgeo.osr\n",
        "# from osgeo import gdal, gdalconst, gdal_array, osr\n",
        "#from pysheds.grid import Grid\n",
        "\n",
        "from google.colab import drive"
      ],
      "execution_count": 0,
      "outputs": []
    },
    {
      "cell_type": "code",
      "metadata": {
        "id": "mwp_IjmPurre",
        "colab_type": "code",
        "outputId": "e237eddd-7be4-475a-f019-b7711eeb399f",
        "colab": {
          "base_uri": "https://localhost:8080/",
          "height": 121
        }
      },
      "source": [
        "drive.mount('/content/drive')\n",
        "base_dir = \"/content/drive/My Drive/gisday2019/\""
      ],
      "execution_count": 0,
      "outputs": [
        {
          "output_type": "stream",
          "text": [
            "Go to this URL in a browser: https://accounts.google.com/o/oauth2/auth?client_id=947318989803-6bn6qk8qdgf4n4g3pfee6491hc0brc4i.apps.googleusercontent.com&redirect_uri=urn%3aietf%3awg%3aoauth%3a2.0%3aoob&response_type=code&scope=email%20https%3a%2f%2fwww.googleapis.com%2fauth%2fdocs.test%20https%3a%2f%2fwww.googleapis.com%2fauth%2fdrive%20https%3a%2f%2fwww.googleapis.com%2fauth%2fdrive.photos.readonly%20https%3a%2f%2fwww.googleapis.com%2fauth%2fpeopleapi.readonly\n",
            "\n",
            "Enter your authorization code:\n",
            "··········\n",
            "Mounted at /content/drive\n"
          ],
          "name": "stdout"
        }
      ]
    },
    {
      "cell_type": "markdown",
      "metadata": {
        "id": "3V8EZ9oifo3q",
        "colab_type": "text"
      },
      "source": [
        "基盤地図情報のxmlを読み込んでparseします．\n",
        "オブジェクト`tree`のルート要素を取得し，`elem`に代入します．"
      ]
    },
    {
      "cell_type": "code",
      "metadata": {
        "id": "bH-7JgIkfo3r",
        "colab_type": "code",
        "colab": {}
      },
      "source": [
        "tree = ET.parse(base_dir + \"GSI-DEM/FG-GML-5139-03-50-DEM5A-20161001.xml\")\n",
        "# tree = ET.parse(base_dir + \"GSI-DEM/FG-GML-5139-03-68-DEM5A-20161001.xml\")\n",
        "# tree = ET.parse(base_dir + \"GSI-DEM/FG-GML-5139-03-97-DEM5A-20161001.xml\")\n",
        "elem = tree.getroot()"
      ],
      "execution_count": 0,
      "outputs": []
    },
    {
      "cell_type": "markdown",
      "metadata": {
        "id": "cvQZ_DvkiKEA",
        "colab_type": "text"
      },
      "source": [
        "`elem`を確認してみます．"
      ]
    },
    {
      "cell_type": "code",
      "metadata": {
        "id": "aDLSzZflKC2Y",
        "colab_type": "code",
        "outputId": "bc35cf5e-e9d4-43f8-e69b-ab7089e085eb",
        "colab": {
          "base_uri": "https://localhost:8080/",
          "height": 34
        }
      },
      "source": [
        "elem"
      ],
      "execution_count": 0,
      "outputs": [
        {
          "output_type": "execute_result",
          "data": {
            "text/plain": [
              "<Element '{http://fgd.gsi.go.jp/spec/2008/FGD_GMLSchema}Dataset' at 0x7f5c8f2e0bd8>"
            ]
          },
          "metadata": {
            "tags": []
          },
          "execution_count": 4
        }
      ]
    },
    {
      "cell_type": "markdown",
      "metadata": {
        "id": "UwnrwkRxiWNF",
        "colab_type": "text"
      },
      "source": [
        "ルート要素のタグ`Dataset`が表示されました．"
      ]
    },
    {
      "cell_type": "markdown",
      "metadata": {
        "id": "8l10Y0zofo37",
        "colab_type": "text"
      },
      "source": [
        "次にイテレータを使ってすべてのタグを取得し，それを表示してみます．\n"
      ]
    },
    {
      "cell_type": "code",
      "metadata": {
        "id": "6aQc2t8Vfo3-",
        "colab_type": "code",
        "outputId": "42d14422-85c2-48fa-c5df-5d5c8e4e4b3c",
        "colab": {
          "base_uri": "https://localhost:8080/",
          "height": 588
        }
      },
      "source": [
        "for e in elem.getiterator():\n",
        "    print(e.tag)"
      ],
      "execution_count": 0,
      "outputs": [
        {
          "output_type": "stream",
          "text": [
            "{http://fgd.gsi.go.jp/spec/2008/FGD_GMLSchema}Dataset\n",
            "{http://www.opengis.net/gml/3.2}description\n",
            "{http://www.opengis.net/gml/3.2}name\n",
            "{http://fgd.gsi.go.jp/spec/2008/FGD_GMLSchema}DEM\n",
            "{http://fgd.gsi.go.jp/spec/2008/FGD_GMLSchema}fid\n",
            "{http://fgd.gsi.go.jp/spec/2008/FGD_GMLSchema}lfSpanFr\n",
            "{http://www.opengis.net/gml/3.2}timePosition\n",
            "{http://fgd.gsi.go.jp/spec/2008/FGD_GMLSchema}devDate\n",
            "{http://www.opengis.net/gml/3.2}timePosition\n",
            "{http://fgd.gsi.go.jp/spec/2008/FGD_GMLSchema}orgGILvl\n",
            "{http://fgd.gsi.go.jp/spec/2008/FGD_GMLSchema}orgMDId\n",
            "{http://fgd.gsi.go.jp/spec/2008/FGD_GMLSchema}type\n",
            "{http://fgd.gsi.go.jp/spec/2008/FGD_GMLSchema}mesh\n",
            "{http://fgd.gsi.go.jp/spec/2008/FGD_GMLSchema}coverage\n",
            "{http://www.opengis.net/gml/3.2}boundedBy\n",
            "{http://www.opengis.net/gml/3.2}Envelope\n",
            "{http://www.opengis.net/gml/3.2}lowerCorner\n",
            "{http://www.opengis.net/gml/3.2}upperCorner\n",
            "{http://www.opengis.net/gml/3.2}gridDomain\n",
            "{http://www.opengis.net/gml/3.2}Grid\n",
            "{http://www.opengis.net/gml/3.2}limits\n",
            "{http://www.opengis.net/gml/3.2}GridEnvelope\n",
            "{http://www.opengis.net/gml/3.2}low\n",
            "{http://www.opengis.net/gml/3.2}high\n",
            "{http://www.opengis.net/gml/3.2}axisLabels\n",
            "{http://www.opengis.net/gml/3.2}rangeSet\n",
            "{http://www.opengis.net/gml/3.2}DataBlock\n",
            "{http://www.opengis.net/gml/3.2}rangeParameters\n",
            "{http://www.opengis.net/gml/3.2}QuantityList\n",
            "{http://www.opengis.net/gml/3.2}tupleList\n",
            "{http://www.opengis.net/gml/3.2}coverageFunction\n",
            "{http://www.opengis.net/gml/3.2}GridFunction\n",
            "{http://www.opengis.net/gml/3.2}sequenceRule\n",
            "{http://www.opengis.net/gml/3.2}startPoint\n"
          ],
          "name": "stdout"
        }
      ]
    },
    {
      "cell_type": "markdown",
      "metadata": {
        "id": "cOBc8-wBJ7_a",
        "colab_type": "text"
      },
      "source": [
        "基盤地図情報DEMのXMLは名前空間付きXMLです．\n",
        "このため，タグへのアクセスには名前空間の接頭辞をつける必要があります．\n",
        "たとえば，`find`メソッドを使ってタグ`mesh`にアクセスする場合，\n",
        "通常のXMLのようにアクセスするとエラーが発生します．"
      ]
    },
    {
      "cell_type": "code",
      "metadata": {
        "id": "dMKuY89QahGB",
        "colab_type": "code",
        "outputId": "9b70166d-bb8e-4078-dc48-527133dc99b3",
        "colab": {
          "base_uri": "https://localhost:8080/",
          "height": 178
        }
      },
      "source": [
        "mesh = elem.find(\".//mesh\")\n",
        "print(mesh.text)"
      ],
      "execution_count": 0,
      "outputs": [
        {
          "output_type": "error",
          "ename": "AttributeError",
          "evalue": "ignored",
          "traceback": [
            "\u001b[0;31m---------------------------------------------------------------------------\u001b[0m",
            "\u001b[0;31mAttributeError\u001b[0m                            Traceback (most recent call last)",
            "\u001b[0;32m<ipython-input-6-c1c1a9a64e78>\u001b[0m in \u001b[0;36m<module>\u001b[0;34m()\u001b[0m\n\u001b[1;32m      1\u001b[0m \u001b[0mmesh\u001b[0m \u001b[0;34m=\u001b[0m \u001b[0melem\u001b[0m\u001b[0;34m.\u001b[0m\u001b[0mfind\u001b[0m\u001b[0;34m(\u001b[0m\u001b[0;34m\".//mesh\"\u001b[0m\u001b[0;34m)\u001b[0m\u001b[0;34m\u001b[0m\u001b[0;34m\u001b[0m\u001b[0m\n\u001b[0;32m----> 2\u001b[0;31m \u001b[0mprint\u001b[0m\u001b[0;34m(\u001b[0m\u001b[0mmesh\u001b[0m\u001b[0;34m.\u001b[0m\u001b[0mtext\u001b[0m\u001b[0;34m)\u001b[0m\u001b[0;34m\u001b[0m\u001b[0;34m\u001b[0m\u001b[0m\n\u001b[0m",
            "\u001b[0;31mAttributeError\u001b[0m: 'NoneType' object has no attribute 'text'"
          ]
        }
      ]
    },
    {
      "cell_type": "markdown",
      "metadata": {
        "id": "KdWpLJx4aebL",
        "colab_type": "text"
      },
      "source": [
        "\n",
        "これを解決するためには，タグに紐づけられている名前空間のURIをタグごとに加える必要があります．\n",
        "例えば以下のようにです．\n"
      ]
    },
    {
      "cell_type": "code",
      "metadata": {
        "id": "WEUa7wrDanPw",
        "colab_type": "code",
        "outputId": "7ef0029c-5a5b-4ee3-b5fe-18064cbea85f",
        "colab": {
          "base_uri": "https://localhost:8080/",
          "height": 34
        }
      },
      "source": [
        "mesh = elem.find(\".//{http://fgd.gsi.go.jp/spec/2008/FGD_GMLSchema}mesh\")\n",
        "print(mesh.text)"
      ],
      "execution_count": 0,
      "outputs": [
        {
          "output_type": "stream",
          "text": [
            "51390350\n"
          ],
          "name": "stdout"
        }
      ]
    },
    {
      "cell_type": "markdown",
      "metadata": {
        "id": "XlK2GxTHalKA",
        "colab_type": "text"
      },
      "source": [
        "しかし，すべてのタグにURIをつけるのは煩雑です．\n",
        "プログラミングミスの原因にもなりかねません．\n",
        "もう少しエレガントな方法としては，\n",
        "タグのディクショナリをメソッドの第2引数に指定する方法があります．\n",
        "\n",
        "以下はDEMのXMLの冒頭部です．\n",
        "xmlnsで始まる部分が名前空間の定義になっており，それぞれURIが指定されています．\n"
      ]
    },
    {
      "cell_type": "markdown",
      "metadata": {
        "id": "PBo5jzYP_7c-",
        "colab_type": "text"
      },
      "source": [
        "```xml\n",
        "<?xml version=\"1.0\" encoding=\"UTF-8\"?>\n",
        "<Dataset\n",
        "  gml:id=\"Dataset1\"\n",
        "  xmlns=\"http://fgd.gsi.go.jp/spec/2008/FGD_GMLSchema\" \n",
        "  xmlns:xlink=\"http://www.w3.org/1999/xlink\"\n",
        "  xmlns:xsi=\"http://www.w3.org/2001/XMLSchema-instance\"\n",
        "  xmlns:gml=\"http://www.opengis.net/gml/3.2\"\n",
        "  xsi:schemaLocation=\"http://fgd.gsi.go.jp/spec/2008/FGD_GMLSchema FGD_GMLSchema.xsd\"\n",
        ">\n",
        "```"
      ]
    },
    {
      "cell_type": "markdown",
      "metadata": {
        "id": "D3O_HpT5ykLJ",
        "colab_type": "text"
      },
      "source": [
        "これを元にして名前空間の接頭辞のディクショナリを作成します．\n",
        "`xmlns=\"http://fgd.gsi.go.jp/spec/2008/FGD_GMLSchema\"`\n",
        "はデフォルトの名前空間を指定しています．\n"
      ]
    },
    {
      "cell_type": "code",
      "metadata": {
        "id": "UppGuoz6yoFp",
        "colab_type": "code",
        "colab": {}
      },
      "source": [
        "ns = {'default': 'http://fgd.gsi.go.jp/spec/2008/FGD_GMLSchema',\n",
        "  'xlink': 'http://www.w3.org/1999/xlink',\n",
        "  'xsi': 'http://www.w3.org/2001/XMLSchema-instance',\n",
        "  'gml': 'http://www.opengis.net/gml/3.2'}"
      ],
      "execution_count": 0,
      "outputs": []
    },
    {
      "cell_type": "markdown",
      "metadata": {
        "colab_type": "text",
        "id": "YzI9iRWA33zz"
      },
      "source": [
        "```xml\n",
        "<?xml version=\"1.0\" encoding=\"UTF-8\"?>\n",
        "<Dataset\n",
        "  gml:id=\"Dataset1\"\n",
        "  xmlns=\"http://fgd.gsi.go.jp/spec/2008/FGD_GMLSchema\" \n",
        "  xmlns:xlink=\"http://www.w3.org/1999/xlink\"\n",
        "  xmlns:xsi=\"http://www.w3.org/2001/XMLSchema-instance\"\n",
        "  xmlns:gml=\"http://www.opengis.net/gml/3.2\"\n",
        "  xsi:schemaLocation=\"http://fgd.gsi.go.jp/spec/2008/FGD_GMLSchema FGD_GMLSchema.xsd\"\n",
        ">\n",
        "  <gml:description>基盤地図情報メタデータ ID=fmdid:15-3101</gml:description>\n",
        "  <gml:name>基盤地図情報ダウンロードデータ（GML版）</gml:name>\n",
        "  <DEM gml:id=\"DEM001\">\n",
        "    <fid>fgoid:10-00100-15-60101-51390350</fid>\n",
        "    <lfSpanFr gml:id=\"DEM001-1\">\n",
        "      <gml:timePosition>2016-10-01</gml:timePosition>\n",
        "    </lfSpanFr>\n",
        "    <devDate gml:id=\"DEM001-2\">\n",
        "      <gml:timePosition>2016-10-01</gml:timePosition>\n",
        "    </devDate>\n",
        "    <orgGILvl>0</orgGILvl>\n",
        "    <orgMDId>H24GC009 NoData</orgMDId>\n",
        "    <type>5mメッシュ（標高）</type>\n",
        "    <mesh>51390350</mesh>\n",
        "    <coverage gml:id=\"DEM001-3\">\n",
        "      <gml:boundedBy>\n",
        "        <gml:Envelope srsName=\"fguuid:jgd2011.bl\">\n",
        "          <gml:lowerCorner>34.041666667 139.375</gml:lowerCorner>\n",
        "          <gml:upperCorner>34.05 139.3875</gml:upperCorner>\n",
        "        </gml:Envelope>\n",
        "      </gml:boundedBy>\n",
        "      <gml:gridDomain>\n",
        "        <gml:Grid gml:id=\"DEM001-4\" dimension=\"2\">\n",
        "          <gml:limits>\n",
        "            <gml:GridEnvelope>\n",
        "              <gml:low>0 0</gml:low>\n",
        "              <gml:high>224 149</gml:high>\n",
        "            </gml:GridEnvelope>\n",
        "            </gml:limits>\n",
        "            <gml:axisLabels>x y</gml:axisLabels>\n",
        "        </gml:Grid>\n",
        "      </gml:gridDomain>\n",
        "      <gml:rangeSet>\n",
        "        <gml:DataBlock>\n",
        "          <gml:rangeParameters>\n",
        "            <gml:QuantityList uom=\"DEM構成点\"/>\n",
        "          </gml:rangeParameters>\n",
        "          <gml:tupleList>地表面,1.21 地表面,1.49. .......\n",
        "        </gml:DataBlock>\n",
        "      </gml:rangeSet>\n",
        "      <gml:coverageFunction>\n",
        "        <gml:GridFunction>\n",
        "          <gml:sequenceRule order=\"+x-y\">Linear</gml:sequenceRule>\n",
        "          <gml:startPoint>155 12</gml:startPoint>\n",
        "        </gml:GridFunction>\n",
        "      </gml:coverageFunction>\n",
        "    </coverage>\n",
        "  </DEM>\n",
        "</Dataset>\n",
        "```"
      ]
    },
    {
      "cell_type": "markdown",
      "metadata": {
        "id": "jFs54Phkfo4C",
        "colab_type": "text"
      },
      "source": [
        "`elem`オブジェクトの`find`メソッドにURI付きのタグ`{http://fgd.gsi.go.jp/spec/2008/FGD_GMLSchema}mesh`を入力してタグを検索し，\n",
        "その値を表示してみましょう．\n",
        "戻り値（このタグの値）は標準地域メッシュ番号となっています．\n",
        "最初の4桁`5139`が1次メッシュコード，\n",
        "次の2桁が`03`が2次メッシュコード，\n",
        "最後の2桁`50`が3次メッシュコードとなっています．"
      ]
    },
    {
      "cell_type": "code",
      "metadata": {
        "colab_type": "code",
        "outputId": "a2c07609-50b5-45a2-9820-7e50f3c7e0b5",
        "id": "yH5cSqtHsK5x",
        "colab": {
          "base_uri": "https://localhost:8080/",
          "height": 34
        }
      },
      "source": [
        "mesh = elem.find('.//default:mesh', ns)\n",
        "print(mesh.text)"
      ],
      "execution_count": 0,
      "outputs": [
        {
          "output_type": "stream",
          "text": [
            "51390350\n"
          ],
          "name": "stdout"
        }
      ]
    },
    {
      "cell_type": "markdown",
      "metadata": {
        "id": "BSokynWtGcWC",
        "colab_type": "text"
      },
      "source": [
        "次に`{http://www.opengis.net/gml/3.2}lowerCorner`を表示してみます．\n",
        "このタグにはDEMの南西端の座標が格納されています．"
      ]
    },
    {
      "cell_type": "code",
      "metadata": {
        "colab_type": "code",
        "outputId": "6b2c41b2-91f2-4d94-de96-60011d4eaf9b",
        "id": "R2_nGWl6xG3M",
        "colab": {
          "base_uri": "https://localhost:8080/",
          "height": 34
        }
      },
      "source": [
        "lowercorner = elem.find('.//gml:lowerCorner', ns)\n",
        "print(lowercorner.text)"
      ],
      "execution_count": 0,
      "outputs": [
        {
          "output_type": "stream",
          "text": [
            "34.041666667 139.375\n"
          ],
          "name": "stdout"
        }
      ]
    },
    {
      "cell_type": "markdown",
      "metadata": {
        "id": "0KJJM6UzGk-V",
        "colab_type": "text"
      },
      "source": [
        "同様に`{http://www.opengis.net/gml/3.2}upperCorner`には\n",
        "北東端の座標が格納されています．"
      ]
    },
    {
      "cell_type": "code",
      "metadata": {
        "id": "132ceHv8fo4O",
        "colab_type": "code",
        "outputId": "e386011a-a08a-4bcd-a8c9-5abc414d94a0",
        "colab": {
          "base_uri": "https://localhost:8080/",
          "height": 34
        }
      },
      "source": [
        "uppercorner = elem.find('.//gml:upperCorner', ns)\n",
        "print(uppercorner.text)"
      ],
      "execution_count": 0,
      "outputs": [
        {
          "output_type": "stream",
          "text": [
            "34.05 139.3875\n"
          ],
          "name": "stdout"
        }
      ]
    },
    {
      "cell_type": "markdown",
      "metadata": {
        "id": "JtdRzsg3fo4H",
        "colab_type": "text"
      },
      "source": [
        "タグ`{http://www.opengis.net/gml/3.2}tupleList`を検索し，値を表示する．\n",
        "ここに標高が格納されている．\n",
        "標高は文字列として格納されている．\n",
        "改行コードとカンマで分けられている．\n",
        "カンマの前が標高点の属性，カンマの後ろが標高値になっている．\n",
        "データがないメッシュの属性は'データなし'で標高値は'-9999'，\n",
        "データがあるメッシュの属性は'地表面'で標高値が実数で入っている．"
      ]
    },
    {
      "cell_type": "code",
      "metadata": {
        "id": "pymkTh7nfo4J",
        "colab_type": "code",
        "colab": {}
      },
      "source": [
        "tuplelist = elem.find(\".//gml:tupleList\", ns)\n",
        "print(tuplelist.text)"
      ],
      "execution_count": 0,
      "outputs": []
    },
    {
      "cell_type": "markdown",
      "metadata": {
        "id": "OizB-wgCUAFq",
        "colab_type": "text"
      },
      "source": [
        "標高値が格納されている文字列はcsvそのものになっており，\n",
        "csvとして書き出せばpandasのpd.read_csv()でデータフレームに読み込むことができる．\n",
        "\n",
        "しかし，いちいちcsvに書き出すのも面倒なため，io.StringIOを使ってテキストストリームを作成し，これにpandasのpd.read_csvを組み合わせてcsv型式の文字列をデータフレームに格納する．\n",
        "列名も加える．"
      ]
    },
    {
      "cell_type": "code",
      "metadata": {
        "id": "rvMhDi2KThDP",
        "colab_type": "code",
        "outputId": "9cbf07f8-b0be-4218-c5f4-045e8773dd5d",
        "colab": {
          "base_uri": "https://localhost:8080/",
          "height": 402
        }
      },
      "source": [
        "df = pd.read_csv(io.StringIO(tuplelist.text), header=None)\n",
        "df.columns = ['att', 'z']\n",
        "df"
      ],
      "execution_count": 0,
      "outputs": [
        {
          "output_type": "execute_result",
          "data": {
            "text/html": [
              "<div>\n",
              "<style scoped>\n",
              "    .dataframe tbody tr th:only-of-type {\n",
              "        vertical-align: middle;\n",
              "    }\n",
              "\n",
              "    .dataframe tbody tr th {\n",
              "        vertical-align: top;\n",
              "    }\n",
              "\n",
              "    .dataframe thead th {\n",
              "        text-align: right;\n",
              "    }\n",
              "</style>\n",
              "<table border=\"1\" class=\"dataframe\">\n",
              "  <thead>\n",
              "    <tr style=\"text-align: right;\">\n",
              "      <th></th>\n",
              "      <th>att</th>\n",
              "      <th>z</th>\n",
              "    </tr>\n",
              "  </thead>\n",
              "  <tbody>\n",
              "    <tr>\n",
              "      <th>0</th>\n",
              "      <td>地表面</td>\n",
              "      <td>1.21</td>\n",
              "    </tr>\n",
              "    <tr>\n",
              "      <th>1</th>\n",
              "      <td>地表面</td>\n",
              "      <td>1.49</td>\n",
              "    </tr>\n",
              "    <tr>\n",
              "      <th>2</th>\n",
              "      <td>地表面</td>\n",
              "      <td>1.18</td>\n",
              "    </tr>\n",
              "    <tr>\n",
              "      <th>3</th>\n",
              "      <td>データなし</td>\n",
              "      <td>-9999.00</td>\n",
              "    </tr>\n",
              "    <tr>\n",
              "      <th>4</th>\n",
              "      <td>データなし</td>\n",
              "      <td>-9999.00</td>\n",
              "    </tr>\n",
              "    <tr>\n",
              "      <th>...</th>\n",
              "      <td>...</td>\n",
              "      <td>...</td>\n",
              "    </tr>\n",
              "    <tr>\n",
              "      <th>21160</th>\n",
              "      <td>データなし</td>\n",
              "      <td>-9999.00</td>\n",
              "    </tr>\n",
              "    <tr>\n",
              "      <th>21161</th>\n",
              "      <td>データなし</td>\n",
              "      <td>-9999.00</td>\n",
              "    </tr>\n",
              "    <tr>\n",
              "      <th>21162</th>\n",
              "      <td>データなし</td>\n",
              "      <td>-9999.00</td>\n",
              "    </tr>\n",
              "    <tr>\n",
              "      <th>21163</th>\n",
              "      <td>データなし</td>\n",
              "      <td>-9999.00</td>\n",
              "    </tr>\n",
              "    <tr>\n",
              "      <th>21164</th>\n",
              "      <td>地表面</td>\n",
              "      <td>2.13</td>\n",
              "    </tr>\n",
              "  </tbody>\n",
              "</table>\n",
              "<p>21165 rows × 2 columns</p>\n",
              "</div>"
            ],
            "text/plain": [
              "         att        z\n",
              "0        地表面     1.21\n",
              "1        地表面     1.49\n",
              "2        地表面     1.18\n",
              "3      データなし -9999.00\n",
              "4      データなし -9999.00\n",
              "...      ...      ...\n",
              "21160  データなし -9999.00\n",
              "21161  データなし -9999.00\n",
              "21162  データなし -9999.00\n",
              "21163  データなし -9999.00\n",
              "21164    地表面     2.13\n",
              "\n",
              "[21165 rows x 2 columns]"
            ]
          },
          "metadata": {
            "tags": []
          },
          "execution_count": 13
        }
      ]
    },
    {
      "cell_type": "markdown",
      "metadata": {
        "id": "IndJCYzjRxI_",
        "colab_type": "text"
      },
      "source": [
        "データフレームの数は21165行$\\times$2列になっている．\n",
        "5mメッシュDEMの場合，格納されている標高値の列数と行数は`gml:high`と`gml:low`によって規定されている．両者を取得して確認してみる．"
      ]
    },
    {
      "cell_type": "code",
      "metadata": {
        "colab_type": "code",
        "outputId": "607b8239-65e0-4a80-fd79-83f98133732e",
        "id": "4VijmFR0SDp_",
        "colab": {
          "base_uri": "https://localhost:8080/",
          "height": 50
        }
      },
      "source": [
        "print(elem.find(\".//gml:low\", ns).text)\n",
        "print(elem.find(\".//gml:high\", ns).text)"
      ],
      "execution_count": 0,
      "outputs": [
        {
          "output_type": "stream",
          "text": [
            "0 0\n",
            "224 149\n"
          ],
          "name": "stdout"
        }
      ]
    },
    {
      "cell_type": "markdown",
      "metadata": {
        "id": "r-fw9qjOSULe",
        "colab_type": "text"
      },
      "source": [
        "$(0, 0)$から$(224, 149)$の$225 \\times 150$の合計33376メッシュになるはずだが，\n",
        "実際には21165メッシュ分しか格納されていない．\n",
        "これは，海面などで標高値がない部分が連続する場合，データを省略していることが原因である．\n",
        "データの省略状況は，`gml:startPoint`に格納されている．"
      ]
    },
    {
      "cell_type": "code",
      "metadata": {
        "colab_type": "code",
        "outputId": "e09f21c5-06b9-42f7-f220-4d0bb765ecd0",
        "id": "NjOWeV7jTZB3",
        "colab": {
          "base_uri": "https://localhost:8080/",
          "height": 34
        }
      },
      "source": [
        "print(elem.find('.//gml:startPoint', ns).text)"
      ],
      "execution_count": 0,
      "outputs": [
        {
          "output_type": "stream",
          "text": [
            "155 12\n"
          ],
          "name": "stdout"
        }
      ]
    },
    {
      "cell_type": "markdown",
      "metadata": {
        "id": "p6MagWymTgDn",
        "colab_type": "text"
      },
      "source": [
        "これによると，標高値は155列12行から格納されていることがわかります．\n",
        "しかし，これはデータの格納開始地点を表しているものであり，\n",
        "終了地点を表すタグはありません．\n",
        "足りない分は省略されていることになります．\n",
        "実際，$(225-155)+((150-12) \\times 225)$の30757メッシュが格納されているはずですが，\n",
        "実際には21165メッシュしかないため，足りない分は省略されています．\n",
        "\n",
        "\n",
        "dem | 0 | 1 | 2 | 3 |$\\ldots$| 4|$\\ldots$|244\n",
        "-:|-:|-:|-:|-:|-:|-:|-:|-:|\n",
        "**0**|0|10|20|30|$\\ldots$|40|$\\ldots$\n",
        "**1**|0|10|20|30|$\\ldots$|40|$\\ldots$\n",
        "$\\vdots$|$\\vdots$|$\\vdots$|$\\vdots$|$\\vdots$|$\\vdots$|\n",
        "**2**|0|10|20|30|$\\ldots$|40|$\\ldots$\n",
        "**3**|0|10|20|30|$\\ldots$|40|$\\ldots$\n",
        "**4**|0|10|20|30|$\\ldots$|40|$\\ldots$\n",
        "$\\vdots$|$\\vdots$|$\\vdots$|$\\vdots$|$\\vdots$|$\\vdots$|\n",
        "**149**|0|10|20|30|40|\n",
        "\n",
        "このため，このファイルに格納されている標高値は，\n",
        "startPointよりも前の\n",
        "\n",
        "154+(11*225)=2689メッシュ，\n",
        "\n",
        "標高値がある分の21165メッシュ，\n",
        "標高値の後の\n",
        "33376-(2689+21165)メッシュ\n",
        "\n",
        "になります．\n",
        "\n",
        "dfに格納されている標高値に，メッシュの通し番号をつけていきます．\n",
        "メッシュの初期値は155+(11*225)になります．\n",
        "この値は`gml:startPoint`から取得します．\n",
        "`gml:startPoint`の値はスペースで区切られています．\n",
        "スペースの前が開始列番号，後ろが開始行番号です．\n",
        "開始列番号を`startPointX`，開始行番号を`startPointY`とし，\n",
        "`split`メソッドを使って分割します．\n",
        "分割されて取得されるリストは文字列になっていますので，\n",
        "`int`関数を使って整数値に変換します．\n",
        "\n"
      ]
    },
    {
      "cell_type": "code",
      "metadata": {
        "id": "h6nabYBRi0nE",
        "colab_type": "code",
        "outputId": "6e9ad287-4060-41e9-b189-d6dd0d6e281e",
        "colab": {
          "base_uri": "https://localhost:8080/",
          "height": 34
        }
      },
      "source": [
        "startPoint = elem.find('.//gml:startPoint', ns).text.split(' ')\n",
        "startPointX = int(startPoint[0])\n",
        "startPointY = int(startPoint[1])\n",
        "print(startPointX, startPointY)"
      ],
      "execution_count": 0,
      "outputs": [
        {
          "output_type": "stream",
          "text": [
            "155 12\n"
          ],
          "name": "stdout"
        }
      ]
    },
    {
      "cell_type": "markdown",
      "metadata": {
        "id": "9wEOEpEYkDQz",
        "colab_type": "text"
      },
      "source": [
        "次に`range`関数を使って，標高値のあるメッシュの通し番号のリストを作成します．\n",
        "開始番号は`startPointX+(225*startPointY)`で，\n",
        "終了番号は開始番号に`df`の行数を足した値になります．\n",
        "`df`の行数は`df.shape[0]`で取得できます．"
      ]
    },
    {
      "cell_type": "code",
      "metadata": {
        "id": "wqYJxN10hbqa",
        "colab_type": "code",
        "outputId": "d9ca229c-2bb0-4b9b-f5a8-69e0a4789dee",
        "colab": {
          "base_uri": "https://localhost:8080/",
          "height": 34
        }
      },
      "source": [
        "cols = int(elem.find(\".//gml:high\", ns).text.split(' ')[0]) + 1\n",
        "rows = int(elem.find(\".//gml:high\", ns).text.split(' ')[1]) + 1\n",
        "\n",
        "start = startPointX + (cols * startPointY)\n",
        "end = int(df.shape[0])\n",
        "n = list(range(start, start + end))\n",
        "len(n)"
      ],
      "execution_count": 0,
      "outputs": [
        {
          "output_type": "execute_result",
          "data": {
            "text/plain": [
              "21165"
            ]
          },
          "metadata": {
            "tags": []
          },
          "execution_count": 17
        }
      ]
    },
    {
      "cell_type": "markdown",
      "metadata": {
        "id": "XhtWB9N69UdN",
        "colab_type": "text"
      },
      "source": [
        "dfに新しい列を加える"
      ]
    },
    {
      "cell_type": "code",
      "metadata": {
        "id": "VEGJiEEJ6ojt",
        "colab_type": "code",
        "outputId": "0b552fa8-a956-4017-af82-fc5bc2b6d651",
        "colab": {
          "base_uri": "https://localhost:8080/",
          "height": 402
        }
      },
      "source": [
        "df['n'] = n\n",
        "df"
      ],
      "execution_count": 0,
      "outputs": [
        {
          "output_type": "execute_result",
          "data": {
            "text/html": [
              "<div>\n",
              "<style scoped>\n",
              "    .dataframe tbody tr th:only-of-type {\n",
              "        vertical-align: middle;\n",
              "    }\n",
              "\n",
              "    .dataframe tbody tr th {\n",
              "        vertical-align: top;\n",
              "    }\n",
              "\n",
              "    .dataframe thead th {\n",
              "        text-align: right;\n",
              "    }\n",
              "</style>\n",
              "<table border=\"1\" class=\"dataframe\">\n",
              "  <thead>\n",
              "    <tr style=\"text-align: right;\">\n",
              "      <th></th>\n",
              "      <th>att</th>\n",
              "      <th>z</th>\n",
              "      <th>n</th>\n",
              "    </tr>\n",
              "  </thead>\n",
              "  <tbody>\n",
              "    <tr>\n",
              "      <th>0</th>\n",
              "      <td>地表面</td>\n",
              "      <td>1.21</td>\n",
              "      <td>2855</td>\n",
              "    </tr>\n",
              "    <tr>\n",
              "      <th>1</th>\n",
              "      <td>地表面</td>\n",
              "      <td>1.49</td>\n",
              "      <td>2856</td>\n",
              "    </tr>\n",
              "    <tr>\n",
              "      <th>2</th>\n",
              "      <td>地表面</td>\n",
              "      <td>1.18</td>\n",
              "      <td>2857</td>\n",
              "    </tr>\n",
              "    <tr>\n",
              "      <th>3</th>\n",
              "      <td>データなし</td>\n",
              "      <td>-9999.00</td>\n",
              "      <td>2858</td>\n",
              "    </tr>\n",
              "    <tr>\n",
              "      <th>4</th>\n",
              "      <td>データなし</td>\n",
              "      <td>-9999.00</td>\n",
              "      <td>2859</td>\n",
              "    </tr>\n",
              "    <tr>\n",
              "      <th>...</th>\n",
              "      <td>...</td>\n",
              "      <td>...</td>\n",
              "      <td>...</td>\n",
              "    </tr>\n",
              "    <tr>\n",
              "      <th>21160</th>\n",
              "      <td>データなし</td>\n",
              "      <td>-9999.00</td>\n",
              "      <td>24015</td>\n",
              "    </tr>\n",
              "    <tr>\n",
              "      <th>21161</th>\n",
              "      <td>データなし</td>\n",
              "      <td>-9999.00</td>\n",
              "      <td>24016</td>\n",
              "    </tr>\n",
              "    <tr>\n",
              "      <th>21162</th>\n",
              "      <td>データなし</td>\n",
              "      <td>-9999.00</td>\n",
              "      <td>24017</td>\n",
              "    </tr>\n",
              "    <tr>\n",
              "      <th>21163</th>\n",
              "      <td>データなし</td>\n",
              "      <td>-9999.00</td>\n",
              "      <td>24018</td>\n",
              "    </tr>\n",
              "    <tr>\n",
              "      <th>21164</th>\n",
              "      <td>地表面</td>\n",
              "      <td>2.13</td>\n",
              "      <td>24019</td>\n",
              "    </tr>\n",
              "  </tbody>\n",
              "</table>\n",
              "<p>21165 rows × 3 columns</p>\n",
              "</div>"
            ],
            "text/plain": [
              "         att        z      n\n",
              "0        地表面     1.21   2855\n",
              "1        地表面     1.49   2856\n",
              "2        地表面     1.18   2857\n",
              "3      データなし -9999.00   2858\n",
              "4      データなし -9999.00   2859\n",
              "...      ...      ...    ...\n",
              "21160  データなし -9999.00  24015\n",
              "21161  データなし -9999.00  24016\n",
              "21162  データなし -9999.00  24017\n",
              "21163  データなし -9999.00  24018\n",
              "21164    地表面     2.13  24019\n",
              "\n",
              "[21165 rows x 3 columns]"
            ]
          },
          "metadata": {
            "tags": []
          },
          "execution_count": 18
        }
      ]
    },
    {
      "cell_type": "markdown",
      "metadata": {
        "id": "5iJIT7XVIlt9",
        "colab_type": "text"
      },
      "source": [
        "nの値からxとyを求める．\n",
        "%は剰余，//は整数の商を求める演算子"
      ]
    },
    {
      "cell_type": "code",
      "metadata": {
        "id": "83-LMJYVYs6b",
        "colab_type": "code",
        "outputId": "f4d48220-2fdb-4cc3-f370-f4ab6db3dd97",
        "colab": {
          "base_uri": "https://localhost:8080/",
          "height": 402
        }
      },
      "source": [
        "df['x'] = (df['n'] % cols)\n",
        "df['y'] = (df['n'] // cols)\n",
        "df"
      ],
      "execution_count": 0,
      "outputs": [
        {
          "output_type": "execute_result",
          "data": {
            "text/html": [
              "<div>\n",
              "<style scoped>\n",
              "    .dataframe tbody tr th:only-of-type {\n",
              "        vertical-align: middle;\n",
              "    }\n",
              "\n",
              "    .dataframe tbody tr th {\n",
              "        vertical-align: top;\n",
              "    }\n",
              "\n",
              "    .dataframe thead th {\n",
              "        text-align: right;\n",
              "    }\n",
              "</style>\n",
              "<table border=\"1\" class=\"dataframe\">\n",
              "  <thead>\n",
              "    <tr style=\"text-align: right;\">\n",
              "      <th></th>\n",
              "      <th>att</th>\n",
              "      <th>z</th>\n",
              "      <th>n</th>\n",
              "      <th>x</th>\n",
              "      <th>y</th>\n",
              "    </tr>\n",
              "  </thead>\n",
              "  <tbody>\n",
              "    <tr>\n",
              "      <th>0</th>\n",
              "      <td>地表面</td>\n",
              "      <td>1.21</td>\n",
              "      <td>2855</td>\n",
              "      <td>155</td>\n",
              "      <td>12</td>\n",
              "    </tr>\n",
              "    <tr>\n",
              "      <th>1</th>\n",
              "      <td>地表面</td>\n",
              "      <td>1.49</td>\n",
              "      <td>2856</td>\n",
              "      <td>156</td>\n",
              "      <td>12</td>\n",
              "    </tr>\n",
              "    <tr>\n",
              "      <th>2</th>\n",
              "      <td>地表面</td>\n",
              "      <td>1.18</td>\n",
              "      <td>2857</td>\n",
              "      <td>157</td>\n",
              "      <td>12</td>\n",
              "    </tr>\n",
              "    <tr>\n",
              "      <th>3</th>\n",
              "      <td>データなし</td>\n",
              "      <td>-9999.00</td>\n",
              "      <td>2858</td>\n",
              "      <td>158</td>\n",
              "      <td>12</td>\n",
              "    </tr>\n",
              "    <tr>\n",
              "      <th>4</th>\n",
              "      <td>データなし</td>\n",
              "      <td>-9999.00</td>\n",
              "      <td>2859</td>\n",
              "      <td>159</td>\n",
              "      <td>12</td>\n",
              "    </tr>\n",
              "    <tr>\n",
              "      <th>...</th>\n",
              "      <td>...</td>\n",
              "      <td>...</td>\n",
              "      <td>...</td>\n",
              "      <td>...</td>\n",
              "      <td>...</td>\n",
              "    </tr>\n",
              "    <tr>\n",
              "      <th>21160</th>\n",
              "      <td>データなし</td>\n",
              "      <td>-9999.00</td>\n",
              "      <td>24015</td>\n",
              "      <td>165</td>\n",
              "      <td>106</td>\n",
              "    </tr>\n",
              "    <tr>\n",
              "      <th>21161</th>\n",
              "      <td>データなし</td>\n",
              "      <td>-9999.00</td>\n",
              "      <td>24016</td>\n",
              "      <td>166</td>\n",
              "      <td>106</td>\n",
              "    </tr>\n",
              "    <tr>\n",
              "      <th>21162</th>\n",
              "      <td>データなし</td>\n",
              "      <td>-9999.00</td>\n",
              "      <td>24017</td>\n",
              "      <td>167</td>\n",
              "      <td>106</td>\n",
              "    </tr>\n",
              "    <tr>\n",
              "      <th>21163</th>\n",
              "      <td>データなし</td>\n",
              "      <td>-9999.00</td>\n",
              "      <td>24018</td>\n",
              "      <td>168</td>\n",
              "      <td>106</td>\n",
              "    </tr>\n",
              "    <tr>\n",
              "      <th>21164</th>\n",
              "      <td>地表面</td>\n",
              "      <td>2.13</td>\n",
              "      <td>24019</td>\n",
              "      <td>169</td>\n",
              "      <td>106</td>\n",
              "    </tr>\n",
              "  </tbody>\n",
              "</table>\n",
              "<p>21165 rows × 5 columns</p>\n",
              "</div>"
            ],
            "text/plain": [
              "         att        z      n    x    y\n",
              "0        地表面     1.21   2855  155   12\n",
              "1        地表面     1.49   2856  156   12\n",
              "2        地表面     1.18   2857  157   12\n",
              "3      データなし -9999.00   2858  158   12\n",
              "4      データなし -9999.00   2859  159   12\n",
              "...      ...      ...    ...  ...  ...\n",
              "21160  データなし -9999.00  24015  165  106\n",
              "21161  データなし -9999.00  24016  166  106\n",
              "21162  データなし -9999.00  24017  167  106\n",
              "21163  データなし -9999.00  24018  168  106\n",
              "21164    地表面     2.13  24019  169  106\n",
              "\n",
              "[21165 rows x 5 columns]"
            ]
          },
          "metadata": {
            "tags": []
          },
          "execution_count": 19
        }
      ]
    },
    {
      "cell_type": "markdown",
      "metadata": {
        "id": "lMZ4Ov146SGe",
        "colab_type": "text"
      },
      "source": [
        "座標埋め込みの原点（北西端の緯度経度）を取得する．\n",
        "北西端の座標は`gml:upperCorner`と`gml:lowerCorner`から取得できる．\n",
        "`gml:upperCorner`と`gml:lowerCorner`はそれぞれ北東端と南西端の座標を示しており，\n",
        "スペースで区切られている．\n",
        "`split()`使って緯度と経度を分割してリスト化し，左上X（`ULX`，Upper Left X），左上Y（`ULY`），右下X（`LRX`，Lower Right X），右下Y（`LRY`）を`float()`で実数にキャストして格納する．\n"
      ]
    },
    {
      "cell_type": "code",
      "metadata": {
        "id": "A24gMfh86pN1",
        "colab_type": "code",
        "outputId": "20356021-8b48-4080-db73-d9917ae7eed4",
        "colab": {
          "base_uri": "https://localhost:8080/",
          "height": 34
        }
      },
      "source": [
        "uppercorner = elem.find('.//gml:upperCorner', ns)\n",
        "lowercorner = elem.find('.//gml:lowerCorner', ns)\n",
        "\n",
        "ULX = float(lowercorner.text.split(' ')[1])\n",
        "ULY = float(uppercorner.text.split(' ')[0])\n",
        "LRX = float(uppercorner.text.split(' ')[1])\n",
        "LRY = float(lowercorner.text.split(' ')[0])\n",
        "print(ULX, ULY, LRX, LRY)"
      ],
      "execution_count": 0,
      "outputs": [
        {
          "output_type": "stream",
          "text": [
            "139.375 34.05 139.3875 34.041666667\n"
          ],
          "name": "stdout"
        }
      ]
    },
    {
      "cell_type": "markdown",
      "metadata": {
        "id": "Rx8Hc7KckR6K",
        "colab_type": "text"
      },
      "source": [
        "次に標高値ひとつあたりのX方向の長さ（単位は十進経度）とY方向の長さ（単位は十進緯度）を求める．\n",
        "X方向の長さは右側経度`LRX`と左側経度`ULX`の差を東西メッシュ数`cols`で割ったものになる．\n",
        "同様にY方向の長さは上側緯度`ULY`と下側緯度`LRY`の差を南北メッシュ数`rows`で割ったものになる．それぞれ`Xsize`と`Ysize`とする．\n",
        "\n",
        "\n",
        "\n"
      ]
    },
    {
      "cell_type": "code",
      "metadata": {
        "id": "2b4lKe-KlzSD",
        "colab_type": "code",
        "outputId": "fba174fd-a22b-404c-99c2-f4158aeaec39",
        "colab": {
          "base_uri": "https://localhost:8080/",
          "height": 34
        }
      },
      "source": [
        "Xsize = (LRX - ULX) / cols\n",
        "Ysize = (ULY - LRY) / rows\n",
        "print(Xsize, Ysize)"
      ],
      "execution_count": 0,
      "outputs": [
        {
          "output_type": "stream",
          "text": [
            "5.555555555550503e-05 5.5555553333306305e-05\n"
          ],
          "name": "stdout"
        }
      ]
    },
    {
      "cell_type": "markdown",
      "metadata": {
        "id": "PRIsX-4el24R",
        "colab_type": "text"
      },
      "source": [
        "xとyを緯度軽度（十進緯度経度）に変換する．\n",
        "標高値の並び順は`gml:sequenceRule`の属性`order`に’書かれている．\n",
        "この場合は`+x-y`になっており，\n",
        "これは開始地点からxがプラス方向（経度がプラス方向，すなわち東方向）にデータが並び，\n",
        "一行分終わったらyがマイナス方向（緯度がマイナス方向，すなわち北半球では南方向）に一行分動くということを表している．\n",
        "\n",
        "\n",
        "\n",
        "\n"
      ]
    },
    {
      "cell_type": "code",
      "metadata": {
        "id": "P9R0bjQqn0uC",
        "colab_type": "code",
        "outputId": "e0972b5e-1af3-4357-ba0f-6d7023da12dd",
        "colab": {
          "base_uri": "https://localhost:8080/",
          "height": 34
        }
      },
      "source": [
        "od = elem.find('.//gml:sequenceRule', ns)\n",
        "od.attrib['order']"
      ],
      "execution_count": 0,
      "outputs": [
        {
          "output_type": "execute_result",
          "data": {
            "text/plain": [
              "'+x-y'"
            ]
          },
          "metadata": {
            "tags": []
          },
          "execution_count": 22
        }
      ]
    },
    {
      "cell_type": "code",
      "metadata": {
        "id": "5uVLb_bDnRDn",
        "colab_type": "code",
        "outputId": "aea40ede-992d-4109-d994-80e4b0174cd3",
        "colab": {
          "base_uri": "https://localhost:8080/",
          "height": 402
        }
      },
      "source": [
        "df['lon'] = ULX + df['x'] * Xsize\n",
        "df['lat'] = ULY - df['y'] * Ysize\n",
        "df"
      ],
      "execution_count": 0,
      "outputs": [
        {
          "output_type": "execute_result",
          "data": {
            "text/html": [
              "<div>\n",
              "<style scoped>\n",
              "    .dataframe tbody tr th:only-of-type {\n",
              "        vertical-align: middle;\n",
              "    }\n",
              "\n",
              "    .dataframe tbody tr th {\n",
              "        vertical-align: top;\n",
              "    }\n",
              "\n",
              "    .dataframe thead th {\n",
              "        text-align: right;\n",
              "    }\n",
              "</style>\n",
              "<table border=\"1\" class=\"dataframe\">\n",
              "  <thead>\n",
              "    <tr style=\"text-align: right;\">\n",
              "      <th></th>\n",
              "      <th>att</th>\n",
              "      <th>z</th>\n",
              "      <th>n</th>\n",
              "      <th>x</th>\n",
              "      <th>y</th>\n",
              "      <th>lon</th>\n",
              "      <th>lat</th>\n",
              "    </tr>\n",
              "  </thead>\n",
              "  <tbody>\n",
              "    <tr>\n",
              "      <th>0</th>\n",
              "      <td>地表面</td>\n",
              "      <td>1.21</td>\n",
              "      <td>2855</td>\n",
              "      <td>155</td>\n",
              "      <td>12</td>\n",
              "      <td>139.383611</td>\n",
              "      <td>34.049333</td>\n",
              "    </tr>\n",
              "    <tr>\n",
              "      <th>1</th>\n",
              "      <td>地表面</td>\n",
              "      <td>1.49</td>\n",
              "      <td>2856</td>\n",
              "      <td>156</td>\n",
              "      <td>12</td>\n",
              "      <td>139.383667</td>\n",
              "      <td>34.049333</td>\n",
              "    </tr>\n",
              "    <tr>\n",
              "      <th>2</th>\n",
              "      <td>地表面</td>\n",
              "      <td>1.18</td>\n",
              "      <td>2857</td>\n",
              "      <td>157</td>\n",
              "      <td>12</td>\n",
              "      <td>139.383722</td>\n",
              "      <td>34.049333</td>\n",
              "    </tr>\n",
              "    <tr>\n",
              "      <th>3</th>\n",
              "      <td>データなし</td>\n",
              "      <td>-9999.00</td>\n",
              "      <td>2858</td>\n",
              "      <td>158</td>\n",
              "      <td>12</td>\n",
              "      <td>139.383778</td>\n",
              "      <td>34.049333</td>\n",
              "    </tr>\n",
              "    <tr>\n",
              "      <th>4</th>\n",
              "      <td>データなし</td>\n",
              "      <td>-9999.00</td>\n",
              "      <td>2859</td>\n",
              "      <td>159</td>\n",
              "      <td>12</td>\n",
              "      <td>139.383833</td>\n",
              "      <td>34.049333</td>\n",
              "    </tr>\n",
              "    <tr>\n",
              "      <th>...</th>\n",
              "      <td>...</td>\n",
              "      <td>...</td>\n",
              "      <td>...</td>\n",
              "      <td>...</td>\n",
              "      <td>...</td>\n",
              "      <td>...</td>\n",
              "      <td>...</td>\n",
              "    </tr>\n",
              "    <tr>\n",
              "      <th>21160</th>\n",
              "      <td>データなし</td>\n",
              "      <td>-9999.00</td>\n",
              "      <td>24015</td>\n",
              "      <td>165</td>\n",
              "      <td>106</td>\n",
              "      <td>139.384167</td>\n",
              "      <td>34.044111</td>\n",
              "    </tr>\n",
              "    <tr>\n",
              "      <th>21161</th>\n",
              "      <td>データなし</td>\n",
              "      <td>-9999.00</td>\n",
              "      <td>24016</td>\n",
              "      <td>166</td>\n",
              "      <td>106</td>\n",
              "      <td>139.384222</td>\n",
              "      <td>34.044111</td>\n",
              "    </tr>\n",
              "    <tr>\n",
              "      <th>21162</th>\n",
              "      <td>データなし</td>\n",
              "      <td>-9999.00</td>\n",
              "      <td>24017</td>\n",
              "      <td>167</td>\n",
              "      <td>106</td>\n",
              "      <td>139.384278</td>\n",
              "      <td>34.044111</td>\n",
              "    </tr>\n",
              "    <tr>\n",
              "      <th>21163</th>\n",
              "      <td>データなし</td>\n",
              "      <td>-9999.00</td>\n",
              "      <td>24018</td>\n",
              "      <td>168</td>\n",
              "      <td>106</td>\n",
              "      <td>139.384333</td>\n",
              "      <td>34.044111</td>\n",
              "    </tr>\n",
              "    <tr>\n",
              "      <th>21164</th>\n",
              "      <td>地表面</td>\n",
              "      <td>2.13</td>\n",
              "      <td>24019</td>\n",
              "      <td>169</td>\n",
              "      <td>106</td>\n",
              "      <td>139.384389</td>\n",
              "      <td>34.044111</td>\n",
              "    </tr>\n",
              "  </tbody>\n",
              "</table>\n",
              "<p>21165 rows × 7 columns</p>\n",
              "</div>"
            ],
            "text/plain": [
              "         att        z      n    x    y         lon        lat\n",
              "0        地表面     1.21   2855  155   12  139.383611  34.049333\n",
              "1        地表面     1.49   2856  156   12  139.383667  34.049333\n",
              "2        地表面     1.18   2857  157   12  139.383722  34.049333\n",
              "3      データなし -9999.00   2858  158   12  139.383778  34.049333\n",
              "4      データなし -9999.00   2859  159   12  139.383833  34.049333\n",
              "...      ...      ...    ...  ...  ...         ...        ...\n",
              "21160  データなし -9999.00  24015  165  106  139.384167  34.044111\n",
              "21161  データなし -9999.00  24016  166  106  139.384222  34.044111\n",
              "21162  データなし -9999.00  24017  167  106  139.384278  34.044111\n",
              "21163  データなし -9999.00  24018  168  106  139.384333  34.044111\n",
              "21164    地表面     2.13  24019  169  106  139.384389  34.044111\n",
              "\n",
              "[21165 rows x 7 columns]"
            ]
          },
          "metadata": {
            "tags": []
          },
          "execution_count": 23
        }
      ]
    },
    {
      "cell_type": "markdown",
      "metadata": {
        "id": "lKjs13-yJ77z",
        "colab_type": "text"
      },
      "source": [
        "`lat`と`lon`で`z`をピボットする．\n",
        "値がない場所は`-9999`とする．"
      ]
    },
    {
      "cell_type": "code",
      "metadata": {
        "id": "BDjObzulJZ8q",
        "colab_type": "code",
        "outputId": "cc15721f-963f-4ae6-a8c0-2939216c6a41",
        "colab": {
          "base_uri": "https://localhost:8080/",
          "height": 451
        }
      },
      "source": [
        "dem = df.pivot_table(index = 'lat', columns = 'lon', values = 'z', fill_value = -9999)\n",
        "dem = dem.sort_index(ascending = False)\n",
        "dem"
      ],
      "execution_count": 0,
      "outputs": [
        {
          "output_type": "execute_result",
          "data": {
            "text/html": [
              "<div>\n",
              "<style scoped>\n",
              "    .dataframe tbody tr th:only-of-type {\n",
              "        vertical-align: middle;\n",
              "    }\n",
              "\n",
              "    .dataframe tbody tr th {\n",
              "        vertical-align: top;\n",
              "    }\n",
              "\n",
              "    .dataframe thead th {\n",
              "        text-align: right;\n",
              "    }\n",
              "</style>\n",
              "<table border=\"1\" class=\"dataframe\">\n",
              "  <thead>\n",
              "    <tr style=\"text-align: right;\">\n",
              "      <th>lon</th>\n",
              "      <th>139.375000</th>\n",
              "      <th>139.375056</th>\n",
              "      <th>139.375111</th>\n",
              "      <th>139.375167</th>\n",
              "      <th>139.375222</th>\n",
              "      <th>139.375278</th>\n",
              "      <th>139.375333</th>\n",
              "      <th>139.375389</th>\n",
              "      <th>139.375444</th>\n",
              "      <th>139.375500</th>\n",
              "      <th>139.375556</th>\n",
              "      <th>139.375611</th>\n",
              "      <th>139.375667</th>\n",
              "      <th>139.375722</th>\n",
              "      <th>139.375778</th>\n",
              "      <th>139.375833</th>\n",
              "      <th>139.375889</th>\n",
              "      <th>139.375944</th>\n",
              "      <th>139.376000</th>\n",
              "      <th>139.376056</th>\n",
              "      <th>139.376111</th>\n",
              "      <th>139.376167</th>\n",
              "      <th>139.376222</th>\n",
              "      <th>139.376278</th>\n",
              "      <th>139.376333</th>\n",
              "      <th>139.376389</th>\n",
              "      <th>139.376444</th>\n",
              "      <th>139.376500</th>\n",
              "      <th>139.376556</th>\n",
              "      <th>139.376611</th>\n",
              "      <th>139.376667</th>\n",
              "      <th>139.376722</th>\n",
              "      <th>139.376778</th>\n",
              "      <th>139.376833</th>\n",
              "      <th>139.376889</th>\n",
              "      <th>139.376944</th>\n",
              "      <th>139.377000</th>\n",
              "      <th>139.377056</th>\n",
              "      <th>139.377111</th>\n",
              "      <th>139.377167</th>\n",
              "      <th>...</th>\n",
              "      <th>139.385278</th>\n",
              "      <th>139.385333</th>\n",
              "      <th>139.385389</th>\n",
              "      <th>139.385444</th>\n",
              "      <th>139.385500</th>\n",
              "      <th>139.385556</th>\n",
              "      <th>139.385611</th>\n",
              "      <th>139.385667</th>\n",
              "      <th>139.385722</th>\n",
              "      <th>139.385778</th>\n",
              "      <th>139.385833</th>\n",
              "      <th>139.385889</th>\n",
              "      <th>139.385944</th>\n",
              "      <th>139.386000</th>\n",
              "      <th>139.386056</th>\n",
              "      <th>139.386111</th>\n",
              "      <th>139.386167</th>\n",
              "      <th>139.386222</th>\n",
              "      <th>139.386278</th>\n",
              "      <th>139.386333</th>\n",
              "      <th>139.386389</th>\n",
              "      <th>139.386444</th>\n",
              "      <th>139.386500</th>\n",
              "      <th>139.386556</th>\n",
              "      <th>139.386611</th>\n",
              "      <th>139.386667</th>\n",
              "      <th>139.386722</th>\n",
              "      <th>139.386778</th>\n",
              "      <th>139.386833</th>\n",
              "      <th>139.386889</th>\n",
              "      <th>139.386944</th>\n",
              "      <th>139.387000</th>\n",
              "      <th>139.387056</th>\n",
              "      <th>139.387111</th>\n",
              "      <th>139.387167</th>\n",
              "      <th>139.387222</th>\n",
              "      <th>139.387278</th>\n",
              "      <th>139.387333</th>\n",
              "      <th>139.387389</th>\n",
              "      <th>139.387444</th>\n",
              "    </tr>\n",
              "    <tr>\n",
              "      <th>lat</th>\n",
              "      <th></th>\n",
              "      <th></th>\n",
              "      <th></th>\n",
              "      <th></th>\n",
              "      <th></th>\n",
              "      <th></th>\n",
              "      <th></th>\n",
              "      <th></th>\n",
              "      <th></th>\n",
              "      <th></th>\n",
              "      <th></th>\n",
              "      <th></th>\n",
              "      <th></th>\n",
              "      <th></th>\n",
              "      <th></th>\n",
              "      <th></th>\n",
              "      <th></th>\n",
              "      <th></th>\n",
              "      <th></th>\n",
              "      <th></th>\n",
              "      <th></th>\n",
              "      <th></th>\n",
              "      <th></th>\n",
              "      <th></th>\n",
              "      <th></th>\n",
              "      <th></th>\n",
              "      <th></th>\n",
              "      <th></th>\n",
              "      <th></th>\n",
              "      <th></th>\n",
              "      <th></th>\n",
              "      <th></th>\n",
              "      <th></th>\n",
              "      <th></th>\n",
              "      <th></th>\n",
              "      <th></th>\n",
              "      <th></th>\n",
              "      <th></th>\n",
              "      <th></th>\n",
              "      <th></th>\n",
              "      <th></th>\n",
              "      <th></th>\n",
              "      <th></th>\n",
              "      <th></th>\n",
              "      <th></th>\n",
              "      <th></th>\n",
              "      <th></th>\n",
              "      <th></th>\n",
              "      <th></th>\n",
              "      <th></th>\n",
              "      <th></th>\n",
              "      <th></th>\n",
              "      <th></th>\n",
              "      <th></th>\n",
              "      <th></th>\n",
              "      <th></th>\n",
              "      <th></th>\n",
              "      <th></th>\n",
              "      <th></th>\n",
              "      <th></th>\n",
              "      <th></th>\n",
              "      <th></th>\n",
              "      <th></th>\n",
              "      <th></th>\n",
              "      <th></th>\n",
              "      <th></th>\n",
              "      <th></th>\n",
              "      <th></th>\n",
              "      <th></th>\n",
              "      <th></th>\n",
              "      <th></th>\n",
              "      <th></th>\n",
              "      <th></th>\n",
              "      <th></th>\n",
              "      <th></th>\n",
              "      <th></th>\n",
              "      <th></th>\n",
              "      <th></th>\n",
              "      <th></th>\n",
              "      <th></th>\n",
              "      <th></th>\n",
              "    </tr>\n",
              "  </thead>\n",
              "  <tbody>\n",
              "    <tr>\n",
              "      <th>34.049333</th>\n",
              "      <td>-9999</td>\n",
              "      <td>-9999</td>\n",
              "      <td>-9999</td>\n",
              "      <td>-9999</td>\n",
              "      <td>-9999</td>\n",
              "      <td>-9999</td>\n",
              "      <td>-9999</td>\n",
              "      <td>-9999</td>\n",
              "      <td>-9999</td>\n",
              "      <td>-9999</td>\n",
              "      <td>-9999</td>\n",
              "      <td>-9999</td>\n",
              "      <td>-9999</td>\n",
              "      <td>-9999</td>\n",
              "      <td>-9999</td>\n",
              "      <td>-9999</td>\n",
              "      <td>-9999</td>\n",
              "      <td>-9999</td>\n",
              "      <td>-9999</td>\n",
              "      <td>-9999</td>\n",
              "      <td>-9999</td>\n",
              "      <td>-9999</td>\n",
              "      <td>-9999</td>\n",
              "      <td>-9999</td>\n",
              "      <td>-9999</td>\n",
              "      <td>-9999</td>\n",
              "      <td>-9999</td>\n",
              "      <td>-9999</td>\n",
              "      <td>-9999</td>\n",
              "      <td>-9999</td>\n",
              "      <td>-9999</td>\n",
              "      <td>-9999</td>\n",
              "      <td>-9999</td>\n",
              "      <td>-9999</td>\n",
              "      <td>-9999</td>\n",
              "      <td>-9999</td>\n",
              "      <td>-9999</td>\n",
              "      <td>-9999</td>\n",
              "      <td>-9999</td>\n",
              "      <td>-9999</td>\n",
              "      <td>...</td>\n",
              "      <td>-9999.0</td>\n",
              "      <td>-9999.0</td>\n",
              "      <td>-9999.0</td>\n",
              "      <td>-9999.0</td>\n",
              "      <td>-9999.0</td>\n",
              "      <td>-9999.0</td>\n",
              "      <td>-9999.0</td>\n",
              "      <td>-9999.0</td>\n",
              "      <td>-9999.0</td>\n",
              "      <td>-9999.0</td>\n",
              "      <td>-9999.0</td>\n",
              "      <td>-9999.0</td>\n",
              "      <td>-9999.0</td>\n",
              "      <td>-9999.0</td>\n",
              "      <td>-9999.0</td>\n",
              "      <td>-9999.0</td>\n",
              "      <td>-9999</td>\n",
              "      <td>-9999</td>\n",
              "      <td>-9999</td>\n",
              "      <td>-9999</td>\n",
              "      <td>-9999</td>\n",
              "      <td>-9999</td>\n",
              "      <td>-9999</td>\n",
              "      <td>-9999</td>\n",
              "      <td>-9999</td>\n",
              "      <td>-9999</td>\n",
              "      <td>-9999</td>\n",
              "      <td>-9999</td>\n",
              "      <td>-9999</td>\n",
              "      <td>-9999</td>\n",
              "      <td>-9999</td>\n",
              "      <td>-9999</td>\n",
              "      <td>-9999</td>\n",
              "      <td>-9999</td>\n",
              "      <td>-9999</td>\n",
              "      <td>-9999</td>\n",
              "      <td>-9999</td>\n",
              "      <td>-9999</td>\n",
              "      <td>-9999</td>\n",
              "      <td>-9999</td>\n",
              "    </tr>\n",
              "    <tr>\n",
              "      <th>34.049278</th>\n",
              "      <td>-9999</td>\n",
              "      <td>-9999</td>\n",
              "      <td>-9999</td>\n",
              "      <td>-9999</td>\n",
              "      <td>-9999</td>\n",
              "      <td>-9999</td>\n",
              "      <td>-9999</td>\n",
              "      <td>-9999</td>\n",
              "      <td>-9999</td>\n",
              "      <td>-9999</td>\n",
              "      <td>-9999</td>\n",
              "      <td>-9999</td>\n",
              "      <td>-9999</td>\n",
              "      <td>-9999</td>\n",
              "      <td>-9999</td>\n",
              "      <td>-9999</td>\n",
              "      <td>-9999</td>\n",
              "      <td>-9999</td>\n",
              "      <td>-9999</td>\n",
              "      <td>-9999</td>\n",
              "      <td>-9999</td>\n",
              "      <td>-9999</td>\n",
              "      <td>-9999</td>\n",
              "      <td>-9999</td>\n",
              "      <td>-9999</td>\n",
              "      <td>-9999</td>\n",
              "      <td>-9999</td>\n",
              "      <td>-9999</td>\n",
              "      <td>-9999</td>\n",
              "      <td>-9999</td>\n",
              "      <td>-9999</td>\n",
              "      <td>-9999</td>\n",
              "      <td>-9999</td>\n",
              "      <td>-9999</td>\n",
              "      <td>-9999</td>\n",
              "      <td>-9999</td>\n",
              "      <td>-9999</td>\n",
              "      <td>-9999</td>\n",
              "      <td>-9999</td>\n",
              "      <td>-9999</td>\n",
              "      <td>...</td>\n",
              "      <td>-9999.0</td>\n",
              "      <td>-9999.0</td>\n",
              "      <td>-9999.0</td>\n",
              "      <td>-9999.0</td>\n",
              "      <td>-9999.0</td>\n",
              "      <td>-9999.0</td>\n",
              "      <td>-9999.0</td>\n",
              "      <td>-9999.0</td>\n",
              "      <td>-9999.0</td>\n",
              "      <td>-9999.0</td>\n",
              "      <td>-9999.0</td>\n",
              "      <td>-9999.0</td>\n",
              "      <td>-9999.0</td>\n",
              "      <td>-9999.0</td>\n",
              "      <td>-9999.0</td>\n",
              "      <td>-9999.0</td>\n",
              "      <td>-9999</td>\n",
              "      <td>-9999</td>\n",
              "      <td>-9999</td>\n",
              "      <td>-9999</td>\n",
              "      <td>-9999</td>\n",
              "      <td>-9999</td>\n",
              "      <td>-9999</td>\n",
              "      <td>-9999</td>\n",
              "      <td>-9999</td>\n",
              "      <td>-9999</td>\n",
              "      <td>-9999</td>\n",
              "      <td>-9999</td>\n",
              "      <td>-9999</td>\n",
              "      <td>-9999</td>\n",
              "      <td>-9999</td>\n",
              "      <td>-9999</td>\n",
              "      <td>-9999</td>\n",
              "      <td>-9999</td>\n",
              "      <td>-9999</td>\n",
              "      <td>-9999</td>\n",
              "      <td>-9999</td>\n",
              "      <td>-9999</td>\n",
              "      <td>-9999</td>\n",
              "      <td>-9999</td>\n",
              "    </tr>\n",
              "    <tr>\n",
              "      <th>34.049222</th>\n",
              "      <td>-9999</td>\n",
              "      <td>-9999</td>\n",
              "      <td>-9999</td>\n",
              "      <td>-9999</td>\n",
              "      <td>-9999</td>\n",
              "      <td>-9999</td>\n",
              "      <td>-9999</td>\n",
              "      <td>-9999</td>\n",
              "      <td>-9999</td>\n",
              "      <td>-9999</td>\n",
              "      <td>-9999</td>\n",
              "      <td>-9999</td>\n",
              "      <td>-9999</td>\n",
              "      <td>-9999</td>\n",
              "      <td>-9999</td>\n",
              "      <td>-9999</td>\n",
              "      <td>-9999</td>\n",
              "      <td>-9999</td>\n",
              "      <td>-9999</td>\n",
              "      <td>-9999</td>\n",
              "      <td>-9999</td>\n",
              "      <td>-9999</td>\n",
              "      <td>-9999</td>\n",
              "      <td>-9999</td>\n",
              "      <td>-9999</td>\n",
              "      <td>-9999</td>\n",
              "      <td>-9999</td>\n",
              "      <td>-9999</td>\n",
              "      <td>-9999</td>\n",
              "      <td>-9999</td>\n",
              "      <td>-9999</td>\n",
              "      <td>-9999</td>\n",
              "      <td>-9999</td>\n",
              "      <td>-9999</td>\n",
              "      <td>-9999</td>\n",
              "      <td>-9999</td>\n",
              "      <td>-9999</td>\n",
              "      <td>-9999</td>\n",
              "      <td>-9999</td>\n",
              "      <td>-9999</td>\n",
              "      <td>...</td>\n",
              "      <td>-9999.0</td>\n",
              "      <td>-9999.0</td>\n",
              "      <td>-9999.0</td>\n",
              "      <td>-9999.0</td>\n",
              "      <td>-9999.0</td>\n",
              "      <td>-9999.0</td>\n",
              "      <td>-9999.0</td>\n",
              "      <td>-9999.0</td>\n",
              "      <td>-9999.0</td>\n",
              "      <td>-9999.0</td>\n",
              "      <td>-9999.0</td>\n",
              "      <td>-9999.0</td>\n",
              "      <td>-9999.0</td>\n",
              "      <td>-9999.0</td>\n",
              "      <td>-9999.0</td>\n",
              "      <td>-9999.0</td>\n",
              "      <td>-9999</td>\n",
              "      <td>-9999</td>\n",
              "      <td>-9999</td>\n",
              "      <td>-9999</td>\n",
              "      <td>-9999</td>\n",
              "      <td>-9999</td>\n",
              "      <td>-9999</td>\n",
              "      <td>-9999</td>\n",
              "      <td>-9999</td>\n",
              "      <td>-9999</td>\n",
              "      <td>-9999</td>\n",
              "      <td>-9999</td>\n",
              "      <td>-9999</td>\n",
              "      <td>-9999</td>\n",
              "      <td>-9999</td>\n",
              "      <td>-9999</td>\n",
              "      <td>-9999</td>\n",
              "      <td>-9999</td>\n",
              "      <td>-9999</td>\n",
              "      <td>-9999</td>\n",
              "      <td>-9999</td>\n",
              "      <td>-9999</td>\n",
              "      <td>-9999</td>\n",
              "      <td>-9999</td>\n",
              "    </tr>\n",
              "    <tr>\n",
              "      <th>34.049167</th>\n",
              "      <td>-9999</td>\n",
              "      <td>-9999</td>\n",
              "      <td>-9999</td>\n",
              "      <td>-9999</td>\n",
              "      <td>-9999</td>\n",
              "      <td>-9999</td>\n",
              "      <td>-9999</td>\n",
              "      <td>-9999</td>\n",
              "      <td>-9999</td>\n",
              "      <td>-9999</td>\n",
              "      <td>-9999</td>\n",
              "      <td>-9999</td>\n",
              "      <td>-9999</td>\n",
              "      <td>-9999</td>\n",
              "      <td>-9999</td>\n",
              "      <td>-9999</td>\n",
              "      <td>-9999</td>\n",
              "      <td>-9999</td>\n",
              "      <td>-9999</td>\n",
              "      <td>-9999</td>\n",
              "      <td>-9999</td>\n",
              "      <td>-9999</td>\n",
              "      <td>-9999</td>\n",
              "      <td>-9999</td>\n",
              "      <td>-9999</td>\n",
              "      <td>-9999</td>\n",
              "      <td>-9999</td>\n",
              "      <td>-9999</td>\n",
              "      <td>-9999</td>\n",
              "      <td>-9999</td>\n",
              "      <td>-9999</td>\n",
              "      <td>-9999</td>\n",
              "      <td>-9999</td>\n",
              "      <td>-9999</td>\n",
              "      <td>-9999</td>\n",
              "      <td>-9999</td>\n",
              "      <td>-9999</td>\n",
              "      <td>-9999</td>\n",
              "      <td>-9999</td>\n",
              "      <td>-9999</td>\n",
              "      <td>...</td>\n",
              "      <td>-9999.0</td>\n",
              "      <td>-9999.0</td>\n",
              "      <td>-9999.0</td>\n",
              "      <td>-9999.0</td>\n",
              "      <td>-9999.0</td>\n",
              "      <td>-9999.0</td>\n",
              "      <td>-9999.0</td>\n",
              "      <td>-9999.0</td>\n",
              "      <td>-9999.0</td>\n",
              "      <td>-9999.0</td>\n",
              "      <td>-9999.0</td>\n",
              "      <td>-9999.0</td>\n",
              "      <td>-9999.0</td>\n",
              "      <td>-9999.0</td>\n",
              "      <td>-9999.0</td>\n",
              "      <td>-9999.0</td>\n",
              "      <td>-9999</td>\n",
              "      <td>-9999</td>\n",
              "      <td>-9999</td>\n",
              "      <td>-9999</td>\n",
              "      <td>-9999</td>\n",
              "      <td>-9999</td>\n",
              "      <td>-9999</td>\n",
              "      <td>-9999</td>\n",
              "      <td>-9999</td>\n",
              "      <td>-9999</td>\n",
              "      <td>-9999</td>\n",
              "      <td>-9999</td>\n",
              "      <td>-9999</td>\n",
              "      <td>-9999</td>\n",
              "      <td>-9999</td>\n",
              "      <td>-9999</td>\n",
              "      <td>-9999</td>\n",
              "      <td>-9999</td>\n",
              "      <td>-9999</td>\n",
              "      <td>-9999</td>\n",
              "      <td>-9999</td>\n",
              "      <td>-9999</td>\n",
              "      <td>-9999</td>\n",
              "      <td>-9999</td>\n",
              "    </tr>\n",
              "    <tr>\n",
              "      <th>34.049111</th>\n",
              "      <td>-9999</td>\n",
              "      <td>-9999</td>\n",
              "      <td>-9999</td>\n",
              "      <td>-9999</td>\n",
              "      <td>-9999</td>\n",
              "      <td>-9999</td>\n",
              "      <td>-9999</td>\n",
              "      <td>-9999</td>\n",
              "      <td>-9999</td>\n",
              "      <td>-9999</td>\n",
              "      <td>-9999</td>\n",
              "      <td>-9999</td>\n",
              "      <td>-9999</td>\n",
              "      <td>-9999</td>\n",
              "      <td>-9999</td>\n",
              "      <td>-9999</td>\n",
              "      <td>-9999</td>\n",
              "      <td>-9999</td>\n",
              "      <td>-9999</td>\n",
              "      <td>-9999</td>\n",
              "      <td>-9999</td>\n",
              "      <td>-9999</td>\n",
              "      <td>-9999</td>\n",
              "      <td>-9999</td>\n",
              "      <td>-9999</td>\n",
              "      <td>-9999</td>\n",
              "      <td>-9999</td>\n",
              "      <td>-9999</td>\n",
              "      <td>-9999</td>\n",
              "      <td>-9999</td>\n",
              "      <td>-9999</td>\n",
              "      <td>-9999</td>\n",
              "      <td>-9999</td>\n",
              "      <td>-9999</td>\n",
              "      <td>-9999</td>\n",
              "      <td>-9999</td>\n",
              "      <td>-9999</td>\n",
              "      <td>-9999</td>\n",
              "      <td>-9999</td>\n",
              "      <td>-9999</td>\n",
              "      <td>...</td>\n",
              "      <td>-9999.0</td>\n",
              "      <td>-9999.0</td>\n",
              "      <td>-9999.0</td>\n",
              "      <td>-9999.0</td>\n",
              "      <td>-9999.0</td>\n",
              "      <td>-9999.0</td>\n",
              "      <td>-9999.0</td>\n",
              "      <td>-9999.0</td>\n",
              "      <td>-9999.0</td>\n",
              "      <td>-9999.0</td>\n",
              "      <td>-9999.0</td>\n",
              "      <td>-9999.0</td>\n",
              "      <td>-9999.0</td>\n",
              "      <td>-9999.0</td>\n",
              "      <td>-9999.0</td>\n",
              "      <td>-9999.0</td>\n",
              "      <td>-9999</td>\n",
              "      <td>-9999</td>\n",
              "      <td>-9999</td>\n",
              "      <td>-9999</td>\n",
              "      <td>-9999</td>\n",
              "      <td>-9999</td>\n",
              "      <td>-9999</td>\n",
              "      <td>-9999</td>\n",
              "      <td>-9999</td>\n",
              "      <td>-9999</td>\n",
              "      <td>-9999</td>\n",
              "      <td>-9999</td>\n",
              "      <td>-9999</td>\n",
              "      <td>-9999</td>\n",
              "      <td>-9999</td>\n",
              "      <td>-9999</td>\n",
              "      <td>-9999</td>\n",
              "      <td>-9999</td>\n",
              "      <td>-9999</td>\n",
              "      <td>-9999</td>\n",
              "      <td>-9999</td>\n",
              "      <td>-9999</td>\n",
              "      <td>-9999</td>\n",
              "      <td>-9999</td>\n",
              "    </tr>\n",
              "    <tr>\n",
              "      <th>...</th>\n",
              "      <td>...</td>\n",
              "      <td>...</td>\n",
              "      <td>...</td>\n",
              "      <td>...</td>\n",
              "      <td>...</td>\n",
              "      <td>...</td>\n",
              "      <td>...</td>\n",
              "      <td>...</td>\n",
              "      <td>...</td>\n",
              "      <td>...</td>\n",
              "      <td>...</td>\n",
              "      <td>...</td>\n",
              "      <td>...</td>\n",
              "      <td>...</td>\n",
              "      <td>...</td>\n",
              "      <td>...</td>\n",
              "      <td>...</td>\n",
              "      <td>...</td>\n",
              "      <td>...</td>\n",
              "      <td>...</td>\n",
              "      <td>...</td>\n",
              "      <td>...</td>\n",
              "      <td>...</td>\n",
              "      <td>...</td>\n",
              "      <td>...</td>\n",
              "      <td>...</td>\n",
              "      <td>...</td>\n",
              "      <td>...</td>\n",
              "      <td>...</td>\n",
              "      <td>...</td>\n",
              "      <td>...</td>\n",
              "      <td>...</td>\n",
              "      <td>...</td>\n",
              "      <td>...</td>\n",
              "      <td>...</td>\n",
              "      <td>...</td>\n",
              "      <td>...</td>\n",
              "      <td>...</td>\n",
              "      <td>...</td>\n",
              "      <td>...</td>\n",
              "      <td>...</td>\n",
              "      <td>...</td>\n",
              "      <td>...</td>\n",
              "      <td>...</td>\n",
              "      <td>...</td>\n",
              "      <td>...</td>\n",
              "      <td>...</td>\n",
              "      <td>...</td>\n",
              "      <td>...</td>\n",
              "      <td>...</td>\n",
              "      <td>...</td>\n",
              "      <td>...</td>\n",
              "      <td>...</td>\n",
              "      <td>...</td>\n",
              "      <td>...</td>\n",
              "      <td>...</td>\n",
              "      <td>...</td>\n",
              "      <td>...</td>\n",
              "      <td>...</td>\n",
              "      <td>...</td>\n",
              "      <td>...</td>\n",
              "      <td>...</td>\n",
              "      <td>...</td>\n",
              "      <td>...</td>\n",
              "      <td>...</td>\n",
              "      <td>...</td>\n",
              "      <td>...</td>\n",
              "      <td>...</td>\n",
              "      <td>...</td>\n",
              "      <td>...</td>\n",
              "      <td>...</td>\n",
              "      <td>...</td>\n",
              "      <td>...</td>\n",
              "      <td>...</td>\n",
              "      <td>...</td>\n",
              "      <td>...</td>\n",
              "      <td>...</td>\n",
              "      <td>...</td>\n",
              "      <td>...</td>\n",
              "      <td>...</td>\n",
              "      <td>...</td>\n",
              "    </tr>\n",
              "    <tr>\n",
              "      <th>34.044333</th>\n",
              "      <td>-9999</td>\n",
              "      <td>-9999</td>\n",
              "      <td>-9999</td>\n",
              "      <td>-9999</td>\n",
              "      <td>-9999</td>\n",
              "      <td>-9999</td>\n",
              "      <td>-9999</td>\n",
              "      <td>-9999</td>\n",
              "      <td>-9999</td>\n",
              "      <td>-9999</td>\n",
              "      <td>-9999</td>\n",
              "      <td>-9999</td>\n",
              "      <td>-9999</td>\n",
              "      <td>-9999</td>\n",
              "      <td>-9999</td>\n",
              "      <td>-9999</td>\n",
              "      <td>-9999</td>\n",
              "      <td>-9999</td>\n",
              "      <td>-9999</td>\n",
              "      <td>-9999</td>\n",
              "      <td>-9999</td>\n",
              "      <td>-9999</td>\n",
              "      <td>-9999</td>\n",
              "      <td>-9999</td>\n",
              "      <td>-9999</td>\n",
              "      <td>-9999</td>\n",
              "      <td>-9999</td>\n",
              "      <td>-9999</td>\n",
              "      <td>-9999</td>\n",
              "      <td>-9999</td>\n",
              "      <td>-9999</td>\n",
              "      <td>-9999</td>\n",
              "      <td>-9999</td>\n",
              "      <td>-9999</td>\n",
              "      <td>-9999</td>\n",
              "      <td>-9999</td>\n",
              "      <td>-9999</td>\n",
              "      <td>-9999</td>\n",
              "      <td>-9999</td>\n",
              "      <td>-9999</td>\n",
              "      <td>...</td>\n",
              "      <td>-9999.0</td>\n",
              "      <td>-9999.0</td>\n",
              "      <td>-9999.0</td>\n",
              "      <td>-9999.0</td>\n",
              "      <td>-9999.0</td>\n",
              "      <td>-9999.0</td>\n",
              "      <td>-9999.0</td>\n",
              "      <td>-9999.0</td>\n",
              "      <td>-9999.0</td>\n",
              "      <td>-9999.0</td>\n",
              "      <td>-9999.0</td>\n",
              "      <td>-9999.0</td>\n",
              "      <td>-9999.0</td>\n",
              "      <td>-9999.0</td>\n",
              "      <td>-9999.0</td>\n",
              "      <td>-9999.0</td>\n",
              "      <td>-9999</td>\n",
              "      <td>-9999</td>\n",
              "      <td>-9999</td>\n",
              "      <td>-9999</td>\n",
              "      <td>-9999</td>\n",
              "      <td>-9999</td>\n",
              "      <td>-9999</td>\n",
              "      <td>-9999</td>\n",
              "      <td>-9999</td>\n",
              "      <td>-9999</td>\n",
              "      <td>-9999</td>\n",
              "      <td>-9999</td>\n",
              "      <td>-9999</td>\n",
              "      <td>-9999</td>\n",
              "      <td>-9999</td>\n",
              "      <td>-9999</td>\n",
              "      <td>-9999</td>\n",
              "      <td>-9999</td>\n",
              "      <td>-9999</td>\n",
              "      <td>-9999</td>\n",
              "      <td>-9999</td>\n",
              "      <td>-9999</td>\n",
              "      <td>-9999</td>\n",
              "      <td>-9999</td>\n",
              "    </tr>\n",
              "    <tr>\n",
              "      <th>34.044278</th>\n",
              "      <td>-9999</td>\n",
              "      <td>-9999</td>\n",
              "      <td>-9999</td>\n",
              "      <td>-9999</td>\n",
              "      <td>-9999</td>\n",
              "      <td>-9999</td>\n",
              "      <td>-9999</td>\n",
              "      <td>-9999</td>\n",
              "      <td>-9999</td>\n",
              "      <td>-9999</td>\n",
              "      <td>-9999</td>\n",
              "      <td>-9999</td>\n",
              "      <td>-9999</td>\n",
              "      <td>-9999</td>\n",
              "      <td>-9999</td>\n",
              "      <td>-9999</td>\n",
              "      <td>-9999</td>\n",
              "      <td>-9999</td>\n",
              "      <td>-9999</td>\n",
              "      <td>-9999</td>\n",
              "      <td>-9999</td>\n",
              "      <td>-9999</td>\n",
              "      <td>-9999</td>\n",
              "      <td>-9999</td>\n",
              "      <td>-9999</td>\n",
              "      <td>-9999</td>\n",
              "      <td>-9999</td>\n",
              "      <td>-9999</td>\n",
              "      <td>-9999</td>\n",
              "      <td>-9999</td>\n",
              "      <td>-9999</td>\n",
              "      <td>-9999</td>\n",
              "      <td>-9999</td>\n",
              "      <td>-9999</td>\n",
              "      <td>-9999</td>\n",
              "      <td>-9999</td>\n",
              "      <td>-9999</td>\n",
              "      <td>-9999</td>\n",
              "      <td>-9999</td>\n",
              "      <td>-9999</td>\n",
              "      <td>...</td>\n",
              "      <td>-9999.0</td>\n",
              "      <td>-9999.0</td>\n",
              "      <td>-9999.0</td>\n",
              "      <td>-9999.0</td>\n",
              "      <td>-9999.0</td>\n",
              "      <td>-9999.0</td>\n",
              "      <td>-9999.0</td>\n",
              "      <td>-9999.0</td>\n",
              "      <td>-9999.0</td>\n",
              "      <td>-9999.0</td>\n",
              "      <td>-9999.0</td>\n",
              "      <td>-9999.0</td>\n",
              "      <td>-9999.0</td>\n",
              "      <td>-9999.0</td>\n",
              "      <td>-9999.0</td>\n",
              "      <td>-9999.0</td>\n",
              "      <td>-9999</td>\n",
              "      <td>-9999</td>\n",
              "      <td>-9999</td>\n",
              "      <td>-9999</td>\n",
              "      <td>-9999</td>\n",
              "      <td>-9999</td>\n",
              "      <td>-9999</td>\n",
              "      <td>-9999</td>\n",
              "      <td>-9999</td>\n",
              "      <td>-9999</td>\n",
              "      <td>-9999</td>\n",
              "      <td>-9999</td>\n",
              "      <td>-9999</td>\n",
              "      <td>-9999</td>\n",
              "      <td>-9999</td>\n",
              "      <td>-9999</td>\n",
              "      <td>-9999</td>\n",
              "      <td>-9999</td>\n",
              "      <td>-9999</td>\n",
              "      <td>-9999</td>\n",
              "      <td>-9999</td>\n",
              "      <td>-9999</td>\n",
              "      <td>-9999</td>\n",
              "      <td>-9999</td>\n",
              "    </tr>\n",
              "    <tr>\n",
              "      <th>34.044222</th>\n",
              "      <td>-9999</td>\n",
              "      <td>-9999</td>\n",
              "      <td>-9999</td>\n",
              "      <td>-9999</td>\n",
              "      <td>-9999</td>\n",
              "      <td>-9999</td>\n",
              "      <td>-9999</td>\n",
              "      <td>-9999</td>\n",
              "      <td>-9999</td>\n",
              "      <td>-9999</td>\n",
              "      <td>-9999</td>\n",
              "      <td>-9999</td>\n",
              "      <td>-9999</td>\n",
              "      <td>-9999</td>\n",
              "      <td>-9999</td>\n",
              "      <td>-9999</td>\n",
              "      <td>-9999</td>\n",
              "      <td>-9999</td>\n",
              "      <td>-9999</td>\n",
              "      <td>-9999</td>\n",
              "      <td>-9999</td>\n",
              "      <td>-9999</td>\n",
              "      <td>-9999</td>\n",
              "      <td>-9999</td>\n",
              "      <td>-9999</td>\n",
              "      <td>-9999</td>\n",
              "      <td>-9999</td>\n",
              "      <td>-9999</td>\n",
              "      <td>-9999</td>\n",
              "      <td>-9999</td>\n",
              "      <td>-9999</td>\n",
              "      <td>-9999</td>\n",
              "      <td>-9999</td>\n",
              "      <td>-9999</td>\n",
              "      <td>-9999</td>\n",
              "      <td>-9999</td>\n",
              "      <td>-9999</td>\n",
              "      <td>-9999</td>\n",
              "      <td>-9999</td>\n",
              "      <td>-9999</td>\n",
              "      <td>...</td>\n",
              "      <td>-9999.0</td>\n",
              "      <td>-9999.0</td>\n",
              "      <td>-9999.0</td>\n",
              "      <td>-9999.0</td>\n",
              "      <td>-9999.0</td>\n",
              "      <td>-9999.0</td>\n",
              "      <td>-9999.0</td>\n",
              "      <td>-9999.0</td>\n",
              "      <td>-9999.0</td>\n",
              "      <td>-9999.0</td>\n",
              "      <td>-9999.0</td>\n",
              "      <td>-9999.0</td>\n",
              "      <td>-9999.0</td>\n",
              "      <td>-9999.0</td>\n",
              "      <td>-9999.0</td>\n",
              "      <td>-9999.0</td>\n",
              "      <td>-9999</td>\n",
              "      <td>-9999</td>\n",
              "      <td>-9999</td>\n",
              "      <td>-9999</td>\n",
              "      <td>-9999</td>\n",
              "      <td>-9999</td>\n",
              "      <td>-9999</td>\n",
              "      <td>-9999</td>\n",
              "      <td>-9999</td>\n",
              "      <td>-9999</td>\n",
              "      <td>-9999</td>\n",
              "      <td>-9999</td>\n",
              "      <td>-9999</td>\n",
              "      <td>-9999</td>\n",
              "      <td>-9999</td>\n",
              "      <td>-9999</td>\n",
              "      <td>-9999</td>\n",
              "      <td>-9999</td>\n",
              "      <td>-9999</td>\n",
              "      <td>-9999</td>\n",
              "      <td>-9999</td>\n",
              "      <td>-9999</td>\n",
              "      <td>-9999</td>\n",
              "      <td>-9999</td>\n",
              "    </tr>\n",
              "    <tr>\n",
              "      <th>34.044167</th>\n",
              "      <td>-9999</td>\n",
              "      <td>-9999</td>\n",
              "      <td>-9999</td>\n",
              "      <td>-9999</td>\n",
              "      <td>-9999</td>\n",
              "      <td>-9999</td>\n",
              "      <td>-9999</td>\n",
              "      <td>-9999</td>\n",
              "      <td>-9999</td>\n",
              "      <td>-9999</td>\n",
              "      <td>-9999</td>\n",
              "      <td>-9999</td>\n",
              "      <td>-9999</td>\n",
              "      <td>-9999</td>\n",
              "      <td>-9999</td>\n",
              "      <td>-9999</td>\n",
              "      <td>-9999</td>\n",
              "      <td>-9999</td>\n",
              "      <td>-9999</td>\n",
              "      <td>-9999</td>\n",
              "      <td>-9999</td>\n",
              "      <td>-9999</td>\n",
              "      <td>-9999</td>\n",
              "      <td>-9999</td>\n",
              "      <td>-9999</td>\n",
              "      <td>-9999</td>\n",
              "      <td>-9999</td>\n",
              "      <td>-9999</td>\n",
              "      <td>-9999</td>\n",
              "      <td>-9999</td>\n",
              "      <td>-9999</td>\n",
              "      <td>-9999</td>\n",
              "      <td>-9999</td>\n",
              "      <td>-9999</td>\n",
              "      <td>-9999</td>\n",
              "      <td>-9999</td>\n",
              "      <td>-9999</td>\n",
              "      <td>-9999</td>\n",
              "      <td>-9999</td>\n",
              "      <td>-9999</td>\n",
              "      <td>...</td>\n",
              "      <td>-9999.0</td>\n",
              "      <td>-9999.0</td>\n",
              "      <td>-9999.0</td>\n",
              "      <td>-9999.0</td>\n",
              "      <td>-9999.0</td>\n",
              "      <td>-9999.0</td>\n",
              "      <td>-9999.0</td>\n",
              "      <td>-9999.0</td>\n",
              "      <td>-9999.0</td>\n",
              "      <td>-9999.0</td>\n",
              "      <td>-9999.0</td>\n",
              "      <td>-9999.0</td>\n",
              "      <td>-9999.0</td>\n",
              "      <td>-9999.0</td>\n",
              "      <td>-9999.0</td>\n",
              "      <td>-9999.0</td>\n",
              "      <td>-9999</td>\n",
              "      <td>-9999</td>\n",
              "      <td>-9999</td>\n",
              "      <td>-9999</td>\n",
              "      <td>-9999</td>\n",
              "      <td>-9999</td>\n",
              "      <td>-9999</td>\n",
              "      <td>-9999</td>\n",
              "      <td>-9999</td>\n",
              "      <td>-9999</td>\n",
              "      <td>-9999</td>\n",
              "      <td>-9999</td>\n",
              "      <td>-9999</td>\n",
              "      <td>-9999</td>\n",
              "      <td>-9999</td>\n",
              "      <td>-9999</td>\n",
              "      <td>-9999</td>\n",
              "      <td>-9999</td>\n",
              "      <td>-9999</td>\n",
              "      <td>-9999</td>\n",
              "      <td>-9999</td>\n",
              "      <td>-9999</td>\n",
              "      <td>-9999</td>\n",
              "      <td>-9999</td>\n",
              "    </tr>\n",
              "    <tr>\n",
              "      <th>34.044111</th>\n",
              "      <td>-9999</td>\n",
              "      <td>-9999</td>\n",
              "      <td>-9999</td>\n",
              "      <td>-9999</td>\n",
              "      <td>-9999</td>\n",
              "      <td>-9999</td>\n",
              "      <td>-9999</td>\n",
              "      <td>-9999</td>\n",
              "      <td>-9999</td>\n",
              "      <td>-9999</td>\n",
              "      <td>-9999</td>\n",
              "      <td>-9999</td>\n",
              "      <td>-9999</td>\n",
              "      <td>-9999</td>\n",
              "      <td>-9999</td>\n",
              "      <td>-9999</td>\n",
              "      <td>-9999</td>\n",
              "      <td>-9999</td>\n",
              "      <td>-9999</td>\n",
              "      <td>-9999</td>\n",
              "      <td>-9999</td>\n",
              "      <td>-9999</td>\n",
              "      <td>-9999</td>\n",
              "      <td>-9999</td>\n",
              "      <td>-9999</td>\n",
              "      <td>-9999</td>\n",
              "      <td>-9999</td>\n",
              "      <td>-9999</td>\n",
              "      <td>-9999</td>\n",
              "      <td>-9999</td>\n",
              "      <td>-9999</td>\n",
              "      <td>-9999</td>\n",
              "      <td>-9999</td>\n",
              "      <td>-9999</td>\n",
              "      <td>-9999</td>\n",
              "      <td>-9999</td>\n",
              "      <td>-9999</td>\n",
              "      <td>-9999</td>\n",
              "      <td>-9999</td>\n",
              "      <td>-9999</td>\n",
              "      <td>...</td>\n",
              "      <td>-9999.0</td>\n",
              "      <td>-9999.0</td>\n",
              "      <td>-9999.0</td>\n",
              "      <td>-9999.0</td>\n",
              "      <td>-9999.0</td>\n",
              "      <td>-9999.0</td>\n",
              "      <td>-9999.0</td>\n",
              "      <td>-9999.0</td>\n",
              "      <td>-9999.0</td>\n",
              "      <td>-9999.0</td>\n",
              "      <td>-9999.0</td>\n",
              "      <td>-9999.0</td>\n",
              "      <td>-9999.0</td>\n",
              "      <td>-9999.0</td>\n",
              "      <td>-9999.0</td>\n",
              "      <td>-9999.0</td>\n",
              "      <td>-9999</td>\n",
              "      <td>-9999</td>\n",
              "      <td>-9999</td>\n",
              "      <td>-9999</td>\n",
              "      <td>-9999</td>\n",
              "      <td>-9999</td>\n",
              "      <td>-9999</td>\n",
              "      <td>-9999</td>\n",
              "      <td>-9999</td>\n",
              "      <td>-9999</td>\n",
              "      <td>-9999</td>\n",
              "      <td>-9999</td>\n",
              "      <td>-9999</td>\n",
              "      <td>-9999</td>\n",
              "      <td>-9999</td>\n",
              "      <td>-9999</td>\n",
              "      <td>-9999</td>\n",
              "      <td>-9999</td>\n",
              "      <td>-9999</td>\n",
              "      <td>-9999</td>\n",
              "      <td>-9999</td>\n",
              "      <td>-9999</td>\n",
              "      <td>-9999</td>\n",
              "      <td>-9999</td>\n",
              "    </tr>\n",
              "  </tbody>\n",
              "</table>\n",
              "<p>95 rows × 225 columns</p>\n",
              "</div>"
            ],
            "text/plain": [
              "lon        139.375000  139.375056  ...  139.387389  139.387444\n",
              "lat                                ...                        \n",
              "34.049333       -9999       -9999  ...       -9999       -9999\n",
              "34.049278       -9999       -9999  ...       -9999       -9999\n",
              "34.049222       -9999       -9999  ...       -9999       -9999\n",
              "34.049167       -9999       -9999  ...       -9999       -9999\n",
              "34.049111       -9999       -9999  ...       -9999       -9999\n",
              "...               ...         ...  ...         ...         ...\n",
              "34.044333       -9999       -9999  ...       -9999       -9999\n",
              "34.044278       -9999       -9999  ...       -9999       -9999\n",
              "34.044222       -9999       -9999  ...       -9999       -9999\n",
              "34.044167       -9999       -9999  ...       -9999       -9999\n",
              "34.044111       -9999       -9999  ...       -9999       -9999\n",
              "\n",
              "[95 rows x 225 columns]"
            ]
          },
          "metadata": {
            "tags": []
          },
          "execution_count": 24
        }
      ]
    },
    {
      "cell_type": "markdown",
      "metadata": {
        "id": "fomv6_Kkt5_s",
        "colab_type": "text"
      },
      "source": [
        "ピボットした標高行列をnumpyのnp.ndarrayに変換する．"
      ]
    },
    {
      "cell_type": "code",
      "metadata": {
        "id": "-ksrm-FXJ57C",
        "colab_type": "code",
        "outputId": "c4732c3f-49be-49b9-e972-24865629bfc0",
        "colab": {
          "base_uri": "https://localhost:8080/",
          "height": 151
        }
      },
      "source": [
        "demp=dem.values.astype(np.float32)\n",
        "demp"
      ],
      "execution_count": 0,
      "outputs": [
        {
          "output_type": "execute_result",
          "data": {
            "text/plain": [
              "array([[-9999., -9999., -9999., ..., -9999., -9999., -9999.],\n",
              "       [-9999., -9999., -9999., ..., -9999., -9999., -9999.],\n",
              "       [-9999., -9999., -9999., ..., -9999., -9999., -9999.],\n",
              "       ...,\n",
              "       [-9999., -9999., -9999., ..., -9999., -9999., -9999.],\n",
              "       [-9999., -9999., -9999., ..., -9999., -9999., -9999.],\n",
              "       [-9999., -9999., -9999., ..., -9999., -9999., -9999.]],\n",
              "      dtype=float32)"
            ]
          },
          "metadata": {
            "tags": []
          },
          "execution_count": 25
        }
      ]
    },
    {
      "cell_type": "code",
      "metadata": {
        "scrolled": false,
        "id": "1MsgJP8SxyHy",
        "colab_type": "code",
        "outputId": "b0c5338f-88f0-496f-dc0e-cca91b600f59",
        "colab": {
          "base_uri": "https://localhost:8080/",
          "height": 574
        }
      },
      "source": [
        "plt.figure(figsize = (10, 10))\n",
        "im = plt.imshow(demp, cmap = \"terrain\",vmin = -10)\n",
        "plt.colorbar(im)\n",
        "plt.show()\n",
        "#plt.savefig('slope_c.png')"
      ],
      "execution_count": 0,
      "outputs": [
        {
          "output_type": "display_data",
          "data": {
            "image/png": "[encoded data removed]",
            "text/plain": [
              "<Figure size 720x720 with 2 Axes>"
            ]
          },
          "metadata": {
            "tags": []
          }
        }
      ]
    },
    {
      "cell_type": "markdown",
      "metadata": {
        "id": "PIqBG6Uyic18",
        "colab_type": "text"
      },
      "source": [
        "GeoTiffで書き出し\n"
      ]
    },
    {
      "cell_type": "code",
      "metadata": {
        "id": "URVuifQlifjp",
        "colab_type": "code",
        "colab": {}
      },
      "source": [
        "trans = [min(df['lon']), Xsize, 0, max(df['lat']), 0, -Ysize]\n",
        "\n",
        "srs = osgeo.osr.SpatialReference()\n",
        "srs.ImportFromEPSG(4612)\n",
        "driver = osgeo.gdal.GetDriverByName('GTiff')\n",
        "output = driver.Create(base_dir + 'test.tif', demp.shape[1], demp.shape[0], 1, osgeo.gdal.GDT_Float32)\n",
        "output.GetRasterBand(1).WriteArray(demp)\n",
        "#output.GetRasterBand(1).WriteArray(demp)\n",
        "\n",
        "output.GetRasterBand(1).SetNoDataValue(-9999)\n",
        "output.SetGeoTransform(trans)\n",
        "output.SetProjection(srs.ExportToWkt())\n",
        "output.FlushCache()\n",
        "output = None"
      ],
      "execution_count": 0,
      "outputs": []
    },
    {
      "cell_type": "code",
      "metadata": {
        "id": "pYki_UrRrVWb",
        "colab_type": "code",
        "outputId": "c281de0f-0c0c-4d27-80dd-a9077816d2bd",
        "colab": {
          "base_uri": "https://localhost:8080/",
          "height": 34
        }
      },
      "source": [
        "\n",
        "demp.shape"
      ],
      "execution_count": 0,
      "outputs": [
        {
          "output_type": "execute_result",
          "data": {
            "text/plain": [
              "(95, 225)"
            ]
          },
          "metadata": {
            "tags": []
          },
          "execution_count": 28
        }
      ]
    },
    {
      "cell_type": "markdown",
      "metadata": {
        "id": "3L_wYHCriGaE",
        "colab_type": "text"
      },
      "source": [
        "全部入りのプログラム"
      ]
    },
    {
      "cell_type": "code",
      "metadata": {
        "id": "StSLy80AKiAM",
        "colab_type": "code",
        "outputId": "2386a5f2-6d56-400f-8db6-376a79e6fba5",
        "colab": {
          "base_uri": "https://localhost:8080/",
          "height": 746
        }
      },
      "source": [
        "import xml.etree.ElementTree as ET\n",
        "import numpy as np\n",
        "import seaborn as sns\n",
        "import matplotlib.pyplot as plt\n",
        "import matplotlib.colors as colors\n",
        "#import math\n",
        "import glob\n",
        "import pandas as pd\n",
        "import io\n",
        "from osgeo import gdal, gdalconst, gdal_array, osr\n",
        "#from pysheds.grid import Grid\n",
        "\n",
        "from google.colab import drive\n",
        "\n",
        "drive.mount('/content/drive')\n",
        "base_dir = \"/content/drive/My Drive/gisday2019/\"\n",
        "\n",
        "ns = {'default': 'http://fgd.gsi.go.jp/spec/2008/FGD_GMLSchema',\n",
        "  'xlink': 'http://www.w3.org/1999/xlink',\n",
        "  'xsi': 'http://www.w3.org/2001/XMLSchema-instance',\n",
        "  'gml': 'http://www.opengis.net/gml/3.2'}\n",
        "\n",
        "infiles = glob.glob(base_dir + '/GSI-DEM/*.xml')\n",
        "dfall = pd.DataFrame()\n",
        "\n",
        "# ここからループする\n",
        "\n",
        "for infile in infiles:\n",
        "  tree = ET.parse(infile)\n",
        "  elem = tree.getroot()\n",
        "\n",
        "  lowercorner = elem.find('.//gml:lowerCorner', ns)\n",
        "  uppercorner = elem.find('.//gml:upperCorner', ns)\n",
        "\n",
        "  tuplelist = elem.find(\".//gml:tupleList\", ns)\n",
        "  df = pd.read_csv(io.StringIO(tuplelist.text), header = None)\n",
        "  df.columns = ['att', 'z']\n",
        "\n",
        "  startPoint = elem.find('.//gml:startPoint', ns).text.split(' ')\n",
        "  startPointX = int(startPoint[0])\n",
        "  startPointY = int(startPoint[1])\n",
        "\n",
        "  cols = int(elem.find(\".//gml:high\", ns).text.split(' ')[0]) + 1\n",
        "  rows = int(elem.find(\".//gml:high\", ns).text.split(' ')[1]) + 1\n",
        "\n",
        "  start = startPointX + (cols * startPointY)\n",
        "  end = int(df.shape[0])\n",
        "\n",
        "  df['n'] = list(range(start, start + end))\n",
        "  df['x'] = (df['n'] % cols)\n",
        "  df['y'] = (df['n'] // cols)\n",
        "\n",
        "  uppercorner = elem.find('.//gml:upperCorner', ns)\n",
        "  lowercorner = elem.find('.//gml:lowerCorner', ns)\n",
        "\n",
        "  ULX = float(lowercorner.text.split(' ')[1])\n",
        "  ULY = float(uppercorner.text.split(' ')[0])\n",
        "  LRX = float(uppercorner.text.split(' ')[1])\n",
        "  LRY = float(lowercorner.text.split(' ')[0])\n",
        "\n",
        "  Xsize = (LRX - ULX) / cols\n",
        "  Ysize = (ULY - LRY) / rows\n",
        "\n",
        "  df['lon'] = ULX + df['x'] * Xsize\n",
        "  df['lat'] = ULY - df['y'] * Ysize\n",
        "\n",
        "  dfall = dfall.append(df)\n",
        "\n",
        "\n",
        "#データがない部分用のダミーデータを作る\n",
        "d1 = pd.DataFrame()\n",
        "d2 = pd.DataFrame()\n",
        "d1['lon'] = list(np.arange(min(dfall['lon']), max(dfall['lon']), Xsize))\n",
        "d1['lat'] = min(dfall['lat'])\n",
        "d1['z'] = -9999\n",
        "\n",
        "d2['lon'] = min(dfall['lon'])\n",
        "d2['lat'] = list(np.arange(min(dfall['lat']), max(dfall['lat']), Ysize))\n",
        "d2['z'] = -9999\n",
        "\n",
        "df.append(d1).append(d2)\n",
        "\n",
        "dem = dfall.pivot_table(index = 'lat', columns = 'lon', values = 'z', fill_value = -9999)\n",
        "dem = dem.sort_index(ascending = False)\n",
        "\n",
        "\n",
        "demp = dem.values.astype(np.float32)\n",
        "\n",
        "plt.figure(figsize = (10, 10))\n",
        "# im = plt.imshow(demp, cmap = \"terrain\",vmin = -10)\n",
        "im = plt.imshow(demp, cmap = \"terrain\")\n",
        "\n",
        "plt.colorbar(im)\n",
        "plt.show()\n",
        "\n",
        "\n",
        "trans = [min(dfall['lon']), Xsize, 0, max(dfall['lat']), 0, -Ysize]\n",
        "\n",
        "srs = osgeo.osr.SpatialReference()\n",
        "srs.ImportFromEPSG(4612)\n",
        "driver = osgeo.gdal.GetDriverByName('GTiff')\n",
        "output = driver.Create(base_dir + 'test.tif', demp.shape[1], demp.shape[0], 1, osgeo.gdal.GDT_Float32)\n",
        "output.GetRasterBand(1).WriteArray(demp)\n",
        "output.GetRasterBand(1).SetNoDataValue(-9999)\n",
        "\n",
        "output.SetGeoTransform(trans)\n",
        "output.SetProjection(srs.ExportToWkt())\n",
        "output.FlushCache()\n",
        "output = None\n",
        "\n",
        "\n",
        "\n",
        "\n"
      ],
      "execution_count": 29,
      "outputs": [
        {
          "output_type": "stream",
          "text": [
            "Drive already mounted at /content/drive; to attempt to forcibly remount, call drive.mount(\"/content/drive\", force_remount=True).\n"
          ],
          "name": "stdout"
        },
        {
          "output_type": "stream",
          "text": [
            "/usr/local/lib/python3.6/dist-packages/pandas/core/frame.py:7138: FutureWarning: Sorting because non-concatenation axis is not aligned. A future version\n",
            "of pandas will change to not sort by default.\n",
            "\n",
            "To accept the future behavior, pass 'sort=False'.\n",
            "\n",
            "To retain the current behavior and silence the warning, pass 'sort=True'.\n",
            "\n",
            "  sort=sort,\n"
          ],
          "name": "stderr"
        },
        {
          "output_type": "display_data",
          "data": {
            "image/png": "[encoded data removed]",
            "text/plain": [
              "<Figure size 720x720 with 2 Axes>"
            ]
          },
          "metadata": {
            "tags": []
          }
        }
      ]
    },
    {
      "cell_type": "code",
      "metadata": {
        "id": "lnnpmRSdTcXy",
        "colab_type": "code",
        "outputId": "3844b978-4534-4577-9e45-18e211816102",
        "colab": {
          "base_uri": "https://localhost:8080/",
          "height": 574
        }
      },
      "source": [
        "plt.figure(figsize = (10, 10))\n",
        "im = plt.imshow(demp[600:850, 750:1000], cmap = \"terrain\",vmin = -10)\n",
        "plt.colorbar(im)\n",
        "plt.show()"
      ],
      "execution_count": 0,
      "outputs": [
        {
          "output_type": "display_data",
          "data": {
            "image/png": "[encoded data removed]",
            "text/plain": [
              "<Figure size 720x720 with 2 Axes>"
            ]
          },
          "metadata": {
            "tags": []
          }
        }
      ]
    },
    {
      "cell_type": "code",
      "metadata": {
        "id": "ntylumJFP9eJ",
        "colab_type": "code",
        "outputId": "28345611-50da-47a1-8a0d-7e2e18ab2e1d",
        "colab": {
          "base_uri": "https://localhost:8080/",
          "height": 1000
        }
      },
      "source": [
        "infiles"
      ],
      "execution_count": 0,
      "outputs": [
        {
          "output_type": "execute_result",
          "data": {
            "text/plain": [
              "['/content/drive/My Drive/gisday2019//GSI-DEM/FG-GML-5139-03-50-DEM5A-20161001.xml',\n",
              " '/content/drive/My Drive/gisday2019//GSI-DEM/FG-GML-5139-03-59-DEM5A-20161001.xml',\n",
              " '/content/drive/My Drive/gisday2019//GSI-DEM/FG-GML-5139-03-68-DEM5A-20161001.xml',\n",
              " '/content/drive/My Drive/gisday2019//GSI-DEM/FG-GML-5139-03-69-DEM5A-20161001.xml',\n",
              " '/content/drive/My Drive/gisday2019//GSI-DEM/FG-GML-5139-03-78-DEM5A-20161001.xml',\n",
              " '/content/drive/My Drive/gisday2019//GSI-DEM/FG-GML-5139-03-79-DEM5A-20161001.xml',\n",
              " '/content/drive/My Drive/gisday2019//GSI-DEM/FG-GML-5139-03-87-DEM5A-20161001.xml',\n",
              " '/content/drive/My Drive/gisday2019//GSI-DEM/FG-GML-5139-03-88-DEM5A-20161001.xml',\n",
              " '/content/drive/My Drive/gisday2019//GSI-DEM/FG-GML-5139-03-89-DEM5A-20161001.xml',\n",
              " '/content/drive/My Drive/gisday2019//GSI-DEM/FG-GML-5139-03-97-DEM5A-20161001.xml',\n",
              " '/content/drive/My Drive/gisday2019//GSI-DEM/FG-GML-5139-03-98-DEM5A-20161001.xml',\n",
              " '/content/drive/My Drive/gisday2019//GSI-DEM/FG-GML-5139-03-99-DEM5A-20161001.xml',\n",
              " '/content/drive/My Drive/gisday2019//GSI-DEM/FG-GML-5139-04-50-DEM5A-20161001.xml',\n",
              " '/content/drive/My Drive/gisday2019//GSI-DEM/FG-GML-5139-04-51-DEM5A-20161001.xml',\n",
              " '/content/drive/My Drive/gisday2019//GSI-DEM/FG-GML-5139-04-52-DEM5A-20161001.xml',\n",
              " '/content/drive/My Drive/gisday2019//GSI-DEM/FG-GML-5139-04-60-DEM5A-20161001.xml',\n",
              " '/content/drive/My Drive/gisday2019//GSI-DEM/FG-GML-5139-04-61-DEM5A-20161001.xml',\n",
              " '/content/drive/My Drive/gisday2019//GSI-DEM/FG-GML-5139-04-62-DEM5A-20161001.xml',\n",
              " '/content/drive/My Drive/gisday2019//GSI-DEM/FG-GML-5139-04-63-DEM5A-20161001.xml',\n",
              " '/content/drive/My Drive/gisday2019//GSI-DEM/FG-GML-5139-04-70-DEM5A-20161001.xml',\n",
              " '/content/drive/My Drive/gisday2019//GSI-DEM/FG-GML-5139-04-71-DEM5A-20161001.xml',\n",
              " '/content/drive/My Drive/gisday2019//GSI-DEM/FG-GML-5139-04-72-DEM5A-20161001.xml',\n",
              " '/content/drive/My Drive/gisday2019//GSI-DEM/FG-GML-5139-04-73-DEM5A-20161001.xml',\n",
              " '/content/drive/My Drive/gisday2019//GSI-DEM/FG-GML-5139-04-74-DEM5A-20161001.xml',\n",
              " '/content/drive/My Drive/gisday2019//GSI-DEM/FG-GML-5139-04-80-DEM5A-20161001.xml',\n",
              " '/content/drive/My Drive/gisday2019//GSI-DEM/FG-GML-5139-04-81-DEM5A-20161001.xml',\n",
              " '/content/drive/My Drive/gisday2019//GSI-DEM/FG-GML-5139-04-82-DEM5A-20161001.xml',\n",
              " '/content/drive/My Drive/gisday2019//GSI-DEM/FG-GML-5139-04-83-DEM5A-20161001.xml',\n",
              " '/content/drive/My Drive/gisday2019//GSI-DEM/FG-GML-5139-04-84-DEM5A-20161001.xml',\n",
              " '/content/drive/My Drive/gisday2019//GSI-DEM/FG-GML-5139-04-85-DEM5A-20161001.xml',\n",
              " '/content/drive/My Drive/gisday2019//GSI-DEM/FG-GML-5139-04-90-DEM5A-20161001.xml',\n",
              " '/content/drive/My Drive/gisday2019//GSI-DEM/FG-GML-5139-04-91-DEM5A-20161001.xml',\n",
              " '/content/drive/My Drive/gisday2019//GSI-DEM/FG-GML-5139-04-92-DEM5A-20161001.xml',\n",
              " '/content/drive/My Drive/gisday2019//GSI-DEM/FG-GML-5139-04-93-DEM5A-20161001.xml',\n",
              " '/content/drive/My Drive/gisday2019//GSI-DEM/FG-GML-5139-04-94-DEM5A-20161001.xml',\n",
              " '/content/drive/My Drive/gisday2019//GSI-DEM/FG-GML-5139-04-95-DEM5A-20161001.xml',\n",
              " '/content/drive/My Drive/gisday2019//GSI-DEM/FG-GML-5139-13-08-DEM5A-20161001.xml',\n",
              " '/content/drive/My Drive/gisday2019//GSI-DEM/FG-GML-5139-13-09-DEM5A-20161001.xml',\n",
              " '/content/drive/My Drive/gisday2019//GSI-DEM/FG-GML-5139-13-18-DEM5A-20161001.xml',\n",
              " '/content/drive/My Drive/gisday2019//GSI-DEM/FG-GML-5139-13-19-DEM5A-20161001.xml',\n",
              " '/content/drive/My Drive/gisday2019//GSI-DEM/FG-GML-5139-13-29-DEM5A-20161001.xml',\n",
              " '/content/drive/My Drive/gisday2019//GSI-DEM/FG-GML-5139-13-39-DEM5A-20161001.xml',\n",
              " '/content/drive/My Drive/gisday2019//GSI-DEM/FG-GML-5139-13-49-DEM5A-20161001.xml',\n",
              " '/content/drive/My Drive/gisday2019//GSI-DEM/FG-GML-5139-14-00-DEM5A-20161001.xml',\n",
              " '/content/drive/My Drive/gisday2019//GSI-DEM/FG-GML-5139-14-01-DEM5A-20161001.xml',\n",
              " '/content/drive/My Drive/gisday2019//GSI-DEM/FG-GML-5139-14-02-DEM5A-20161001.xml',\n",
              " '/content/drive/My Drive/gisday2019//GSI-DEM/FG-GML-5139-14-03-DEM5A-20161001.xml',\n",
              " '/content/drive/My Drive/gisday2019//GSI-DEM/FG-GML-5139-14-04-DEM5A-20161001.xml',\n",
              " '/content/drive/My Drive/gisday2019//GSI-DEM/FG-GML-5139-14-05-DEM5A-20161001.xml',\n",
              " '/content/drive/My Drive/gisday2019//GSI-DEM/FG-GML-5139-14-10-DEM5A-20161001.xml',\n",
              " '/content/drive/My Drive/gisday2019//GSI-DEM/FG-GML-5139-14-11-DEM5A-20161001.xml',\n",
              " '/content/drive/My Drive/gisday2019//GSI-DEM/FG-GML-5139-14-12-DEM5A-20161001.xml',\n",
              " '/content/drive/My Drive/gisday2019//GSI-DEM/FG-GML-5139-14-13-DEM5A-20161001.xml',\n",
              " '/content/drive/My Drive/gisday2019//GSI-DEM/FG-GML-5139-14-14-DEM5A-20161001.xml',\n",
              " '/content/drive/My Drive/gisday2019//GSI-DEM/FG-GML-5139-14-15-DEM5A-20161001.xml',\n",
              " '/content/drive/My Drive/gisday2019//GSI-DEM/FG-GML-5139-14-20-DEM5A-20161001.xml',\n",
              " '/content/drive/My Drive/gisday2019//GSI-DEM/FG-GML-5139-14-21-DEM5A-20161001.xml',\n",
              " '/content/drive/My Drive/gisday2019//GSI-DEM/FG-GML-5139-14-22-DEM5A-20161001.xml',\n",
              " '/content/drive/My Drive/gisday2019//GSI-DEM/FG-GML-5139-14-23-DEM5A-20161001.xml',\n",
              " '/content/drive/My Drive/gisday2019//GSI-DEM/FG-GML-5139-14-24-DEM5A-20161001.xml',\n",
              " '/content/drive/My Drive/gisday2019//GSI-DEM/FG-GML-5139-14-25-DEM5A-20161001.xml',\n",
              " '/content/drive/My Drive/gisday2019//GSI-DEM/FG-GML-5139-14-30-DEM5A-20161001.xml',\n",
              " '/content/drive/My Drive/gisday2019//GSI-DEM/FG-GML-5139-14-31-DEM5A-20161001.xml',\n",
              " '/content/drive/My Drive/gisday2019//GSI-DEM/FG-GML-5139-14-32-DEM5A-20161001.xml',\n",
              " '/content/drive/My Drive/gisday2019//GSI-DEM/FG-GML-5139-14-33-DEM5A-20161001.xml',\n",
              " '/content/drive/My Drive/gisday2019//GSI-DEM/FG-GML-5139-14-34-DEM5A-20161001.xml',\n",
              " '/content/drive/My Drive/gisday2019//GSI-DEM/FG-GML-5139-14-40-DEM5A-20161001.xml',\n",
              " '/content/drive/My Drive/gisday2019//GSI-DEM/FG-GML-5139-14-41-DEM5A-20161001.xml',\n",
              " '/content/drive/My Drive/gisday2019//GSI-DEM/FG-GML-5139-14-42-DEM5A-20161001.xml',\n",
              " '/content/drive/My Drive/gisday2019//GSI-DEM/FG-GML-5139-14-43-DEM5A-20161001.xml',\n",
              " '/content/drive/My Drive/gisday2019//GSI-DEM/FG-GML-5139-14-52-DEM5A-20161001.xml']"
            ]
          },
          "metadata": {
            "tags": []
          },
          "execution_count": 84
        }
      ]
    },
    {
      "cell_type": "markdown",
      "metadata": {
        "id": "etjAb7YXfo4Z",
        "colab_type": "text"
      },
      "source": [
        "処理対象のファイル名を取得する．\n",
        "処理対象は*.txtとする"
      ]
    },
    {
      "cell_type": "code",
      "metadata": {
        "id": "1Csm47r5fo4a",
        "colab_type": "code",
        "colab": {}
      },
      "source": [
        "infiles = glob.glob(\"*.txt\")"
      ],
      "execution_count": 0,
      "outputs": []
    },
    {
      "cell_type": "code",
      "metadata": {
        "id": "4gNdrlC7fo4d",
        "colab_type": "code",
        "colab": {}
      },
      "source": [
        "for infile in infiles:\n",
        "\n",
        "#データフレーム`dem`に標高データを読み込む．\n",
        "\n",
        "#その後，列名に`X`，`Y`，`Z`をつける.\n",
        "\n",
        "    dem = pd.read_csv(infile, delim_whitespace=True, header=-1)\n",
        "    dem.columns = ['X', 'Y', 'Z']\n",
        "    \n",
        "\n",
        "#NoData（1.701410e+38）の値を-32768に置き換える．\n",
        "\n",
        "    dem['Z2'] = dem['Z'].where(dem['Z'] != 1.701410e+38, -32768)\n",
        "\n",
        "#縦持ちの標高データを横持ちに変換する．\n",
        "#その後，Y方向でソートして南北の順を整列させる．\n",
        "\n",
        "    asc_ras = dem.pivot_table(index = 'Y', columns = 'X', values = 'Z2', fill_value = 0)\n",
        "    asc_ras = asc_ras.sort_index(ascending = False)\n",
        "\n",
        "#ASCIIラスターのヘッダをつける．\n",
        "#ヘッダの型式は以下になっている.\n",
        "\n",
        "#```\n",
        "#ncols 2000\n",
        "#nrows 1500\n",
        "#xllccenter 378923\n",
        "#yllcenter 4072345\n",
        "#cellsize 1\n",
        "#nodata_value -32768\n",
        "#43 2 45 7 3 56 2 5 23 65 34 6 32 54 57 34 2 2 54 6 \n",
        "#35 45 65 34 2 6 78 4 2 6 89 3 2 7 45 23 5 8 4 1 62 ...\n",
        "#```\n",
        "\n",
        "#ヘッダは横持ちにしたDEMから取得する.\n",
        "\n",
        "    headers = \"ncols %d\\n\" % len(asc_ras.columns) \\\n",
        "        + \"nrows %d\\n\" % len(asc_ras.index) \\\n",
        "        + \"xllcenter %f\\n\" % dem['X'].min() \\\n",
        "        + \"yllcenter %f\\n\" % dem['Y'].min() \\\n",
        "        + \"cellsize 1\\n\" \\\n",
        "        + \"nodata_value -32768\\n\"\n",
        "\n",
        "#ヘッダを書き出す\n",
        "\n",
        "    f = open(infile+'.asc', 'w')\n",
        "    f.write(headers)\n",
        "\n",
        "#横持ちにしたDEM本体をアペンドモードで書き出す．\n",
        "\n",
        "    with open(infile+'.asc', 'a') as f:\n",
        "        asc_ras.to_csv(f, index = False, header = False, sep =' ')"
      ],
      "execution_count": 0,
      "outputs": []
    }
  ]
}