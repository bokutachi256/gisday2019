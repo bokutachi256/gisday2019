{
  "nbformat": 4,
  "nbformat_minor": 0,
  "metadata": {
    "colab": {
      "name": "1 基盤地図情報の読み込み",
      "provenance": [],
      "collapsed_sections": [],
      "include_colab_link": true
    },
    "kernelspec": {
      "name": "python3",
      "display_name": "Python 3"
    }
  },
  "cells": [
    {
      "cell_type": "markdown",
      "metadata": {
        "id": "view-in-github",
        "colab_type": "text"
      },
      "source": [
        "<a href=\"https://colab.research.google.com/github/bokutachi256/gisday2019/blob/master/1_%E5%9F%BA%E7%9B%A4%E5%9C%B0%E5%9B%B3%E6%83%85%E5%A0%B1%E3%81%AE%E8%AA%AD%E3%81%BF%E8%BE%BC%E3%81%BF.ipynb\" target=\"_parent\"><img src=\"https://colab.research.google.com/assets/colab-badge.svg\" alt=\"Open In Colab\"/></a>"
      ]
    },
    {
      "cell_type": "code",
      "metadata": {
        "id": "kqhy-uDTuSNP",
        "colab_type": "code",
        "colab": {}
      },
      "source": [
        "!pip install pysheds"
      ],
      "execution_count": 0,
      "outputs": []
    },
    {
      "cell_type": "markdown",
      "metadata": {
        "id": "x1sK1KXQfo3h",
        "colab_type": "text"
      },
      "source": [
        "ここでは基盤地図情報の数値標高モデル（DEM: Digital Elevation Model）を用いて分析する方法について解説していきます．\n",
        "\n",
        "まず，[基盤地図情報のwebサイト](http://www.gsi.go.jp/kiban/)からDEMをダウンロードします．\n",
        "ダウンロードしたデータは`FG-GML-5139-03-50-DEM5A-20161001.xml`とします．\n",
        "\n",
        "このデータはXML型式になっていますので，\n",
        "Pythonでxmlを扱うために`xml.etree.ElementTree`を`ET`として読み込みます．\n"
      ]
    },
    {
      "cell_type": "code",
      "metadata": {
        "id": "x5eWquNDfo3k",
        "colab_type": "code",
        "colab": {}
      },
      "source": [
        "import xml.etree.ElementTree as ET\n",
        "#import numpy as np\n",
        "#import seaborn as sns\n",
        "#import matplotlib.pyplot as plt\n",
        "#import matplotlib.colors as colors\n",
        "#import mathmath\n",
        "#import glob\n",
        "import pandas as pd\n",
        "import io\n",
        "#from osgeo import gdal, gdalconst, gdal_array\n",
        "#from pysheds.grid import Grid\n",
        "\n",
        "from google.colab import drive"
      ],
      "execution_count": 0,
      "outputs": []
    },
    {
      "cell_type": "code",
      "metadata": {
        "id": "mwp_IjmPurre",
        "colab_type": "code",
        "outputId": "f0ba8291-5b3a-4877-9f10-7075fa0ef157",
        "colab": {
          "base_uri": "https://localhost:8080/",
          "height": 122
        }
      },
      "source": [
        "drive.mount('/content/drive')\n",
        "base_dir = \"/content/drive/My Drive/gisday2019/\""
      ],
      "execution_count": 0,
      "outputs": [
        {
          "output_type": "stream",
          "text": [
            "Go to this URL in a browser: https://accounts.google.com/o/oauth2/auth?client_id=947318989803-6bn6qk8qdgf4n4g3pfee6491hc0brc4i.apps.googleusercontent.com&redirect_uri=urn%3aietf%3awg%3aoauth%3a2.0%3aoob&response_type=code&scope=email%20https%3a%2f%2fwww.googleapis.com%2fauth%2fdocs.test%20https%3a%2f%2fwww.googleapis.com%2fauth%2fdrive%20https%3a%2f%2fwww.googleapis.com%2fauth%2fdrive.photos.readonly%20https%3a%2f%2fwww.googleapis.com%2fauth%2fpeopleapi.readonly\n",
            "\n",
            "Enter your authorization code:\n",
            "··········\n",
            "Mounted at /content/drive\n"
          ],
          "name": "stdout"
        }
      ]
    },
    {
      "cell_type": "markdown",
      "metadata": {
        "id": "3V8EZ9oifo3q",
        "colab_type": "text"
      },
      "source": [
        "基盤地図情報のxmlを読み込んでparseします．\n",
        "オブジェクト`tree`のルート要素を取得し，`elem`に代入します．"
      ]
    },
    {
      "cell_type": "code",
      "metadata": {
        "id": "bH-7JgIkfo3r",
        "colab_type": "code",
        "colab": {}
      },
      "source": [
        "tree = ET.parse(base_dir + \"GSI-DEM/FG-GML-5139-03-50-DEM5A-20161001.xml\")\n",
        "elem = tree.getroot()"
      ],
      "execution_count": 0,
      "outputs": []
    },
    {
      "cell_type": "markdown",
      "metadata": {
        "id": "cvQZ_DvkiKEA",
        "colab_type": "text"
      },
      "source": [
        "`elem`を確認してみます．"
      ]
    },
    {
      "cell_type": "code",
      "metadata": {
        "id": "aDLSzZflKC2Y",
        "colab_type": "code",
        "outputId": "c7902b2f-2f6e-4373-edb7-f8e4e436b79a",
        "colab": {
          "base_uri": "https://localhost:8080/",
          "height": 34
        }
      },
      "source": [
        "elem"
      ],
      "execution_count": 0,
      "outputs": [
        {
          "output_type": "execute_result",
          "data": {
            "text/plain": [
              "<Element '{http://fgd.gsi.go.jp/spec/2008/FGD_GMLSchema}Dataset' at 0x7fd562804408>"
            ]
          },
          "metadata": {
            "tags": []
          },
          "execution_count": 4
        }
      ]
    },
    {
      "cell_type": "markdown",
      "metadata": {
        "id": "UwnrwkRxiWNF",
        "colab_type": "text"
      },
      "source": [
        "ルート要素のタグ`Dataset`が表示されました．"
      ]
    },
    {
      "cell_type": "markdown",
      "metadata": {
        "id": "8l10Y0zofo37",
        "colab_type": "text"
      },
      "source": [
        "次にイテレータを使ってすべてのタグを取得し，それを表示してみます．\n"
      ]
    },
    {
      "cell_type": "code",
      "metadata": {
        "id": "6aQc2t8Vfo3-",
        "colab_type": "code",
        "outputId": "b8e7fc1f-af9e-4ded-d48f-9a3d824ff303",
        "colab": {
          "base_uri": "https://localhost:8080/",
          "height": 595
        }
      },
      "source": [
        "for e in elem.getiterator():\n",
        "    print(e.tag)"
      ],
      "execution_count": 0,
      "outputs": [
        {
          "output_type": "stream",
          "text": [
            "{http://fgd.gsi.go.jp/spec/2008/FGD_GMLSchema}Dataset\n",
            "{http://www.opengis.net/gml/3.2}description\n",
            "{http://www.opengis.net/gml/3.2}name\n",
            "{http://fgd.gsi.go.jp/spec/2008/FGD_GMLSchema}DEM\n",
            "{http://fgd.gsi.go.jp/spec/2008/FGD_GMLSchema}fid\n",
            "{http://fgd.gsi.go.jp/spec/2008/FGD_GMLSchema}lfSpanFr\n",
            "{http://www.opengis.net/gml/3.2}timePosition\n",
            "{http://fgd.gsi.go.jp/spec/2008/FGD_GMLSchema}devDate\n",
            "{http://www.opengis.net/gml/3.2}timePosition\n",
            "{http://fgd.gsi.go.jp/spec/2008/FGD_GMLSchema}orgGILvl\n",
            "{http://fgd.gsi.go.jp/spec/2008/FGD_GMLSchema}orgMDId\n",
            "{http://fgd.gsi.go.jp/spec/2008/FGD_GMLSchema}type\n",
            "{http://fgd.gsi.go.jp/spec/2008/FGD_GMLSchema}mesh\n",
            "{http://fgd.gsi.go.jp/spec/2008/FGD_GMLSchema}coverage\n",
            "{http://www.opengis.net/gml/3.2}boundedBy\n",
            "{http://www.opengis.net/gml/3.2}Envelope\n",
            "{http://www.opengis.net/gml/3.2}lowerCorner\n",
            "{http://www.opengis.net/gml/3.2}upperCorner\n",
            "{http://www.opengis.net/gml/3.2}gridDomain\n",
            "{http://www.opengis.net/gml/3.2}Grid\n",
            "{http://www.opengis.net/gml/3.2}limits\n",
            "{http://www.opengis.net/gml/3.2}GridEnvelope\n",
            "{http://www.opengis.net/gml/3.2}low\n",
            "{http://www.opengis.net/gml/3.2}high\n",
            "{http://www.opengis.net/gml/3.2}axisLabels\n",
            "{http://www.opengis.net/gml/3.2}rangeSet\n",
            "{http://www.opengis.net/gml/3.2}DataBlock\n",
            "{http://www.opengis.net/gml/3.2}rangeParameters\n",
            "{http://www.opengis.net/gml/3.2}QuantityList\n",
            "{http://www.opengis.net/gml/3.2}tupleList\n",
            "{http://www.opengis.net/gml/3.2}coverageFunction\n",
            "{http://www.opengis.net/gml/3.2}GridFunction\n",
            "{http://www.opengis.net/gml/3.2}sequenceRule\n",
            "{http://www.opengis.net/gml/3.2}startPoint\n"
          ],
          "name": "stdout"
        }
      ]
    },
    {
      "cell_type": "markdown",
      "metadata": {
        "id": "cOBc8-wBJ7_a",
        "colab_type": "text"
      },
      "source": [
        "基盤地図情報DEMのXMLは名前空間付きXMLです．\n",
        "このため，タグへのアクセスには名前空間の接頭辞をつける必要があります．\n",
        "たとえば，`find`メソッドを使ってタグ`mesh`にアクセスする場合，\n",
        "通常のXMLのようにアクセスするとエラーが発生します．"
      ]
    },
    {
      "cell_type": "code",
      "metadata": {
        "id": "dMKuY89QahGB",
        "colab_type": "code",
        "outputId": "ee504ff0-5e7a-4955-8fbd-1758f990447b",
        "colab": {
          "base_uri": "https://localhost:8080/",
          "height": 185
        }
      },
      "source": [
        "mesh = elem.find(\".//mesh\")\n",
        "print(mesh.text)"
      ],
      "execution_count": 0,
      "outputs": [
        {
          "output_type": "error",
          "ename": "AttributeError",
          "evalue": "ignored",
          "traceback": [
            "\u001b[0;31m---------------------------------------------------------------------------\u001b[0m",
            "\u001b[0;31mAttributeError\u001b[0m                            Traceback (most recent call last)",
            "\u001b[0;32m<ipython-input-6-c1c1a9a64e78>\u001b[0m in \u001b[0;36m<module>\u001b[0;34m()\u001b[0m\n\u001b[1;32m      1\u001b[0m \u001b[0mmesh\u001b[0m \u001b[0;34m=\u001b[0m \u001b[0melem\u001b[0m\u001b[0;34m.\u001b[0m\u001b[0mfind\u001b[0m\u001b[0;34m(\u001b[0m\u001b[0;34m\".//mesh\"\u001b[0m\u001b[0;34m)\u001b[0m\u001b[0;34m\u001b[0m\u001b[0;34m\u001b[0m\u001b[0m\n\u001b[0;32m----> 2\u001b[0;31m \u001b[0mprint\u001b[0m\u001b[0;34m(\u001b[0m\u001b[0mmesh\u001b[0m\u001b[0;34m.\u001b[0m\u001b[0mtext\u001b[0m\u001b[0;34m)\u001b[0m\u001b[0;34m\u001b[0m\u001b[0;34m\u001b[0m\u001b[0m\n\u001b[0m",
            "\u001b[0;31mAttributeError\u001b[0m: 'NoneType' object has no attribute 'text'"
          ]
        }
      ]
    },
    {
      "cell_type": "markdown",
      "metadata": {
        "id": "KdWpLJx4aebL",
        "colab_type": "text"
      },
      "source": [
        "\n",
        "これを解決するためには，タグに紐づけられている名前空間のURIをタグごとに加える必要があります．\n",
        "例えば以下のようにです．\n"
      ]
    },
    {
      "cell_type": "code",
      "metadata": {
        "id": "WEUa7wrDanPw",
        "colab_type": "code",
        "outputId": "455688a9-f3c5-49f8-86a6-f8d6765438f7",
        "colab": {
          "base_uri": "https://localhost:8080/",
          "height": 34
        }
      },
      "source": [
        "mesh = elem.find(\".//{http://fgd.gsi.go.jp/spec/2008/FGD_GMLSchema}mesh\")\n",
        "print(mesh.text)"
      ],
      "execution_count": 0,
      "outputs": [
        {
          "output_type": "stream",
          "text": [
            "51390350\n"
          ],
          "name": "stdout"
        }
      ]
    },
    {
      "cell_type": "markdown",
      "metadata": {
        "id": "XlK2GxTHalKA",
        "colab_type": "text"
      },
      "source": [
        "しかし，すべてのタグにURIをつけるのは煩雑です．\n",
        "プログラミングミスの原因にもなりかねません．\n",
        "もう少しエレガントな方法としては，\n",
        "タグのディクショナリをメソッドの第2引数に指定する方法があります．\n",
        "\n",
        "以下はDEMのXMLの冒頭部です．\n",
        "xmlnsで始まる部分が名前空間の定義になっており，それぞれURIが指定されています．\n"
      ]
    },
    {
      "cell_type": "markdown",
      "metadata": {
        "id": "PBo5jzYP_7c-",
        "colab_type": "text"
      },
      "source": [
        "```xml\n",
        "<?xml version=\"1.0\" encoding=\"UTF-8\"?>\n",
        "<Dataset\n",
        "  gml:id=\"Dataset1\"\n",
        "  xmlns=\"http://fgd.gsi.go.jp/spec/2008/FGD_GMLSchema\" \n",
        "  xmlns:xlink=\"http://www.w3.org/1999/xlink\"\n",
        "  xmlns:xsi=\"http://www.w3.org/2001/XMLSchema-instance\"\n",
        "  xmlns:gml=\"http://www.opengis.net/gml/3.2\"\n",
        "  xsi:schemaLocation=\"http://fgd.gsi.go.jp/spec/2008/FGD_GMLSchema FGD_GMLSchema.xsd\"\n",
        ">\n",
        "```"
      ]
    },
    {
      "cell_type": "markdown",
      "metadata": {
        "id": "D3O_HpT5ykLJ",
        "colab_type": "text"
      },
      "source": [
        "これを元にして名前空間の接頭辞のディクショナリを作成します．\n",
        "`xmlns=\"http://fgd.gsi.go.jp/spec/2008/FGD_GMLSchema\"`\n",
        "はデフォルトの名前空間を指定しています．\n"
      ]
    },
    {
      "cell_type": "code",
      "metadata": {
        "id": "UppGuoz6yoFp",
        "colab_type": "code",
        "colab": {}
      },
      "source": [
        "ns = {'default': 'http://fgd.gsi.go.jp/spec/2008/FGD_GMLSchema',\n",
        "  'xlink': 'http://www.w3.org/1999/xlink',\n",
        "  'xsi': 'http://www.w3.org/2001/XMLSchema-instance',\n",
        "  'gml': 'http://www.opengis.net/gml/3.2'}"
      ],
      "execution_count": 0,
      "outputs": []
    },
    {
      "cell_type": "markdown",
      "metadata": {
        "colab_type": "text",
        "id": "YzI9iRWA33zz"
      },
      "source": [
        "```xml\n",
        "<?xml version=\"1.0\" encoding=\"UTF-8\"?>\n",
        "<Dataset\n",
        "  gml:id=\"Dataset1\"\n",
        "  xmlns=\"http://fgd.gsi.go.jp/spec/2008/FGD_GMLSchema\" \n",
        "  xmlns:xlink=\"http://www.w3.org/1999/xlink\"\n",
        "  xmlns:xsi=\"http://www.w3.org/2001/XMLSchema-instance\"\n",
        "  xmlns:gml=\"http://www.opengis.net/gml/3.2\"\n",
        "  xsi:schemaLocation=\"http://fgd.gsi.go.jp/spec/2008/FGD_GMLSchema FGD_GMLSchema.xsd\"\n",
        ">\n",
        "  <gml:description>基盤地図情報メタデータ ID=fmdid:15-3101</gml:description>\n",
        "  <gml:name>基盤地図情報ダウンロードデータ（GML版）</gml:name>\n",
        "  <DEM gml:id=\"DEM001\">\n",
        "    <fid>fgoid:10-00100-15-60101-51390350</fid>\n",
        "    <lfSpanFr gml:id=\"DEM001-1\">\n",
        "      <gml:timePosition>2016-10-01</gml:timePosition>\n",
        "    </lfSpanFr>\n",
        "    <devDate gml:id=\"DEM001-2\">\n",
        "      <gml:timePosition>2016-10-01</gml:timePosition>\n",
        "    </devDate>\n",
        "    <orgGILvl>0</orgGILvl>\n",
        "    <orgMDId>H24GC009 NoData</orgMDId>\n",
        "    <type>5mメッシュ（標高）</type>\n",
        "    <mesh>51390350</mesh>\n",
        "    <coverage gml:id=\"DEM001-3\">\n",
        "      <gml:boundedBy>\n",
        "        <gml:Envelope srsName=\"fguuid:jgd2011.bl\">\n",
        "          <gml:lowerCorner>34.041666667 139.375</gml:lowerCorner>\n",
        "          <gml:upperCorner>34.05 139.3875</gml:upperCorner>\n",
        "        </gml:Envelope>\n",
        "      </gml:boundedBy>\n",
        "      <gml:gridDomain>\n",
        "        <gml:Grid gml:id=\"DEM001-4\" dimension=\"2\">\n",
        "          <gml:limits>\n",
        "            <gml:GridEnvelope>\n",
        "              <gml:low>0 0</gml:low>\n",
        "              <gml:high>224 149</gml:high>\n",
        "            </gml:GridEnvelope>\n",
        "            </gml:limits>\n",
        "            <gml:axisLabels>x y</gml:axisLabels>\n",
        "        </gml:Grid>\n",
        "      </gml:gridDomain>\n",
        "      <gml:rangeSet>\n",
        "        <gml:DataBlock>\n",
        "          <gml:rangeParameters>\n",
        "            <gml:QuantityList uom=\"DEM構成点\"/>\n",
        "          </gml:rangeParameters>\n",
        "          <gml:tupleList>地表面,1.21 地表面,1.49. .......\n",
        "        </gml:DataBlock>\n",
        "      </gml:rangeSet>\n",
        "      <gml:coverageFunction>\n",
        "        <gml:GridFunction>\n",
        "          <gml:sequenceRule order=\"+x-y\">Linear</gml:sequenceRule>\n",
        "          <gml:startPoint>155 12</gml:startPoint>\n",
        "        </gml:GridFunction>\n",
        "      </gml:coverageFunction>\n",
        "    </coverage>\n",
        "  </DEM>\n",
        "</Dataset>\n",
        "```"
      ]
    },
    {
      "cell_type": "markdown",
      "metadata": {
        "id": "jFs54Phkfo4C",
        "colab_type": "text"
      },
      "source": [
        "`elem`オブジェクトの`find`メソッドにURI付きのタグ`{http://fgd.gsi.go.jp/spec/2008/FGD_GMLSchema}mesh`を入力してタグを検索し，\n",
        "その値を表示してみましょう．\n",
        "戻り値（このタグの値）は標準地域メッシュ番号となっています．\n",
        "最初の4桁`5139`が1次メッシュコード，\n",
        "次の2桁が`03`が2次メッシュコード，\n",
        "最後の2桁`50`が3次メッシュコードとなっています．"
      ]
    },
    {
      "cell_type": "code",
      "metadata": {
        "id": "odUPxJmKfo4D",
        "colab_type": "code",
        "outputId": "dc8ba9fc-998e-4e3d-92f0-1fa5dbc00b45",
        "colab": {
          "base_uri": "https://localhost:8080/",
          "height": 34
        }
      },
      "source": [
        "elem.find(\".//{http://fgd.gsi.go.jp/spec/2008/FGD_GMLSchema}mesh\").text"
      ],
      "execution_count": 0,
      "outputs": [
        {
          "output_type": "execute_result",
          "data": {
            "text/plain": [
              "'51390350'"
            ]
          },
          "metadata": {
            "tags": []
          },
          "execution_count": 6
        }
      ]
    },
    {
      "cell_type": "code",
      "metadata": {
        "colab_type": "code",
        "outputId": "270c2e0c-36ed-42e2-a4f7-6f3350c94bdf",
        "id": "yH5cSqtHsK5x",
        "colab": {
          "base_uri": "https://localhost:8080/",
          "height": 34
        }
      },
      "source": [
        "mesh = elem.find('.//default:mesh', ns)\n",
        "print(mesh.text)"
      ],
      "execution_count": 0,
      "outputs": [
        {
          "output_type": "stream",
          "text": [
            "51390350\n"
          ],
          "name": "stdout"
        }
      ]
    },
    {
      "cell_type": "code",
      "metadata": {
        "id": "AOcDgAgBqWsm",
        "colab_type": "code",
        "outputId": "1da37aa8-2ec9-40d5-ceda-a949c796e1ec",
        "colab": {
          "base_uri": "https://localhost:8080/",
          "height": 34
        }
      },
      "source": [
        "id_board = elem.find('.//gml:startPoint', ns) \n",
        "print(id_board.text) # 54321"
      ],
      "execution_count": 0,
      "outputs": [
        {
          "output_type": "stream",
          "text": [
            "155 12\n"
          ],
          "name": "stdout"
        }
      ]
    },
    {
      "cell_type": "markdown",
      "metadata": {
        "id": "BSokynWtGcWC",
        "colab_type": "text"
      },
      "source": [
        "次に`{http://www.opengis.net/gml/3.2}lowerCorner`を表示してみます．\n",
        "このタグにはDEMの南東端の座標が格納されています．"
      ]
    },
    {
      "cell_type": "code",
      "metadata": {
        "colab_type": "code",
        "outputId": "dc3c9536-e84f-4b99-8346-2e614732333c",
        "id": "R2_nGWl6xG3M",
        "colab": {
          "base_uri": "https://localhost:8080/",
          "height": 34
        }
      },
      "source": [
        "elem.find('.//gml:lowerCorner', ns).text"
      ],
      "execution_count": 0,
      "outputs": [
        {
          "output_type": "execute_result",
          "data": {
            "text/plain": [
              "'34.041666667 139.375'"
            ]
          },
          "metadata": {
            "tags": []
          },
          "execution_count": 24
        }
      ]
    },
    {
      "cell_type": "markdown",
      "metadata": {
        "id": "0KJJM6UzGk-V",
        "colab_type": "text"
      },
      "source": [
        "同様に`{http://www.opengis.net/gml/3.2}upperCorner`には\n",
        "北西端の座標が格納されています．"
      ]
    },
    {
      "cell_type": "code",
      "metadata": {
        "id": "132ceHv8fo4O",
        "colab_type": "code",
        "outputId": "4793aa3e-4b84-4b08-846f-cefef5081f84",
        "colab": {
          "base_uri": "https://localhost:8080/",
          "height": 34
        }
      },
      "source": [
        "elem.find('.//gml:upperCorner', ns).text"
      ],
      "execution_count": 0,
      "outputs": [
        {
          "output_type": "execute_result",
          "data": {
            "text/plain": [
              "'34.05 139.3875'"
            ]
          },
          "metadata": {
            "tags": []
          },
          "execution_count": 26
        }
      ]
    },
    {
      "cell_type": "markdown",
      "metadata": {
        "colab_type": "text",
        "id": "_53PGn-vFNh4"
      },
      "source": [
        "`{http://www.opengis.net/gml/3.2}high`には\n",
        "3次メッシュ内の標高値の数が格納されています．\n",
        "5mメッシュでは224$\\times$149メッシュになります．"
      ]
    },
    {
      "cell_type": "code",
      "metadata": {
        "colab_type": "code",
        "outputId": "25ad9b9f-b6ba-4226-ea43-44b66232800a",
        "id": "srL2oa1Hx0xx",
        "colab": {
          "base_uri": "https://localhost:8080/",
          "height": 35
        }
      },
      "source": [
        "elem.find(\".//{http://www.opengis.net/gml/3.2}high\").text"
      ],
      "execution_count": 0,
      "outputs": [
        {
          "output_type": "execute_result",
          "data": {
            "text/plain": [
              "'224 149'"
            ]
          },
          "metadata": {
            "tags": []
          },
          "execution_count": 39
        }
      ]
    },
    {
      "cell_type": "markdown",
      "metadata": {
        "id": "JtdRzsg3fo4H",
        "colab_type": "text"
      },
      "source": [
        "タグ`{http://www.opengis.net/gml/3.2}tupleList`を検索し，値を表示する．\n",
        "ここに標高が格納されている．\n",
        "標高は文字列として格納されている．\n",
        "改行コードとカンマで分けられている．\n",
        "カンマの前が標高点の属性，カンマの後ろが標高値になっている．\n",
        "データがないメッシュの属性は'データなし'で標高値は'-9999'，\n",
        "データがあるメッシュの属性は'地表面'で標高値が実数で入っている．"
      ]
    },
    {
      "cell_type": "code",
      "metadata": {
        "id": "pymkTh7nfo4J",
        "colab_type": "code",
        "colab": {}
      },
      "source": [
        "elev = elem.find(\".//{http://www.opengis.net/gml/3.2}tupleList\").text\n",
        "print(elev)"
      ],
      "execution_count": 0,
      "outputs": []
    },
    {
      "cell_type": "markdown",
      "metadata": {
        "id": "OizB-wgCUAFq",
        "colab_type": "text"
      },
      "source": [
        "標高値が格納されている文字列はcsvそのものになっており，\n",
        "csvとして書き出せばpandasのpd.read_csv()でデータフレームに読み込むことができる．\n",
        "\n",
        "しかし，いちいちcsvに書き出すのも面倒なため，io.StringIOを使ってテキストストリームを作成し，これにpandasのpd.read.csvringIOを組み合わせて\n",
        "csv型式の文字列をデータフレームに格納する．"
      ]
    },
    {
      "cell_type": "code",
      "metadata": {
        "id": "rvMhDi2KThDP",
        "colab_type": "code",
        "outputId": "9246594d-16cb-4dc9-faae-675bb25c6efb",
        "colab": {
          "base_uri": "https://localhost:8080/",
          "height": 419
        }
      },
      "source": [
        "df = pd.read_csv(io.StringIO(elev), header=None)\n",
        "df"
      ],
      "execution_count": 0,
      "outputs": [
        {
          "output_type": "execute_result",
          "data": {
            "text/html": [
              "<div>\n",
              "<style scoped>\n",
              "    .dataframe tbody tr th:only-of-type {\n",
              "        vertical-align: middle;\n",
              "    }\n",
              "\n",
              "    .dataframe tbody tr th {\n",
              "        vertical-align: top;\n",
              "    }\n",
              "\n",
              "    .dataframe thead th {\n",
              "        text-align: right;\n",
              "    }\n",
              "</style>\n",
              "<table border=\"1\" class=\"dataframe\">\n",
              "  <thead>\n",
              "    <tr style=\"text-align: right;\">\n",
              "      <th></th>\n",
              "      <th>0</th>\n",
              "      <th>1</th>\n",
              "    </tr>\n",
              "  </thead>\n",
              "  <tbody>\n",
              "    <tr>\n",
              "      <th>0</th>\n",
              "      <td>地表面</td>\n",
              "      <td>1.21</td>\n",
              "    </tr>\n",
              "    <tr>\n",
              "      <th>1</th>\n",
              "      <td>地表面</td>\n",
              "      <td>1.49</td>\n",
              "    </tr>\n",
              "    <tr>\n",
              "      <th>2</th>\n",
              "      <td>地表面</td>\n",
              "      <td>1.18</td>\n",
              "    </tr>\n",
              "    <tr>\n",
              "      <th>3</th>\n",
              "      <td>データなし</td>\n",
              "      <td>-9999.00</td>\n",
              "    </tr>\n",
              "    <tr>\n",
              "      <th>4</th>\n",
              "      <td>データなし</td>\n",
              "      <td>-9999.00</td>\n",
              "    </tr>\n",
              "    <tr>\n",
              "      <th>...</th>\n",
              "      <td>...</td>\n",
              "      <td>...</td>\n",
              "    </tr>\n",
              "    <tr>\n",
              "      <th>21160</th>\n",
              "      <td>データなし</td>\n",
              "      <td>-9999.00</td>\n",
              "    </tr>\n",
              "    <tr>\n",
              "      <th>21161</th>\n",
              "      <td>データなし</td>\n",
              "      <td>-9999.00</td>\n",
              "    </tr>\n",
              "    <tr>\n",
              "      <th>21162</th>\n",
              "      <td>データなし</td>\n",
              "      <td>-9999.00</td>\n",
              "    </tr>\n",
              "    <tr>\n",
              "      <th>21163</th>\n",
              "      <td>データなし</td>\n",
              "      <td>-9999.00</td>\n",
              "    </tr>\n",
              "    <tr>\n",
              "      <th>21164</th>\n",
              "      <td>地表面</td>\n",
              "      <td>2.13</td>\n",
              "    </tr>\n",
              "  </tbody>\n",
              "</table>\n",
              "<p>21165 rows × 2 columns</p>\n",
              "</div>"
            ],
            "text/plain": [
              "           0        1\n",
              "0        地表面     1.21\n",
              "1        地表面     1.49\n",
              "2        地表面     1.18\n",
              "3      データなし -9999.00\n",
              "4      データなし -9999.00\n",
              "...      ...      ...\n",
              "21160  データなし -9999.00\n",
              "21161  データなし -9999.00\n",
              "21162  データなし -9999.00\n",
              "21163  データなし -9999.00\n",
              "21164    地表面     2.13\n",
              "\n",
              "[21165 rows x 2 columns]"
            ]
          },
          "metadata": {
            "tags": []
          },
          "execution_count": 46
        }
      ]
    },
    {
      "cell_type": "markdown",
      "metadata": {
        "id": "-aoIqQQ1fo4V",
        "colab_type": "text"
      },
      "source": [
        "朝日航洋レーザーデータから作成したDEMファイルを\n",
        "ArcGISで読み込めるASCIIラスタ形式に変換するプログラム"
      ]
    },
    {
      "cell_type": "code",
      "metadata": {
        "id": "5CYVoRU5fo4W",
        "colab_type": "code",
        "colab": {}
      },
      "source": [
        "import pandas as pd\n",
        "import glob"
      ],
      "execution_count": 0,
      "outputs": []
    },
    {
      "cell_type": "markdown",
      "metadata": {
        "id": "etjAb7YXfo4Z",
        "colab_type": "text"
      },
      "source": [
        "処理対象のファイル名を取得する．\n",
        "処理対象は*.txtとする"
      ]
    },
    {
      "cell_type": "code",
      "metadata": {
        "id": "1Csm47r5fo4a",
        "colab_type": "code",
        "colab": {}
      },
      "source": [
        "infiles = glob.glob(\"*.txt\")"
      ],
      "execution_count": 0,
      "outputs": []
    },
    {
      "cell_type": "code",
      "metadata": {
        "id": "4gNdrlC7fo4d",
        "colab_type": "code",
        "colab": {}
      },
      "source": [
        "for infile in infiles:\n",
        "\n",
        "#データフレーム`dem`に標高データを読み込む．\n",
        "\n",
        "#その後，列名に`X`，`Y`，`Z`をつける.\n",
        "\n",
        "    dem = pd.read_csv(infile, delim_whitespace=True, header=-1)\n",
        "    dem.columns = ['X', 'Y', 'Z']\n",
        "    \n",
        "\n",
        "#NoData（1.701410e+38）の値を-32768に置き換える．\n",
        "\n",
        "    dem['Z2'] = dem['Z'].where(dem['Z'] != 1.701410e+38, -32768)\n",
        "\n",
        "#縦持ちの標高データを横持ちに変換する．\n",
        "#その後，Y方向でソートして南北の順を整列させる．\n",
        "\n",
        "    asc_ras = dem.pivot_table(index = 'Y', columns = 'X', values = 'Z2', fill_value = 0)\n",
        "    asc_ras = asc_ras.sort_index(ascending = False)\n",
        "\n",
        "#ASCIIラスターのヘッダをつける．\n",
        "#ヘッダの型式は以下になっている.\n",
        "\n",
        "#```\n",
        "#ncols 2000\n",
        "#nrows 1500\n",
        "#xllccenter 378923\n",
        "#yllcenter 4072345\n",
        "#cellsize 1\n",
        "#nodata_value -32768\n",
        "#43 2 45 7 3 56 2 5 23 65 34 6 32 54 57 34 2 2 54 6 \n",
        "#35 45 65 34 2 6 78 4 2 6 89 3 2 7 45 23 5 8 4 1 62 ...\n",
        "#```\n",
        "\n",
        "#ヘッダは横持ちにしたDEMから取得する.\n",
        "\n",
        "    headers = \"ncols %d\\n\" % len(asc_ras.columns) \\\n",
        "        + \"nrows %d\\n\" % len(asc_ras.index) \\\n",
        "        + \"xllcenter %f\\n\" % dem['X'].min() \\\n",
        "        + \"yllcenter %f\\n\" % dem['Y'].min() \\\n",
        "        + \"cellsize 1\\n\" \\\n",
        "        + \"nodata_value -32768\\n\"\n",
        "\n",
        "#ヘッダを書き出す\n",
        "\n",
        "    f = open(infile+'.asc', 'w')\n",
        "    f.write(headers)\n",
        "\n",
        "#横持ちにしたDEM本体をアペンドモードで書き出す．\n",
        "\n",
        "    with open(infile+'.asc', 'a') as f:\n",
        "        asc_ras.to_csv(f, index = False, header = False, sep =' ')"
      ],
      "execution_count": 0,
      "outputs": []
    },
    {
      "cell_type": "markdown",
      "metadata": {
        "id": "j30qxpex1fnH",
        "colab_type": "text"
      },
      "source": [
        "基盤地図情報DEM（XML型式）を読み込んでGeoTiffにする．"
      ]
    },
    {
      "cell_type": "code",
      "metadata": {
        "id": "3W-JT7e0ekEf",
        "colab_type": "code",
        "colab": {}
      },
      "source": [
        "import cv2\n",
        "import numpy as np\n",
        "import seaborn as sns\n",
        "import matplotlib.pyplot as plt\n",
        "from osgeo import gdal\n",
        "from google.colab import drive\n",
        "from tqdm import tqdm\n",
        "import xml.etree.ElementTree as ET"
      ],
      "execution_count": 0,
      "outputs": []
    },
    {
      "cell_type": "code",
      "metadata": {
        "id": "P8epojI2en5C",
        "colab_type": "code",
        "outputId": "3529f8a4-3c95-48d4-9ff7-333acd7d232d",
        "colab": {
          "base_uri": "https://localhost:8080/",
          "height": 121
        }
      },
      "source": [
        "drive.mount('/content/drive')\n",
        "base_dir = '/content/drive/My Drive/workspace/GDAL_Test/'"
      ],
      "execution_count": 0,
      "outputs": [
        {
          "output_type": "stream",
          "text": [
            "Go to this URL in a browser: https://accounts.google.com/o/oauth2/auth?client_id=947318989803-6bn6qk8qdgf4n4g3pfee6491hc0brc4i.apps.googleusercontent.com&redirect_uri=urn%3Aietf%3Awg%3Aoauth%3A2.0%3Aoob&scope=email%20https%3A%2F%2Fwww.googleapis.com%2Fauth%2Fdocs.test%20https%3A%2F%2Fwww.googleapis.com%2Fauth%2Fdrive%20https%3A%2F%2Fwww.googleapis.com%2Fauth%2Fdrive.photos.readonly%20https%3A%2F%2Fwww.googleapis.com%2Fauth%2Fpeopleapi.readonly&response_type=code\n",
            "\n",
            "Enter your authorization code:\n",
            "··········\n",
            "Mounted at /content/drive\n"
          ],
          "name": "stdout"
        }
      ]
    },
    {
      "cell_type": "markdown",
      "metadata": {
        "id": "WXbisrP019b2",
        "colab_type": "text"
      },
      "source": [
        "XMLを読み込み，rootを取得"
      ]
    },
    {
      "cell_type": "code",
      "metadata": {
        "id": "dR06lCZ4fPeg",
        "colab_type": "code",
        "colab": {}
      },
      "source": [
        "tree = ET.parse(base_dir + 'FG-GML-4930-17-70-DEM5A-20161001.xml')\n",
        "root = tree.getroot()\n"
      ],
      "execution_count": 0,
      "outputs": []
    },
    {
      "cell_type": "code",
      "metadata": {
        "id": "AgoUY6xV26sw",
        "colab_type": "code",
        "outputId": "d102c491-b5cf-4c5d-95ad-fb888ec8fd69",
        "colab": {
          "base_uri": "https://localhost:8080/",
          "height": 70
        }
      },
      "source": [
        "root.attrib"
      ],
      "execution_count": 0,
      "outputs": [
        {
          "output_type": "execute_result",
          "data": {
            "text/plain": [
              "{'{http://www.opengis.net/gml/3.2}id': 'Dataset1',\n",
              " '{http://www.w3.org/2001/XMLSchema-instance}schemaLocation': 'http://fgd.gsi.go.jp/spec/2008/FGD_GMLSchema FGD_GMLSchema.xsd'}"
            ]
          },
          "metadata": {
            "tags": []
          },
          "execution_count": 4
        }
      ]
    },
    {
      "cell_type": "code",
      "metadata": {
        "id": "NZjRm3C2fh4Y",
        "colab_type": "code",
        "outputId": "80f7a957-7f66-4dbc-80e0-c994e4210362",
        "colab": {
          "base_uri": "https://localhost:8080/",
          "height": 185
        }
      },
      "source": [
        "tree = ET.parse(base_dir + 'FG-GML-4930-17-70-DEM5A-20161001.xml')\n",
        "print(tree.tag, tree.attrib)"
      ],
      "execution_count": 0,
      "outputs": [
        {
          "output_type": "error",
          "ename": "AttributeError",
          "evalue": "ignored",
          "traceback": [
            "\u001b[0;31m---------------------------------------------------------------------------\u001b[0m",
            "\u001b[0;31mAttributeError\u001b[0m                            Traceback (most recent call last)",
            "\u001b[0;32m<ipython-input-4-0a0452beee62>\u001b[0m in \u001b[0;36m<module>\u001b[0;34m()\u001b[0m\n\u001b[1;32m      1\u001b[0m \u001b[0;34m\u001b[0m\u001b[0m\n\u001b[0;32m----> 2\u001b[0;31m \u001b[0mprint\u001b[0m\u001b[0;34m(\u001b[0m\u001b[0mtree\u001b[0m\u001b[0;34m.\u001b[0m\u001b[0mtag\u001b[0m\u001b[0;34m,\u001b[0m \u001b[0mtree\u001b[0m\u001b[0;34m.\u001b[0m\u001b[0mattrib\u001b[0m\u001b[0;34m)\u001b[0m\u001b[0;34m\u001b[0m\u001b[0;34m\u001b[0m\u001b[0m\n\u001b[0m",
            "\u001b[0;31mAttributeError\u001b[0m: 'ElementTree' object has no attribute 'tag'"
          ]
        }
      ]
    },
    {
      "cell_type": "code",
      "metadata": {
        "id": "4lj2EBSggCS6",
        "colab_type": "code",
        "outputId": "840eba06-d361-46a0-90a1-0c2c64d05a76",
        "colab": {
          "base_uri": "https://localhost:8080/",
          "height": 34
        }
      },
      "source": [
        "print(tree)"
      ],
      "execution_count": 0,
      "outputs": [
        {
          "output_type": "stream",
          "text": [
            "<xml.etree.ElementTree.ElementTree object at 0x7fef415e2940>\n"
          ],
          "name": "stdout"
        }
      ]
    },
    {
      "cell_type": "code",
      "metadata": {
        "id": "VVu3PzlVe1Vo",
        "colab_type": "code",
        "colab": {}
      },
      "source": [
        "with urllib.request.urlopen(req) as response:\n",
        "    xml_string = response.read()\n",
        " \n",
        "root = ET.fromstring(xml_string)"
      ],
      "execution_count": 0,
      "outputs": []
    }
  ]
}